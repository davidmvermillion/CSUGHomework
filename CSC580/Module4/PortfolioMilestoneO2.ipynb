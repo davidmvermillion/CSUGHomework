{
  "cells": [
    {
      "cell_type": "markdown",
      "source": "# Setup Environment",
      "metadata": {
        "formattedRanges": [],
        "cell_id": "7e1ebd21c9cc42aba7153889172d18e4",
        "deepnote_cell_type": "text-cell-h1"
      },
      "block_group": "2059f3ede60d4801978f3a4392d647dd"
    },
    {
      "cell_type": "code",
      "source": "import matplotlib.pyplot as plt\nimport pathlib\nimport pandas as pd\nimport seaborn as sns\nimport numpy as np\nimport tensorflow as tf\nfrom tensorflow import keras\nfrom tensorflow.keras import layers\nimport tensorflow_docs as tfdocs\nimport tensorflow_docs.plots\nimport tensorflow_docs.modeling",
      "metadata": {
        "source_hash": "fac48153",
        "execution_start": 1728242732498,
        "execution_millis": 2275,
        "execution_context_id": "d86f37af-2c11-477e-8398-22dc14c6964b",
        "cell_id": "e815141b6a46402d9752899c181ffa2c",
        "deepnote_cell_type": "code"
      },
      "outputs": [
        {
          "name": "stderr",
          "text": "2024-10-06 15:25:33.521458: I tensorflow/core/platform/cpu_feature_guard.cc:193] This TensorFlow binary is optimized with oneAPI Deep Neural Network Library (oneDNN) to use the following CPU instructions in performance-critical operations:  AVX2 AVX512F AVX512_VNNI FMA\nTo enable them in other operations, rebuild TensorFlow with the appropriate compiler flags.\n2024-10-06 15:25:33.659111: I tensorflow/core/util/port.cc:104] oneDNN custom operations are on. You may see slightly different numerical results due to floating-point round-off errors from different computation orders. To turn them off, set the environment variable `TF_ENABLE_ONEDNN_OPTS=0`.\n2024-10-06 15:25:34.310308: W tensorflow/compiler/xla/stream_executor/platform/default/dso_loader.cc:64] Could not load dynamic library 'libnvinfer.so.7'; dlerror: libnvinfer.so.7: cannot open shared object file: No such file or directory; LD_LIBRARY_PATH: /usr/local/nvidia/lib:/usr/local/nvidia/lib64\n2024-10-06 15:25:34.310376: W tensorflow/compiler/xla/stream_executor/platform/default/dso_loader.cc:64] Could not load dynamic library 'libnvinfer_plugin.so.7'; dlerror: libnvinfer_plugin.so.7: cannot open shared object file: No such file or directory; LD_LIBRARY_PATH: /usr/local/nvidia/lib:/usr/local/nvidia/lib64\n2024-10-06 15:25:34.310381: W tensorflow/compiler/tf2tensorrt/utils/py_utils.cc:38] TF-TRT Warning: Cannot dlopen some TensorRT libraries. If you would like to use Nvidia GPU with TensorRT, please make sure the missing libraries mentioned above are installed properly.\n",
          "output_type": "stream"
        }
      ],
      "outputs_reference": null,
      "execution_count": 1,
      "block_group": "e2e680d6d30b42e7a8d2f88ce7f46c57",
      "content_dependencies": null
    },
    {
      "cell_type": "code",
      "source": "print(tf.__version__)",
      "metadata": {
        "source_hash": "ba55828f",
        "execution_start": 1728242734826,
        "execution_millis": 1,
        "execution_context_id": "d86f37af-2c11-477e-8398-22dc14c6964b",
        "cell_id": "9a9c382e396b4fdd86c3dd2a90731f8b",
        "deepnote_cell_type": "code"
      },
      "outputs": [
        {
          "name": "stdout",
          "text": "2.11.1\n",
          "output_type": "stream"
        }
      ],
      "outputs_reference": null,
      "execution_count": 2,
      "block_group": "a6bcfcbe38fb489b8c3775c700446dab",
      "content_dependencies": null
    },
    {
      "cell_type": "markdown",
      "source": "# Import Data",
      "metadata": {
        "formattedRanges": [],
        "cell_id": "253d69413a9a443d8bfa1436daeb1fca",
        "deepnote_cell_type": "text-cell-h1"
      },
      "block_group": "514ce2f2852a4562967c16b101964d55"
    },
    {
      "cell_type": "code",
      "source": "url = 'http://archive.ics.uci.edu/ml/machine-learning-databases/auto-mpg/auto-mpg.data'\ncolumn_names = ['MPG', 'Cylinders', 'Displacement', 'Horsepower', 'Weight',\n                'Acceleration', 'Model Year', 'Origin']\n\nraw_dataset = pd.read_csv(url, names=column_names,\n                          na_values='?', comment='\\t',\n                          sep=' ', skipinitialspace=True)\n\ndataset = raw_dataset.copy()\ndataset.tail()",
      "metadata": {
        "source_hash": "561ce800",
        "execution_start": 1728242734885,
        "execution_millis": 455,
        "execution_context_id": "d86f37af-2c11-477e-8398-22dc14c6964b",
        "cell_id": "4b3224858d2a481daff2ed700cadbb86",
        "deepnote_cell_type": "code"
      },
      "outputs": [
        {
          "output_type": "execute_result",
          "execution_count": 3,
          "data": {
            "application/vnd.deepnote.dataframe.v3+json": {
              "column_count": 8,
              "row_count": 5,
              "columns": [
                {
                  "name": "MPG",
                  "dtype": "float64",
                  "stats": {
                    "unique_count": 5,
                    "nan_count": 0,
                    "min": "27.0",
                    "max": "44.0",
                    "histogram": [
                      {
                        "bin_start": 27,
                        "bin_end": 28.7,
                        "count": 2
                      },
                      {
                        "bin_start": 28.7,
                        "bin_end": 30.4,
                        "count": 0
                      },
                      {
                        "bin_start": 30.4,
                        "bin_end": 32.1,
                        "count": 2
                      },
                      {
                        "bin_start": 32.1,
                        "bin_end": 33.8,
                        "count": 0
                      },
                      {
                        "bin_start": 33.8,
                        "bin_end": 35.5,
                        "count": 0
                      },
                      {
                        "bin_start": 35.5,
                        "bin_end": 37.2,
                        "count": 0
                      },
                      {
                        "bin_start": 37.2,
                        "bin_end": 38.9,
                        "count": 0
                      },
                      {
                        "bin_start": 38.9,
                        "bin_end": 40.6,
                        "count": 0
                      },
                      {
                        "bin_start": 40.6,
                        "bin_end": 42.3,
                        "count": 0
                      },
                      {
                        "bin_start": 42.3,
                        "bin_end": 44,
                        "count": 1
                      }
                    ]
                  }
                },
                {
                  "name": "Cylinders",
                  "dtype": "int64",
                  "stats": {
                    "unique_count": 1,
                    "nan_count": 0,
                    "min": "4",
                    "max": "4",
                    "histogram": [
                      {
                        "bin_start": 3.5,
                        "bin_end": 3.6,
                        "count": 0
                      },
                      {
                        "bin_start": 3.6,
                        "bin_end": 3.7,
                        "count": 0
                      },
                      {
                        "bin_start": 3.7,
                        "bin_end": 3.8,
                        "count": 0
                      },
                      {
                        "bin_start": 3.8,
                        "bin_end": 3.9,
                        "count": 0
                      },
                      {
                        "bin_start": 3.9,
                        "bin_end": 4,
                        "count": 0
                      },
                      {
                        "bin_start": 4,
                        "bin_end": 4.1,
                        "count": 5
                      },
                      {
                        "bin_start": 4.1,
                        "bin_end": 4.2,
                        "count": 0
                      },
                      {
                        "bin_start": 4.2,
                        "bin_end": 4.3,
                        "count": 0
                      },
                      {
                        "bin_start": 4.3,
                        "bin_end": 4.4,
                        "count": 0
                      },
                      {
                        "bin_start": 4.4,
                        "bin_end": 4.5,
                        "count": 0
                      }
                    ]
                  }
                },
                {
                  "name": "Displacement",
                  "dtype": "float64",
                  "stats": {
                    "unique_count": 5,
                    "nan_count": 0,
                    "min": "97.0",
                    "max": "140.0",
                    "histogram": [
                      {
                        "bin_start": 97,
                        "bin_end": 101.3,
                        "count": 1
                      },
                      {
                        "bin_start": 101.3,
                        "bin_end": 105.6,
                        "count": 0
                      },
                      {
                        "bin_start": 105.6,
                        "bin_end": 109.9,
                        "count": 0
                      },
                      {
                        "bin_start": 109.9,
                        "bin_end": 114.2,
                        "count": 0
                      },
                      {
                        "bin_start": 114.2,
                        "bin_end": 118.5,
                        "count": 0
                      },
                      {
                        "bin_start": 118.5,
                        "bin_end": 122.8,
                        "count": 2
                      },
                      {
                        "bin_start": 122.8,
                        "bin_end": 127.1,
                        "count": 0
                      },
                      {
                        "bin_start": 127.1,
                        "bin_end": 131.4,
                        "count": 0
                      },
                      {
                        "bin_start": 131.4,
                        "bin_end": 135.7,
                        "count": 1
                      },
                      {
                        "bin_start": 135.7,
                        "bin_end": 140,
                        "count": 1
                      }
                    ]
                  }
                },
                {
                  "name": "Horsepower",
                  "dtype": "float64",
                  "stats": {
                    "unique_count": 5,
                    "nan_count": 0,
                    "min": "52.0",
                    "max": "86.0",
                    "histogram": [
                      {
                        "bin_start": 52,
                        "bin_end": 55.4,
                        "count": 1
                      },
                      {
                        "bin_start": 55.4,
                        "bin_end": 58.8,
                        "count": 0
                      },
                      {
                        "bin_start": 58.8,
                        "bin_end": 62.2,
                        "count": 0
                      },
                      {
                        "bin_start": 62.2,
                        "bin_end": 65.6,
                        "count": 0
                      },
                      {
                        "bin_start": 65.6,
                        "bin_end": 69,
                        "count": 0
                      },
                      {
                        "bin_start": 69,
                        "bin_end": 72.4,
                        "count": 0
                      },
                      {
                        "bin_start": 72.4,
                        "bin_end": 75.8,
                        "count": 0
                      },
                      {
                        "bin_start": 75.8,
                        "bin_end": 79.2,
                        "count": 1
                      },
                      {
                        "bin_start": 79.2,
                        "bin_end": 82.6,
                        "count": 1
                      },
                      {
                        "bin_start": 82.6,
                        "bin_end": 86,
                        "count": 2
                      }
                    ]
                  }
                },
                {
                  "name": "Weight",
                  "dtype": "float64",
                  "stats": {
                    "unique_count": 5,
                    "nan_count": 0,
                    "min": "2130.0",
                    "max": "2790.0",
                    "histogram": [
                      {
                        "bin_start": 2130,
                        "bin_end": 2196,
                        "count": 1
                      },
                      {
                        "bin_start": 2196,
                        "bin_end": 2262,
                        "count": 0
                      },
                      {
                        "bin_start": 2262,
                        "bin_end": 2328,
                        "count": 1
                      },
                      {
                        "bin_start": 2328,
                        "bin_end": 2394,
                        "count": 0
                      },
                      {
                        "bin_start": 2394,
                        "bin_end": 2460,
                        "count": 0
                      },
                      {
                        "bin_start": 2460,
                        "bin_end": 2526,
                        "count": 0
                      },
                      {
                        "bin_start": 2526,
                        "bin_end": 2592,
                        "count": 0
                      },
                      {
                        "bin_start": 2592,
                        "bin_end": 2658,
                        "count": 1
                      },
                      {
                        "bin_start": 2658,
                        "bin_end": 2724,
                        "count": 1
                      },
                      {
                        "bin_start": 2724,
                        "bin_end": 2790,
                        "count": 1
                      }
                    ]
                  }
                },
                {
                  "name": "Acceleration",
                  "dtype": "float64",
                  "stats": {
                    "unique_count": 5,
                    "nan_count": 0,
                    "min": "11.6",
                    "max": "24.6",
                    "histogram": [
                      {
                        "bin_start": 11.6,
                        "bin_end": 12.9,
                        "count": 1
                      },
                      {
                        "bin_start": 12.9,
                        "bin_end": 14.2,
                        "count": 0
                      },
                      {
                        "bin_start": 14.2,
                        "bin_end": 15.5,
                        "count": 0
                      },
                      {
                        "bin_start": 15.5,
                        "bin_end": 16.8,
                        "count": 1
                      },
                      {
                        "bin_start": 16.8,
                        "bin_end": 18.1,
                        "count": 0
                      },
                      {
                        "bin_start": 18.1,
                        "bin_end": 19.400000000000002,
                        "count": 2
                      },
                      {
                        "bin_start": 19.400000000000002,
                        "bin_end": 20.700000000000003,
                        "count": 0
                      },
                      {
                        "bin_start": 20.700000000000003,
                        "bin_end": 22,
                        "count": 0
                      },
                      {
                        "bin_start": 22,
                        "bin_end": 23.300000000000004,
                        "count": 0
                      },
                      {
                        "bin_start": 23.300000000000004,
                        "bin_end": 24.6,
                        "count": 1
                      }
                    ]
                  }
                },
                {
                  "name": "Model Year",
                  "dtype": "int64",
                  "stats": {
                    "unique_count": 1,
                    "nan_count": 0,
                    "min": "82",
                    "max": "82",
                    "histogram": [
                      {
                        "bin_start": 81.5,
                        "bin_end": 81.6,
                        "count": 0
                      },
                      {
                        "bin_start": 81.6,
                        "bin_end": 81.7,
                        "count": 0
                      },
                      {
                        "bin_start": 81.7,
                        "bin_end": 81.8,
                        "count": 0
                      },
                      {
                        "bin_start": 81.8,
                        "bin_end": 81.9,
                        "count": 0
                      },
                      {
                        "bin_start": 81.9,
                        "bin_end": 82,
                        "count": 0
                      },
                      {
                        "bin_start": 82,
                        "bin_end": 82.1,
                        "count": 5
                      },
                      {
                        "bin_start": 82.1,
                        "bin_end": 82.2,
                        "count": 0
                      },
                      {
                        "bin_start": 82.2,
                        "bin_end": 82.3,
                        "count": 0
                      },
                      {
                        "bin_start": 82.3,
                        "bin_end": 82.4,
                        "count": 0
                      },
                      {
                        "bin_start": 82.4,
                        "bin_end": 82.5,
                        "count": 0
                      }
                    ]
                  }
                },
                {
                  "name": "Origin",
                  "dtype": "int64",
                  "stats": {
                    "unique_count": 2,
                    "nan_count": 0,
                    "min": "1",
                    "max": "2",
                    "histogram": [
                      {
                        "bin_start": 1,
                        "bin_end": 1.1,
                        "count": 4
                      },
                      {
                        "bin_start": 1.1,
                        "bin_end": 1.2,
                        "count": 0
                      },
                      {
                        "bin_start": 1.2,
                        "bin_end": 1.3,
                        "count": 0
                      },
                      {
                        "bin_start": 1.3,
                        "bin_end": 1.4,
                        "count": 0
                      },
                      {
                        "bin_start": 1.4,
                        "bin_end": 1.5,
                        "count": 0
                      },
                      {
                        "bin_start": 1.5,
                        "bin_end": 1.6,
                        "count": 0
                      },
                      {
                        "bin_start": 1.6,
                        "bin_end": 1.7000000000000002,
                        "count": 0
                      },
                      {
                        "bin_start": 1.7000000000000002,
                        "bin_end": 1.8,
                        "count": 0
                      },
                      {
                        "bin_start": 1.8,
                        "bin_end": 1.9,
                        "count": 0
                      },
                      {
                        "bin_start": 1.9,
                        "bin_end": 2,
                        "count": 1
                      }
                    ]
                  }
                },
                {
                  "name": "_deepnote_index_column",
                  "dtype": "int64"
                }
              ],
              "rows": [
                {
                  "MPG": 27,
                  "Cylinders": 4,
                  "Displacement": 140,
                  "Horsepower": 86,
                  "Weight": 2790,
                  "Acceleration": 15.6,
                  "Model Year": 82,
                  "Origin": 1,
                  "_deepnote_index_column": 393
                },
                {
                  "MPG": 44,
                  "Cylinders": 4,
                  "Displacement": 97,
                  "Horsepower": 52,
                  "Weight": 2130,
                  "Acceleration": 24.6,
                  "Model Year": 82,
                  "Origin": 2,
                  "_deepnote_index_column": 394
                },
                {
                  "MPG": 32,
                  "Cylinders": 4,
                  "Displacement": 135,
                  "Horsepower": 84,
                  "Weight": 2295,
                  "Acceleration": 11.6,
                  "Model Year": 82,
                  "Origin": 1,
                  "_deepnote_index_column": 395
                },
                {
                  "MPG": 28,
                  "Cylinders": 4,
                  "Displacement": 120,
                  "Horsepower": 79,
                  "Weight": 2625,
                  "Acceleration": 18.6,
                  "Model Year": 82,
                  "Origin": 1,
                  "_deepnote_index_column": 396
                },
                {
                  "MPG": 31,
                  "Cylinders": 4,
                  "Displacement": 119,
                  "Horsepower": 82,
                  "Weight": 2720,
                  "Acceleration": 19.4,
                  "Model Year": 82,
                  "Origin": 1,
                  "_deepnote_index_column": 397
                }
              ]
            },
            "text/plain": "      MPG  Cylinders  Displacement  Horsepower  Weight  Acceleration  \\\n393  27.0          4         140.0        86.0  2790.0          15.6   \n394  44.0          4          97.0        52.0  2130.0          24.6   \n395  32.0          4         135.0        84.0  2295.0          11.6   \n396  28.0          4         120.0        79.0  2625.0          18.6   \n397  31.0          4         119.0        82.0  2720.0          19.4   \n\n     Model Year  Origin  \n393          82       1  \n394          82       2  \n395          82       1  \n396          82       1  \n397          82       1  ",
            "text/html": "<div>\n<style scoped>\n    .dataframe tbody tr th:only-of-type {\n        vertical-align: middle;\n    }\n\n    .dataframe tbody tr th {\n        vertical-align: top;\n    }\n\n    .dataframe thead th {\n        text-align: right;\n    }\n</style>\n<table border=\"1\" class=\"dataframe\">\n  <thead>\n    <tr style=\"text-align: right;\">\n      <th></th>\n      <th>MPG</th>\n      <th>Cylinders</th>\n      <th>Displacement</th>\n      <th>Horsepower</th>\n      <th>Weight</th>\n      <th>Acceleration</th>\n      <th>Model Year</th>\n      <th>Origin</th>\n    </tr>\n  </thead>\n  <tbody>\n    <tr>\n      <th>393</th>\n      <td>27.0</td>\n      <td>4</td>\n      <td>140.0</td>\n      <td>86.0</td>\n      <td>2790.0</td>\n      <td>15.6</td>\n      <td>82</td>\n      <td>1</td>\n    </tr>\n    <tr>\n      <th>394</th>\n      <td>44.0</td>\n      <td>4</td>\n      <td>97.0</td>\n      <td>52.0</td>\n      <td>2130.0</td>\n      <td>24.6</td>\n      <td>82</td>\n      <td>2</td>\n    </tr>\n    <tr>\n      <th>395</th>\n      <td>32.0</td>\n      <td>4</td>\n      <td>135.0</td>\n      <td>84.0</td>\n      <td>2295.0</td>\n      <td>11.6</td>\n      <td>82</td>\n      <td>1</td>\n    </tr>\n    <tr>\n      <th>396</th>\n      <td>28.0</td>\n      <td>4</td>\n      <td>120.0</td>\n      <td>79.0</td>\n      <td>2625.0</td>\n      <td>18.6</td>\n      <td>82</td>\n      <td>1</td>\n    </tr>\n    <tr>\n      <th>397</th>\n      <td>31.0</td>\n      <td>4</td>\n      <td>119.0</td>\n      <td>82.0</td>\n      <td>2720.0</td>\n      <td>19.4</td>\n      <td>82</td>\n      <td>1</td>\n    </tr>\n  </tbody>\n</table>\n</div>"
          },
          "metadata": {}
        }
      ],
      "outputs_reference": null,
      "execution_count": 3,
      "block_group": "c99ccb1895ed4c9e884a1323a92e4f41",
      "content_dependencies": null
    },
    {
      "cell_type": "markdown",
      "source": "# Prep Data",
      "metadata": {
        "formattedRanges": [],
        "cell_id": "6302dcd3363c4bec95e92df7ef0f407b",
        "deepnote_cell_type": "text-cell-h1"
      },
      "block_group": "957b00df54d2421b862a87a352db9ef3"
    },
    {
      "cell_type": "code",
      "source": "dataset = dataset.dropna()\ndataset.tail()",
      "metadata": {
        "source_hash": "ea132e3",
        "execution_start": 1728242735386,
        "execution_millis": 2,
        "execution_context_id": "d86f37af-2c11-477e-8398-22dc14c6964b",
        "cell_id": "b3cc49dc50d94fe6b92c2e60b2117ece",
        "deepnote_cell_type": "code"
      },
      "outputs": [
        {
          "output_type": "execute_result",
          "execution_count": 4,
          "data": {
            "application/vnd.deepnote.dataframe.v3+json": {
              "column_count": 8,
              "row_count": 5,
              "columns": [
                {
                  "name": "MPG",
                  "dtype": "float64",
                  "stats": {
                    "unique_count": 5,
                    "nan_count": 0,
                    "min": "27.0",
                    "max": "44.0",
                    "histogram": [
                      {
                        "bin_start": 27,
                        "bin_end": 28.7,
                        "count": 2
                      },
                      {
                        "bin_start": 28.7,
                        "bin_end": 30.4,
                        "count": 0
                      },
                      {
                        "bin_start": 30.4,
                        "bin_end": 32.1,
                        "count": 2
                      },
                      {
                        "bin_start": 32.1,
                        "bin_end": 33.8,
                        "count": 0
                      },
                      {
                        "bin_start": 33.8,
                        "bin_end": 35.5,
                        "count": 0
                      },
                      {
                        "bin_start": 35.5,
                        "bin_end": 37.2,
                        "count": 0
                      },
                      {
                        "bin_start": 37.2,
                        "bin_end": 38.9,
                        "count": 0
                      },
                      {
                        "bin_start": 38.9,
                        "bin_end": 40.6,
                        "count": 0
                      },
                      {
                        "bin_start": 40.6,
                        "bin_end": 42.3,
                        "count": 0
                      },
                      {
                        "bin_start": 42.3,
                        "bin_end": 44,
                        "count": 1
                      }
                    ]
                  }
                },
                {
                  "name": "Cylinders",
                  "dtype": "int64",
                  "stats": {
                    "unique_count": 1,
                    "nan_count": 0,
                    "min": "4",
                    "max": "4",
                    "histogram": [
                      {
                        "bin_start": 3.5,
                        "bin_end": 3.6,
                        "count": 0
                      },
                      {
                        "bin_start": 3.6,
                        "bin_end": 3.7,
                        "count": 0
                      },
                      {
                        "bin_start": 3.7,
                        "bin_end": 3.8,
                        "count": 0
                      },
                      {
                        "bin_start": 3.8,
                        "bin_end": 3.9,
                        "count": 0
                      },
                      {
                        "bin_start": 3.9,
                        "bin_end": 4,
                        "count": 0
                      },
                      {
                        "bin_start": 4,
                        "bin_end": 4.1,
                        "count": 5
                      },
                      {
                        "bin_start": 4.1,
                        "bin_end": 4.2,
                        "count": 0
                      },
                      {
                        "bin_start": 4.2,
                        "bin_end": 4.3,
                        "count": 0
                      },
                      {
                        "bin_start": 4.3,
                        "bin_end": 4.4,
                        "count": 0
                      },
                      {
                        "bin_start": 4.4,
                        "bin_end": 4.5,
                        "count": 0
                      }
                    ]
                  }
                },
                {
                  "name": "Displacement",
                  "dtype": "float64",
                  "stats": {
                    "unique_count": 5,
                    "nan_count": 0,
                    "min": "97.0",
                    "max": "140.0",
                    "histogram": [
                      {
                        "bin_start": 97,
                        "bin_end": 101.3,
                        "count": 1
                      },
                      {
                        "bin_start": 101.3,
                        "bin_end": 105.6,
                        "count": 0
                      },
                      {
                        "bin_start": 105.6,
                        "bin_end": 109.9,
                        "count": 0
                      },
                      {
                        "bin_start": 109.9,
                        "bin_end": 114.2,
                        "count": 0
                      },
                      {
                        "bin_start": 114.2,
                        "bin_end": 118.5,
                        "count": 0
                      },
                      {
                        "bin_start": 118.5,
                        "bin_end": 122.8,
                        "count": 2
                      },
                      {
                        "bin_start": 122.8,
                        "bin_end": 127.1,
                        "count": 0
                      },
                      {
                        "bin_start": 127.1,
                        "bin_end": 131.4,
                        "count": 0
                      },
                      {
                        "bin_start": 131.4,
                        "bin_end": 135.7,
                        "count": 1
                      },
                      {
                        "bin_start": 135.7,
                        "bin_end": 140,
                        "count": 1
                      }
                    ]
                  }
                },
                {
                  "name": "Horsepower",
                  "dtype": "float64",
                  "stats": {
                    "unique_count": 5,
                    "nan_count": 0,
                    "min": "52.0",
                    "max": "86.0",
                    "histogram": [
                      {
                        "bin_start": 52,
                        "bin_end": 55.4,
                        "count": 1
                      },
                      {
                        "bin_start": 55.4,
                        "bin_end": 58.8,
                        "count": 0
                      },
                      {
                        "bin_start": 58.8,
                        "bin_end": 62.2,
                        "count": 0
                      },
                      {
                        "bin_start": 62.2,
                        "bin_end": 65.6,
                        "count": 0
                      },
                      {
                        "bin_start": 65.6,
                        "bin_end": 69,
                        "count": 0
                      },
                      {
                        "bin_start": 69,
                        "bin_end": 72.4,
                        "count": 0
                      },
                      {
                        "bin_start": 72.4,
                        "bin_end": 75.8,
                        "count": 0
                      },
                      {
                        "bin_start": 75.8,
                        "bin_end": 79.2,
                        "count": 1
                      },
                      {
                        "bin_start": 79.2,
                        "bin_end": 82.6,
                        "count": 1
                      },
                      {
                        "bin_start": 82.6,
                        "bin_end": 86,
                        "count": 2
                      }
                    ]
                  }
                },
                {
                  "name": "Weight",
                  "dtype": "float64",
                  "stats": {
                    "unique_count": 5,
                    "nan_count": 0,
                    "min": "2130.0",
                    "max": "2790.0",
                    "histogram": [
                      {
                        "bin_start": 2130,
                        "bin_end": 2196,
                        "count": 1
                      },
                      {
                        "bin_start": 2196,
                        "bin_end": 2262,
                        "count": 0
                      },
                      {
                        "bin_start": 2262,
                        "bin_end": 2328,
                        "count": 1
                      },
                      {
                        "bin_start": 2328,
                        "bin_end": 2394,
                        "count": 0
                      },
                      {
                        "bin_start": 2394,
                        "bin_end": 2460,
                        "count": 0
                      },
                      {
                        "bin_start": 2460,
                        "bin_end": 2526,
                        "count": 0
                      },
                      {
                        "bin_start": 2526,
                        "bin_end": 2592,
                        "count": 0
                      },
                      {
                        "bin_start": 2592,
                        "bin_end": 2658,
                        "count": 1
                      },
                      {
                        "bin_start": 2658,
                        "bin_end": 2724,
                        "count": 1
                      },
                      {
                        "bin_start": 2724,
                        "bin_end": 2790,
                        "count": 1
                      }
                    ]
                  }
                },
                {
                  "name": "Acceleration",
                  "dtype": "float64",
                  "stats": {
                    "unique_count": 5,
                    "nan_count": 0,
                    "min": "11.6",
                    "max": "24.6",
                    "histogram": [
                      {
                        "bin_start": 11.6,
                        "bin_end": 12.9,
                        "count": 1
                      },
                      {
                        "bin_start": 12.9,
                        "bin_end": 14.2,
                        "count": 0
                      },
                      {
                        "bin_start": 14.2,
                        "bin_end": 15.5,
                        "count": 0
                      },
                      {
                        "bin_start": 15.5,
                        "bin_end": 16.8,
                        "count": 1
                      },
                      {
                        "bin_start": 16.8,
                        "bin_end": 18.1,
                        "count": 0
                      },
                      {
                        "bin_start": 18.1,
                        "bin_end": 19.400000000000002,
                        "count": 2
                      },
                      {
                        "bin_start": 19.400000000000002,
                        "bin_end": 20.700000000000003,
                        "count": 0
                      },
                      {
                        "bin_start": 20.700000000000003,
                        "bin_end": 22,
                        "count": 0
                      },
                      {
                        "bin_start": 22,
                        "bin_end": 23.300000000000004,
                        "count": 0
                      },
                      {
                        "bin_start": 23.300000000000004,
                        "bin_end": 24.6,
                        "count": 1
                      }
                    ]
                  }
                },
                {
                  "name": "Model Year",
                  "dtype": "int64",
                  "stats": {
                    "unique_count": 1,
                    "nan_count": 0,
                    "min": "82",
                    "max": "82",
                    "histogram": [
                      {
                        "bin_start": 81.5,
                        "bin_end": 81.6,
                        "count": 0
                      },
                      {
                        "bin_start": 81.6,
                        "bin_end": 81.7,
                        "count": 0
                      },
                      {
                        "bin_start": 81.7,
                        "bin_end": 81.8,
                        "count": 0
                      },
                      {
                        "bin_start": 81.8,
                        "bin_end": 81.9,
                        "count": 0
                      },
                      {
                        "bin_start": 81.9,
                        "bin_end": 82,
                        "count": 0
                      },
                      {
                        "bin_start": 82,
                        "bin_end": 82.1,
                        "count": 5
                      },
                      {
                        "bin_start": 82.1,
                        "bin_end": 82.2,
                        "count": 0
                      },
                      {
                        "bin_start": 82.2,
                        "bin_end": 82.3,
                        "count": 0
                      },
                      {
                        "bin_start": 82.3,
                        "bin_end": 82.4,
                        "count": 0
                      },
                      {
                        "bin_start": 82.4,
                        "bin_end": 82.5,
                        "count": 0
                      }
                    ]
                  }
                },
                {
                  "name": "Origin",
                  "dtype": "int64",
                  "stats": {
                    "unique_count": 2,
                    "nan_count": 0,
                    "min": "1",
                    "max": "2",
                    "histogram": [
                      {
                        "bin_start": 1,
                        "bin_end": 1.1,
                        "count": 4
                      },
                      {
                        "bin_start": 1.1,
                        "bin_end": 1.2,
                        "count": 0
                      },
                      {
                        "bin_start": 1.2,
                        "bin_end": 1.3,
                        "count": 0
                      },
                      {
                        "bin_start": 1.3,
                        "bin_end": 1.4,
                        "count": 0
                      },
                      {
                        "bin_start": 1.4,
                        "bin_end": 1.5,
                        "count": 0
                      },
                      {
                        "bin_start": 1.5,
                        "bin_end": 1.6,
                        "count": 0
                      },
                      {
                        "bin_start": 1.6,
                        "bin_end": 1.7000000000000002,
                        "count": 0
                      },
                      {
                        "bin_start": 1.7000000000000002,
                        "bin_end": 1.8,
                        "count": 0
                      },
                      {
                        "bin_start": 1.8,
                        "bin_end": 1.9,
                        "count": 0
                      },
                      {
                        "bin_start": 1.9,
                        "bin_end": 2,
                        "count": 1
                      }
                    ]
                  }
                },
                {
                  "name": "_deepnote_index_column",
                  "dtype": "int64"
                }
              ],
              "rows": [
                {
                  "MPG": 27,
                  "Cylinders": 4,
                  "Displacement": 140,
                  "Horsepower": 86,
                  "Weight": 2790,
                  "Acceleration": 15.6,
                  "Model Year": 82,
                  "Origin": 1,
                  "_deepnote_index_column": 393
                },
                {
                  "MPG": 44,
                  "Cylinders": 4,
                  "Displacement": 97,
                  "Horsepower": 52,
                  "Weight": 2130,
                  "Acceleration": 24.6,
                  "Model Year": 82,
                  "Origin": 2,
                  "_deepnote_index_column": 394
                },
                {
                  "MPG": 32,
                  "Cylinders": 4,
                  "Displacement": 135,
                  "Horsepower": 84,
                  "Weight": 2295,
                  "Acceleration": 11.6,
                  "Model Year": 82,
                  "Origin": 1,
                  "_deepnote_index_column": 395
                },
                {
                  "MPG": 28,
                  "Cylinders": 4,
                  "Displacement": 120,
                  "Horsepower": 79,
                  "Weight": 2625,
                  "Acceleration": 18.6,
                  "Model Year": 82,
                  "Origin": 1,
                  "_deepnote_index_column": 396
                },
                {
                  "MPG": 31,
                  "Cylinders": 4,
                  "Displacement": 119,
                  "Horsepower": 82,
                  "Weight": 2720,
                  "Acceleration": 19.4,
                  "Model Year": 82,
                  "Origin": 1,
                  "_deepnote_index_column": 397
                }
              ]
            },
            "text/plain": "      MPG  Cylinders  Displacement  Horsepower  Weight  Acceleration  \\\n393  27.0          4         140.0        86.0  2790.0          15.6   \n394  44.0          4          97.0        52.0  2130.0          24.6   \n395  32.0          4         135.0        84.0  2295.0          11.6   \n396  28.0          4         120.0        79.0  2625.0          18.6   \n397  31.0          4         119.0        82.0  2720.0          19.4   \n\n     Model Year  Origin  \n393          82       1  \n394          82       2  \n395          82       1  \n396          82       1  \n397          82       1  ",
            "text/html": "<div>\n<style scoped>\n    .dataframe tbody tr th:only-of-type {\n        vertical-align: middle;\n    }\n\n    .dataframe tbody tr th {\n        vertical-align: top;\n    }\n\n    .dataframe thead th {\n        text-align: right;\n    }\n</style>\n<table border=\"1\" class=\"dataframe\">\n  <thead>\n    <tr style=\"text-align: right;\">\n      <th></th>\n      <th>MPG</th>\n      <th>Cylinders</th>\n      <th>Displacement</th>\n      <th>Horsepower</th>\n      <th>Weight</th>\n      <th>Acceleration</th>\n      <th>Model Year</th>\n      <th>Origin</th>\n    </tr>\n  </thead>\n  <tbody>\n    <tr>\n      <th>393</th>\n      <td>27.0</td>\n      <td>4</td>\n      <td>140.0</td>\n      <td>86.0</td>\n      <td>2790.0</td>\n      <td>15.6</td>\n      <td>82</td>\n      <td>1</td>\n    </tr>\n    <tr>\n      <th>394</th>\n      <td>44.0</td>\n      <td>4</td>\n      <td>97.0</td>\n      <td>52.0</td>\n      <td>2130.0</td>\n      <td>24.6</td>\n      <td>82</td>\n      <td>2</td>\n    </tr>\n    <tr>\n      <th>395</th>\n      <td>32.0</td>\n      <td>4</td>\n      <td>135.0</td>\n      <td>84.0</td>\n      <td>2295.0</td>\n      <td>11.6</td>\n      <td>82</td>\n      <td>1</td>\n    </tr>\n    <tr>\n      <th>396</th>\n      <td>28.0</td>\n      <td>4</td>\n      <td>120.0</td>\n      <td>79.0</td>\n      <td>2625.0</td>\n      <td>18.6</td>\n      <td>82</td>\n      <td>1</td>\n    </tr>\n    <tr>\n      <th>397</th>\n      <td>31.0</td>\n      <td>4</td>\n      <td>119.0</td>\n      <td>82.0</td>\n      <td>2720.0</td>\n      <td>19.4</td>\n      <td>82</td>\n      <td>1</td>\n    </tr>\n  </tbody>\n</table>\n</div>"
          },
          "metadata": {}
        }
      ],
      "outputs_reference": null,
      "execution_count": 4,
      "block_group": "b8a047139ca2447f9370161946215aa4",
      "content_dependencies": null
    },
    {
      "cell_type": "code",
      "source": "train_dataset = dataset.sample(frac = 0.8, random_state = 0)\ntest_dataset = dataset.drop(train_dataset.index)\nsns.pairplot(train_dataset[[\"MPG\", \"Cylinders\", \"Displacement\", \"Weight\"]], diag_kind=\"kde\");",
      "metadata": {
        "source_hash": "82fb79ba",
        "execution_start": 1728242735433,
        "execution_millis": 2939,
        "execution_context_id": "d86f37af-2c11-477e-8398-22dc14c6964b",
        "cell_id": "9075494a047d4d63882c3a315567d506",
        "deepnote_cell_type": "code"
      },
      "outputs": [
        {
          "data": {
            "text/plain": "<Figure size 1000x1000 with 20 Axes>",
            "image/png": "[encoded data removed]"
          },
          "metadata": {
            "image/png": {
              "width": 985,
              "height": 986
            }
          },
          "output_type": "display_data"
        }
      ],
      "outputs_reference": null,
      "execution_count": 5,
      "block_group": "2da010f307d94f42bd67779aac0baf91",
      "content_dependencies": null
    },
    {
      "cell_type": "code",
      "source": "train_stats = train_dataset.describe()\ntrain_stats.pop(\"MPG\")\ntrain_stats = train_stats.transpose()",
      "metadata": {
        "source_hash": "154396b6",
        "execution_start": 1728242738421,
        "execution_millis": 1,
        "execution_context_id": "d86f37af-2c11-477e-8398-22dc14c6964b",
        "cell_id": "9f1b654cb443428da7115fe3a4743a0e",
        "deepnote_cell_type": "code"
      },
      "outputs": [],
      "outputs_reference": null,
      "execution_count": 6,
      "block_group": "096ec0d986014530bfc59c4c63c4ea56",
      "content_dependencies": null
    },
    {
      "cell_type": "code",
      "source": "train_labels = train_dataset.pop('MPG')\ntest_labels = test_dataset.pop('MPG')  ",
      "metadata": {
        "source_hash": "f2b5ba1f",
        "execution_start": 1728242738469,
        "execution_millis": 1,
        "execution_context_id": "d86f37af-2c11-477e-8398-22dc14c6964b",
        "cell_id": "d62b272af12d4ec594f54be55bb8e65a",
        "deepnote_cell_type": "code"
      },
      "outputs": [],
      "outputs_reference": null,
      "execution_count": 7,
      "block_group": "afc6bb5032fd428a8938e3e0fe9966bc",
      "content_dependencies": null
    },
    {
      "cell_type": "markdown",
      "source": "# Review Statistics",
      "metadata": {
        "formattedRanges": [],
        "cell_id": "4e7716d4a52f44c98ebbe777edd9e608",
        "deepnote_cell_type": "text-cell-h1"
      },
      "block_group": "8659aedd108547ada84d9540fed9214d"
    },
    {
      "cell_type": "code",
      "source": "def norm(x):\n    return (x - train_stats['mean']) / train_stats['std']\nnormed_train_data = norm(train_dataset)\nnormed_test_data = norm(test_dataset)\ntrain_stats",
      "metadata": {
        "source_hash": "f9b0fd08",
        "execution_start": 1728242738537,
        "execution_millis": 2,
        "execution_context_id": "d86f37af-2c11-477e-8398-22dc14c6964b",
        "cell_id": "91cf15ec2a6d44c5b6e85fcd5f846c76",
        "deepnote_cell_type": "code"
      },
      "outputs": [
        {
          "output_type": "execute_result",
          "execution_count": 8,
          "data": {
            "application/vnd.deepnote.dataframe.v3+json": {
              "column_count": 8,
              "row_count": 7,
              "columns": [
                {
                  "name": "count",
                  "dtype": "float64",
                  "stats": {
                    "unique_count": 1,
                    "nan_count": 0,
                    "min": "314.0",
                    "max": "314.0",
                    "histogram": [
                      {
                        "bin_start": 313.5,
                        "bin_end": 313.6,
                        "count": 0
                      },
                      {
                        "bin_start": 313.6,
                        "bin_end": 313.7,
                        "count": 0
                      },
                      {
                        "bin_start": 313.7,
                        "bin_end": 313.8,
                        "count": 0
                      },
                      {
                        "bin_start": 313.8,
                        "bin_end": 313.9,
                        "count": 0
                      },
                      {
                        "bin_start": 313.9,
                        "bin_end": 314,
                        "count": 0
                      },
                      {
                        "bin_start": 314,
                        "bin_end": 314.1,
                        "count": 7
                      },
                      {
                        "bin_start": 314.1,
                        "bin_end": 314.2,
                        "count": 0
                      },
                      {
                        "bin_start": 314.2,
                        "bin_end": 314.3,
                        "count": 0
                      },
                      {
                        "bin_start": 314.3,
                        "bin_end": 314.4,
                        "count": 0
                      },
                      {
                        "bin_start": 314.4,
                        "bin_end": 314.5,
                        "count": 0
                      }
                    ]
                  }
                },
                {
                  "name": "mean",
                  "dtype": "float64",
                  "stats": {
                    "unique_count": 7,
                    "nan_count": 0,
                    "min": "1.5732484076433122",
                    "max": "2990.251592356688",
                    "histogram": [
                      {
                        "bin_start": 1.5732484076433122,
                        "bin_end": 300.4410828025477,
                        "count": 6
                      },
                      {
                        "bin_start": 300.4410828025477,
                        "bin_end": 599.3089171974522,
                        "count": 0
                      },
                      {
                        "bin_start": 599.3089171974522,
                        "bin_end": 898.1767515923566,
                        "count": 0
                      },
                      {
                        "bin_start": 898.1767515923566,
                        "bin_end": 1197.0445859872611,
                        "count": 0
                      },
                      {
                        "bin_start": 1197.0445859872611,
                        "bin_end": 1495.9124203821657,
                        "count": 0
                      },
                      {
                        "bin_start": 1495.9124203821657,
                        "bin_end": 1794.78025477707,
                        "count": 0
                      },
                      {
                        "bin_start": 1794.78025477707,
                        "bin_end": 2093.6480891719743,
                        "count": 0
                      },
                      {
                        "bin_start": 2093.6480891719743,
                        "bin_end": 2392.515923566879,
                        "count": 0
                      },
                      {
                        "bin_start": 2392.515923566879,
                        "bin_end": 2691.3837579617834,
                        "count": 0
                      },
                      {
                        "bin_start": 2691.3837579617834,
                        "bin_end": 2990.251592356688,
                        "count": 1
                      }
                    ]
                  }
                },
                {
                  "name": "std",
                  "dtype": "float64",
                  "stats": {
                    "unique_count": 7,
                    "nan_count": 0,
                    "min": "0.8009883803032619",
                    "max": "843.8985961905663",
                    "histogram": [
                      {
                        "bin_start": 0.8009883803032619,
                        "bin_end": 85.11074916132958,
                        "count": 5
                      },
                      {
                        "bin_start": 85.11074916132958,
                        "bin_end": 169.4205099423559,
                        "count": 1
                      },
                      {
                        "bin_start": 169.4205099423559,
                        "bin_end": 253.7302707233822,
                        "count": 0
                      },
                      {
                        "bin_start": 253.7302707233822,
                        "bin_end": 338.0400315044085,
                        "count": 0
                      },
                      {
                        "bin_start": 338.0400315044085,
                        "bin_end": 422.3497922854348,
                        "count": 0
                      },
                      {
                        "bin_start": 422.3497922854348,
                        "bin_end": 506.6595530664611,
                        "count": 0
                      },
                      {
                        "bin_start": 506.6595530664611,
                        "bin_end": 590.9693138474875,
                        "count": 0
                      },
                      {
                        "bin_start": 590.9693138474875,
                        "bin_end": 675.2790746285137,
                        "count": 0
                      },
                      {
                        "bin_start": 675.2790746285137,
                        "bin_end": 759.58883540954,
                        "count": 0
                      },
                      {
                        "bin_start": 759.58883540954,
                        "bin_end": 843.8985961905663,
                        "count": 1
                      }
                    ]
                  }
                },
                {
                  "name": "min",
                  "dtype": "float64",
                  "stats": {
                    "unique_count": 7,
                    "nan_count": 0,
                    "min": "1.0",
                    "max": "1649.0",
                    "histogram": [
                      {
                        "bin_start": 1,
                        "bin_end": 165.8,
                        "count": 6
                      },
                      {
                        "bin_start": 165.8,
                        "bin_end": 330.6,
                        "count": 0
                      },
                      {
                        "bin_start": 330.6,
                        "bin_end": 495.40000000000003,
                        "count": 0
                      },
                      {
                        "bin_start": 495.40000000000003,
                        "bin_end": 660.2,
                        "count": 0
                      },
                      {
                        "bin_start": 660.2,
                        "bin_end": 825,
                        "count": 0
                      },
                      {
                        "bin_start": 825,
                        "bin_end": 989.8000000000001,
                        "count": 0
                      },
                      {
                        "bin_start": 989.8000000000001,
                        "bin_end": 1154.6000000000001,
                        "count": 0
                      },
                      {
                        "bin_start": 1154.6000000000001,
                        "bin_end": 1319.4,
                        "count": 0
                      },
                      {
                        "bin_start": 1319.4,
                        "bin_end": 1484.2,
                        "count": 0
                      },
                      {
                        "bin_start": 1484.2,
                        "bin_end": 1649,
                        "count": 1
                      }
                    ]
                  }
                },
                {
                  "name": "25%",
                  "dtype": "float64",
                  "stats": {
                    "unique_count": 7,
                    "nan_count": 0,
                    "min": "1.0",
                    "max": "2256.5",
                    "histogram": [
                      {
                        "bin_start": 1,
                        "bin_end": 226.55,
                        "count": 6
                      },
                      {
                        "bin_start": 226.55,
                        "bin_end": 452.1,
                        "count": 0
                      },
                      {
                        "bin_start": 452.1,
                        "bin_end": 677.6500000000001,
                        "count": 0
                      },
                      {
                        "bin_start": 677.6500000000001,
                        "bin_end": 903.2,
                        "count": 0
                      },
                      {
                        "bin_start": 903.2,
                        "bin_end": 1128.75,
                        "count": 0
                      },
                      {
                        "bin_start": 1128.75,
                        "bin_end": 1354.3000000000002,
                        "count": 0
                      },
                      {
                        "bin_start": 1354.3000000000002,
                        "bin_end": 1579.8500000000001,
                        "count": 0
                      },
                      {
                        "bin_start": 1579.8500000000001,
                        "bin_end": 1805.4,
                        "count": 0
                      },
                      {
                        "bin_start": 1805.4,
                        "bin_end": 2030.95,
                        "count": 0
                      },
                      {
                        "bin_start": 2030.95,
                        "bin_end": 2256.5,
                        "count": 1
                      }
                    ]
                  }
                },
                {
                  "name": "50%",
                  "dtype": "float64",
                  "stats": {
                    "unique_count": 7,
                    "nan_count": 0,
                    "min": "1.0",
                    "max": "2822.5",
                    "histogram": [
                      {
                        "bin_start": 1,
                        "bin_end": 283.15,
                        "count": 6
                      },
                      {
                        "bin_start": 283.15,
                        "bin_end": 565.3,
                        "count": 0
                      },
                      {
                        "bin_start": 565.3,
                        "bin_end": 847.4499999999999,
                        "count": 0
                      },
                      {
                        "bin_start": 847.4499999999999,
                        "bin_end": 1129.6,
                        "count": 0
                      },
                      {
                        "bin_start": 1129.6,
                        "bin_end": 1411.75,
                        "count": 0
                      },
                      {
                        "bin_start": 1411.75,
                        "bin_end": 1693.8999999999999,
                        "count": 0
                      },
                      {
                        "bin_start": 1693.8999999999999,
                        "bin_end": 1976.0499999999997,
                        "count": 0
                      },
                      {
                        "bin_start": 1976.0499999999997,
                        "bin_end": 2258.2,
                        "count": 0
                      },
                      {
                        "bin_start": 2258.2,
                        "bin_end": 2540.35,
                        "count": 0
                      },
                      {
                        "bin_start": 2540.35,
                        "bin_end": 2822.5,
                        "count": 1
                      }
                    ]
                  }
                },
                {
                  "name": "75%",
                  "dtype": "float64",
                  "stats": {
                    "unique_count": 7,
                    "nan_count": 0,
                    "min": "2.0",
                    "max": "3608.0",
                    "histogram": [
                      {
                        "bin_start": 2,
                        "bin_end": 362.6,
                        "count": 6
                      },
                      {
                        "bin_start": 362.6,
                        "bin_end": 723.2,
                        "count": 0
                      },
                      {
                        "bin_start": 723.2,
                        "bin_end": 1083.8000000000002,
                        "count": 0
                      },
                      {
                        "bin_start": 1083.8000000000002,
                        "bin_end": 1444.4,
                        "count": 0
                      },
                      {
                        "bin_start": 1444.4,
                        "bin_end": 1805,
                        "count": 0
                      },
                      {
                        "bin_start": 1805,
                        "bin_end": 2165.6000000000004,
                        "count": 0
                      },
                      {
                        "bin_start": 2165.6000000000004,
                        "bin_end": 2526.2000000000003,
                        "count": 0
                      },
                      {
                        "bin_start": 2526.2000000000003,
                        "bin_end": 2886.8,
                        "count": 0
                      },
                      {
                        "bin_start": 2886.8,
                        "bin_end": 3247.4,
                        "count": 0
                      },
                      {
                        "bin_start": 3247.4,
                        "bin_end": 3608,
                        "count": 1
                      }
                    ]
                  }
                },
                {
                  "name": "max",
                  "dtype": "float64",
                  "stats": {
                    "unique_count": 7,
                    "nan_count": 0,
                    "min": "3.0",
                    "max": "5140.0",
                    "histogram": [
                      {
                        "bin_start": 3,
                        "bin_end": 516.7,
                        "count": 6
                      },
                      {
                        "bin_start": 516.7,
                        "bin_end": 1030.4,
                        "count": 0
                      },
                      {
                        "bin_start": 1030.4,
                        "bin_end": 1544.1000000000001,
                        "count": 0
                      },
                      {
                        "bin_start": 1544.1000000000001,
                        "bin_end": 2057.8,
                        "count": 0
                      },
                      {
                        "bin_start": 2057.8,
                        "bin_end": 2571.5,
                        "count": 0
                      },
                      {
                        "bin_start": 2571.5,
                        "bin_end": 3085.2000000000003,
                        "count": 0
                      },
                      {
                        "bin_start": 3085.2000000000003,
                        "bin_end": 3598.9000000000005,
                        "count": 0
                      },
                      {
                        "bin_start": 3598.9000000000005,
                        "bin_end": 4112.6,
                        "count": 0
                      },
                      {
                        "bin_start": 4112.6,
                        "bin_end": 4626.3,
                        "count": 0
                      },
                      {
                        "bin_start": 4626.3,
                        "bin_end": 5140,
                        "count": 1
                      }
                    ]
                  }
                },
                {
                  "name": "_deepnote_index_column",
                  "dtype": "object"
                }
              ],
              "rows": [
                {
                  "count": 314,
                  "mean": 5.477707006369426,
                  "std": 1.6997875727498173,
                  "min": 3,
                  "25%": 4,
                  "50%": 4,
                  "75%": 8,
                  "max": 8,
                  "_deepnote_index_column": "Cylinders"
                },
                {
                  "count": 314,
                  "mean": 195.3184713375796,
                  "std": 104.33158850796352,
                  "min": 68,
                  "25%": 105.5,
                  "50%": 151,
                  "75%": 265.75,
                  "max": 455,
                  "_deepnote_index_column": "Displacement"
                },
                {
                  "count": 314,
                  "mean": 104.86942675159236,
                  "std": 38.09621443533365,
                  "min": 46,
                  "25%": 76.25,
                  "50%": 94.5,
                  "75%": 128,
                  "max": 225,
                  "_deepnote_index_column": "Horsepower"
                },
                {
                  "count": 314,
                  "mean": 2990.251592356688,
                  "std": 843.8985961905663,
                  "min": 1649,
                  "25%": 2256.5,
                  "50%": 2822.5,
                  "75%": 3608,
                  "max": 5140,
                  "_deepnote_index_column": "Weight"
                },
                {
                  "count": 314,
                  "mean": 15.55923566878981,
                  "std": 2.789229751888417,
                  "min": 8,
                  "25%": 13.8,
                  "50%": 15.5,
                  "75%": 17.2,
                  "max": 24.8,
                  "_deepnote_index_column": "Acceleration"
                },
                {
                  "count": 314,
                  "mean": 75.89808917197452,
                  "std": 3.6756424982267464,
                  "min": 70,
                  "25%": 73,
                  "50%": 76,
                  "75%": 79,
                  "max": 82,
                  "_deepnote_index_column": "Model Year"
                },
                {
                  "count": 314,
                  "mean": 1.5732484076433122,
                  "std": 0.8009883803032619,
                  "min": 1,
                  "25%": 1,
                  "50%": 1,
                  "75%": 2,
                  "max": 3,
                  "_deepnote_index_column": "Origin"
                }
              ]
            },
            "text/plain": "              count         mean         std     min      25%     50%  \\\nCylinders     314.0     5.477707    1.699788     3.0     4.00     4.0   \nDisplacement  314.0   195.318471  104.331589    68.0   105.50   151.0   \nHorsepower    314.0   104.869427   38.096214    46.0    76.25    94.5   \nWeight        314.0  2990.251592  843.898596  1649.0  2256.50  2822.5   \nAcceleration  314.0    15.559236    2.789230     8.0    13.80    15.5   \nModel Year    314.0    75.898089    3.675642    70.0    73.00    76.0   \nOrigin        314.0     1.573248    0.800988     1.0     1.00     1.0   \n\n                  75%     max  \nCylinders        8.00     8.0  \nDisplacement   265.75   455.0  \nHorsepower     128.00   225.0  \nWeight        3608.00  5140.0  \nAcceleration    17.20    24.8  \nModel Year      79.00    82.0  \nOrigin           2.00     3.0  ",
            "text/html": "<div>\n<style scoped>\n    .dataframe tbody tr th:only-of-type {\n        vertical-align: middle;\n    }\n\n    .dataframe tbody tr th {\n        vertical-align: top;\n    }\n\n    .dataframe thead th {\n        text-align: right;\n    }\n</style>\n<table border=\"1\" class=\"dataframe\">\n  <thead>\n    <tr style=\"text-align: right;\">\n      <th></th>\n      <th>count</th>\n      <th>mean</th>\n      <th>std</th>\n      <th>min</th>\n      <th>25%</th>\n      <th>50%</th>\n      <th>75%</th>\n      <th>max</th>\n    </tr>\n  </thead>\n  <tbody>\n    <tr>\n      <th>Cylinders</th>\n      <td>314.0</td>\n      <td>5.477707</td>\n      <td>1.699788</td>\n      <td>3.0</td>\n      <td>4.00</td>\n      <td>4.0</td>\n      <td>8.00</td>\n      <td>8.0</td>\n    </tr>\n    <tr>\n      <th>Displacement</th>\n      <td>314.0</td>\n      <td>195.318471</td>\n      <td>104.331589</td>\n      <td>68.0</td>\n      <td>105.50</td>\n      <td>151.0</td>\n      <td>265.75</td>\n      <td>455.0</td>\n    </tr>\n    <tr>\n      <th>Horsepower</th>\n      <td>314.0</td>\n      <td>104.869427</td>\n      <td>38.096214</td>\n      <td>46.0</td>\n      <td>76.25</td>\n      <td>94.5</td>\n      <td>128.00</td>\n      <td>225.0</td>\n    </tr>\n    <tr>\n      <th>Weight</th>\n      <td>314.0</td>\n      <td>2990.251592</td>\n      <td>843.898596</td>\n      <td>1649.0</td>\n      <td>2256.50</td>\n      <td>2822.5</td>\n      <td>3608.00</td>\n      <td>5140.0</td>\n    </tr>\n    <tr>\n      <th>Acceleration</th>\n      <td>314.0</td>\n      <td>15.559236</td>\n      <td>2.789230</td>\n      <td>8.0</td>\n      <td>13.80</td>\n      <td>15.5</td>\n      <td>17.20</td>\n      <td>24.8</td>\n    </tr>\n    <tr>\n      <th>Model Year</th>\n      <td>314.0</td>\n      <td>75.898089</td>\n      <td>3.675642</td>\n      <td>70.0</td>\n      <td>73.00</td>\n      <td>76.0</td>\n      <td>79.00</td>\n      <td>82.0</td>\n    </tr>\n    <tr>\n      <th>Origin</th>\n      <td>314.0</td>\n      <td>1.573248</td>\n      <td>0.800988</td>\n      <td>1.0</td>\n      <td>1.00</td>\n      <td>1.0</td>\n      <td>2.00</td>\n      <td>3.0</td>\n    </tr>\n  </tbody>\n</table>\n</div>"
          },
          "metadata": {}
        }
      ],
      "outputs_reference": null,
      "execution_count": 8,
      "block_group": "78df82ff33ec43fa855c8046ff384eeb",
      "content_dependencies": null
    },
    {
      "cell_type": "code",
      "source": "train_stats.tail()",
      "metadata": {
        "source_hash": "94f0663",
        "execution_start": 1728242738585,
        "execution_millis": 1,
        "execution_context_id": "d86f37af-2c11-477e-8398-22dc14c6964b",
        "cell_id": "258dec249d2940d7aca4c24b20a4ff9d",
        "deepnote_cell_type": "code"
      },
      "outputs": [
        {
          "output_type": "execute_result",
          "execution_count": 9,
          "data": {
            "application/vnd.deepnote.dataframe.v3+json": {
              "column_count": 8,
              "row_count": 5,
              "columns": [
                {
                  "name": "count",
                  "dtype": "float64",
                  "stats": {
                    "unique_count": 1,
                    "nan_count": 0,
                    "min": "314.0",
                    "max": "314.0",
                    "histogram": [
                      {
                        "bin_start": 313.5,
                        "bin_end": 313.6,
                        "count": 0
                      },
                      {
                        "bin_start": 313.6,
                        "bin_end": 313.7,
                        "count": 0
                      },
                      {
                        "bin_start": 313.7,
                        "bin_end": 313.8,
                        "count": 0
                      },
                      {
                        "bin_start": 313.8,
                        "bin_end": 313.9,
                        "count": 0
                      },
                      {
                        "bin_start": 313.9,
                        "bin_end": 314,
                        "count": 0
                      },
                      {
                        "bin_start": 314,
                        "bin_end": 314.1,
                        "count": 5
                      },
                      {
                        "bin_start": 314.1,
                        "bin_end": 314.2,
                        "count": 0
                      },
                      {
                        "bin_start": 314.2,
                        "bin_end": 314.3,
                        "count": 0
                      },
                      {
                        "bin_start": 314.3,
                        "bin_end": 314.4,
                        "count": 0
                      },
                      {
                        "bin_start": 314.4,
                        "bin_end": 314.5,
                        "count": 0
                      }
                    ]
                  }
                },
                {
                  "name": "mean",
                  "dtype": "float64",
                  "stats": {
                    "unique_count": 5,
                    "nan_count": 0,
                    "min": "1.5732484076433122",
                    "max": "2990.251592356688",
                    "histogram": [
                      {
                        "bin_start": 1.5732484076433122,
                        "bin_end": 300.4410828025477,
                        "count": 4
                      },
                      {
                        "bin_start": 300.4410828025477,
                        "bin_end": 599.3089171974522,
                        "count": 0
                      },
                      {
                        "bin_start": 599.3089171974522,
                        "bin_end": 898.1767515923566,
                        "count": 0
                      },
                      {
                        "bin_start": 898.1767515923566,
                        "bin_end": 1197.0445859872611,
                        "count": 0
                      },
                      {
                        "bin_start": 1197.0445859872611,
                        "bin_end": 1495.9124203821657,
                        "count": 0
                      },
                      {
                        "bin_start": 1495.9124203821657,
                        "bin_end": 1794.78025477707,
                        "count": 0
                      },
                      {
                        "bin_start": 1794.78025477707,
                        "bin_end": 2093.6480891719743,
                        "count": 0
                      },
                      {
                        "bin_start": 2093.6480891719743,
                        "bin_end": 2392.515923566879,
                        "count": 0
                      },
                      {
                        "bin_start": 2392.515923566879,
                        "bin_end": 2691.3837579617834,
                        "count": 0
                      },
                      {
                        "bin_start": 2691.3837579617834,
                        "bin_end": 2990.251592356688,
                        "count": 1
                      }
                    ]
                  }
                },
                {
                  "name": "std",
                  "dtype": "float64",
                  "stats": {
                    "unique_count": 5,
                    "nan_count": 0,
                    "min": "0.8009883803032619",
                    "max": "843.8985961905663",
                    "histogram": [
                      {
                        "bin_start": 0.8009883803032619,
                        "bin_end": 85.11074916132958,
                        "count": 4
                      },
                      {
                        "bin_start": 85.11074916132958,
                        "bin_end": 169.4205099423559,
                        "count": 0
                      },
                      {
                        "bin_start": 169.4205099423559,
                        "bin_end": 253.7302707233822,
                        "count": 0
                      },
                      {
                        "bin_start": 253.7302707233822,
                        "bin_end": 338.0400315044085,
                        "count": 0
                      },
                      {
                        "bin_start": 338.0400315044085,
                        "bin_end": 422.3497922854348,
                        "count": 0
                      },
                      {
                        "bin_start": 422.3497922854348,
                        "bin_end": 506.6595530664611,
                        "count": 0
                      },
                      {
                        "bin_start": 506.6595530664611,
                        "bin_end": 590.9693138474875,
                        "count": 0
                      },
                      {
                        "bin_start": 590.9693138474875,
                        "bin_end": 675.2790746285137,
                        "count": 0
                      },
                      {
                        "bin_start": 675.2790746285137,
                        "bin_end": 759.58883540954,
                        "count": 0
                      },
                      {
                        "bin_start": 759.58883540954,
                        "bin_end": 843.8985961905663,
                        "count": 1
                      }
                    ]
                  }
                },
                {
                  "name": "min",
                  "dtype": "float64",
                  "stats": {
                    "unique_count": 5,
                    "nan_count": 0,
                    "min": "1.0",
                    "max": "1649.0",
                    "histogram": [
                      {
                        "bin_start": 1,
                        "bin_end": 165.8,
                        "count": 4
                      },
                      {
                        "bin_start": 165.8,
                        "bin_end": 330.6,
                        "count": 0
                      },
                      {
                        "bin_start": 330.6,
                        "bin_end": 495.40000000000003,
                        "count": 0
                      },
                      {
                        "bin_start": 495.40000000000003,
                        "bin_end": 660.2,
                        "count": 0
                      },
                      {
                        "bin_start": 660.2,
                        "bin_end": 825,
                        "count": 0
                      },
                      {
                        "bin_start": 825,
                        "bin_end": 989.8000000000001,
                        "count": 0
                      },
                      {
                        "bin_start": 989.8000000000001,
                        "bin_end": 1154.6000000000001,
                        "count": 0
                      },
                      {
                        "bin_start": 1154.6000000000001,
                        "bin_end": 1319.4,
                        "count": 0
                      },
                      {
                        "bin_start": 1319.4,
                        "bin_end": 1484.2,
                        "count": 0
                      },
                      {
                        "bin_start": 1484.2,
                        "bin_end": 1649,
                        "count": 1
                      }
                    ]
                  }
                },
                {
                  "name": "25%",
                  "dtype": "float64",
                  "stats": {
                    "unique_count": 5,
                    "nan_count": 0,
                    "min": "1.0",
                    "max": "2256.5",
                    "histogram": [
                      {
                        "bin_start": 1,
                        "bin_end": 226.55,
                        "count": 4
                      },
                      {
                        "bin_start": 226.55,
                        "bin_end": 452.1,
                        "count": 0
                      },
                      {
                        "bin_start": 452.1,
                        "bin_end": 677.6500000000001,
                        "count": 0
                      },
                      {
                        "bin_start": 677.6500000000001,
                        "bin_end": 903.2,
                        "count": 0
                      },
                      {
                        "bin_start": 903.2,
                        "bin_end": 1128.75,
                        "count": 0
                      },
                      {
                        "bin_start": 1128.75,
                        "bin_end": 1354.3000000000002,
                        "count": 0
                      },
                      {
                        "bin_start": 1354.3000000000002,
                        "bin_end": 1579.8500000000001,
                        "count": 0
                      },
                      {
                        "bin_start": 1579.8500000000001,
                        "bin_end": 1805.4,
                        "count": 0
                      },
                      {
                        "bin_start": 1805.4,
                        "bin_end": 2030.95,
                        "count": 0
                      },
                      {
                        "bin_start": 2030.95,
                        "bin_end": 2256.5,
                        "count": 1
                      }
                    ]
                  }
                },
                {
                  "name": "50%",
                  "dtype": "float64",
                  "stats": {
                    "unique_count": 5,
                    "nan_count": 0,
                    "min": "1.0",
                    "max": "2822.5",
                    "histogram": [
                      {
                        "bin_start": 1,
                        "bin_end": 283.15,
                        "count": 4
                      },
                      {
                        "bin_start": 283.15,
                        "bin_end": 565.3,
                        "count": 0
                      },
                      {
                        "bin_start": 565.3,
                        "bin_end": 847.4499999999999,
                        "count": 0
                      },
                      {
                        "bin_start": 847.4499999999999,
                        "bin_end": 1129.6,
                        "count": 0
                      },
                      {
                        "bin_start": 1129.6,
                        "bin_end": 1411.75,
                        "count": 0
                      },
                      {
                        "bin_start": 1411.75,
                        "bin_end": 1693.8999999999999,
                        "count": 0
                      },
                      {
                        "bin_start": 1693.8999999999999,
                        "bin_end": 1976.0499999999997,
                        "count": 0
                      },
                      {
                        "bin_start": 1976.0499999999997,
                        "bin_end": 2258.2,
                        "count": 0
                      },
                      {
                        "bin_start": 2258.2,
                        "bin_end": 2540.35,
                        "count": 0
                      },
                      {
                        "bin_start": 2540.35,
                        "bin_end": 2822.5,
                        "count": 1
                      }
                    ]
                  }
                },
                {
                  "name": "75%",
                  "dtype": "float64",
                  "stats": {
                    "unique_count": 5,
                    "nan_count": 0,
                    "min": "2.0",
                    "max": "3608.0",
                    "histogram": [
                      {
                        "bin_start": 2,
                        "bin_end": 362.6,
                        "count": 4
                      },
                      {
                        "bin_start": 362.6,
                        "bin_end": 723.2,
                        "count": 0
                      },
                      {
                        "bin_start": 723.2,
                        "bin_end": 1083.8000000000002,
                        "count": 0
                      },
                      {
                        "bin_start": 1083.8000000000002,
                        "bin_end": 1444.4,
                        "count": 0
                      },
                      {
                        "bin_start": 1444.4,
                        "bin_end": 1805,
                        "count": 0
                      },
                      {
                        "bin_start": 1805,
                        "bin_end": 2165.6000000000004,
                        "count": 0
                      },
                      {
                        "bin_start": 2165.6000000000004,
                        "bin_end": 2526.2000000000003,
                        "count": 0
                      },
                      {
                        "bin_start": 2526.2000000000003,
                        "bin_end": 2886.8,
                        "count": 0
                      },
                      {
                        "bin_start": 2886.8,
                        "bin_end": 3247.4,
                        "count": 0
                      },
                      {
                        "bin_start": 3247.4,
                        "bin_end": 3608,
                        "count": 1
                      }
                    ]
                  }
                },
                {
                  "name": "max",
                  "dtype": "float64",
                  "stats": {
                    "unique_count": 5,
                    "nan_count": 0,
                    "min": "3.0",
                    "max": "5140.0",
                    "histogram": [
                      {
                        "bin_start": 3,
                        "bin_end": 516.7,
                        "count": 4
                      },
                      {
                        "bin_start": 516.7,
                        "bin_end": 1030.4,
                        "count": 0
                      },
                      {
                        "bin_start": 1030.4,
                        "bin_end": 1544.1000000000001,
                        "count": 0
                      },
                      {
                        "bin_start": 1544.1000000000001,
                        "bin_end": 2057.8,
                        "count": 0
                      },
                      {
                        "bin_start": 2057.8,
                        "bin_end": 2571.5,
                        "count": 0
                      },
                      {
                        "bin_start": 2571.5,
                        "bin_end": 3085.2000000000003,
                        "count": 0
                      },
                      {
                        "bin_start": 3085.2000000000003,
                        "bin_end": 3598.9000000000005,
                        "count": 0
                      },
                      {
                        "bin_start": 3598.9000000000005,
                        "bin_end": 4112.6,
                        "count": 0
                      },
                      {
                        "bin_start": 4112.6,
                        "bin_end": 4626.3,
                        "count": 0
                      },
                      {
                        "bin_start": 4626.3,
                        "bin_end": 5140,
                        "count": 1
                      }
                    ]
                  }
                },
                {
                  "name": "_deepnote_index_column",
                  "dtype": "object"
                }
              ],
              "rows": [
                {
                  "count": 314,
                  "mean": 104.86942675159236,
                  "std": 38.09621443533365,
                  "min": 46,
                  "25%": 76.25,
                  "50%": 94.5,
                  "75%": 128,
                  "max": 225,
                  "_deepnote_index_column": "Horsepower"
                },
                {
                  "count": 314,
                  "mean": 2990.251592356688,
                  "std": 843.8985961905663,
                  "min": 1649,
                  "25%": 2256.5,
                  "50%": 2822.5,
                  "75%": 3608,
                  "max": 5140,
                  "_deepnote_index_column": "Weight"
                },
                {
                  "count": 314,
                  "mean": 15.55923566878981,
                  "std": 2.789229751888417,
                  "min": 8,
                  "25%": 13.8,
                  "50%": 15.5,
                  "75%": 17.2,
                  "max": 24.8,
                  "_deepnote_index_column": "Acceleration"
                },
                {
                  "count": 314,
                  "mean": 75.89808917197452,
                  "std": 3.6756424982267464,
                  "min": 70,
                  "25%": 73,
                  "50%": 76,
                  "75%": 79,
                  "max": 82,
                  "_deepnote_index_column": "Model Year"
                },
                {
                  "count": 314,
                  "mean": 1.5732484076433122,
                  "std": 0.8009883803032619,
                  "min": 1,
                  "25%": 1,
                  "50%": 1,
                  "75%": 2,
                  "max": 3,
                  "_deepnote_index_column": "Origin"
                }
              ]
            },
            "text/plain": "              count         mean         std     min      25%     50%     75%  \\\nHorsepower    314.0   104.869427   38.096214    46.0    76.25    94.5   128.0   \nWeight        314.0  2990.251592  843.898596  1649.0  2256.50  2822.5  3608.0   \nAcceleration  314.0    15.559236    2.789230     8.0    13.80    15.5    17.2   \nModel Year    314.0    75.898089    3.675642    70.0    73.00    76.0    79.0   \nOrigin        314.0     1.573248    0.800988     1.0     1.00     1.0     2.0   \n\n                 max  \nHorsepower     225.0  \nWeight        5140.0  \nAcceleration    24.8  \nModel Year      82.0  \nOrigin           3.0  ",
            "text/html": "<div>\n<style scoped>\n    .dataframe tbody tr th:only-of-type {\n        vertical-align: middle;\n    }\n\n    .dataframe tbody tr th {\n        vertical-align: top;\n    }\n\n    .dataframe thead th {\n        text-align: right;\n    }\n</style>\n<table border=\"1\" class=\"dataframe\">\n  <thead>\n    <tr style=\"text-align: right;\">\n      <th></th>\n      <th>count</th>\n      <th>mean</th>\n      <th>std</th>\n      <th>min</th>\n      <th>25%</th>\n      <th>50%</th>\n      <th>75%</th>\n      <th>max</th>\n    </tr>\n  </thead>\n  <tbody>\n    <tr>\n      <th>Horsepower</th>\n      <td>314.0</td>\n      <td>104.869427</td>\n      <td>38.096214</td>\n      <td>46.0</td>\n      <td>76.25</td>\n      <td>94.5</td>\n      <td>128.0</td>\n      <td>225.0</td>\n    </tr>\n    <tr>\n      <th>Weight</th>\n      <td>314.0</td>\n      <td>2990.251592</td>\n      <td>843.898596</td>\n      <td>1649.0</td>\n      <td>2256.50</td>\n      <td>2822.5</td>\n      <td>3608.0</td>\n      <td>5140.0</td>\n    </tr>\n    <tr>\n      <th>Acceleration</th>\n      <td>314.0</td>\n      <td>15.559236</td>\n      <td>2.789230</td>\n      <td>8.0</td>\n      <td>13.80</td>\n      <td>15.5</td>\n      <td>17.2</td>\n      <td>24.8</td>\n    </tr>\n    <tr>\n      <th>Model Year</th>\n      <td>314.0</td>\n      <td>75.898089</td>\n      <td>3.675642</td>\n      <td>70.0</td>\n      <td>73.00</td>\n      <td>76.0</td>\n      <td>79.0</td>\n      <td>82.0</td>\n    </tr>\n    <tr>\n      <th>Origin</th>\n      <td>314.0</td>\n      <td>1.573248</td>\n      <td>0.800988</td>\n      <td>1.0</td>\n      <td>1.00</td>\n      <td>1.0</td>\n      <td>2.0</td>\n      <td>3.0</td>\n    </tr>\n  </tbody>\n</table>\n</div>"
          },
          "metadata": {}
        }
      ],
      "outputs_reference": null,
      "execution_count": 9,
      "block_group": "c59a3042785b4ec7b0e99c8a868b5eb2",
      "content_dependencies": null
    },
    {
      "cell_type": "markdown",
      "source": "# Build Model",
      "metadata": {
        "formattedRanges": [],
        "cell_id": "172be6e4a1824500aa872cdd77ead66d",
        "deepnote_cell_type": "text-cell-h1"
      },
      "block_group": "042dd9845f9e4db8b658bda677339dca"
    },
    {
      "cell_type": "code",
      "source": "def build_model():\n    model = keras.Sequential([layers.Dense(64, activation='relu', input_shape=[len(train_dataset.keys())]),\n    layers.Dense(64, activation='relu'), layers.Dense(1)])\n    optimizer = tf.keras.optimizers.RMSprop(0.001)\n    model.compile(loss='mse', optimizer=optimizer, metrics=['mae', 'mse'])\n    return model    ",
      "metadata": {
        "source_hash": "6bb7ecf4",
        "execution_start": 1728242738629,
        "execution_millis": 1,
        "execution_context_id": "d86f37af-2c11-477e-8398-22dc14c6964b",
        "cell_id": "c834c60b39a142f68183d4a2995577f2",
        "deepnote_cell_type": "code"
      },
      "outputs": [],
      "outputs_reference": null,
      "execution_count": 10,
      "block_group": "170aa8a1b03d4b84965d25b99c46d11d",
      "content_dependencies": null
    },
    {
      "cell_type": "code",
      "source": "model = build_model()\nmodel.summary()",
      "metadata": {
        "source_hash": "b8758ff5",
        "execution_start": 1728242738678,
        "execution_millis": 156,
        "execution_context_id": "d86f37af-2c11-477e-8398-22dc14c6964b",
        "cell_id": "f07b0e43de1b4b56ae7674b82e2fcd22",
        "deepnote_cell_type": "code"
      },
      "outputs": [
        {
          "name": "stdout",
          "text": "Model: \"sequential\"\n_________________________________________________________________\n Layer (type)                Output Shape              Param #   \n=================================================================\n dense (Dense)               (None, 64)                512       \n                                                                 \n dense_1 (Dense)             (None, 64)                4160      \n                                                                 \n dense_2 (Dense)             (None, 1)                 65        \n                                                                 \n=================================================================\nTotal params: 4,737\nTrainable params: 4,737\nNon-trainable params: 0\n_________________________________________________________________\n2024-10-06 15:25:38.643397: W tensorflow/compiler/xla/stream_executor/platform/default/dso_loader.cc:64] Could not load dynamic library 'libcuda.so.1'; dlerror: libcuda.so.1: cannot open shared object file: No such file or directory; LD_LIBRARY_PATH: /usr/local/nvidia/lib:/usr/local/nvidia/lib64\n2024-10-06 15:25:38.643429: W tensorflow/compiler/xla/stream_executor/cuda/cuda_driver.cc:265] failed call to cuInit: UNKNOWN ERROR (303)\n2024-10-06 15:25:38.643449: I tensorflow/compiler/xla/stream_executor/cuda/cuda_diagnostics.cc:156] kernel driver does not appear to be running on this host (p-2c4d82d2-b129-4486-baa4-05c502f179ef): /proc/driver/nvidia/version does not exist\n2024-10-06 15:25:38.643723: I tensorflow/core/platform/cpu_feature_guard.cc:193] This TensorFlow binary is optimized with oneAPI Deep Neural Network Library (oneDNN) to use the following CPU instructions in performance-critical operations:  AVX2 AVX512F AVX512_VNNI FMA\nTo enable them in other operations, rebuild TensorFlow with the appropriate compiler flags.\n",
          "output_type": "stream"
        }
      ],
      "outputs_reference": null,
      "execution_count": 11,
      "block_group": "fca2b7008c6248df9295acc799e0b79f",
      "content_dependencies": null
    },
    {
      "cell_type": "code",
      "source": "untrained_sample = train_dataset.sample(10)\nmodel.predict(untrained_sample)",
      "metadata": {
        "source_hash": "94ad7010",
        "execution_start": 1728242738885,
        "execution_millis": 170,
        "execution_context_id": "d86f37af-2c11-477e-8398-22dc14c6964b",
        "cell_id": "3875592e030b4e64ae8042116ea26d16",
        "deepnote_cell_type": "code"
      },
      "outputs": [
        {
          "name": "stdout",
          "text": "1/1 [==============================] - 0s 149ms/step\n",
          "output_type": "stream"
        },
        {
          "output_type": "execute_result",
          "execution_count": 12,
          "data": {
            "text/plain": "array([[-372.04868],\n       [-276.52814],\n       [-378.31973],\n       [-350.38788],\n       [-451.7249 ],\n       [-429.99164],\n       [-216.35277],\n       [-205.59868],\n       [-195.09927],\n       [-360.76196]], dtype=float32)"
          },
          "metadata": {}
        }
      ],
      "outputs_reference": null,
      "execution_count": 12,
      "block_group": "87e08c10fb7443ea8c9b40451c509986",
      "content_dependencies": null
    },
    {
      "cell_type": "markdown",
      "source": "# Train Model",
      "metadata": {
        "formattedRanges": [],
        "cell_id": "1dd67130126a4cd5a1279931c641792f",
        "deepnote_cell_type": "text-cell-h1"
      },
      "block_group": "3542cb1a84c448d9a2425b79f9f68597"
    },
    {
      "cell_type": "code",
      "source": "model = build_model()\nEPOCHS = 1000\n# The patience parameter is the amount of epochs to check for improvement\nearly_stop = keras.callbacks.EarlyStopping(monitor = 'val_loss', patience = 10)\nearly_history = model.fit(\n    normed_train_data, \n    train_labels,\n    epochs = EPOCHS, \n    validation_split = 0.2, \n    verbose = 0,\n    callbacks = [early_stop, tfdocs.modeling.EpochDots()]\n)",
      "metadata": {
        "source_hash": "4282e38d",
        "execution_start": 1728242739098,
        "execution_millis": 4109,
        "execution_context_id": "d86f37af-2c11-477e-8398-22dc14c6964b",
        "cell_id": "7ba13c5336f047c28a6e071291f27de5",
        "deepnote_cell_type": "code"
      },
      "outputs": [
        {
          "name": "stdout",
          "text": "\nEpoch: 0, loss:573.5156,  mae:22.6360,  mse:573.5156,  val_loss:572.3351,  val_mae:22.5443,  val_mse:572.3351,  \n..............................................................................................",
          "output_type": "stream"
        }
      ],
      "outputs_reference": null,
      "execution_count": 13,
      "block_group": "06ebf97c0e50467e9ec24aa8993bccbc",
      "content_dependencies": null
    },
    {
      "cell_type": "markdown",
      "source": "# Examining Results",
      "metadata": {
        "formattedRanges": [],
        "cell_id": "73b7a68bbc3d4240b878d2c837a2ba68",
        "deepnote_cell_type": "text-cell-h1"
      },
      "block_group": "81f31f3aaa20412e82f3a70fb3b8e08e"
    },
    {
      "cell_type": "code",
      "source": "hist = pd.DataFrame(early_history.history)\nhist['epoch'] = early_history.epoch\nhist.tail()",
      "metadata": {
        "source_hash": "2f163f63",
        "execution_start": 1728242743257,
        "execution_millis": 1,
        "execution_context_id": "d86f37af-2c11-477e-8398-22dc14c6964b",
        "cell_id": "7b08fbb2e29f4807b17f984878322ea0",
        "deepnote_cell_type": "code"
      },
      "outputs": [
        {
          "output_type": "execute_result",
          "execution_count": 14,
          "data": {
            "application/vnd.deepnote.dataframe.v3+json": {
              "column_count": 7,
              "row_count": 5,
              "columns": [
                {
                  "name": "loss",
                  "dtype": "float64",
                  "stats": {
                    "unique_count": 5,
                    "nan_count": 0,
                    "min": "6.258659362792969",
                    "max": "6.559328556060791",
                    "histogram": [
                      {
                        "bin_start": 6.258659362792969,
                        "bin_end": 6.288726282119751,
                        "count": 1
                      },
                      {
                        "bin_start": 6.288726282119751,
                        "bin_end": 6.318793201446534,
                        "count": 0
                      },
                      {
                        "bin_start": 6.318793201446534,
                        "bin_end": 6.348860120773315,
                        "count": 0
                      },
                      {
                        "bin_start": 6.348860120773315,
                        "bin_end": 6.3789270401000975,
                        "count": 1
                      },
                      {
                        "bin_start": 6.3789270401000975,
                        "bin_end": 6.40899395942688,
                        "count": 0
                      },
                      {
                        "bin_start": 6.40899395942688,
                        "bin_end": 6.439060878753662,
                        "count": 0
                      },
                      {
                        "bin_start": 6.439060878753662,
                        "bin_end": 6.469127798080445,
                        "count": 1
                      },
                      {
                        "bin_start": 6.469127798080445,
                        "bin_end": 6.499194717407226,
                        "count": 1
                      },
                      {
                        "bin_start": 6.499194717407226,
                        "bin_end": 6.529261636734009,
                        "count": 0
                      },
                      {
                        "bin_start": 6.529261636734009,
                        "bin_end": 6.559328556060791,
                        "count": 1
                      }
                    ]
                  }
                },
                {
                  "name": "mae",
                  "dtype": "float64",
                  "stats": {
                    "unique_count": 5,
                    "nan_count": 0,
                    "min": "1.7537919282913208",
                    "max": "1.78451669216156",
                    "histogram": [
                      {
                        "bin_start": 1.7537919282913208,
                        "bin_end": 1.7568644046783448,
                        "count": 1
                      },
                      {
                        "bin_start": 1.7568644046783448,
                        "bin_end": 1.7599368810653686,
                        "count": 0
                      },
                      {
                        "bin_start": 1.7599368810653686,
                        "bin_end": 1.7630093574523926,
                        "count": 0
                      },
                      {
                        "bin_start": 1.7630093574523926,
                        "bin_end": 1.7660818338394164,
                        "count": 0
                      },
                      {
                        "bin_start": 1.7660818338394164,
                        "bin_end": 1.7691543102264404,
                        "count": 0
                      },
                      {
                        "bin_start": 1.7691543102264404,
                        "bin_end": 1.7722267866134644,
                        "count": 0
                      },
                      {
                        "bin_start": 1.7722267866134644,
                        "bin_end": 1.7752992630004882,
                        "count": 0
                      },
                      {
                        "bin_start": 1.7752992630004882,
                        "bin_end": 1.7783717393875123,
                        "count": 2
                      },
                      {
                        "bin_start": 1.7783717393875123,
                        "bin_end": 1.781444215774536,
                        "count": 0
                      },
                      {
                        "bin_start": 1.781444215774536,
                        "bin_end": 1.78451669216156,
                        "count": 2
                      }
                    ]
                  }
                },
                {
                  "name": "mse",
                  "dtype": "float64",
                  "stats": {
                    "unique_count": 5,
                    "nan_count": 0,
                    "min": "6.258659362792969",
                    "max": "6.559328556060791",
                    "histogram": [
                      {
                        "bin_start": 6.258659362792969,
                        "bin_end": 6.288726282119751,
                        "count": 1
                      },
                      {
                        "bin_start": 6.288726282119751,
                        "bin_end": 6.318793201446534,
                        "count": 0
                      },
                      {
                        "bin_start": 6.318793201446534,
                        "bin_end": 6.348860120773315,
                        "count": 0
                      },
                      {
                        "bin_start": 6.348860120773315,
                        "bin_end": 6.3789270401000975,
                        "count": 1
                      },
                      {
                        "bin_start": 6.3789270401000975,
                        "bin_end": 6.40899395942688,
                        "count": 0
                      },
                      {
                        "bin_start": 6.40899395942688,
                        "bin_end": 6.439060878753662,
                        "count": 0
                      },
                      {
                        "bin_start": 6.439060878753662,
                        "bin_end": 6.469127798080445,
                        "count": 1
                      },
                      {
                        "bin_start": 6.469127798080445,
                        "bin_end": 6.499194717407226,
                        "count": 1
                      },
                      {
                        "bin_start": 6.499194717407226,
                        "bin_end": 6.529261636734009,
                        "count": 0
                      },
                      {
                        "bin_start": 6.529261636734009,
                        "bin_end": 6.559328556060791,
                        "count": 1
                      }
                    ]
                  }
                },
                {
                  "name": "val_loss",
                  "dtype": "float64",
                  "stats": {
                    "unique_count": 5,
                    "nan_count": 0,
                    "min": "9.326423645019531",
                    "max": "9.436067581176758",
                    "histogram": [
                      {
                        "bin_start": 9.326423645019531,
                        "bin_end": 9.337388038635254,
                        "count": 1
                      },
                      {
                        "bin_start": 9.337388038635254,
                        "bin_end": 9.348352432250977,
                        "count": 0
                      },
                      {
                        "bin_start": 9.348352432250977,
                        "bin_end": 9.3593168258667,
                        "count": 1
                      },
                      {
                        "bin_start": 9.3593168258667,
                        "bin_end": 9.370281219482422,
                        "count": 0
                      },
                      {
                        "bin_start": 9.370281219482422,
                        "bin_end": 9.381245613098145,
                        "count": 1
                      },
                      {
                        "bin_start": 9.381245613098145,
                        "bin_end": 9.392210006713867,
                        "count": 0
                      },
                      {
                        "bin_start": 9.392210006713867,
                        "bin_end": 9.40317440032959,
                        "count": 0
                      },
                      {
                        "bin_start": 9.40317440032959,
                        "bin_end": 9.414138793945312,
                        "count": 0
                      },
                      {
                        "bin_start": 9.414138793945312,
                        "bin_end": 9.425103187561035,
                        "count": 0
                      },
                      {
                        "bin_start": 9.425103187561035,
                        "bin_end": 9.436067581176758,
                        "count": 2
                      }
                    ]
                  }
                },
                {
                  "name": "val_mae",
                  "dtype": "float64",
                  "stats": {
                    "unique_count": 5,
                    "nan_count": 0,
                    "min": "2.3422226905822754",
                    "max": "2.382387638092041",
                    "histogram": [
                      {
                        "bin_start": 2.3422226905822754,
                        "bin_end": 2.346239185333252,
                        "count": 1
                      },
                      {
                        "bin_start": 2.346239185333252,
                        "bin_end": 2.3502556800842287,
                        "count": 0
                      },
                      {
                        "bin_start": 2.3502556800842287,
                        "bin_end": 2.354272174835205,
                        "count": 0
                      },
                      {
                        "bin_start": 2.354272174835205,
                        "bin_end": 2.3582886695861816,
                        "count": 0
                      },
                      {
                        "bin_start": 2.3582886695861816,
                        "bin_end": 2.362305164337158,
                        "count": 0
                      },
                      {
                        "bin_start": 2.362305164337158,
                        "bin_end": 2.366321659088135,
                        "count": 1
                      },
                      {
                        "bin_start": 2.366321659088135,
                        "bin_end": 2.3703381538391115,
                        "count": 1
                      },
                      {
                        "bin_start": 2.3703381538391115,
                        "bin_end": 2.3743546485900877,
                        "count": 1
                      },
                      {
                        "bin_start": 2.3743546485900877,
                        "bin_end": 2.3783711433410644,
                        "count": 0
                      },
                      {
                        "bin_start": 2.3783711433410644,
                        "bin_end": 2.382387638092041,
                        "count": 1
                      }
                    ]
                  }
                },
                {
                  "name": "val_mse",
                  "dtype": "float64",
                  "stats": {
                    "unique_count": 5,
                    "nan_count": 0,
                    "min": "9.326423645019531",
                    "max": "9.436067581176758",
                    "histogram": [
                      {
                        "bin_start": 9.326423645019531,
                        "bin_end": 9.337388038635254,
                        "count": 1
                      },
                      {
                        "bin_start": 9.337388038635254,
                        "bin_end": 9.348352432250977,
                        "count": 0
                      },
                      {
                        "bin_start": 9.348352432250977,
                        "bin_end": 9.3593168258667,
                        "count": 1
                      },
                      {
                        "bin_start": 9.3593168258667,
                        "bin_end": 9.370281219482422,
                        "count": 0
                      },
                      {
                        "bin_start": 9.370281219482422,
                        "bin_end": 9.381245613098145,
                        "count": 1
                      },
                      {
                        "bin_start": 9.381245613098145,
                        "bin_end": 9.392210006713867,
                        "count": 0
                      },
                      {
                        "bin_start": 9.392210006713867,
                        "bin_end": 9.40317440032959,
                        "count": 0
                      },
                      {
                        "bin_start": 9.40317440032959,
                        "bin_end": 9.414138793945312,
                        "count": 0
                      },
                      {
                        "bin_start": 9.414138793945312,
                        "bin_end": 9.425103187561035,
                        "count": 0
                      },
                      {
                        "bin_start": 9.425103187561035,
                        "bin_end": 9.436067581176758,
                        "count": 2
                      }
                    ]
                  }
                },
                {
                  "name": "epoch",
                  "dtype": "int64",
                  "stats": {
                    "unique_count": 5,
                    "nan_count": 0,
                    "min": "89",
                    "max": "93",
                    "histogram": [
                      {
                        "bin_start": 89,
                        "bin_end": 89.4,
                        "count": 1
                      },
                      {
                        "bin_start": 89.4,
                        "bin_end": 89.8,
                        "count": 0
                      },
                      {
                        "bin_start": 89.8,
                        "bin_end": 90.2,
                        "count": 1
                      },
                      {
                        "bin_start": 90.2,
                        "bin_end": 90.6,
                        "count": 0
                      },
                      {
                        "bin_start": 90.6,
                        "bin_end": 91,
                        "count": 0
                      },
                      {
                        "bin_start": 91,
                        "bin_end": 91.4,
                        "count": 1
                      },
                      {
                        "bin_start": 91.4,
                        "bin_end": 91.8,
                        "count": 0
                      },
                      {
                        "bin_start": 91.8,
                        "bin_end": 92.2,
                        "count": 1
                      },
                      {
                        "bin_start": 92.2,
                        "bin_end": 92.6,
                        "count": 0
                      },
                      {
                        "bin_start": 92.6,
                        "bin_end": 93,
                        "count": 1
                      }
                    ]
                  }
                },
                {
                  "name": "_deepnote_index_column",
                  "dtype": "int64"
                }
              ],
              "rows": [
                {
                  "loss": 6.476949214935303,
                  "mae": 1.775322675704956,
                  "mse": 6.476949214935303,
                  "val_loss": 9.326423645019531,
                  "val_mae": 2.3422226905822754,
                  "val_mse": 9.326423645019531,
                  "epoch": 89,
                  "_deepnote_index_column": 89
                },
                {
                  "loss": 6.349750518798828,
                  "mae": 1.7773469686508179,
                  "mse": 6.349750518798828,
                  "val_loss": 9.43403148651123,
                  "val_mae": 2.3694684505462646,
                  "val_mse": 9.43403148651123,
                  "epoch": 90,
                  "_deepnote_index_column": 90
                },
                {
                  "loss": 6.4633893966674805,
                  "mae": 1.7829054594039917,
                  "mse": 6.4633893966674805,
                  "val_loss": 9.373723983764648,
                  "val_mae": 2.382387638092041,
                  "val_mse": 9.373723983764648,
                  "epoch": 91,
                  "_deepnote_index_column": 91
                },
                {
                  "loss": 6.559328556060791,
                  "mae": 1.78451669216156,
                  "mse": 6.559328556060791,
                  "val_loss": 9.349903106689453,
                  "val_mae": 2.373765468597412,
                  "val_mse": 9.349903106689453,
                  "epoch": 92,
                  "_deepnote_index_column": 92
                },
                {
                  "loss": 6.258659362792969,
                  "mae": 1.7537919282913208,
                  "mse": 6.258659362792969,
                  "val_loss": 9.436067581176758,
                  "val_mae": 2.3647243976593018,
                  "val_mse": 9.436067581176758,
                  "epoch": 93,
                  "_deepnote_index_column": 93
                }
              ]
            },
            "text/plain": "        loss       mae       mse  val_loss   val_mae   val_mse  epoch\n89  6.476949  1.775323  6.476949  9.326424  2.342223  9.326424     89\n90  6.349751  1.777347  6.349751  9.434031  2.369468  9.434031     90\n91  6.463389  1.782905  6.463389  9.373724  2.382388  9.373724     91\n92  6.559329  1.784517  6.559329  9.349903  2.373765  9.349903     92\n93  6.258659  1.753792  6.258659  9.436068  2.364724  9.436068     93",
            "text/html": "<div>\n<style scoped>\n    .dataframe tbody tr th:only-of-type {\n        vertical-align: middle;\n    }\n\n    .dataframe tbody tr th {\n        vertical-align: top;\n    }\n\n    .dataframe thead th {\n        text-align: right;\n    }\n</style>\n<table border=\"1\" class=\"dataframe\">\n  <thead>\n    <tr style=\"text-align: right;\">\n      <th></th>\n      <th>loss</th>\n      <th>mae</th>\n      <th>mse</th>\n      <th>val_loss</th>\n      <th>val_mae</th>\n      <th>val_mse</th>\n      <th>epoch</th>\n    </tr>\n  </thead>\n  <tbody>\n    <tr>\n      <th>89</th>\n      <td>6.476949</td>\n      <td>1.775323</td>\n      <td>6.476949</td>\n      <td>9.326424</td>\n      <td>2.342223</td>\n      <td>9.326424</td>\n      <td>89</td>\n    </tr>\n    <tr>\n      <th>90</th>\n      <td>6.349751</td>\n      <td>1.777347</td>\n      <td>6.349751</td>\n      <td>9.434031</td>\n      <td>2.369468</td>\n      <td>9.434031</td>\n      <td>90</td>\n    </tr>\n    <tr>\n      <th>91</th>\n      <td>6.463389</td>\n      <td>1.782905</td>\n      <td>6.463389</td>\n      <td>9.373724</td>\n      <td>2.382388</td>\n      <td>9.373724</td>\n      <td>91</td>\n    </tr>\n    <tr>\n      <th>92</th>\n      <td>6.559329</td>\n      <td>1.784517</td>\n      <td>6.559329</td>\n      <td>9.349903</td>\n      <td>2.373765</td>\n      <td>9.349903</td>\n      <td>92</td>\n    </tr>\n    <tr>\n      <th>93</th>\n      <td>6.258659</td>\n      <td>1.753792</td>\n      <td>6.258659</td>\n      <td>9.436068</td>\n      <td>2.364724</td>\n      <td>9.436068</td>\n      <td>93</td>\n    </tr>\n  </tbody>\n</table>\n</div>"
          },
          "metadata": {}
        }
      ],
      "outputs_reference": null,
      "execution_count": 14,
      "block_group": "1c21322a84894a65930f92a64ee36adf",
      "content_dependencies": null
    },
    {
      "cell_type": "code",
      "source": "plotter = tfdocs.plots.HistoryPlotter(smoothing_std = 2)\nplotter.plot({'Early Stopping': early_history}, metric = \"mae\")\nplt.ylim([0, 10])\nplt.ylabel('MAE [MPG]') ",
      "metadata": {
        "source_hash": "edd56c78",
        "execution_start": 1728242743301,
        "execution_millis": 1,
        "execution_context_id": "d86f37af-2c11-477e-8398-22dc14c6964b",
        "cell_id": "a931af166bcc422ea064e6e70f5a3f70",
        "deepnote_cell_type": "code"
      },
      "outputs": [
        {
          "output_type": "execute_result",
          "execution_count": 15,
          "data": {
            "text/plain": "Text(0, 0.5, 'MAE [MPG]')"
          },
          "metadata": {}
        },
        {
          "data": {
            "text/plain": "<Figure size 640x480 with 1 Axes>",
            "image/png": "[encoded data removed]"
          },
          "metadata": {
            "image/png": {
              "width": 562,
              "height": 438
            }
          },
          "output_type": "display_data"
        }
      ],
      "outputs_reference": null,
      "execution_count": 15,
      "block_group": "6dafbdacc88a451399ab5bcc5283346a",
      "content_dependencies": null
    },
    {
      "cell_type": "code",
      "source": "fig, ax = plt.subplots()\nplt.grid(which = 'major', axis = 'both', linestyle = ':', color = '#e9e9e9')\nplt.plot(hist['epoch'], hist['mae'], color = '#D8973C', linestyle = (0, (5, 10)))\nplt.plot(hist['epoch'], hist['val_mae'], color = '#273E47')\nax.set_xlim([5, 95])\nax.set_ylim([0, 10])\nax.set_xlabel('Epoch', fontsize = 15, \n\t\t\t  loc = 'left').set_color('#707070')\nax.set_ylabel('MAE\\n(MPG)', fontsize = 15, rotation = 'horizontal',\n\t\t\t  loc = 'bottom', labelpad = 45).set_color('#707070')\nax.set_title('Early Stopping Prevented Excessive Overfitting', fontsize = 23, pad = 15).set_color('#171819')\nfor pos in ['right', 'top']:\n\tplt.gca().spines[pos].set_visible(False)\nax.spines['bottom'].set_color('#A0A0A0')\nax.spines['left'].set_color('#A0A0A0')\nax.tick_params(axis='y', which='both', right=False,\n\t\t\t   left=False, colors = '#686868')\nax.tick_params(axis='x', which='both', top=False,\n\t\t\t   bottom=False, colors = '#686868')\n\nfor line, name in zip(ax.lines, ['Training', 'Validation']):\n    y = line.get_ydata()[-1]\n    ax.annotate(name, xy=(1,y), xytext=(6,0), color = line.get_color(), \n                xycoords = ax.get_yaxis_transform(), textcoords = \"offset points\",\n                size = 14, va = \"center\")\n\nplt.show();",
      "metadata": {
        "source_hash": "67c3cce",
        "execution_start": 1728242803457,
        "execution_millis": 187,
        "execution_context_id": "d86f37af-2c11-477e-8398-22dc14c6964b",
        "cell_id": "02a67c99c49c4b3a8fb992996d4a18f6",
        "deepnote_cell_type": "code"
      },
      "outputs": [
        {
          "data": {
            "text/plain": "<Figure size 640x480 with 1 Axes>",
            "image/png": "[encoded data removed]"
          },
          "metadata": {
            "image/png": {
              "width": 774,
              "height": 483
            }
          },
          "output_type": "display_data"
        }
      ],
      "outputs_reference": null,
      "execution_count": 22,
      "block_group": "327c6568a0d1444ab17369829a1d5fd2",
      "content_dependencies": null
    },
    {
      "cell_type": "markdown",
      "source": "# Test Analysis",
      "metadata": {
        "formattedRanges": [],
        "cell_id": "ed86f0d22f62400d8dc12cf2ef87d03d",
        "deepnote_cell_type": "text-cell-h1"
      },
      "block_group": "255cc2c284bf45e281646d52cc06617f"
    },
    {
      "cell_type": "code",
      "source": "loss, mae, mse = model.evaluate(normed_test_data, test_labels, verbose = 2)\nprint(\"Testing set Mean Abs Error: {:5.2f} MPG\".format(mae))  ",
      "metadata": {
        "source_hash": "68228320",
        "execution_start": 1728242743749,
        "execution_millis": 9,
        "execution_context_id": "d86f37af-2c11-477e-8398-22dc14c6964b",
        "cell_id": "61cbd695b1f14a5285db491978698c4e",
        "deepnote_cell_type": "code"
      },
      "outputs": [
        {
          "name": "stdout",
          "text": "3/3 - 0s - loss: 6.7923 - mae: 1.9861 - mse: 6.7923 - 18ms/epoch - 6ms/step\nTesting set Mean Abs Error:  1.99 MPG\n",
          "output_type": "stream"
        }
      ],
      "outputs_reference": null,
      "execution_count": 17,
      "block_group": "f01787a9a94040689af1e10706136265",
      "content_dependencies": null
    },
    {
      "cell_type": "markdown",
      "source": "# Prediction",
      "metadata": {
        "formattedRanges": [],
        "cell_id": "31aab3afbd11420eb07ea31cbcef28fc",
        "deepnote_cell_type": "text-cell-h1"
      },
      "block_group": "020f579b06f24be48ea97090acbf338c"
    },
    {
      "cell_type": "code",
      "source": "test_predictions = model.predict(normed_test_data).flatten()\na = plt.axes(aspect='equal')\nplt.scatter(test_labels, test_predictions)\nplt.xlabel('True Values [MPG]')\nplt.ylabel('Predictions [MPG]')\nlims = [0, 50]\nplt.xlim(lims)\nplt.ylim(lims)\n_ = plt.plot(lims, lims)   ",
      "metadata": {
        "source_hash": "893added",
        "execution_start": 1728243128449,
        "execution_millis": 376,
        "execution_context_id": "d86f37af-2c11-477e-8398-22dc14c6964b",
        "cell_id": "8b6d873607cd499198b5516e7f81915c",
        "deepnote_cell_type": "code"
      },
      "outputs": [
        {
          "name": "stdout",
          "text": "3/3 [==============================] - 0s 1ms/step\n",
          "output_type": "stream"
        },
        {
          "output_type": "execute_result",
          "execution_count": 31,
          "data": {
            "text/plain": "(0.0, 50.0)"
          },
          "metadata": {}
        },
        {
          "data": {
            "text/plain": "<Figure size 640x480 with 1 Axes>",
            "image/png": "[encoded data removed]"
          },
          "metadata": {
            "image/png": {
              "width": 445,
              "height": 438
            }
          },
          "output_type": "display_data"
        }
      ],
      "outputs_reference": null,
      "execution_count": 31,
      "block_group": "a3ed5e4b25194802b2e2901c3debc51c",
      "content_dependencies": null
    },
    {
      "cell_type": "code",
      "source": "# Trendline\n# https://www.statology.org/matplotlib-trendline/\nz = np.polyfit(test_labels, test_predictions, 1)\np = np.poly1d(z)\n\nfig, ax = plt.subplots(figsize=(5,3))\nplt.grid(which = 'major', axis = 'both', linestyle = ':', color = '#e9e9e9')\nsns.scatterplot(x = test_labels, y = test_predictions, ax = ax, color = '#2d3047', edgecolors = 'none', alpha = .75)\nxlim = ax.get_xlim()\nax.set_xlabel('True MPG', fontsize = 15, loc =\n\t\t\t\t'left').set_color('#707070')\nax.set_ylabel('Predicted\\nMPG', fontsize = 15, rotation =\n\t\t\t\t'horizontal', loc = 'bottom', labelpad =\n\t\t\t\t75).set_color('#707070')\nax.set_title('Predictions Close\\nto Actual Values', fontsize = 23, pad = 15).set_color('#171819')\nfor pos in ['right', 'top']:\n\tplt.gca().spines[pos].set_visible(False)\nax.spines['bottom'].set_color('#A0A0A0')\nax.spines['left'].set_color('#A0A0A0')\nax.tick_params(axis='y', which='both', right=False,\n\t\t\t\tleft=False, colors = '#686868')\nax.tick_params(axis='x', which='both', top=False,\n\t\t\t\tbottom=False, colors = '#686868')\nplt.show()",
      "metadata": {
        "source_hash": "f8f6f618",
        "execution_start": 1728243110350,
        "execution_millis": 227,
        "execution_context_id": "d86f37af-2c11-477e-8398-22dc14c6964b",
        "cell_id": "11f6c2c3bf164ab8bfe8e34ed98e0ca4",
        "deepnote_cell_type": "code"
      },
      "outputs": [
        {
          "data": {
            "text/plain": "<Figure size 500x300 with 1 Axes>",
            "image/png": "[encoded data removed]"
          },
          "metadata": {
            "image/png": {
              "width": 539,
              "height": 380
            }
          },
          "output_type": "display_data"
        }
      ],
      "outputs_reference": null,
      "execution_count": 30,
      "block_group": "f13c4a646f7148d0910969a707d115cb",
      "content_dependencies": null
    },
    {
      "cell_type": "code",
      "source": "fig, ax = plt.subplots()\nplt.grid(which = 'major', axis = 'both', linestyle = ':', color = '#e9e9e9')\nplt.plot(test_labels, test_predictions, color = '#D8973C', linestyle = (0, (5, 10)))\n# plt.plot(hist['epoch'], hist['val_mae'], color = '#273E47')\n# ax.set_xlim([-3, 1000])\nax.set_ylim([0, 10])\nax.set_xlabel('Epoch', fontsize = 15, \n\t\t\t  loc = 'left').set_color('#707070')\nax.set_ylabel('MAE\\n(MPG)', fontsize = 15, rotation = 'horizontal',\n\t\t\t  loc = 'bottom', labelpad = 45).set_color('#707070')\nax.set_title('Early Stopping Prevented Excessive Overfitting', fontsize = 23, pad = 15).set_color('#171819')\nfor pos in ['right', 'top']:\n\tplt.gca().spines[pos].set_visible(False)\nax.spines['bottom'].set_color('#A0A0A0')\nax.spines['left'].set_color('#A0A0A0')\nax.tick_params(axis='y', which='both', right=False,\n\t\t\t   left=False, colors = '#686868')\nax.tick_params(axis='x', which='both', top=False,\n\t\t\t   bottom=False, colors = '#686868')\n\nfor line, name in zip(ax.lines, ['Training', 'Validation']):\n    y = line.get_ydata()[-1]\n    ax.annotate(name, xy=(1,y), xytext=(6,0), color = line.get_color(), \n                xycoords = ax.get_yaxis_transform(), textcoords = \"offset points\",\n                size = 14, va = \"center\")\n\nplt.show();",
      "metadata": {
        "source_hash": "ad177ed6",
        "execution_start": 1728242744233,
        "execution_millis": 234,
        "execution_context_id": "d86f37af-2c11-477e-8398-22dc14c6964b",
        "cell_id": "7cddd6a2ec71452ab3536825a572e5a4",
        "deepnote_cell_type": "code"
      },
      "outputs": [
        {
          "data": {
            "text/plain": "<Figure size 640x480 with 1 Axes>",
            "image/png": "[encoded data removed]"
          },
          "metadata": {
            "image/png": {
              "width": 774,
              "height": 1215
            }
          },
          "output_type": "display_data"
        }
      ],
      "outputs_reference": null,
      "execution_count": 19,
      "block_group": "36c8f14a3c42489ca30bdae54479a937",
      "content_dependencies": null
    },
    {
      "cell_type": "markdown",
      "source": "# Normality of Error Distribution",
      "metadata": {
        "formattedRanges": [],
        "cell_id": "fd83e8d096b14313bebe994aae44e013",
        "deepnote_cell_type": "text-cell-h1"
      },
      "block_group": "a0a12f76ea584c6ba458cb1a154ca9b6"
    },
    {
      "cell_type": "code",
      "source": "error = test_predictions - test_labels\nplt.hist(error, bins = 25)\nplt.xlabel(\"Prediction Error [MPG]\")\n_ = plt.ylabel(\"Count\")",
      "metadata": {
        "source_hash": "eea78203",
        "execution_start": 1728242744522,
        "execution_millis": 180,
        "execution_context_id": "d86f37af-2c11-477e-8398-22dc14c6964b",
        "cell_id": "e91db0009e554de7a9b7f06af2076795",
        "deepnote_cell_type": "code"
      },
      "outputs": [
        {
          "data": {
            "text/plain": "<Figure size 640x480 with 1 Axes>",
            "image/png": "[encoded data removed]"
          },
          "metadata": {
            "image/png": {
              "width": 562,
              "height": 432
            }
          },
          "output_type": "display_data"
        }
      ],
      "outputs_reference": null,
      "execution_count": 20,
      "block_group": "e2fd34a775594896b407143eb965acc0",
      "content_dependencies": null
    },
    {
      "cell_type": "code",
      "source": "",
      "metadata": {
        "cell_id": "be916a86a1a843b883a6600ac41a8070",
        "deepnote_cell_type": "code"
      },
      "outputs": [],
      "outputs_reference": null,
      "execution_count": null,
      "block_group": "9fef4b5e4ebd48fe997cf9da77b45f66",
      "content_dependencies": null
    },
    {
      "cell_type": "markdown",
      "source": "<a style='text-decoration:none;line-height:16px;display:flex;color:#5B5B62;padding:10px;justify-content:end;' href='https://deepnote.com?utm_source=created-in-deepnote-cell&projectId=2c4d82d2-b129-4486-baa4-05c502f179ef' target=\"_blank\">\n<img alt='Created in deepnote.com' style='display:inline;max-height:16px;margin:0px;margin-right:7.5px;' src='data:image/svg+xml;base64,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' > </img>\nCreated in <span style='font-weight:600;margin-left:4px;'>Deepnote</span></a>",
      "metadata": {
        "created_in_deepnote_cell": true,
        "deepnote_cell_type": "markdown"
      }
    }
  ],
  "nbformat": 4,
  "nbformat_minor": 0,
  "metadata": {
    "deepnote_full_width": true,
    "deepnote_notebook_id": "fb6c84b5acb94882ba0fcfbdb8364530",
    "deepnote_execution_queue": []
  }
}