{
  "cells": [
    {
      "cell_type": "markdown",
      "source": "# Toxicology Testing\nFor this assignment, you will use a chemical dataset to train a neural network to predict human reaction to exposure to certain compounds.",
      "metadata": {
        "cell_id": "c5c97efa1847424fb10031812940dcb2",
        "deepnote_cell_type": "markdown"
      },
      "block_group": "381b84b28cab4bad969df05a10bcdff7"
    },
    {
      "cell_type": "markdown",
      "source": "# Import Packages",
      "metadata": {
        "formattedRanges": [],
        "cell_id": "0df5b6bff8fa42839db2f0ea456e63d8",
        "deepnote_cell_type": "text-cell-h1"
      },
      "block_group": "9ae76beabf244a029de57115454ee990"
    },
    {
      "cell_type": "code",
      "source": "import numpy as np\nimport tensorflow as tf\nimport matplotlib.pyplot as plt\nimport deepchem as dc\nfrom sklearn.metrics import accuracy_score",
      "metadata": {
        "source_hash": "83f6f529",
        "execution_start": 1728153655321,
        "execution_millis": 1,
        "execution_context_id": "109c2aa1-6325-4074-a559-ac61333bfedf",
        "cell_id": "570a085413dc4f428ddc898e23621f8d",
        "deepnote_cell_type": "code"
      },
      "outputs": [],
      "outputs_reference": null,
      "execution_count": 2,
      "block_group": "c979411079224387bd11da34125aefe0",
      "content_dependencies": null
    },
    {
      "cell_type": "markdown",
      "source": "# Set Environment",
      "metadata": {
        "formattedRanges": [],
        "cell_id": "f85f1142eda449918059f22934c76853",
        "deepnote_cell_type": "text-cell-h1"
      },
      "block_group": "d720096bb82a46d6a91e57fc2a68730b"
    },
    {
      "cell_type": "code",
      "source": "np.random.seed(456)\ntf.random.set_seed(456)",
      "metadata": {
        "source_hash": "8ddb28f9",
        "execution_start": 1728153658056,
        "execution_millis": 1,
        "execution_context_id": "109c2aa1-6325-4074-a559-ac61333bfedf",
        "cell_id": "5eb0c5979d954069bc7afb029a3a3940",
        "deepnote_cell_type": "code"
      },
      "outputs": [],
      "outputs_reference": null,
      "execution_count": 3,
      "block_group": "c8ce7f88e3b74c7fae77cd6ee2c7f008",
      "content_dependencies": null
    },
    {
      "cell_type": "markdown",
      "source": "# Load and Prep Data",
      "metadata": {
        "formattedRanges": [],
        "cell_id": "8b175493c5b84fdda863b51342e2e1df",
        "deepnote_cell_type": "text-cell-h1"
      },
      "block_group": "0efed4883c004f7b872547e2566c42e7"
    },
    {
      "cell_type": "code",
      "source": "_, (train, valid, test), _ = dc.molnet.load_tox21()\ntrain_X, train_y, train_w = train.X, train.y, train.w\nvalid_X, valid_y, valid_w = valid.X, valid.y, valid.w\ntest_X, test_y, test_w = test.X, test.y, test.w\ntrain_y = train_y[:, 0]\nvalid_y = valid_y[:, 0]\ntest_y = test_y[:, 0]\ntrain_w = train_w[:, 0]\nvalid_w = valid_w[:, 0]\ntest_w = test_w[:, 0]",
      "metadata": {
        "source_hash": "7053d93c",
        "execution_start": 1728153661462,
        "execution_millis": 86,
        "execution_context_id": "109c2aa1-6325-4074-a559-ac61333bfedf",
        "cell_id": "66ada6b2174847ef9efdd1b0ac7a320e",
        "deepnote_cell_type": "code"
      },
      "outputs": [],
      "outputs_reference": null,
      "execution_count": 4,
      "block_group": "16d066b06ad1427888bd5eb4abf94428",
      "content_dependencies": null
    },
    {
      "cell_type": "markdown",
      "source": "",
      "metadata": {
        "cell_id": "3994486eb07b4493a281fa41846068cd",
        "deepnote_cell_type": "markdown"
      },
      "block_group": "383356785e414b8aabe87b63a1fe676a"
    },
    {
      "cell_type": "markdown",
      "source": "",
      "metadata": {
        "formattedRanges": [],
        "cell_id": "91c1b8d93f1746ccbe946adf3b9a1f28",
        "deepnote_cell_type": "text-cell-p"
      },
      "block_group": "383356785e414b8aabe87b63a1fe676a"
    },
    {
      "cell_type": "markdown",
      "source": "# Define Model Placeholders",
      "metadata": {
        "formattedRanges": [],
        "cell_id": "9abd2561be114cf791f6192da0a2b156",
        "deepnote_cell_type": "text-cell-h1"
      },
      "block_group": "f6ecd8301d31497c90c39d76b5710d3b"
    },
    {
      "cell_type": "code",
      "source": "d = 1024\nn_hidden = 50\nlearning_rate = .001\nn_epochs = 10\nbatch_size = 100\n\nwith tf.name_scope(\"placeholders\"):\n    x = tf.placeholder(tf.float32, (None, d))\n    y = tf.placeholder(tf.float32, (None,))",
      "metadata": {
        "source_hash": "82f9526d",
        "execution_start": 1728153088497,
        "execution_millis": 2,
        "execution_context_id": "b090ab2f-60e6-4bf9-89a7-dc29c7fa09aa",
        "cell_id": "8704cf2e348143f1a2f277b39d87a231",
        "deepnote_cell_type": "code"
      },
      "outputs": [],
      "outputs_reference": null,
      "execution_count": 11,
      "block_group": "b796518bec0c44258aaf7b92e2532e06",
      "content_dependencies": null
    },
    {
      "cell_type": "markdown",
      "source": "# Create Hidden Layer",
      "metadata": {
        "formattedRanges": [],
        "cell_id": "ecbacd2e0b65493c93e049ca671ece47",
        "deepnote_cell_type": "text-cell-h1"
      },
      "block_group": "e958fe2d74e04573afeffb31e8213fea"
    },
    {
      "cell_type": "code",
      "source": "with tf.name_scope(\"hidden-layer\"):\n    W = tf.Variable(tf.random_normal((d, n_hidden)))\n    b = tf.Variable(tf.random_normal((n_hidden,)))\n    x_hidden = tf.nn.relu(tf.matmul(x, W) + b)",
      "metadata": {
        "source_hash": "fab61e23",
        "execution_start": 1728153092045,
        "execution_millis": 14,
        "execution_context_id": "b090ab2f-60e6-4bf9-89a7-dc29c7fa09aa",
        "cell_id": "a513b8bfd1c34f7fabedbff63d0830cb",
        "deepnote_cell_type": "code"
      },
      "outputs": [],
      "outputs_reference": null,
      "execution_count": 12,
      "block_group": "0c4d25d56e0345b0a7fb9a089132d619",
      "content_dependencies": null
    },
    {
      "cell_type": "markdown",
      "source": "# Complete Architecture",
      "metadata": {
        "formattedRanges": [],
        "cell_id": "86041c38a14448ea8d2bab58f4015245",
        "deepnote_cell_type": "text-cell-h1"
      },
      "block_group": "aeb11a7375974e7ebafec2422eabba7c"
    },
    {
      "cell_type": "code",
      "source": "with tf.name_scope(\"output\"):\n    W = tf.Variable(tf.random_normal((n_hidden, 1)))\n    b = tf.Variable(tf.random_normal((1,)))\n    y_logit = tf.matmul(x_hidden, W) + b\n    # The sigmoid gives the class probability of 1\n    y_one_prob = tf.sigmoid(y_logit)\n    # Rounding P(y=1) will give the correct prediction.\n    y_pred = tf.round(y_one_prob)\n\nwith tf.name_scope(\"loss\"):\n    # Compute the cross-entropy term for each datapoint\n    y_expand = tf.expand_dims(y, 1)\n    entropy = tf.nn.sigmoid_cross_entropy_with_logits(logits = y_logit, labels = y_expand)\n    # Sum all contributions\n    l = tf.reduce_sum(entropy)\n\nwith tf.name_scope(\"optim\"):\n    train_op = tf.train.AdamOptimizer(learning_rate).minimize(l)\n\nwith tf.name_scope(\"summaries\"):\n    tf.summary.scalar(\"loss\", l)\n    merged = tf.summary.merge_all()",
      "metadata": {
        "source_hash": "3e1b7f04",
        "execution_start": 1728153095012,
        "execution_millis": 234,
        "execution_context_id": "b090ab2f-60e6-4bf9-89a7-dc29c7fa09aa",
        "cell_id": "64ace436670147fa826a9b7252799705",
        "deepnote_cell_type": "code"
      },
      "outputs": [],
      "outputs_reference": null,
      "execution_count": 13,
      "block_group": "02389c36461a49c2b3f9f0c99f7fd68d",
      "content_dependencies": null
    },
    {
      "cell_type": "markdown",
      "source": "# Add Dropout to a Hidden Layer",
      "metadata": {
        "formattedRanges": [],
        "cell_id": "bfdd6587c35443538a8bbd319b78a129",
        "deepnote_cell_type": "text-cell-h1"
      },
      "block_group": "3c9b1c6421bc47d8959e4a3e42f7ac64"
    },
    {
      "cell_type": "code",
      "source": "# Code from Google AI overview from search term \"adding dropout to tensorflow layer without keras\"\n\nclass DropOut(tf.Module):\n    def __init__(self, rate = 0.5):\n        super().__init__()\n        self.rate = rate\n\n    def __call__(self, inputs, training = True):\n        if training:\n            return tf.nn.dropout(inputs, rate = self.rate)\n        return inputs\n\n# Example usage:\n# layer = MyLayer(rate=0.2)\n# x = tf.constant([1.0, 2.0, 3.0])\n# output = layer(x, training=True)  # Dropout applied",
      "metadata": {
        "source_hash": "4b87f84d",
        "execution_start": 1728153399879,
        "execution_millis": 1,
        "execution_context_id": "b090ab2f-60e6-4bf9-89a7-dc29c7fa09aa",
        "cell_id": "220ffbf9aef9443bb455836efbf54a4c",
        "deepnote_cell_type": "code"
      },
      "outputs": [],
      "outputs_reference": null,
      "execution_count": 16,
      "block_group": "7fc7a58039254f74a094a393d7c30e80",
      "content_dependencies": null
    },
    {
      "cell_type": "markdown",
      "source": "# Define a Hidden Layer with Dropout",
      "metadata": {
        "formattedRanges": [],
        "cell_id": "7e1d0ea6642947bdb972aa10ac0a7448",
        "deepnote_cell_type": "text-cell-h1"
      },
      "block_group": "df5dbe2ade6b4a25b9434825cac9f2a3"
    },
    {
      "cell_type": "code",
      "source": "with tf.name_scope(\"hidden-dropout-layer\"):\n    W = tf.Variable(tf.random_normal((d, n_hidden)))\n    b = tf.Variable(tf.random_normal((n_hidden,)))\n    x_hidden = DropOut(rate = learning_rate)",
      "metadata": {
        "source_hash": "daea3a75",
        "execution_start": 1728153402647,
        "execution_millis": 18,
        "execution_context_id": "b090ab2f-60e6-4bf9-89a7-dc29c7fa09aa",
        "cell_id": "9c57db38ac2c4f7dbf20576dad3f38c6",
        "deepnote_cell_type": "code"
      },
      "outputs": [],
      "outputs_reference": null,
      "execution_count": 17,
      "block_group": "1b574078f8a04310af14d0f59574329b",
      "content_dependencies": null
    },
    {
      "cell_type": "markdown",
      "source": "# Implement Mini-Batch Training",
      "metadata": {
        "formattedRanges": [],
        "cell_id": "c6e39e99f8f148768c2edadabf337321",
        "deepnote_cell_type": "text-cell-h1"
      },
      "block_group": "f1e2e60003994641a63fda0a076d6273"
    },
    {
      "cell_type": "code",
      "source": "train_writer = tf.summary.FileWriter('/tmp/fcnet-tox21',\n                                     tf.get_default_graph())\nN = train_X.shape[0]\n\nwith tf.Session() as sess:\n    sess.run(tf.global_variables_initializer())\nstep = 0\n\nfor epoch in range(n_epochs):\n    pos = 0\n\nwhile N > pos:\n\n      batch_X = train_X[pos:pos+batch_size]\n      batch_y = train_y[pos:pos+batch_size]\n      feed_dict = {x: batch_X, y: batch_y}\n      _, summary, loss = sess.run([train_op, merged, l], feed_dict = feed_dict)\n      print(\"epoch %d, step %d, loss: %f\" % (epoch, step, loss))\n      train_writer.add_summary(summary, step)\n\n      step += 1\n      pos += batch_size\n\n# Make Predictions\nvalid_y_pred = sess.run(y_pred, feed_dict={x: valid_X})",
      "metadata": {
        "source_hash": "72ab384d",
        "execution_start": 1728153583038,
        "execution_millis": 241,
        "execution_context_id": "b090ab2f-60e6-4bf9-89a7-dc29c7fa09aa",
        "cell_id": "0df617c3647f4a0d991345a808747775",
        "deepnote_cell_type": "code"
      },
      "outputs": [
        {
          "name": "stderr",
          "text": "2024-10-05 14:39:43.023101: W tensorflow/compiler/xla/stream_executor/platform/default/dso_loader.cc:64] Could not load dynamic library 'libcuda.so.1'; dlerror: libcuda.so.1: cannot open shared object file: No such file or directory; LD_LIBRARY_PATH: /usr/local/nvidia/lib:/usr/local/nvidia/lib64\n2024-10-05 14:39:43.023127: W tensorflow/compiler/xla/stream_executor/cuda/cuda_driver.cc:265] failed call to cuInit: UNKNOWN ERROR (303)\n2024-10-05 14:39:43.023140: I tensorflow/compiler/xla/stream_executor/cuda/cuda_diagnostics.cc:156] kernel driver does not appear to be running on this host (p-2c4d82d2-b129-4486-baa4-05c502f179ef): /proc/driver/nvidia/version does not exist\n2024-10-05 14:39:43.023406: I tensorflow/core/platform/cpu_feature_guard.cc:193] This TensorFlow binary is optimized with oneAPI Deep Neural Network Library (oneDNN) to use the following CPU instructions in performance-critical operations:  AVX2 AVX512F FMA\nTo enable them in other operations, rebuild TensorFlow with the appropriate compiler flags.\n2024-10-05 14:39:43.026700: I tensorflow/compiler/mlir/mlir_graph_optimization_pass.cc:357] MLIR V1 optimization pass is not enabled\n",
          "output_type": "stream"
        },
        {
          "output_type": "error",
          "ename": "RuntimeError",
          "evalue": "Attempted to use a closed Session.",
          "traceback": [
            "\u001b[0;31m---------------------------------------------------------------------------\u001b[0m",
            "\u001b[0;31mRuntimeError\u001b[0m                              Traceback (most recent call last)",
            "Cell \u001b[0;32mIn [19], line 17\u001b[0m\n\u001b[1;32m     15\u001b[0m batch_y \u001b[38;5;241m=\u001b[39m train_y[pos:pos\u001b[38;5;241m+\u001b[39mbatch_size]\n\u001b[1;32m     16\u001b[0m feed_dict \u001b[38;5;241m=\u001b[39m {x: batch_X, y: batch_y}\n\u001b[0;32m---> 17\u001b[0m _, summary, loss \u001b[38;5;241m=\u001b[39m \u001b[43msess\u001b[49m\u001b[38;5;241;43m.\u001b[39;49m\u001b[43mrun\u001b[49m\u001b[43m(\u001b[49m\u001b[43m[\u001b[49m\u001b[43mtrain_op\u001b[49m\u001b[43m,\u001b[49m\u001b[43m \u001b[49m\u001b[43mmerged\u001b[49m\u001b[43m,\u001b[49m\u001b[43m \u001b[49m\u001b[43ml\u001b[49m\u001b[43m]\u001b[49m\u001b[43m,\u001b[49m\u001b[43m \u001b[49m\u001b[43mfeed_dict\u001b[49m\u001b[43m \u001b[49m\u001b[38;5;241;43m=\u001b[39;49m\u001b[43m \u001b[49m\u001b[43mfeed_dict\u001b[49m\u001b[43m)\u001b[49m\n\u001b[1;32m     18\u001b[0m \u001b[38;5;28mprint\u001b[39m(\u001b[38;5;124m\"\u001b[39m\u001b[38;5;124mepoch \u001b[39m\u001b[38;5;132;01m%d\u001b[39;00m\u001b[38;5;124m, step \u001b[39m\u001b[38;5;132;01m%d\u001b[39;00m\u001b[38;5;124m, loss: \u001b[39m\u001b[38;5;132;01m%f\u001b[39;00m\u001b[38;5;124m\"\u001b[39m \u001b[38;5;241m%\u001b[39m (epoch, step, loss))\n\u001b[1;32m     19\u001b[0m train_writer\u001b[38;5;241m.\u001b[39madd_summary(summary, step)\n",
            "File \u001b[0;32m/usr/local/lib/python3.10/dist-packages/tensorflow/python/client/session.py:968\u001b[0m, in \u001b[0;36mBaseSession.run\u001b[0;34m(self, fetches, feed_dict, options, run_metadata)\u001b[0m\n\u001b[1;32m    965\u001b[0m run_metadata_ptr \u001b[38;5;241m=\u001b[39m tf_session\u001b[38;5;241m.\u001b[39mTF_NewBuffer() \u001b[38;5;28;01mif\u001b[39;00m run_metadata \u001b[38;5;28;01melse\u001b[39;00m \u001b[38;5;28;01mNone\u001b[39;00m\n\u001b[1;32m    967\u001b[0m \u001b[38;5;28;01mtry\u001b[39;00m:\n\u001b[0;32m--> 968\u001b[0m   result \u001b[38;5;241m=\u001b[39m \u001b[38;5;28;43mself\u001b[39;49m\u001b[38;5;241;43m.\u001b[39;49m\u001b[43m_run\u001b[49m\u001b[43m(\u001b[49m\u001b[38;5;28;43;01mNone\u001b[39;49;00m\u001b[43m,\u001b[49m\u001b[43m \u001b[49m\u001b[43mfetches\u001b[49m\u001b[43m,\u001b[49m\u001b[43m \u001b[49m\u001b[43mfeed_dict\u001b[49m\u001b[43m,\u001b[49m\u001b[43m \u001b[49m\u001b[43moptions_ptr\u001b[49m\u001b[43m,\u001b[49m\n\u001b[1;32m    969\u001b[0m \u001b[43m                     \u001b[49m\u001b[43mrun_metadata_ptr\u001b[49m\u001b[43m)\u001b[49m\n\u001b[1;32m    970\u001b[0m   \u001b[38;5;28;01mif\u001b[39;00m run_metadata:\n\u001b[1;32m    971\u001b[0m     proto_data \u001b[38;5;241m=\u001b[39m tf_session\u001b[38;5;241m.\u001b[39mTF_GetBuffer(run_metadata_ptr)\n",
            "File \u001b[0;32m/usr/local/lib/python3.10/dist-packages/tensorflow/python/client/session.py:1116\u001b[0m, in \u001b[0;36mBaseSession._run\u001b[0;34m(self, handle, fetches, feed_dict, options, run_metadata)\u001b[0m\n\u001b[1;32m   1114\u001b[0m \u001b[38;5;66;03m# Check session.\u001b[39;00m\n\u001b[1;32m   1115\u001b[0m \u001b[38;5;28;01mif\u001b[39;00m \u001b[38;5;28mself\u001b[39m\u001b[38;5;241m.\u001b[39m_closed:\n\u001b[0;32m-> 1116\u001b[0m   \u001b[38;5;28;01mraise\u001b[39;00m \u001b[38;5;167;01mRuntimeError\u001b[39;00m(\u001b[38;5;124m'\u001b[39m\u001b[38;5;124mAttempted to use a closed Session.\u001b[39m\u001b[38;5;124m'\u001b[39m)\n\u001b[1;32m   1117\u001b[0m \u001b[38;5;28;01mif\u001b[39;00m \u001b[38;5;28mself\u001b[39m\u001b[38;5;241m.\u001b[39mgraph\u001b[38;5;241m.\u001b[39mversion \u001b[38;5;241m==\u001b[39m \u001b[38;5;241m0\u001b[39m:\n\u001b[1;32m   1118\u001b[0m   \u001b[38;5;28;01mraise\u001b[39;00m \u001b[38;5;167;01mRuntimeError\u001b[39;00m(\u001b[38;5;124m'\u001b[39m\u001b[38;5;124mThe Session graph is empty. Add operations to the \u001b[39m\u001b[38;5;124m'\u001b[39m\n\u001b[1;32m   1119\u001b[0m                      \u001b[38;5;124m'\u001b[39m\u001b[38;5;124mgraph before calling run().\u001b[39m\u001b[38;5;124m'\u001b[39m)\n",
            "\u001b[0;31mRuntimeError\u001b[0m: Attempted to use a closed Session."
          ]
        }
      ],
      "outputs_reference": null,
      "execution_count": 19,
      "block_group": "2999753ca8764473b4e30cc5052bf797",
      "content_dependencies": null
    },
    {
      "cell_type": "markdown",
      "source": "<a style='text-decoration:none;line-height:16px;display:flex;color:#5B5B62;padding:10px;justify-content:end;' href='https://deepnote.com?utm_source=created-in-deepnote-cell&projectId=2c4d82d2-b129-4486-baa4-05c502f179ef' target=\"_blank\">\n<img alt='Created in deepnote.com' style='display:inline;max-height:16px;margin:0px;margin-right:7.5px;' src='data:image/svg+xml;base64,PD94bWwgdmVyc2lvbj0iMS4wIiBlbmNvZGluZz0iVVRGLTgiPz4KPHN2ZyB3aWR0aD0iODBweCIgaGVpZ2h0PSI4MHB4IiB2aWV3Qm94PSIwIDAgODAgODAiIHZlcnNpb249IjEuMSIgeG1sbnM9Imh0dHA6Ly93d3cudzMub3JnLzIwMDAvc3ZnIiB4bWxuczp4bGluaz0iaHR0cDovL3d3dy53My5vcmcvMTk5OS94bGluayI+CiAgICA8IS0tIEdlbmVyYXRvcjogU2tldGNoIDU0LjEgKDc2NDkwKSAtIGh0dHBzOi8vc2tldGNoYXBwLmNvbSAtLT4KICAgIDx0aXRsZT5Hcm91cCAzPC90aXRsZT4KICAgIDxkZXNjPkNyZWF0ZWQgd2l0aCBTa2V0Y2guPC9kZXNjPgogICAgPGcgaWQ9IkxhbmRpbmciIHN0cm9rZT0ibm9uZSIgc3Ryb2tlLXdpZHRoPSIxIiBmaWxsPSJub25lIiBmaWxsLXJ1bGU9ImV2ZW5vZGQiPgogICAgICAgIDxnIGlkPSJBcnRib2FyZCIgdHJhbnNmb3JtPSJ0cmFuc2xhdGUoLTEyMzUuMDAwMDAwLCAtNzkuMDAwMDAwKSI+CiAgICAgICAgICAgIDxnIGlkPSJHcm91cC0zIiB0cmFuc2Zvcm09InRyYW5zbGF0ZSgxMjM1LjAwMDAwMCwgNzkuMDAwMDAwKSI+CiAgICAgICAgICAgICAgICA8cG9seWdvbiBpZD0iUGF0aC0yMCIgZmlsbD0iIzAyNjVCNCIgcG9pbnRzPSIyLjM3NjIzNzYyIDgwIDM4LjA0NzY2NjcgODAgNTcuODIxNzgyMiA3My44MDU3NTkyIDU3LjgyMTc4MjIgMzIuNzU5MjczOSAzOS4xNDAyMjc4IDMxLjY4MzE2ODMiPjwvcG9seWdvbj4KICAgICAgICAgICAgICAgIDxwYXRoIGQ9Ik0zNS4wMDc3MTgsODAgQzQyLjkwNjIwMDcsNzYuNDU0OTM1OCA0Ny41NjQ5MTY3LDcxLjU0MjI2NzEgNDguOTgzODY2LDY1LjI2MTk5MzkgQzUxLjExMjI4OTksNTUuODQxNTg0MiA0MS42NzcxNzk1LDQ5LjIxMjIyODQgMjUuNjIzOTg0Niw0OS4yMTIyMjg0IEMyNS40ODQ5Mjg5LDQ5LjEyNjg0NDggMjkuODI2MTI5Niw0My4yODM4MjQ4IDM4LjY0NzU4NjksMzEuNjgzMTY4MyBMNzIuODcxMjg3MSwzMi41NTQ0MjUgTDY1LjI4MDk3Myw2Ny42NzYzNDIxIEw1MS4xMTIyODk5LDc3LjM3NjE0NCBMMzUuMDA3NzE4LDgwIFoiIGlkPSJQYXRoLTIyIiBmaWxsPSIjMDAyODY4Ij48L3BhdGg+CiAgICAgICAgICAgICAgICA8cGF0aCBkPSJNMCwzNy43MzA0NDA1IEwyNy4xMTQ1MzcsMC4yNTcxMTE0MzYgQzYyLjM3MTUxMjMsLTEuOTkwNzE3MDEgODAsMTAuNTAwMzkyNyA4MCwzNy43MzA0NDA1IEM4MCw2NC45NjA0ODgyIDY0Ljc3NjUwMzgsNzkuMDUwMzQxNCAzNC4zMjk1MTEzLDgwIEM0Ny4wNTUzNDg5LDc3LjU2NzA4MDggNTMuNDE4MjY3Nyw3MC4zMTM2MTAzIDUzLjQxODI2NzcsNTguMjM5NTg4NSBDNTMuNDE4MjY3Nyw0MC4xMjg1NTU3IDM2LjMwMzk1NDQsMzcuNzMwNDQwNSAyNS4yMjc0MTcsMzcuNzMwNDQwNSBDMTcuODQzMDU4NiwzNy43MzA0NDA1IDkuNDMzOTE5NjYsMzcuNzMwNDQwNSAwLDM3LjczMDQ0MDUgWiIgaWQ9IlBhdGgtMTkiIGZpbGw9IiMzNzkzRUYiPjwvcGF0aD4KICAgICAgICAgICAgPC9nPgogICAgICAgIDwvZz4KICAgIDwvZz4KPC9zdmc+' > </img>\nCreated in <span style='font-weight:600;margin-left:4px;'>Deepnote</span></a>",
      "metadata": {
        "created_in_deepnote_cell": true,
        "deepnote_cell_type": "markdown"
      }
    }
  ],
  "nbformat": 4,
  "nbformat_minor": 0,
  "metadata": {
    "deepnote_notebook_id": "d439b7d0b88d4ddbba57dbd2a80a0096",
    "deepnote_execution_queue": []
  }
}