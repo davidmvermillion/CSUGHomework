{
  "cells": [
    {
      "cell_type": "markdown",
      "source": "# Toxicology Testing\nFor this assignment, you will use a chemical dataset to train a neural network to predict human reaction to exposure to certain compounds.",
      "metadata": {
        "cell_id": "c5c97efa1847424fb10031812940dcb2",
        "deepnote_cell_type": "markdown"
      },
      "block_group": "381b84b28cab4bad969df05a10bcdff7"
    },
    {
      "cell_type": "markdown",
      "source": "# Import Packages",
      "metadata": {
        "formattedRanges": [],
        "cell_id": "0df5b6bff8fa42839db2f0ea456e63d8",
        "deepnote_cell_type": "text-cell-h1"
      },
      "block_group": "9ae76beabf244a029de57115454ee990"
    },
    {
      "cell_type": "code",
      "source": "import numpy as np\nimport tensorflow as tf\nimport matplotlib.pyplot as plt\nimport deepchem as dc\nfrom sklearn.metrics import accuracy_score\nfrom tensorflow import keras\nfrom keras import layers\nimport datetime",
      "metadata": {
        "source_hash": "ee7313e7",
        "execution_start": 1728162963953,
        "execution_millis": 3698,
        "execution_context_id": "79e47014-cf3b-48f7-affd-b4bffd7caddc",
        "cell_id": "570a085413dc4f428ddc898e23621f8d",
        "deepnote_cell_type": "code"
      },
      "outputs": [
        {
          "name": "stderr",
          "text": "2024-10-05 17:16:04.076057: I tensorflow/core/platform/cpu_feature_guard.cc:193] This TensorFlow binary is optimized with oneAPI Deep Neural Network Library (oneDNN) to use the following CPU instructions in performance-critical operations:  AVX2 AVX512F FMA\nTo enable them in other operations, rebuild TensorFlow with the appropriate compiler flags.\n2024-10-05 17:16:04.832312: W tensorflow/compiler/xla/stream_executor/platform/default/dso_loader.cc:64] Could not load dynamic library 'libnvinfer.so.7'; dlerror: libnvinfer.so.7: cannot open shared object file: No such file or directory; LD_LIBRARY_PATH: /usr/local/nvidia/lib:/usr/local/nvidia/lib64\n2024-10-05 17:16:04.832382: W tensorflow/compiler/xla/stream_executor/platform/default/dso_loader.cc:64] Could not load dynamic library 'libnvinfer_plugin.so.7'; dlerror: libnvinfer_plugin.so.7: cannot open shared object file: No such file or directory; LD_LIBRARY_PATH: /usr/local/nvidia/lib:/usr/local/nvidia/lib64\n2024-10-05 17:16:04.832387: W tensorflow/compiler/tf2tensorrt/utils/py_utils.cc:38] TF-TRT Warning: Cannot dlopen some TensorRT libraries. If you would like to use Nvidia GPU with TensorRT, please make sure the missing libraries mentioned above are installed properly.\n/shared-libs/python3.10/py/lib/python3.10/site-packages/tqdm/auto.py:22: TqdmWarning: IProgress not found. Please update jupyter and ipywidgets. See https://ipywidgets.readthedocs.io/en/stable/user_install.html\n  from .autonotebook import tqdm as notebook_tqdm\nNo normalization for SPS. Feature removed!\nNo normalization for AvgIpc. Feature removed!\nSkipped loading modules with pytorch-geometric dependency, missing a dependency. No module named 'torch_geometric'\nSkipped loading modules with transformers dependency. No module named 'transformers'\ncannot import name 'HuggingFaceModel' from 'deepchem.models.torch_models' (/root/venv/lib/python3.10/site-packages/deepchem/models/torch_models/__init__.py)\nSkipped loading modules with pytorch-geometric dependency, missing a dependency. cannot import name 'DMPNN' from 'deepchem.models.torch_models' (/root/venv/lib/python3.10/site-packages/deepchem/models/torch_models/__init__.py)\nSkipped loading modules with pytorch-lightning dependency, missing a dependency. No module named 'lightning'\nSkipped loading some Jax models, missing a dependency. No module named 'jax'\n",
          "output_type": "stream"
        }
      ],
      "outputs_reference": null,
      "execution_count": 1,
      "block_group": "c979411079224387bd11da34125aefe0",
      "content_dependencies": null
    },
    {
      "cell_type": "markdown",
      "source": "# Set Environment",
      "metadata": {
        "formattedRanges": [],
        "cell_id": "f85f1142eda449918059f22934c76853",
        "deepnote_cell_type": "text-cell-h1"
      },
      "block_group": "d720096bb82a46d6a91e57fc2a68730b"
    },
    {
      "cell_type": "code",
      "source": "np.random.seed(456)\ntf.random.set_seed(456)",
      "metadata": {
        "source_hash": "8ddb28f9",
        "execution_start": 1728162967697,
        "execution_millis": 0,
        "execution_context_id": "79e47014-cf3b-48f7-affd-b4bffd7caddc",
        "cell_id": "5eb0c5979d954069bc7afb029a3a3940",
        "deepnote_cell_type": "code"
      },
      "outputs": [],
      "outputs_reference": null,
      "execution_count": 2,
      "block_group": "c8ce7f88e3b74c7fae77cd6ee2c7f008",
      "content_dependencies": null
    },
    {
      "cell_type": "markdown",
      "source": "# Load and Prep Data",
      "metadata": {
        "formattedRanges": [],
        "cell_id": "8b175493c5b84fdda863b51342e2e1df",
        "deepnote_cell_type": "text-cell-h1"
      },
      "block_group": "0efed4883c004f7b872547e2566c42e7"
    },
    {
      "cell_type": "code",
      "source": "_, (train, valid, test), _ = dc.molnet.load_tox21()\ntrain_X, train_y, train_w = train.X, train.y, train.w\nvalid_X, valid_y, valid_w = valid.X, valid.y, valid.w\ntest_X, test_y, test_w = test.X, test.y, test.w\ntrain_y = train_y[:, 0]\nvalid_y = valid_y[:, 0]\ntest_y = test_y[:, 0]\ntrain_w = train_w[:, 0]\nvalid_w = valid_w[:, 0]\ntest_w = test_w[:, 0]",
      "metadata": {
        "source_hash": "7053d93c",
        "execution_start": 1728162967745,
        "execution_millis": 46,
        "execution_context_id": "79e47014-cf3b-48f7-affd-b4bffd7caddc",
        "cell_id": "66ada6b2174847ef9efdd1b0ac7a320e",
        "deepnote_cell_type": "code"
      },
      "outputs": [],
      "outputs_reference": null,
      "execution_count": 3,
      "block_group": "16d066b06ad1427888bd5eb4abf94428",
      "content_dependencies": null
    },
    {
      "cell_type": "markdown",
      "source": "# Significant Modification\nCode originally written for Tensorflow v1, which has been deprecated for years. For this assignment, we will use Tensorflow v2. Re-writing the entire architecture, paying attention to the steps in the assignment, rather than the starter code. Will also be using Keras sequential architectures. One hint comes from [here](https://www.geeksforgeeks.org/hidden-layer-perceptron-in-tensorflow/).",
      "metadata": {
        "cell_id": "00d19a5c8acc4ee0883602f1344ff948",
        "deepnote_cell_type": "markdown"
      },
      "block_group": "1f734647129c4a369edf4af2541f08d6"
    },
    {
      "cell_type": "markdown",
      "source": "# Define Model Placeholders",
      "metadata": {
        "formattedRanges": [],
        "cell_id": "9abd2561be114cf791f6192da0a2b156",
        "deepnote_cell_type": "text-cell-h1"
      },
      "block_group": "f6ecd8301d31497c90c39d76b5710d3b"
    },
    {
      "cell_type": "code",
      "source": "d = 1024\nn_hidden = 50\nlearning_rate = .001\nn_epochs = 10\nbatch_size = 100",
      "metadata": {
        "source_hash": "8c1d0383",
        "execution_start": 1728162967837,
        "execution_millis": 0,
        "execution_context_id": "79e47014-cf3b-48f7-affd-b4bffd7caddc",
        "cell_id": "8704cf2e348143f1a2f277b39d87a231",
        "deepnote_cell_type": "code"
      },
      "outputs": [],
      "outputs_reference": null,
      "execution_count": 4,
      "block_group": "b796518bec0c44258aaf7b92e2532e06",
      "content_dependencies": null
    },
    {
      "cell_type": "markdown",
      "source": "# Create Model Architecture",
      "metadata": {
        "formattedRanges": [],
        "cell_id": "7b5d0a11547d40a59cddc3c2b8066dd5",
        "deepnote_cell_type": "text-cell-h1"
      },
      "block_group": "98cc39b453124256980e09699967eaf4"
    },
    {
      "cell_type": "code",
      "source": "model = keras.Sequential([ \n\tlayers.Dense(256, activation = 'relu', input_shape = [d]), \n\tlayers.BatchNormalization(), \n\tlayers.Dense(256, activation = 'relu'), \n\tlayers.Dropout(0.3), \n\tlayers.BatchNormalization(), \n\tlayers.Dense(1, activation = 'sigmoid') \n]) \n\n# model.compile( \n# \tloss = 'categorical_crossentropy', \n# \toptimizer = 'adam', \n# \tmetrics = ['AUC'] \n# ) \n\nmodel.compile( \n\tloss = 'binary_crossentropy', \n\toptimizer = 'adam', \n\tmetrics = ['AUC'] \n) \n\nmodel.summary()",
      "metadata": {
        "source_hash": "6615f294",
        "execution_start": 1728162967957,
        "execution_millis": 73,
        "execution_context_id": "79e47014-cf3b-48f7-affd-b4bffd7caddc",
        "cell_id": "3b3be02cacb74dd0a9931ccbd99c8ad8",
        "deepnote_cell_type": "code"
      },
      "outputs": [
        {
          "name": "stdout",
          "text": "Model: \"sequential\"\n_________________________________________________________________\n Layer (type)                Output Shape              Param #   \n=================================================================\n dense (Dense)               (None, 256)               262400    \n                                                                 \n batch_normalization (BatchN  (None, 256)              1024      \n ormalization)                                                   \n                                                                 \n dense_1 (Dense)             (None, 256)               65792     \n                                                                 \n dropout (Dropout)           (None, 256)               0         \n                                                                 \n batch_normalization_1 (Batc  (None, 256)              1024      \n hNormalization)                                                 \n                                                                 \n dense_2 (Dense)             (None, 1)                 257       \n                                                                 \n=================================================================\nTotal params: 330,497\nTrainable params: 329,473\nNon-trainable params: 1,024\n_________________________________________________________________\n2024-10-05 17:16:07.851664: W tensorflow/compiler/xla/stream_executor/platform/default/dso_loader.cc:64] Could not load dynamic library 'libcuda.so.1'; dlerror: libcuda.so.1: cannot open shared object file: No such file or directory; LD_LIBRARY_PATH: /usr/local/nvidia/lib:/usr/local/nvidia/lib64\n2024-10-05 17:16:07.851699: W tensorflow/compiler/xla/stream_executor/cuda/cuda_driver.cc:265] failed call to cuInit: UNKNOWN ERROR (303)\n2024-10-05 17:16:07.851715: I tensorflow/compiler/xla/stream_executor/cuda/cuda_diagnostics.cc:156] kernel driver does not appear to be running on this host (p-2c4d82d2-b129-4486-baa4-05c502f179ef): /proc/driver/nvidia/version does not exist\n2024-10-05 17:16:07.851932: I tensorflow/core/platform/cpu_feature_guard.cc:193] This TensorFlow binary is optimized with oneAPI Deep Neural Network Library (oneDNN) to use the following CPU instructions in performance-critical operations:  AVX2 AVX512F FMA\nTo enable them in other operations, rebuild TensorFlow with the appropriate compiler flags.\n",
          "output_type": "stream"
        }
      ],
      "outputs_reference": null,
      "execution_count": 5,
      "block_group": "48be0abff80b4b659888d214f9a3776f",
      "content_dependencies": null
    },
    {
      "cell_type": "markdown",
      "source": "# Tensorboard Setup",
      "metadata": {
        "formattedRanges": [],
        "cell_id": "7be4bd3875284d46a09f61d327da18d4",
        "deepnote_cell_type": "text-cell-h1"
      },
      "block_group": "116a7efef8884ab6b19df17cc041371d"
    },
    {
      "cell_type": "code",
      "source": "# https://www.tensorflow.org/tensorboard/get_started\n# Only run this line if not yet loaded\n%load_ext tensorboard\n\n# Clear any logs from previous runs\n!rm -rf ./logs/\n\nlog_dir = \"logs/fit/\" + datetime.datetime.now().strftime(\"%Y%m%d-%H%M%S\")\ntensorboard_callback = tf.keras.callbacks.TensorBoard(log_dir=log_dir, histogram_freq=1)",
      "metadata": {
        "source_hash": "795d482c",
        "execution_start": 1728162968085,
        "execution_millis": 609,
        "execution_context_id": "79e47014-cf3b-48f7-affd-b4bffd7caddc",
        "cell_id": "d0dc7b22c98b4fdbb02b1fe4ecbf611c",
        "deepnote_cell_type": "code"
      },
      "outputs": [],
      "outputs_reference": null,
      "execution_count": 6,
      "block_group": "fde021c017ea4db3b121876215c35a5f",
      "content_dependencies": null
    },
    {
      "cell_type": "markdown",
      "source": "# Implement Mini-Batch Training",
      "metadata": {
        "formattedRanges": [],
        "cell_id": "c6e39e99f8f148768c2edadabf337321",
        "deepnote_cell_type": "text-cell-h1"
      },
      "block_group": "f1e2e60003994641a63fda0a076d6273"
    },
    {
      "cell_type": "code",
      "source": "model.fit(train_X, train_y, \n          epochs = n_epochs, \n          batch_size = batch_size, \n          verbose = 1, \n          validation_data = (valid_X, valid_y)) ",
      "metadata": {
        "source_hash": "4d0f4c0b",
        "execution_start": 1728162968745,
        "execution_millis": 9115,
        "execution_context_id": "79e47014-cf3b-48f7-affd-b4bffd7caddc",
        "cell_id": "d9fd80ce2063495795b0768338ddb962",
        "deepnote_cell_type": "code"
      },
      "outputs": [
        {
          "name": "stdout",
          "text": "Epoch 1/10\n63/63 [==============================] - 2s 16ms/step - loss: 0.5617 - auc: 0.7279 - val_loss: 0.2884 - val_auc: 0.7417\nEpoch 2/10\n63/63 [==============================] - 1s 12ms/step - loss: 0.2447 - auc: 0.8742 - val_loss: 0.1596 - val_auc: 0.7076\nEpoch 3/10\n63/63 [==============================] - 1s 12ms/step - loss: 0.1237 - auc: 0.9294 - val_loss: 0.1443 - val_auc: 0.7396\nEpoch 4/10\n63/63 [==============================] - 1s 12ms/step - loss: 0.0725 - auc: 0.9753 - val_loss: 0.1592 - val_auc: 0.7469\nEpoch 5/10\n63/63 [==============================] - 1s 12ms/step - loss: 0.0544 - auc: 0.9794 - val_loss: 0.1591 - val_auc: 0.7188\nEpoch 6/10\n63/63 [==============================] - 1s 12ms/step - loss: 0.0412 - auc: 0.9832 - val_loss: 0.1708 - val_auc: 0.7621\nEpoch 7/10\n63/63 [==============================] - 1s 11ms/step - loss: 0.0295 - auc: 0.9917 - val_loss: 0.1731 - val_auc: 0.7477\nEpoch 8/10\n63/63 [==============================] - 1s 12ms/step - loss: 0.0304 - auc: 0.9888 - val_loss: 0.1919 - val_auc: 0.7174\nEpoch 9/10\n63/63 [==============================] - 1s 12ms/step - loss: 0.0295 - auc: 0.9872 - val_loss: 0.2019 - val_auc: 0.7288\nEpoch 10/10\n63/63 [==============================] - 1s 11ms/step - loss: 0.0255 - auc: 0.9922 - val_loss: 0.2236 - val_auc: 0.7213\n",
          "output_type": "stream"
        },
        {
          "output_type": "execute_result",
          "execution_count": 7,
          "data": {
            "text/plain": "<keras.callbacks.History at 0x7fe914adfac0>"
          },
          "metadata": {}
        }
      ],
      "outputs_reference": null,
      "execution_count": 7,
      "block_group": "d399239fc18940b999778bf0e10c8712",
      "content_dependencies": null
    },
    {
      "cell_type": "markdown",
      "source": "# TensorBoard Results",
      "metadata": {
        "formattedRanges": [],
        "cell_id": "1c97eaa7161d49d69eebb71d338c432f",
        "deepnote_cell_type": "text-cell-h1"
      },
      "block_group": "e4e0fdb0082a4edf9c5715f461ffa0e3"
    },
    {
      "cell_type": "code",
      "source": "%tensorboard --logdir logs/fit",
      "metadata": {
        "source_hash": "8b666ece",
        "execution_start": 1728162977905,
        "execution_millis": 3695,
        "execution_context_id": "79e47014-cf3b-48f7-affd-b4bffd7caddc",
        "cell_id": "ce67185cd6a94da082f73c83c2289de0",
        "deepnote_cell_type": "code"
      },
      "outputs": [
        {
          "data": {
            "text/plain": "Launching TensorBoard..."
          },
          "metadata": {},
          "output_type": "display_data"
        }
      ],
      "outputs_reference": null,
      "execution_count": 8,
      "block_group": "1b9a3c616d274946a1dcdc1a2074f26b",
      "content_dependencies": null
    },
    {
      "cell_type": "code",
      "source": "# train_writer = tf.summary.FileWriter('/tmp/fcnet-tox21',\n#                                      tf.get_default_graph())\n# N = train_X.shape[0]\n\n# with tf.Session() as sess:\n#     sess.run(tf.global_variables_initializer())\n#     step = 0\n\n# for epoch in range(n_epochs):\n#     pos = 0\n\n# while N > pos:\n\n#       batch_X = train_X[pos:pos+batch_size]\n#       batch_y = train_y[pos:pos+batch_size]\n#       feed_dict = {x: batch_X, y: batch_y}\n#       _, summary, loss = sess.run([train_op, merged, l], feed_dict = feed_dict)\n#       print(\"epoch %d, step %d, loss: %f\" % (epoch, step, loss))\n#       train_writer.add_summary(summary, step)\n\n#       step += 1\n#       pos += batch_size\n\n# # Make Predictions\n# valid_y_pred = sess.run(y_pred, feed_dict={x: valid_X})",
      "metadata": {
        "source_hash": "fb0adf2e",
        "execution_start": 1728162981653,
        "execution_millis": 0,
        "execution_context_id": "79e47014-cf3b-48f7-affd-b4bffd7caddc",
        "cell_id": "0df617c3647f4a0d991345a808747775",
        "deepnote_cell_type": "code"
      },
      "outputs": [],
      "outputs_reference": null,
      "execution_count": 9,
      "block_group": "2999753ca8764473b4e30cc5052bf797",
      "content_dependencies": null
    },
    {
      "cell_type": "markdown",
      "source": "<a style='text-decoration:none;line-height:16px;display:flex;color:#5B5B62;padding:10px;justify-content:end;' href='https://deepnote.com?utm_source=created-in-deepnote-cell&projectId=2c4d82d2-b129-4486-baa4-05c502f179ef' target=\"_blank\">\n<img alt='Created in deepnote.com' style='display:inline;max-height:16px;margin:0px;margin-right:7.5px;' src='data:image/svg+xml;base64,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' > </img>\nCreated in <span style='font-weight:600;margin-left:4px;'>Deepnote</span></a>",
      "metadata": {
        "created_in_deepnote_cell": true,
        "deepnote_cell_type": "markdown"
      }
    }
  ],
  "nbformat": 4,
  "nbformat_minor": 0,
  "metadata": {
    "deepnote_persisted_session": {
      "createdAt": "2024-10-05T19:25:39.881Z"
    },
    "deepnote_notebook_id": "d439b7d0b88d4ddbba57dbd2a80a0096",
    "deepnote_execution_queue": []
  }
}