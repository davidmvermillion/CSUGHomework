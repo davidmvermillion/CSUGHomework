{
  "cells": [
    {
      "cell_type": "markdown",
      "source": "## Initialization Notebook\nThis is your initialization notebook.\n\n**What's this for?**\n\nYou can put custom code you want us to run every time we setup your environment in here. \n\n**Awesome! Anything I should not put in here?**\n\nPlease don't install `jupyter` or `jedi` packages, they would break your Deepnote environment. Also, no need to put `!pip install`s here, we already save those automatically!\n\n**I want to learn more!**\n\nGreat! Just [head over to our docs](https://deepnote.com/docs/custom-initialization).",
      "metadata": {
        "cell_id": "7de8b2134128467c8f67dcb59653e524",
        "deepnote_cell_type": "markdown"
      },
      "block_group": "7de8b2134128467c8f67dcb59653e524"
    },
    {
      "cell_type": "code",
      "source": "%%bash\n# If your project has a 'requirements.txt' file, we'll install it here.\nif test -f requirements.txt\n  then\n    pip install -r ./requirements.txt\n  else echo \"There's no requirements.txt, so nothing to install.\"\nfi",
      "metadata": {
        "source_hash": "8d2fa896",
        "execution_start": 1728161154243,
        "execution_millis": 13606,
        "execution_context_id": "388e4633-abfd-4879-af5f-3b84ad524e40",
        "cell_id": "07593725ee7749c7a484df0bccc638d0",
        "deepnote_cell_type": "code"
      },
      "outputs": [
        {
          "name": "stdout",
          "text": "Collecting deepchem==2.8.0\n  Downloading deepchem-2.8.0-py3-none-any.whl (1.0 MB)\n     ━━━━━━━━━━━━━━━━━━━━━━━━━━━━━━━━━━━━━━━━ 1.0/1.0 MB 16.2 MB/s eta 0:00:00\nRequirement already satisfied: numpy>=1.21 in /usr/local/lib/python3.10/dist-packages (from deepchem==2.8.0->-r ./requirements.txt (line 2)) (1.23.4)\nRequirement already satisfied: sympy in /shared-libs/python3.10/py/lib/python3.10/site-packages (from deepchem==2.8.0->-r ./requirements.txt (line 2)) (1.11.1)\nRequirement already satisfied: scikit-learn in /shared-libs/python3.10/py/lib/python3.10/site-packages (from deepchem==2.8.0->-r ./requirements.txt (line 2)) (1.1.2)\nCollecting rdkit\n  Downloading rdkit-2024.3.5-cp310-cp310-manylinux_2_28_x86_64.whl (33.1 MB)\n     ━━━━━━━━━━━━━━━━━━━━━━━━━━━━━━━━━━━━━━━━ 33.1/33.1 MB 44.0 MB/s eta 0:00:00\nRequirement already satisfied: pandas in /shared-libs/python3.10/py/lib/python3.10/site-packages (from deepchem==2.8.0->-r ./requirements.txt (line 2)) (2.1.4)\nCollecting scipy>=1.10.1\n  Downloading scipy-1.14.1-cp310-cp310-manylinux_2_17_x86_64.manylinux2014_x86_64.whl (41.2 MB)\n     ━━━━━━━━━━━━━━━━━━━━━━━━━━━━━━━━━━━━━━━━ 41.2/41.2 MB 43.1 MB/s eta 0:00:00\nRequirement already satisfied: joblib in /shared-libs/python3.10/py/lib/python3.10/site-packages (from deepchem==2.8.0->-r ./requirements.txt (line 2)) (1.2.0)\nCollecting numpy>=1.21\n  Downloading numpy-2.1.2-cp310-cp310-manylinux_2_17_x86_64.manylinux2014_x86_64.whl (16.3 MB)\n     ━━━━━━━━━━━━━━━━━━━━━━━━━━━━━━━━━━━━━━━━ 16.3/16.3 MB 85.1 MB/s eta 0:00:00\n  Downloading numpy-1.26.4-cp310-cp310-manylinux_2_17_x86_64.manylinux2014_x86_64.whl (18.2 MB)\n     ━━━━━━━━━━━━━━━━━━━━━━━━━━━━━━━━━━━━━━━━ 18.2/18.2 MB 88.1 MB/s eta 0:00:00\nRequirement already satisfied: tzdata>=2022.1 in /shared-libs/python3.10/py/lib/python3.10/site-packages (from pandas->deepchem==2.8.0->-r ./requirements.txt (line 2)) (2022.5)\nRequirement already satisfied: pytz>=2020.1 in /shared-libs/python3.10/py/lib/python3.10/site-packages (from pandas->deepchem==2.8.0->-r ./requirements.txt (line 2)) (2022.5)\nRequirement already satisfied: python-dateutil>=2.8.2 in /shared-libs/python3.10/py-core/lib/python3.10/site-packages (from pandas->deepchem==2.8.0->-r ./requirements.txt (line 2)) (2.8.2)\nRequirement already satisfied: Pillow in /shared-libs/python3.10/py/lib/python3.10/site-packages (from rdkit->deepchem==2.8.0->-r ./requirements.txt (line 2)) (9.2.0)\nRequirement already satisfied: threadpoolctl>=2.0.0 in /shared-libs/python3.10/py/lib/python3.10/site-packages (from scikit-learn->deepchem==2.8.0->-r ./requirements.txt (line 2)) (3.1.0)\nRequirement already satisfied: mpmath>=0.19 in /shared-libs/python3.10/py/lib/python3.10/site-packages (from sympy->deepchem==2.8.0->-r ./requirements.txt (line 2)) (1.2.1)\nRequirement already satisfied: six>=1.5 in /shared-libs/python3.10/py-core/lib/python3.10/site-packages (from python-dateutil>=2.8.2->pandas->deepchem==2.8.0->-r ./requirements.txt (line 2)) (1.16.0)\nInstalling collected packages: numpy, scipy, rdkit, deepchem\n  Attempting uninstall: numpy\n    Found existing installation: numpy 1.23.4\n    Not uninstalling numpy at /usr/local/lib/python3.10/dist-packages, outside environment /root/venv\n    Can't uninstall 'numpy'. No files were found to uninstall.\n  Attempting uninstall: scipy\n    Found existing installation: scipy 1.9.3\n    Not uninstalling scipy at /shared-libs/python3.10/py/lib/python3.10/site-packages, outside environment /root/venv\n    Can't uninstall 'scipy'. No files were found to uninstall.\nSuccessfully installed deepchem-2.8.0 numpy-1.26.4 rdkit-2024.3.5 scipy-1.14.1\n\n[notice] A new release of pip is available: 23.0.1 -> 24.2\n[notice] To update, run: pip install --upgrade pip\n",
          "output_type": "stream"
        }
      ],
      "outputs_reference": null,
      "execution_count": 1,
      "block_group": "07593725ee7749c7a484df0bccc638d0",
      "content_dependencies": null
    },
    {
      "cell_type": "markdown",
      "source": "<a style='text-decoration:none;line-height:16px;display:flex;color:#5B5B62;padding:10px;justify-content:end;' href='https://deepnote.com?utm_source=created-in-deepnote-cell&projectId=2c4d82d2-b129-4486-baa4-05c502f179ef' target=\"_blank\">\n<img alt='Created in deepnote.com' style='display:inline;max-height:16px;margin:0px;margin-right:7.5px;' src='data:image/svg+xml;base64,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' > </img>\nCreated in <span style='font-weight:600;margin-left:4px;'>Deepnote</span></a>",
      "metadata": {
        "created_in_deepnote_cell": true,
        "deepnote_cell_type": "markdown"
      }
    }
  ],
  "nbformat": 4,
  "nbformat_minor": 0,
  "metadata": {
    "deepnote_notebook_id": "0a6499ef4a1f47a6b1cd173b2f46d53d",
    "deepnote_execution_queue": []
  }
}