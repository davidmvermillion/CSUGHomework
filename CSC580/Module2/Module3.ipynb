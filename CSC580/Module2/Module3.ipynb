{
  "cells": [
    {
      "cell_type": "markdown",
      "source": "# Setup Environment",
      "metadata": {
        "formattedRanges": [],
        "cell_id": "57dc0c26d92d43d383352dc673b30471",
        "deepnote_cell_type": "text-cell-h1"
      },
      "block_group": "2059f3ede60d4801978f3a4392d647dd"
    },
    {
      "cell_type": "markdown",
      "source": "Assuming starter code has same V1 shortfalls as for Module 2.",
      "metadata": {
        "formattedRanges": [],
        "cell_id": "da8f6af8d0f94e9397bae842d2d9de03",
        "deepnote_cell_type": "text-cell-p"
      },
      "block_group": "453487b0392549f7b356ab38d9c343f4"
    },
    {
      "cell_type": "code",
      "source": "# import matplotlib.pyplot as plt\n# from __future__ import absolute_import, division, print_function, unicode_literals\n# import pathlib\n# import pandas as pd\n# import seaborn as sns\n# import numpy as np\n# import tensorflow.compat.v1 as tf\n# from tensorflow import keras\n# from tensorflow.keras import layers\n# tf.disable_v2_behavior()\n# import tensorflow_docs as tfdocs\n# import tensorflow_docs.plots\n# import tensorflow_docs.modeling",
      "metadata": {
        "source_hash": "9f6520d1",
        "execution_start": 1727568729335,
        "execution_millis": 2,
        "execution_context_id": "22688e1f-e7d8-4b85-81cc-32df5aca8be2",
        "cell_id": "e3c0f97e9b3546cb90d52f73bc2d0a50",
        "deepnote_cell_type": "code"
      },
      "outputs": [],
      "outputs_reference": null,
      "execution_count": 1,
      "block_group": "e3c0f97e9b3546cb90d52f73bc2d0a50",
      "content_dependencies": null
    },
    {
      "cell_type": "markdown",
      "source": "Original Code is Tensorflow V 2.0.0, so it may work without forcing V1 behavior.",
      "metadata": {
        "formattedRanges": [],
        "cell_id": "83faffc2db7d4fc09452e46336fdaf76",
        "deepnote_cell_type": "text-cell-p"
      },
      "block_group": "0de1a3512b2b4c64a2e9d23a9f46a8e9"
    },
    {
      "cell_type": "code",
      "source": "import matplotlib.pyplot as plt\nfrom __future__ import absolute_import, division, print_function, unicode_literals\nimport pathlib\nimport pandas as pd\nimport seaborn as sns\nimport numpy as np\nimport tensorflow as tf\nfrom tensorflow import keras\nfrom tensorflow.keras import layers\nimport tensorflow_docs as tfdocs\nimport tensorflow_docs.plots\nimport tensorflow_docs.modeling",
      "metadata": {
        "source_hash": "c2aaed00",
        "execution_start": 1727568811392,
        "execution_millis": 5,
        "execution_context_id": "22688e1f-e7d8-4b85-81cc-32df5aca8be2",
        "cell_id": "2bf060cdbac247e780d8b8d267a6288b",
        "deepnote_cell_type": "code"
      },
      "outputs": [],
      "outputs_reference": null,
      "execution_count": 4,
      "block_group": "e2e680d6d30b42e7a8d2f88ce7f46c57",
      "content_dependencies": null
    },
    {
      "cell_type": "code",
      "source": "print(tf.__version__)",
      "metadata": {
        "source_hash": "ba55828f",
        "execution_start": 1727568814402,
        "execution_millis": 3,
        "execution_context_id": "22688e1f-e7d8-4b85-81cc-32df5aca8be2",
        "cell_id": "05b0bbf3f111406f84510a506c59a788",
        "deepnote_cell_type": "code"
      },
      "outputs": [
        {
          "name": "stdout",
          "text": "2.11.1\n",
          "output_type": "stream"
        }
      ],
      "outputs_reference": null,
      "execution_count": 5,
      "block_group": "a6bcfcbe38fb489b8c3775c700446dab",
      "content_dependencies": null
    },
    {
      "cell_type": "markdown",
      "source": "# Import Data",
      "metadata": {
        "formattedRanges": [],
        "cell_id": "b2a4577853644c5f90e6c5a73d282ef4",
        "deepnote_cell_type": "text-cell-h1"
      },
      "block_group": "514ce2f2852a4562967c16b101964d55"
    },
    {
      "cell_type": "markdown",
      "source": "Code below has some error in the import function get_file that I don't understand. Using the following block instead. https://www.tensorflow.org/tutorials/keras/regression",
      "metadata": {
        "formattedRanges": [
          {
            "type": "marks",
            "marks": {
              "italic": true
            },
            "toCodePoint": 57,
            "fromCodePoint": 49
          },
          {
            "url": "https://www.tensorflow.org/tutorials/keras/regression",
            "type": "link",
            "ranges": [],
            "toCodePoint": 171,
            "fromCodePoint": 118
          }
        ],
        "cell_id": "bebc7e20224a4aa88f616ca34bd245c0",
        "deepnote_cell_type": "text-cell-p"
      },
      "block_group": "073f8fde1ab94909be6a4d5f138e36b2"
    },
    {
      "cell_type": "code",
      "source": "# dataset_path = keras.utils.get_file(\"auto-mpg.data\", \"http://archive.ics.uci.edu/ml/machine-learning-databases/auto-mpg/auto-mpg.data\", cache_subdir = 'my_data')\n# dataset_path\n# column_names = ['MPG', 'Cylinders', 'Displacement', 'Horsepower', 'Weight', 'Acceleration', 'Model Year', 'Origin']\n# raw_dataset = pd.read_csv(dataset_path, names = column_names, na_values = \"?\", comment = '\\t', sep = \" \", skipinitialspace = True)\n# dataset = raw_dataset.copy()\n# dataset.tail()",
      "metadata": {
        "source_hash": "ef4ab8b6",
        "execution_start": 1727569135874,
        "execution_millis": 368,
        "execution_context_id": "22688e1f-e7d8-4b85-81cc-32df5aca8be2",
        "cell_id": "e721033f05794b04a29373817656158d",
        "deepnote_cell_type": "code"
      },
      "outputs": [
        {
          "name": "stdout",
          "text": "Downloading data from http://archive.ics.uci.edu/ml/machine-learning-databases/auto-mpg/auto-mpg.data\n   8192/Unknown - 0s 0us/step",
          "output_type": "stream"
        },
        {
          "output_type": "error",
          "ename": "TypeError",
          "evalue": "%d format: a real number is required, not NoneType",
          "traceback": [
            "\u001b[0;31m---------------------------------------------------------------------------\u001b[0m",
            "\u001b[0;31mTypeError\u001b[0m                                 Traceback (most recent call last)",
            "Cell \u001b[0;32mIn [8], line 1\u001b[0m\n\u001b[0;32m----> 1\u001b[0m dataset_path \u001b[38;5;241m=\u001b[39m \u001b[43mkeras\u001b[49m\u001b[38;5;241;43m.\u001b[39;49m\u001b[43mutils\u001b[49m\u001b[38;5;241;43m.\u001b[39;49m\u001b[43mget_file\u001b[49m\u001b[43m(\u001b[49m\u001b[38;5;124;43m\"\u001b[39;49m\u001b[38;5;124;43mauto-mpg.data\u001b[39;49m\u001b[38;5;124;43m\"\u001b[39;49m\u001b[43m,\u001b[49m\u001b[43m \u001b[49m\u001b[38;5;124;43m\"\u001b[39;49m\u001b[38;5;124;43mhttp://archive.ics.uci.edu/ml/machine-learning-databases/auto-mpg/auto-mpg.data\u001b[39;49m\u001b[38;5;124;43m\"\u001b[39;49m\u001b[43m,\u001b[49m\u001b[43m \u001b[49m\u001b[43mcache_subdir\u001b[49m\u001b[43m \u001b[49m\u001b[38;5;241;43m=\u001b[39;49m\u001b[43m \u001b[49m\u001b[38;5;124;43m'\u001b[39;49m\u001b[38;5;124;43mmy_data\u001b[39;49m\u001b[38;5;124;43m'\u001b[39;49m\u001b[43m)\u001b[49m\n\u001b[1;32m      2\u001b[0m dataset_path\n\u001b[1;32m      3\u001b[0m column_names \u001b[38;5;241m=\u001b[39m [\u001b[38;5;124m'\u001b[39m\u001b[38;5;124mMPG\u001b[39m\u001b[38;5;124m'\u001b[39m, \u001b[38;5;124m'\u001b[39m\u001b[38;5;124mCylinders\u001b[39m\u001b[38;5;124m'\u001b[39m, \u001b[38;5;124m'\u001b[39m\u001b[38;5;124mDisplacement\u001b[39m\u001b[38;5;124m'\u001b[39m, \u001b[38;5;124m'\u001b[39m\u001b[38;5;124mHorsepower\u001b[39m\u001b[38;5;124m'\u001b[39m, \u001b[38;5;124m'\u001b[39m\u001b[38;5;124mWeight\u001b[39m\u001b[38;5;124m'\u001b[39m, \u001b[38;5;124m'\u001b[39m\u001b[38;5;124mAcceleration\u001b[39m\u001b[38;5;124m'\u001b[39m, \u001b[38;5;124m'\u001b[39m\u001b[38;5;124mModel Year\u001b[39m\u001b[38;5;124m'\u001b[39m, \u001b[38;5;124m'\u001b[39m\u001b[38;5;124mOrigin\u001b[39m\u001b[38;5;124m'\u001b[39m]\n",
            "File \u001b[0;32m/usr/local/lib/python3.10/dist-packages/keras/utils/data_utils.py:300\u001b[0m, in \u001b[0;36mget_file\u001b[0;34m(fname, origin, untar, md5_hash, file_hash, cache_subdir, hash_algorithm, extract, archive_format, cache_dir)\u001b[0m\n\u001b[1;32m    298\u001b[0m \u001b[38;5;28;01mtry\u001b[39;00m:\n\u001b[1;32m    299\u001b[0m     \u001b[38;5;28;01mtry\u001b[39;00m:\n\u001b[0;32m--> 300\u001b[0m         \u001b[43murlretrieve\u001b[49m\u001b[43m(\u001b[49m\u001b[43morigin\u001b[49m\u001b[43m,\u001b[49m\u001b[43m \u001b[49m\u001b[43mfpath\u001b[49m\u001b[43m,\u001b[49m\u001b[43m \u001b[49m\u001b[43mDLProgbar\u001b[49m\u001b[43m(\u001b[49m\u001b[43m)\u001b[49m\u001b[43m)\u001b[49m\n\u001b[1;32m    301\u001b[0m     \u001b[38;5;28;01mexcept\u001b[39;00m urllib\u001b[38;5;241m.\u001b[39merror\u001b[38;5;241m.\u001b[39mHTTPError \u001b[38;5;28;01mas\u001b[39;00m e:\n\u001b[1;32m    302\u001b[0m         \u001b[38;5;28;01mraise\u001b[39;00m \u001b[38;5;167;01mException\u001b[39;00m(error_msg\u001b[38;5;241m.\u001b[39mformat(origin, e\u001b[38;5;241m.\u001b[39mcode, e\u001b[38;5;241m.\u001b[39mmsg))\n",
            "File \u001b[0;32m/usr/local/lib/python3.10/dist-packages/keras/utils/data_utils.py:86\u001b[0m, in \u001b[0;36murlretrieve\u001b[0;34m(url, filename, reporthook, data)\u001b[0m\n\u001b[1;32m     84\u001b[0m response \u001b[38;5;241m=\u001b[39m urlopen(url, data)\n\u001b[1;32m     85\u001b[0m \u001b[38;5;28;01mwith\u001b[39;00m \u001b[38;5;28mopen\u001b[39m(filename, \u001b[38;5;124m\"\u001b[39m\u001b[38;5;124mwb\u001b[39m\u001b[38;5;124m\"\u001b[39m) \u001b[38;5;28;01mas\u001b[39;00m fd:\n\u001b[0;32m---> 86\u001b[0m     \u001b[38;5;28;01mfor\u001b[39;00m chunk \u001b[38;5;129;01min\u001b[39;00m chunk_read(response, reporthook\u001b[38;5;241m=\u001b[39mreporthook):\n\u001b[1;32m     87\u001b[0m         fd\u001b[38;5;241m.\u001b[39mwrite(chunk)\n",
            "File \u001b[0;32m/usr/local/lib/python3.10/dist-packages/keras/utils/data_utils.py:78\u001b[0m, in \u001b[0;36murlretrieve.<locals>.chunk_read\u001b[0;34m(response, chunk_size, reporthook)\u001b[0m\n\u001b[1;32m     76\u001b[0m count \u001b[38;5;241m+\u001b[39m\u001b[38;5;241m=\u001b[39m \u001b[38;5;241m1\u001b[39m\n\u001b[1;32m     77\u001b[0m \u001b[38;5;28;01mif\u001b[39;00m reporthook \u001b[38;5;129;01mis\u001b[39;00m \u001b[38;5;129;01mnot\u001b[39;00m \u001b[38;5;28;01mNone\u001b[39;00m:\n\u001b[0;32m---> 78\u001b[0m     \u001b[43mreporthook\u001b[49m\u001b[43m(\u001b[49m\u001b[43mcount\u001b[49m\u001b[43m,\u001b[49m\u001b[43m \u001b[49m\u001b[43mchunk_size\u001b[49m\u001b[43m,\u001b[49m\u001b[43m \u001b[49m\u001b[43mtotal_size\u001b[49m\u001b[43m)\u001b[49m\n\u001b[1;32m     79\u001b[0m \u001b[38;5;28;01mif\u001b[39;00m chunk:\n\u001b[1;32m     80\u001b[0m     \u001b[38;5;28;01myield\u001b[39;00m chunk\n",
            "File \u001b[0;32m/usr/local/lib/python3.10/dist-packages/keras/utils/data_utils.py:294\u001b[0m, in \u001b[0;36mget_file.<locals>.DLProgbar.__call__\u001b[0;34m(self, block_num, block_size, total_size)\u001b[0m\n\u001b[1;32m    292\u001b[0m     \u001b[38;5;28mself\u001b[39m\u001b[38;5;241m.\u001b[39mprogbar\u001b[38;5;241m.\u001b[39mupdate(current)\n\u001b[1;32m    293\u001b[0m \u001b[38;5;28;01melif\u001b[39;00m \u001b[38;5;129;01mnot\u001b[39;00m \u001b[38;5;28mself\u001b[39m\u001b[38;5;241m.\u001b[39mfinished:\n\u001b[0;32m--> 294\u001b[0m     \u001b[38;5;28;43mself\u001b[39;49m\u001b[38;5;241;43m.\u001b[39;49m\u001b[43mprogbar\u001b[49m\u001b[38;5;241;43m.\u001b[39;49m\u001b[43mupdate\u001b[49m\u001b[43m(\u001b[49m\u001b[38;5;28;43mself\u001b[39;49m\u001b[38;5;241;43m.\u001b[39;49m\u001b[43mprogbar\u001b[49m\u001b[38;5;241;43m.\u001b[39;49m\u001b[43mtarget\u001b[49m\u001b[43m)\u001b[49m\n\u001b[1;32m    295\u001b[0m     \u001b[38;5;28mself\u001b[39m\u001b[38;5;241m.\u001b[39mfinished \u001b[38;5;241m=\u001b[39m \u001b[38;5;28;01mTrue\u001b[39;00m\n",
            "File \u001b[0;32m/usr/local/lib/python3.10/dist-packages/keras/utils/generic_utils.py:252\u001b[0m, in \u001b[0;36mProgbar.update\u001b[0;34m(self, current, values, finalize)\u001b[0m\n\u001b[1;32m    250\u001b[0m     bar \u001b[38;5;241m+\u001b[39m\u001b[38;5;241m=\u001b[39m \u001b[38;5;124m\"\u001b[39m\u001b[38;5;124m]\u001b[39m\u001b[38;5;124m\"\u001b[39m\n\u001b[1;32m    251\u001b[0m \u001b[38;5;28;01melse\u001b[39;00m:\n\u001b[0;32m--> 252\u001b[0m     bar \u001b[38;5;241m=\u001b[39m \u001b[38;5;124;43m\"\u001b[39;49m\u001b[38;5;132;43;01m%7d\u001b[39;49;00m\u001b[38;5;124;43m/Unknown\u001b[39;49m\u001b[38;5;124;43m\"\u001b[39;49m\u001b[43m \u001b[49m\u001b[38;5;241;43m%\u001b[39;49m\u001b[43m \u001b[49m\u001b[43mcurrent\u001b[49m\n\u001b[1;32m    254\u001b[0m \u001b[38;5;28mself\u001b[39m\u001b[38;5;241m.\u001b[39m_total_width \u001b[38;5;241m=\u001b[39m \u001b[38;5;28mlen\u001b[39m(bar)\n\u001b[1;32m    255\u001b[0m message \u001b[38;5;241m+\u001b[39m\u001b[38;5;241m=\u001b[39m bar\n",
            "\u001b[0;31mTypeError\u001b[0m: %d format: a real number is required, not NoneType"
          ]
        }
      ],
      "outputs_reference": null,
      "execution_count": 8,
      "block_group": "2170e37d3a5f4872a1c7c5f421d6e7fe",
      "content_dependencies": null
    },
    {
      "cell_type": "code",
      "source": "url = 'http://archive.ics.uci.edu/ml/machine-learning-databases/auto-mpg/auto-mpg.data'\ncolumn_names = ['MPG', 'Cylinders', 'Displacement', 'Horsepower', 'Weight',\n                'Acceleration', 'Model Year', 'Origin']\n\nraw_dataset = pd.read_csv(url, names=column_names,\n                          na_values='?', comment='\\t',\n                          sep=' ', skipinitialspace=True)\n\ndataset = raw_dataset.copy()\ndataset.tail()",
      "metadata": {
        "source_hash": "561ce800",
        "execution_start": 1727569418974,
        "execution_millis": 364,
        "execution_context_id": "22688e1f-e7d8-4b85-81cc-32df5aca8be2",
        "cell_id": "99e819fc01794b0e8d0a7475db663c80",
        "deepnote_cell_type": "code"
      },
      "outputs": [
        {
          "output_type": "execute_result",
          "execution_count": 9,
          "data": {
            "application/vnd.deepnote.dataframe.v3+json": {
              "column_count": 8,
              "row_count": 5,
              "columns": [
                {
                  "name": "MPG",
                  "dtype": "float64",
                  "stats": {
                    "unique_count": 5,
                    "nan_count": 0,
                    "min": "27.0",
                    "max": "44.0",
                    "histogram": [
                      {
                        "bin_start": 27,
                        "bin_end": 28.7,
                        "count": 2
                      },
                      {
                        "bin_start": 28.7,
                        "bin_end": 30.4,
                        "count": 0
                      },
                      {
                        "bin_start": 30.4,
                        "bin_end": 32.1,
                        "count": 2
                      },
                      {
                        "bin_start": 32.1,
                        "bin_end": 33.8,
                        "count": 0
                      },
                      {
                        "bin_start": 33.8,
                        "bin_end": 35.5,
                        "count": 0
                      },
                      {
                        "bin_start": 35.5,
                        "bin_end": 37.2,
                        "count": 0
                      },
                      {
                        "bin_start": 37.2,
                        "bin_end": 38.9,
                        "count": 0
                      },
                      {
                        "bin_start": 38.9,
                        "bin_end": 40.6,
                        "count": 0
                      },
                      {
                        "bin_start": 40.6,
                        "bin_end": 42.3,
                        "count": 0
                      },
                      {
                        "bin_start": 42.3,
                        "bin_end": 44,
                        "count": 1
                      }
                    ]
                  }
                },
                {
                  "name": "Cylinders",
                  "dtype": "int64",
                  "stats": {
                    "unique_count": 1,
                    "nan_count": 0,
                    "min": "4",
                    "max": "4",
                    "histogram": [
                      {
                        "bin_start": 3.5,
                        "bin_end": 3.6,
                        "count": 0
                      },
                      {
                        "bin_start": 3.6,
                        "bin_end": 3.7,
                        "count": 0
                      },
                      {
                        "bin_start": 3.7,
                        "bin_end": 3.8,
                        "count": 0
                      },
                      {
                        "bin_start": 3.8,
                        "bin_end": 3.9,
                        "count": 0
                      },
                      {
                        "bin_start": 3.9,
                        "bin_end": 4,
                        "count": 0
                      },
                      {
                        "bin_start": 4,
                        "bin_end": 4.1,
                        "count": 5
                      },
                      {
                        "bin_start": 4.1,
                        "bin_end": 4.2,
                        "count": 0
                      },
                      {
                        "bin_start": 4.2,
                        "bin_end": 4.3,
                        "count": 0
                      },
                      {
                        "bin_start": 4.3,
                        "bin_end": 4.4,
                        "count": 0
                      },
                      {
                        "bin_start": 4.4,
                        "bin_end": 4.5,
                        "count": 0
                      }
                    ]
                  }
                },
                {
                  "name": "Displacement",
                  "dtype": "float64",
                  "stats": {
                    "unique_count": 5,
                    "nan_count": 0,
                    "min": "97.0",
                    "max": "140.0",
                    "histogram": [
                      {
                        "bin_start": 97,
                        "bin_end": 101.3,
                        "count": 1
                      },
                      {
                        "bin_start": 101.3,
                        "bin_end": 105.6,
                        "count": 0
                      },
                      {
                        "bin_start": 105.6,
                        "bin_end": 109.9,
                        "count": 0
                      },
                      {
                        "bin_start": 109.9,
                        "bin_end": 114.2,
                        "count": 0
                      },
                      {
                        "bin_start": 114.2,
                        "bin_end": 118.5,
                        "count": 0
                      },
                      {
                        "bin_start": 118.5,
                        "bin_end": 122.8,
                        "count": 2
                      },
                      {
                        "bin_start": 122.8,
                        "bin_end": 127.1,
                        "count": 0
                      },
                      {
                        "bin_start": 127.1,
                        "bin_end": 131.4,
                        "count": 0
                      },
                      {
                        "bin_start": 131.4,
                        "bin_end": 135.7,
                        "count": 1
                      },
                      {
                        "bin_start": 135.7,
                        "bin_end": 140,
                        "count": 1
                      }
                    ]
                  }
                },
                {
                  "name": "Horsepower",
                  "dtype": "float64",
                  "stats": {
                    "unique_count": 5,
                    "nan_count": 0,
                    "min": "52.0",
                    "max": "86.0",
                    "histogram": [
                      {
                        "bin_start": 52,
                        "bin_end": 55.4,
                        "count": 1
                      },
                      {
                        "bin_start": 55.4,
                        "bin_end": 58.8,
                        "count": 0
                      },
                      {
                        "bin_start": 58.8,
                        "bin_end": 62.2,
                        "count": 0
                      },
                      {
                        "bin_start": 62.2,
                        "bin_end": 65.6,
                        "count": 0
                      },
                      {
                        "bin_start": 65.6,
                        "bin_end": 69,
                        "count": 0
                      },
                      {
                        "bin_start": 69,
                        "bin_end": 72.4,
                        "count": 0
                      },
                      {
                        "bin_start": 72.4,
                        "bin_end": 75.8,
                        "count": 0
                      },
                      {
                        "bin_start": 75.8,
                        "bin_end": 79.2,
                        "count": 1
                      },
                      {
                        "bin_start": 79.2,
                        "bin_end": 82.6,
                        "count": 1
                      },
                      {
                        "bin_start": 82.6,
                        "bin_end": 86,
                        "count": 2
                      }
                    ]
                  }
                },
                {
                  "name": "Weight",
                  "dtype": "float64",
                  "stats": {
                    "unique_count": 5,
                    "nan_count": 0,
                    "min": "2130.0",
                    "max": "2790.0",
                    "histogram": [
                      {
                        "bin_start": 2130,
                        "bin_end": 2196,
                        "count": 1
                      },
                      {
                        "bin_start": 2196,
                        "bin_end": 2262,
                        "count": 0
                      },
                      {
                        "bin_start": 2262,
                        "bin_end": 2328,
                        "count": 1
                      },
                      {
                        "bin_start": 2328,
                        "bin_end": 2394,
                        "count": 0
                      },
                      {
                        "bin_start": 2394,
                        "bin_end": 2460,
                        "count": 0
                      },
                      {
                        "bin_start": 2460,
                        "bin_end": 2526,
                        "count": 0
                      },
                      {
                        "bin_start": 2526,
                        "bin_end": 2592,
                        "count": 0
                      },
                      {
                        "bin_start": 2592,
                        "bin_end": 2658,
                        "count": 1
                      },
                      {
                        "bin_start": 2658,
                        "bin_end": 2724,
                        "count": 1
                      },
                      {
                        "bin_start": 2724,
                        "bin_end": 2790,
                        "count": 1
                      }
                    ]
                  }
                },
                {
                  "name": "Acceleration",
                  "dtype": "float64",
                  "stats": {
                    "unique_count": 5,
                    "nan_count": 0,
                    "min": "11.6",
                    "max": "24.6",
                    "histogram": [
                      {
                        "bin_start": 11.6,
                        "bin_end": 12.9,
                        "count": 1
                      },
                      {
                        "bin_start": 12.9,
                        "bin_end": 14.2,
                        "count": 0
                      },
                      {
                        "bin_start": 14.2,
                        "bin_end": 15.5,
                        "count": 0
                      },
                      {
                        "bin_start": 15.5,
                        "bin_end": 16.8,
                        "count": 1
                      },
                      {
                        "bin_start": 16.8,
                        "bin_end": 18.1,
                        "count": 0
                      },
                      {
                        "bin_start": 18.1,
                        "bin_end": 19.400000000000002,
                        "count": 2
                      },
                      {
                        "bin_start": 19.400000000000002,
                        "bin_end": 20.700000000000003,
                        "count": 0
                      },
                      {
                        "bin_start": 20.700000000000003,
                        "bin_end": 22,
                        "count": 0
                      },
                      {
                        "bin_start": 22,
                        "bin_end": 23.300000000000004,
                        "count": 0
                      },
                      {
                        "bin_start": 23.300000000000004,
                        "bin_end": 24.6,
                        "count": 1
                      }
                    ]
                  }
                },
                {
                  "name": "Model Year",
                  "dtype": "int64",
                  "stats": {
                    "unique_count": 1,
                    "nan_count": 0,
                    "min": "82",
                    "max": "82",
                    "histogram": [
                      {
                        "bin_start": 81.5,
                        "bin_end": 81.6,
                        "count": 0
                      },
                      {
                        "bin_start": 81.6,
                        "bin_end": 81.7,
                        "count": 0
                      },
                      {
                        "bin_start": 81.7,
                        "bin_end": 81.8,
                        "count": 0
                      },
                      {
                        "bin_start": 81.8,
                        "bin_end": 81.9,
                        "count": 0
                      },
                      {
                        "bin_start": 81.9,
                        "bin_end": 82,
                        "count": 0
                      },
                      {
                        "bin_start": 82,
                        "bin_end": 82.1,
                        "count": 5
                      },
                      {
                        "bin_start": 82.1,
                        "bin_end": 82.2,
                        "count": 0
                      },
                      {
                        "bin_start": 82.2,
                        "bin_end": 82.3,
                        "count": 0
                      },
                      {
                        "bin_start": 82.3,
                        "bin_end": 82.4,
                        "count": 0
                      },
                      {
                        "bin_start": 82.4,
                        "bin_end": 82.5,
                        "count": 0
                      }
                    ]
                  }
                },
                {
                  "name": "Origin",
                  "dtype": "int64",
                  "stats": {
                    "unique_count": 2,
                    "nan_count": 0,
                    "min": "1",
                    "max": "2",
                    "histogram": [
                      {
                        "bin_start": 1,
                        "bin_end": 1.1,
                        "count": 4
                      },
                      {
                        "bin_start": 1.1,
                        "bin_end": 1.2,
                        "count": 0
                      },
                      {
                        "bin_start": 1.2,
                        "bin_end": 1.3,
                        "count": 0
                      },
                      {
                        "bin_start": 1.3,
                        "bin_end": 1.4,
                        "count": 0
                      },
                      {
                        "bin_start": 1.4,
                        "bin_end": 1.5,
                        "count": 0
                      },
                      {
                        "bin_start": 1.5,
                        "bin_end": 1.6,
                        "count": 0
                      },
                      {
                        "bin_start": 1.6,
                        "bin_end": 1.7000000000000002,
                        "count": 0
                      },
                      {
                        "bin_start": 1.7000000000000002,
                        "bin_end": 1.8,
                        "count": 0
                      },
                      {
                        "bin_start": 1.8,
                        "bin_end": 1.9,
                        "count": 0
                      },
                      {
                        "bin_start": 1.9,
                        "bin_end": 2,
                        "count": 1
                      }
                    ]
                  }
                },
                {
                  "name": "_deepnote_index_column",
                  "dtype": "int64"
                }
              ],
              "rows": [
                {
                  "MPG": 27,
                  "Cylinders": 4,
                  "Displacement": 140,
                  "Horsepower": 86,
                  "Weight": 2790,
                  "Acceleration": 15.6,
                  "Model Year": 82,
                  "Origin": 1,
                  "_deepnote_index_column": 393
                },
                {
                  "MPG": 44,
                  "Cylinders": 4,
                  "Displacement": 97,
                  "Horsepower": 52,
                  "Weight": 2130,
                  "Acceleration": 24.6,
                  "Model Year": 82,
                  "Origin": 2,
                  "_deepnote_index_column": 394
                },
                {
                  "MPG": 32,
                  "Cylinders": 4,
                  "Displacement": 135,
                  "Horsepower": 84,
                  "Weight": 2295,
                  "Acceleration": 11.6,
                  "Model Year": 82,
                  "Origin": 1,
                  "_deepnote_index_column": 395
                },
                {
                  "MPG": 28,
                  "Cylinders": 4,
                  "Displacement": 120,
                  "Horsepower": 79,
                  "Weight": 2625,
                  "Acceleration": 18.6,
                  "Model Year": 82,
                  "Origin": 1,
                  "_deepnote_index_column": 396
                },
                {
                  "MPG": 31,
                  "Cylinders": 4,
                  "Displacement": 119,
                  "Horsepower": 82,
                  "Weight": 2720,
                  "Acceleration": 19.4,
                  "Model Year": 82,
                  "Origin": 1,
                  "_deepnote_index_column": 397
                }
              ]
            },
            "text/plain": "      MPG  Cylinders  Displacement  Horsepower  Weight  Acceleration  \\\n393  27.0          4         140.0        86.0  2790.0          15.6   \n394  44.0          4          97.0        52.0  2130.0          24.6   \n395  32.0          4         135.0        84.0  2295.0          11.6   \n396  28.0          4         120.0        79.0  2625.0          18.6   \n397  31.0          4         119.0        82.0  2720.0          19.4   \n\n     Model Year  Origin  \n393          82       1  \n394          82       2  \n395          82       1  \n396          82       1  \n397          82       1  ",
            "text/html": "<div>\n<style scoped>\n    .dataframe tbody tr th:only-of-type {\n        vertical-align: middle;\n    }\n\n    .dataframe tbody tr th {\n        vertical-align: top;\n    }\n\n    .dataframe thead th {\n        text-align: right;\n    }\n</style>\n<table border=\"1\" class=\"dataframe\">\n  <thead>\n    <tr style=\"text-align: right;\">\n      <th></th>\n      <th>MPG</th>\n      <th>Cylinders</th>\n      <th>Displacement</th>\n      <th>Horsepower</th>\n      <th>Weight</th>\n      <th>Acceleration</th>\n      <th>Model Year</th>\n      <th>Origin</th>\n    </tr>\n  </thead>\n  <tbody>\n    <tr>\n      <th>393</th>\n      <td>27.0</td>\n      <td>4</td>\n      <td>140.0</td>\n      <td>86.0</td>\n      <td>2790.0</td>\n      <td>15.6</td>\n      <td>82</td>\n      <td>1</td>\n    </tr>\n    <tr>\n      <th>394</th>\n      <td>44.0</td>\n      <td>4</td>\n      <td>97.0</td>\n      <td>52.0</td>\n      <td>2130.0</td>\n      <td>24.6</td>\n      <td>82</td>\n      <td>2</td>\n    </tr>\n    <tr>\n      <th>395</th>\n      <td>32.0</td>\n      <td>4</td>\n      <td>135.0</td>\n      <td>84.0</td>\n      <td>2295.0</td>\n      <td>11.6</td>\n      <td>82</td>\n      <td>1</td>\n    </tr>\n    <tr>\n      <th>396</th>\n      <td>28.0</td>\n      <td>4</td>\n      <td>120.0</td>\n      <td>79.0</td>\n      <td>2625.0</td>\n      <td>18.6</td>\n      <td>82</td>\n      <td>1</td>\n    </tr>\n    <tr>\n      <th>397</th>\n      <td>31.0</td>\n      <td>4</td>\n      <td>119.0</td>\n      <td>82.0</td>\n      <td>2720.0</td>\n      <td>19.4</td>\n      <td>82</td>\n      <td>1</td>\n    </tr>\n  </tbody>\n</table>\n</div>"
          },
          "metadata": {}
        }
      ],
      "outputs_reference": null,
      "execution_count": 9,
      "block_group": "c99ccb1895ed4c9e884a1323a92e4f41",
      "content_dependencies": null
    },
    {
      "cell_type": "markdown",
      "source": "# Prep Data",
      "metadata": {
        "formattedRanges": [],
        "cell_id": "4bd9d08cdd9f463093fa63c59b3b1297",
        "deepnote_cell_type": "text-cell-h1"
      },
      "block_group": "957b00df54d2421b862a87a352db9ef3"
    },
    {
      "cell_type": "code",
      "source": "train_dataset = dataset.sample(frac=0.8,random_state=0)  test_dataset = dataset.drop(train_dataset.index)\nsns.pairplot(train_dataset[[\"MPG\", \"Cylinders\", \"Displacement\", \"Weight\"]], diag_kind=\"kde\")",
      "metadata": {
        "execution_context_id": "22688e1f-e7d8-4b85-81cc-32df5aca8be2",
        "deepnote_to_be_reexecuted": true,
        "cell_id": "fae9b7287c6f4631bb9d2341c07ea7ea",
        "deepnote_cell_type": "code"
      },
      "outputs": [],
      "outputs_reference": null,
      "execution_count": null,
      "block_group": "2da010f307d94f42bd67779aac0baf91",
      "content_dependencies": null
    },
    {
      "cell_type": "code",
      "source": "train_labels = train_dataset.pop('MPG')\ntest_labels = test_dataset.pop('MPG')  ",
      "metadata": {
        "execution_context_id": "22688e1f-e7d8-4b85-81cc-32df5aca8be2",
        "deepnote_to_be_reexecuted": true,
        "cell_id": "6253d25a6659437996d1a7e01b9de27f",
        "deepnote_cell_type": "code"
      },
      "outputs": [],
      "outputs_reference": null,
      "execution_count": null,
      "block_group": "afc6bb5032fd428a8938e3e0fe9966bc",
      "content_dependencies": null
    },
    {
      "cell_type": "code",
      "source": "def norm(x):\n    return (x - train_stats['mean']) / train_stats['std']\nnormed_train_data = norm(train_dataset)\nnormed_test_data = norm(test_dataset)",
      "metadata": {
        "execution_context_id": "22688e1f-e7d8-4b85-81cc-32df5aca8be2",
        "deepnote_to_be_reexecuted": true,
        "cell_id": "a296e1c8e52646128e62536fd4bc2a16",
        "deepnote_cell_type": "code"
      },
      "outputs": [],
      "outputs_reference": null,
      "execution_count": null,
      "block_group": "14a4eaacf30f45e289a66b394fd2d419",
      "content_dependencies": null
    },
    {
      "cell_type": "markdown",
      "source": "# Review Statistics",
      "metadata": {
        "formattedRanges": [],
        "cell_id": "37a36141340646f0aa0d5390ec8b2948",
        "deepnote_cell_type": "text-cell-h1"
      },
      "block_group": "8659aedd108547ada84d9540fed9214d"
    },
    {
      "cell_type": "code",
      "source": "train_stats = train_dataset.describe()\ntrain_stats.pop(\"MPG\")\ntrain_stats = train_stats.transpose()\ntrain_stats",
      "metadata": {
        "execution_context_id": "22688e1f-e7d8-4b85-81cc-32df5aca8be2",
        "deepnote_to_be_reexecuted": true,
        "cell_id": "6abe4f98ddce403b9ef348cfd80ed826",
        "deepnote_cell_type": "code"
      },
      "outputs": [],
      "outputs_reference": null,
      "execution_count": null,
      "block_group": "78df82ff33ec43fa855c8046ff384eeb",
      "content_dependencies": null
    },
    {
      "cell_type": "markdown",
      "source": "# Build Model",
      "metadata": {
        "formattedRanges": [],
        "cell_id": "007487d201e94f63b1430665f6a45978",
        "deepnote_cell_type": "text-cell-h1"
      },
      "block_group": "042dd9845f9e4db8b658bda677339dca"
    },
    {
      "cell_type": "markdown",
      "source": "<a style='text-decoration:none;line-height:16px;display:flex;color:#5B5B62;padding:10px;justify-content:end;' href='https://deepnote.com?utm_source=created-in-deepnote-cell&projectId=e4308444-ee4b-40c4-b1c5-a2dd284b3779' target=\"_blank\">\n<img alt='Created in deepnote.com' style='display:inline;max-height:16px;margin:0px;margin-right:7.5px;' src='data:image/svg+xml;base64,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' > </img>\nCreated in <span style='font-weight:600;margin-left:4px;'>Deepnote</span></a>",
      "metadata": {
        "created_in_deepnote_cell": true,
        "deepnote_cell_type": "markdown"
      }
    }
  ],
  "nbformat": 4,
  "nbformat_minor": 0,
  "metadata": {
    "deepnote_full_width": true,
    "deepnote_notebook_id": "3ca9da95fb8d49cd94845c9540f5e3ac",
    "deepnote_execution_queue": []
  }
}