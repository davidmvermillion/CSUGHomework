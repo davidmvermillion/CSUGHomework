{
  "cells": [
    {
      "cell_type": "markdown",
      "source": "## Initialization Notebook\nThis is your initialization notebook.\n\n**What's this for?**\n\nYou can put custom code you want us to run every time we setup your environment in here. \n\n**Awesome! Anything I should not put in here?**\n\nPlease don't install `jupyter` or `jedi` packages, they would break your Deepnote environment. Also, no need to put `!pip install`s here, we already save those automatically!\n\n**I want to learn more!**\n\nGreat! Just [head over to our docs](https://deepnote.com/docs/custom-initialization).",
      "metadata": {
        "cell_id": "dd8c723b716e4996b2153c1bf07a90a0",
        "deepnote_cell_type": "markdown"
      },
      "block_group": "dd8c723b716e4996b2153c1bf07a90a0"
    },
    {
      "cell_type": "code",
      "source": "%%bash\n# If your project has a 'requirements.txt' file, we'll install it here.\nif test -f requirements.txt\n  then\n    pip install -r ./requirements.txt\n  else echo \"There's no requirements.txt, so nothing to install.\"\nfi",
      "metadata": {
        "source_hash": "8d2fa896",
        "execution_start": 1727579380942,
        "execution_millis": 2917,
        "execution_context_id": "7eb81fa5-1733-4b7d-8a5f-7e0995068498",
        "cell_id": "9a79decded2c4ca3aaa136522a28436d",
        "deepnote_cell_type": "code"
      },
      "outputs": [
        {
          "name": "stdout",
          "text": "Collecting tensorflow_docs\n  Downloading tensorflow_docs-2024.2.5.73858-py3-none-any.whl (182 kB)\n     ━━━━━━━━━━━━━━━━━━━━━━━━━━━━━━━━━━━━━━ 182.5/182.5 kB 19.7 MB/s eta 0:00:00\nRequirement already satisfied: protobuf>=3.12 in /usr/local/lib/python3.10/dist-packages (from tensorflow_docs->-r ./requirements.txt (line 1)) (3.19.6)\nCollecting astor\n  Downloading astor-0.8.1-py2.py3-none-any.whl (27 kB)\nCollecting pyyaml\n  Downloading PyYAML-6.0.2-cp310-cp310-manylinux_2_17_x86_64.manylinux2014_x86_64.whl (751 kB)\n     ━━━━━━━━━━━━━━━━━━━━━━━━━━━━━━━━━━━━━━ 751.2/751.2 kB 70.8 MB/s eta 0:00:00\nRequirement already satisfied: nbformat in /shared-libs/python3.10/py-core/lib/python3.10/site-packages (from tensorflow_docs->-r ./requirements.txt (line 1)) (5.7.0)\nRequirement already satisfied: absl-py in /usr/local/lib/python3.10/dist-packages (from tensorflow_docs->-r ./requirements.txt (line 1)) (2.1.0)\nRequirement already satisfied: jinja2 in /shared-libs/python3.10/py-core/lib/python3.10/site-packages (from tensorflow_docs->-r ./requirements.txt (line 1)) (3.1.2)\nRequirement already satisfied: MarkupSafe>=2.0 in /shared-libs/python3.10/py-core/lib/python3.10/site-packages (from jinja2->tensorflow_docs->-r ./requirements.txt (line 1)) (2.0.0)\nRequirement already satisfied: traitlets>=5.1 in /shared-libs/python3.10/py-core/lib/python3.10/site-packages (from nbformat->tensorflow_docs->-r ./requirements.txt (line 1)) (5.5.0)\nRequirement already satisfied: fastjsonschema in /shared-libs/python3.10/py-core/lib/python3.10/site-packages (from nbformat->tensorflow_docs->-r ./requirements.txt (line 1)) (2.16.2)\nRequirement already satisfied: jupyter-core in /shared-libs/python3.10/py-core/lib/python3.10/site-packages (from nbformat->tensorflow_docs->-r ./requirements.txt (line 1)) (4.11.2)\nRequirement already satisfied: jsonschema>=2.6 in /shared-libs/python3.10/py-core/lib/python3.10/site-packages (from nbformat->tensorflow_docs->-r ./requirements.txt (line 1)) (3.2.0)\nRequirement already satisfied: six>=1.11.0 in /shared-libs/python3.10/py-core/lib/python3.10/site-packages (from jsonschema>=2.6->nbformat->tensorflow_docs->-r ./requirements.txt (line 1)) (1.16.0)\nRequirement already satisfied: pyrsistent>=0.14.0 in /shared-libs/python3.10/py-core/lib/python3.10/site-packages (from jsonschema>=2.6->nbformat->tensorflow_docs->-r ./requirements.txt (line 1)) (0.18.1)\nRequirement already satisfied: setuptools in /root/venv/lib/python3.10/site-packages (from jsonschema>=2.6->nbformat->tensorflow_docs->-r ./requirements.txt (line 1)) (65.5.0)\nRequirement already satisfied: attrs>=17.4.0 in /shared-libs/python3.10/py-core/lib/python3.10/site-packages (from jsonschema>=2.6->nbformat->tensorflow_docs->-r ./requirements.txt (line 1)) (22.1.0)\nInstalling collected packages: pyyaml, astor, tensorflow_docs\nSuccessfully installed astor-0.8.1 pyyaml-6.0.2 tensorflow_docs-2024.2.5.73858\n\n[notice] A new release of pip is available: 23.0.1 -> 24.2\n[notice] To update, run: pip install --upgrade pip\n",
          "output_type": "stream"
        }
      ],
      "outputs_reference": null,
      "execution_count": 1,
      "block_group": "9a79decded2c4ca3aaa136522a28436d",
      "content_dependencies": null
    },
    {
      "cell_type": "markdown",
      "source": "<a style='text-decoration:none;line-height:16px;display:flex;color:#5B5B62;padding:10px;justify-content:end;' href='https://deepnote.com?utm_source=created-in-deepnote-cell&projectId=e4308444-ee4b-40c4-b1c5-a2dd284b3779' target=\"_blank\">\n<img alt='Created in deepnote.com' style='display:inline;max-height:16px;margin:0px;margin-right:7.5px;' src='data:image/svg+xml;base64,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' > </img>\nCreated in <span style='font-weight:600;margin-left:4px;'>Deepnote</span></a>",
      "metadata": {
        "created_in_deepnote_cell": true,
        "deepnote_cell_type": "markdown"
      }
    }
  ],
  "nbformat": 4,
  "nbformat_minor": 0,
  "metadata": {
    "deepnote_notebook_id": "5e2a9f137036453883658f852c1d65ab",
    "deepnote_execution_queue": []
  }
}