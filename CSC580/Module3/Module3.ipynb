{
  "cells": [
    {
      "cell_type": "markdown",
      "source": "# Setup Environment",
      "metadata": {
        "formattedRanges": [],
        "cell_id": "57dc0c26d92d43d383352dc673b30471",
        "deepnote_cell_type": "text-cell-h1"
      },
      "block_group": "2059f3ede60d4801978f3a4392d647dd"
    },
    {
      "cell_type": "markdown",
      "source": "Assuming starter code has same V1 shortfalls as for Module 2.",
      "metadata": {
        "formattedRanges": [],
        "cell_id": "da8f6af8d0f94e9397bae842d2d9de03",
        "deepnote_cell_type": "text-cell-p"
      },
      "block_group": "453487b0392549f7b356ab38d9c343f4"
    },
    {
      "cell_type": "code",
      "source": "# import matplotlib.pyplot as plt\n# from __future__ import absolute_import, division, print_function, unicode_literals\n# import pathlib\n# import pandas as pd\n# import seaborn as sns\n# import numpy as np\n# import tensorflow.compat.v1 as tf\n# from tensorflow import keras\n# from tensorflow.keras import layers\n# tf.disable_v2_behavior()\n# import tensorflow_docs as tfdocs\n# import tensorflow_docs.plots\n# import tensorflow_docs.modeling",
      "metadata": {
        "source_hash": "9f6520d1",
        "execution_start": 1727571794878,
        "execution_millis": 0,
        "execution_context_id": "05c96779-690f-4f08-8deb-8c4846ebd6bb",
        "cell_id": "e3c0f97e9b3546cb90d52f73bc2d0a50",
        "deepnote_cell_type": "code"
      },
      "outputs": [],
      "outputs_reference": null,
      "execution_count": 1,
      "block_group": "e3c0f97e9b3546cb90d52f73bc2d0a50",
      "content_dependencies": null
    },
    {
      "cell_type": "markdown",
      "source": "Original Code is Tensorflow V 2.0.0, so it may work without forcing V1 behavior.",
      "metadata": {
        "formattedRanges": [],
        "cell_id": "83faffc2db7d4fc09452e46336fdaf76",
        "deepnote_cell_type": "text-cell-p"
      },
      "block_group": "0de1a3512b2b4c64a2e9d23a9f46a8e9"
    },
    {
      "cell_type": "code",
      "source": "import matplotlib.pyplot as plt\nfrom __future__ import absolute_import, division, print_function, unicode_literals\nimport pathlib\nimport pandas as pd\nimport seaborn as sns\nimport numpy as np\nimport tensorflow as tf\nfrom tensorflow import keras\nfrom tensorflow.keras import layers\nimport tensorflow_docs as tfdocs\nimport tensorflow_docs.plots\nimport tensorflow_docs.modeling",
      "metadata": {
        "source_hash": "c2aaed00",
        "execution_start": 1727571794926,
        "execution_millis": 2307,
        "execution_context_id": "05c96779-690f-4f08-8deb-8c4846ebd6bb",
        "cell_id": "2bf060cdbac247e780d8b8d267a6288b",
        "deepnote_cell_type": "code"
      },
      "outputs": [
        {
          "name": "stderr",
          "text": "2024-09-28 21:03:15.775492: I tensorflow/core/platform/cpu_feature_guard.cc:193] This TensorFlow binary is optimized with oneAPI Deep Neural Network Library (oneDNN) to use the following CPU instructions in performance-critical operations:  AVX2 FMA\nTo enable them in other operations, rebuild TensorFlow with the appropriate compiler flags.\n2024-09-28 21:03:16.674752: W tensorflow/compiler/xla/stream_executor/platform/default/dso_loader.cc:64] Could not load dynamic library 'libnvinfer.so.7'; dlerror: libnvinfer.so.7: cannot open shared object file: No such file or directory; LD_LIBRARY_PATH: /usr/local/nvidia/lib:/usr/local/nvidia/lib64\n2024-09-28 21:03:16.674825: W tensorflow/compiler/xla/stream_executor/platform/default/dso_loader.cc:64] Could not load dynamic library 'libnvinfer_plugin.so.7'; dlerror: libnvinfer_plugin.so.7: cannot open shared object file: No such file or directory; LD_LIBRARY_PATH: /usr/local/nvidia/lib:/usr/local/nvidia/lib64\n2024-09-28 21:03:16.674829: W tensorflow/compiler/tf2tensorrt/utils/py_utils.cc:38] TF-TRT Warning: Cannot dlopen some TensorRT libraries. If you would like to use Nvidia GPU with TensorRT, please make sure the missing libraries mentioned above are installed properly.\n",
          "output_type": "stream"
        }
      ],
      "outputs_reference": null,
      "execution_count": 2,
      "block_group": "e2e680d6d30b42e7a8d2f88ce7f46c57",
      "content_dependencies": null
    },
    {
      "cell_type": "code",
      "source": "print(tf.__version__)",
      "metadata": {
        "source_hash": "ba55828f",
        "execution_start": 1727571797282,
        "execution_millis": 0,
        "execution_context_id": "05c96779-690f-4f08-8deb-8c4846ebd6bb",
        "cell_id": "05b0bbf3f111406f84510a506c59a788",
        "deepnote_cell_type": "code"
      },
      "outputs": [
        {
          "name": "stdout",
          "text": "2.11.1\n",
          "output_type": "stream"
        }
      ],
      "outputs_reference": null,
      "execution_count": 3,
      "block_group": "a6bcfcbe38fb489b8c3775c700446dab",
      "content_dependencies": null
    },
    {
      "cell_type": "markdown",
      "source": "# Import Data",
      "metadata": {
        "formattedRanges": [],
        "cell_id": "b2a4577853644c5f90e6c5a73d282ef4",
        "deepnote_cell_type": "text-cell-h1"
      },
      "block_group": "514ce2f2852a4562967c16b101964d55"
    },
    {
      "cell_type": "markdown",
      "source": "Code below has some error in the import function get_file that I don't understand. Using the following block instead. https://www.tensorflow.org/tutorials/keras/regression",
      "metadata": {
        "formattedRanges": [
          {
            "type": "marks",
            "marks": {
              "italic": true
            },
            "toCodePoint": 57,
            "fromCodePoint": 49
          },
          {
            "url": "https://www.tensorflow.org/tutorials/keras/regression",
            "type": "link",
            "ranges": [],
            "toCodePoint": 171,
            "fromCodePoint": 118
          }
        ],
        "cell_id": "bebc7e20224a4aa88f616ca34bd245c0",
        "deepnote_cell_type": "text-cell-p"
      },
      "block_group": "073f8fde1ab94909be6a4d5f138e36b2"
    },
    {
      "cell_type": "code",
      "source": "# dataset_path = keras.utils.get_file(\"auto-mpg.data\", \"http://archive.ics.uci.edu/ml/machine-learning-databases/auto-mpg/auto-mpg.data\", cache_subdir = 'my_data')\n# dataset_path\n# column_names = ['MPG', 'Cylinders', 'Displacement', 'Horsepower', 'Weight', 'Acceleration', 'Model Year', 'Origin']\n# raw_dataset = pd.read_csv(dataset_path, names = column_names, na_values = \"?\", comment = '\\t', sep = \" \", skipinitialspace = True)\n# dataset = raw_dataset.copy()\n# dataset.tail()",
      "metadata": {
        "source_hash": "426a1cbb",
        "execution_start": 1727571797334,
        "execution_millis": 0,
        "execution_context_id": "05c96779-690f-4f08-8deb-8c4846ebd6bb",
        "cell_id": "e721033f05794b04a29373817656158d",
        "deepnote_cell_type": "code"
      },
      "outputs": [],
      "outputs_reference": null,
      "execution_count": 4,
      "block_group": "2170e37d3a5f4872a1c7c5f421d6e7fe",
      "content_dependencies": null
    },
    {
      "cell_type": "code",
      "source": "url = 'http://archive.ics.uci.edu/ml/machine-learning-databases/auto-mpg/auto-mpg.data'\ncolumn_names = ['MPG', 'Cylinders', 'Displacement', 'Horsepower', 'Weight',\n                'Acceleration', 'Model Year', 'Origin']\n\nraw_dataset = pd.read_csv(url, names=column_names,\n                          na_values='?', comment='\\t',\n                          sep=' ', skipinitialspace=True)\n\ndataset = raw_dataset.copy()\ndataset.tail()",
      "metadata": {
        "source_hash": "561ce800",
        "execution_start": 1727571797382,
        "execution_millis": 338,
        "execution_context_id": "05c96779-690f-4f08-8deb-8c4846ebd6bb",
        "cell_id": "99e819fc01794b0e8d0a7475db663c80",
        "deepnote_cell_type": "code"
      },
      "outputs": [
        {
          "output_type": "execute_result",
          "execution_count": 5,
          "data": {
            "application/vnd.deepnote.dataframe.v3+json": {
              "column_count": 8,
              "row_count": 5,
              "columns": [
                {
                  "name": "MPG",
                  "dtype": "float64",
                  "stats": {
                    "unique_count": 5,
                    "nan_count": 0,
                    "min": "27.0",
                    "max": "44.0",
                    "histogram": [
                      {
                        "bin_start": 27,
                        "bin_end": 28.7,
                        "count": 2
                      },
                      {
                        "bin_start": 28.7,
                        "bin_end": 30.4,
                        "count": 0
                      },
                      {
                        "bin_start": 30.4,
                        "bin_end": 32.1,
                        "count": 2
                      },
                      {
                        "bin_start": 32.1,
                        "bin_end": 33.8,
                        "count": 0
                      },
                      {
                        "bin_start": 33.8,
                        "bin_end": 35.5,
                        "count": 0
                      },
                      {
                        "bin_start": 35.5,
                        "bin_end": 37.2,
                        "count": 0
                      },
                      {
                        "bin_start": 37.2,
                        "bin_end": 38.9,
                        "count": 0
                      },
                      {
                        "bin_start": 38.9,
                        "bin_end": 40.6,
                        "count": 0
                      },
                      {
                        "bin_start": 40.6,
                        "bin_end": 42.3,
                        "count": 0
                      },
                      {
                        "bin_start": 42.3,
                        "bin_end": 44,
                        "count": 1
                      }
                    ]
                  }
                },
                {
                  "name": "Cylinders",
                  "dtype": "int64",
                  "stats": {
                    "unique_count": 1,
                    "nan_count": 0,
                    "min": "4",
                    "max": "4",
                    "histogram": [
                      {
                        "bin_start": 3.5,
                        "bin_end": 3.6,
                        "count": 0
                      },
                      {
                        "bin_start": 3.6,
                        "bin_end": 3.7,
                        "count": 0
                      },
                      {
                        "bin_start": 3.7,
                        "bin_end": 3.8,
                        "count": 0
                      },
                      {
                        "bin_start": 3.8,
                        "bin_end": 3.9,
                        "count": 0
                      },
                      {
                        "bin_start": 3.9,
                        "bin_end": 4,
                        "count": 0
                      },
                      {
                        "bin_start": 4,
                        "bin_end": 4.1,
                        "count": 5
                      },
                      {
                        "bin_start": 4.1,
                        "bin_end": 4.2,
                        "count": 0
                      },
                      {
                        "bin_start": 4.2,
                        "bin_end": 4.3,
                        "count": 0
                      },
                      {
                        "bin_start": 4.3,
                        "bin_end": 4.4,
                        "count": 0
                      },
                      {
                        "bin_start": 4.4,
                        "bin_end": 4.5,
                        "count": 0
                      }
                    ]
                  }
                },
                {
                  "name": "Displacement",
                  "dtype": "float64",
                  "stats": {
                    "unique_count": 5,
                    "nan_count": 0,
                    "min": "97.0",
                    "max": "140.0",
                    "histogram": [
                      {
                        "bin_start": 97,
                        "bin_end": 101.3,
                        "count": 1
                      },
                      {
                        "bin_start": 101.3,
                        "bin_end": 105.6,
                        "count": 0
                      },
                      {
                        "bin_start": 105.6,
                        "bin_end": 109.9,
                        "count": 0
                      },
                      {
                        "bin_start": 109.9,
                        "bin_end": 114.2,
                        "count": 0
                      },
                      {
                        "bin_start": 114.2,
                        "bin_end": 118.5,
                        "count": 0
                      },
                      {
                        "bin_start": 118.5,
                        "bin_end": 122.8,
                        "count": 2
                      },
                      {
                        "bin_start": 122.8,
                        "bin_end": 127.1,
                        "count": 0
                      },
                      {
                        "bin_start": 127.1,
                        "bin_end": 131.4,
                        "count": 0
                      },
                      {
                        "bin_start": 131.4,
                        "bin_end": 135.7,
                        "count": 1
                      },
                      {
                        "bin_start": 135.7,
                        "bin_end": 140,
                        "count": 1
                      }
                    ]
                  }
                },
                {
                  "name": "Horsepower",
                  "dtype": "float64",
                  "stats": {
                    "unique_count": 5,
                    "nan_count": 0,
                    "min": "52.0",
                    "max": "86.0",
                    "histogram": [
                      {
                        "bin_start": 52,
                        "bin_end": 55.4,
                        "count": 1
                      },
                      {
                        "bin_start": 55.4,
                        "bin_end": 58.8,
                        "count": 0
                      },
                      {
                        "bin_start": 58.8,
                        "bin_end": 62.2,
                        "count": 0
                      },
                      {
                        "bin_start": 62.2,
                        "bin_end": 65.6,
                        "count": 0
                      },
                      {
                        "bin_start": 65.6,
                        "bin_end": 69,
                        "count": 0
                      },
                      {
                        "bin_start": 69,
                        "bin_end": 72.4,
                        "count": 0
                      },
                      {
                        "bin_start": 72.4,
                        "bin_end": 75.8,
                        "count": 0
                      },
                      {
                        "bin_start": 75.8,
                        "bin_end": 79.2,
                        "count": 1
                      },
                      {
                        "bin_start": 79.2,
                        "bin_end": 82.6,
                        "count": 1
                      },
                      {
                        "bin_start": 82.6,
                        "bin_end": 86,
                        "count": 2
                      }
                    ]
                  }
                },
                {
                  "name": "Weight",
                  "dtype": "float64",
                  "stats": {
                    "unique_count": 5,
                    "nan_count": 0,
                    "min": "2130.0",
                    "max": "2790.0",
                    "histogram": [
                      {
                        "bin_start": 2130,
                        "bin_end": 2196,
                        "count": 1
                      },
                      {
                        "bin_start": 2196,
                        "bin_end": 2262,
                        "count": 0
                      },
                      {
                        "bin_start": 2262,
                        "bin_end": 2328,
                        "count": 1
                      },
                      {
                        "bin_start": 2328,
                        "bin_end": 2394,
                        "count": 0
                      },
                      {
                        "bin_start": 2394,
                        "bin_end": 2460,
                        "count": 0
                      },
                      {
                        "bin_start": 2460,
                        "bin_end": 2526,
                        "count": 0
                      },
                      {
                        "bin_start": 2526,
                        "bin_end": 2592,
                        "count": 0
                      },
                      {
                        "bin_start": 2592,
                        "bin_end": 2658,
                        "count": 1
                      },
                      {
                        "bin_start": 2658,
                        "bin_end": 2724,
                        "count": 1
                      },
                      {
                        "bin_start": 2724,
                        "bin_end": 2790,
                        "count": 1
                      }
                    ]
                  }
                },
                {
                  "name": "Acceleration",
                  "dtype": "float64",
                  "stats": {
                    "unique_count": 5,
                    "nan_count": 0,
                    "min": "11.6",
                    "max": "24.6",
                    "histogram": [
                      {
                        "bin_start": 11.6,
                        "bin_end": 12.9,
                        "count": 1
                      },
                      {
                        "bin_start": 12.9,
                        "bin_end": 14.2,
                        "count": 0
                      },
                      {
                        "bin_start": 14.2,
                        "bin_end": 15.5,
                        "count": 0
                      },
                      {
                        "bin_start": 15.5,
                        "bin_end": 16.8,
                        "count": 1
                      },
                      {
                        "bin_start": 16.8,
                        "bin_end": 18.1,
                        "count": 0
                      },
                      {
                        "bin_start": 18.1,
                        "bin_end": 19.400000000000002,
                        "count": 2
                      },
                      {
                        "bin_start": 19.400000000000002,
                        "bin_end": 20.700000000000003,
                        "count": 0
                      },
                      {
                        "bin_start": 20.700000000000003,
                        "bin_end": 22,
                        "count": 0
                      },
                      {
                        "bin_start": 22,
                        "bin_end": 23.300000000000004,
                        "count": 0
                      },
                      {
                        "bin_start": 23.300000000000004,
                        "bin_end": 24.6,
                        "count": 1
                      }
                    ]
                  }
                },
                {
                  "name": "Model Year",
                  "dtype": "int64",
                  "stats": {
                    "unique_count": 1,
                    "nan_count": 0,
                    "min": "82",
                    "max": "82",
                    "histogram": [
                      {
                        "bin_start": 81.5,
                        "bin_end": 81.6,
                        "count": 0
                      },
                      {
                        "bin_start": 81.6,
                        "bin_end": 81.7,
                        "count": 0
                      },
                      {
                        "bin_start": 81.7,
                        "bin_end": 81.8,
                        "count": 0
                      },
                      {
                        "bin_start": 81.8,
                        "bin_end": 81.9,
                        "count": 0
                      },
                      {
                        "bin_start": 81.9,
                        "bin_end": 82,
                        "count": 0
                      },
                      {
                        "bin_start": 82,
                        "bin_end": 82.1,
                        "count": 5
                      },
                      {
                        "bin_start": 82.1,
                        "bin_end": 82.2,
                        "count": 0
                      },
                      {
                        "bin_start": 82.2,
                        "bin_end": 82.3,
                        "count": 0
                      },
                      {
                        "bin_start": 82.3,
                        "bin_end": 82.4,
                        "count": 0
                      },
                      {
                        "bin_start": 82.4,
                        "bin_end": 82.5,
                        "count": 0
                      }
                    ]
                  }
                },
                {
                  "name": "Origin",
                  "dtype": "int64",
                  "stats": {
                    "unique_count": 2,
                    "nan_count": 0,
                    "min": "1",
                    "max": "2",
                    "histogram": [
                      {
                        "bin_start": 1,
                        "bin_end": 1.1,
                        "count": 4
                      },
                      {
                        "bin_start": 1.1,
                        "bin_end": 1.2,
                        "count": 0
                      },
                      {
                        "bin_start": 1.2,
                        "bin_end": 1.3,
                        "count": 0
                      },
                      {
                        "bin_start": 1.3,
                        "bin_end": 1.4,
                        "count": 0
                      },
                      {
                        "bin_start": 1.4,
                        "bin_end": 1.5,
                        "count": 0
                      },
                      {
                        "bin_start": 1.5,
                        "bin_end": 1.6,
                        "count": 0
                      },
                      {
                        "bin_start": 1.6,
                        "bin_end": 1.7000000000000002,
                        "count": 0
                      },
                      {
                        "bin_start": 1.7000000000000002,
                        "bin_end": 1.8,
                        "count": 0
                      },
                      {
                        "bin_start": 1.8,
                        "bin_end": 1.9,
                        "count": 0
                      },
                      {
                        "bin_start": 1.9,
                        "bin_end": 2,
                        "count": 1
                      }
                    ]
                  }
                },
                {
                  "name": "_deepnote_index_column",
                  "dtype": "int64"
                }
              ],
              "rows": [
                {
                  "MPG": 27,
                  "Cylinders": 4,
                  "Displacement": 140,
                  "Horsepower": 86,
                  "Weight": 2790,
                  "Acceleration": 15.6,
                  "Model Year": 82,
                  "Origin": 1,
                  "_deepnote_index_column": 393
                },
                {
                  "MPG": 44,
                  "Cylinders": 4,
                  "Displacement": 97,
                  "Horsepower": 52,
                  "Weight": 2130,
                  "Acceleration": 24.6,
                  "Model Year": 82,
                  "Origin": 2,
                  "_deepnote_index_column": 394
                },
                {
                  "MPG": 32,
                  "Cylinders": 4,
                  "Displacement": 135,
                  "Horsepower": 84,
                  "Weight": 2295,
                  "Acceleration": 11.6,
                  "Model Year": 82,
                  "Origin": 1,
                  "_deepnote_index_column": 395
                },
                {
                  "MPG": 28,
                  "Cylinders": 4,
                  "Displacement": 120,
                  "Horsepower": 79,
                  "Weight": 2625,
                  "Acceleration": 18.6,
                  "Model Year": 82,
                  "Origin": 1,
                  "_deepnote_index_column": 396
                },
                {
                  "MPG": 31,
                  "Cylinders": 4,
                  "Displacement": 119,
                  "Horsepower": 82,
                  "Weight": 2720,
                  "Acceleration": 19.4,
                  "Model Year": 82,
                  "Origin": 1,
                  "_deepnote_index_column": 397
                }
              ]
            },
            "text/plain": "      MPG  Cylinders  Displacement  Horsepower  Weight  Acceleration  \\\n393  27.0          4         140.0        86.0  2790.0          15.6   \n394  44.0          4          97.0        52.0  2130.0          24.6   \n395  32.0          4         135.0        84.0  2295.0          11.6   \n396  28.0          4         120.0        79.0  2625.0          18.6   \n397  31.0          4         119.0        82.0  2720.0          19.4   \n\n     Model Year  Origin  \n393          82       1  \n394          82       2  \n395          82       1  \n396          82       1  \n397          82       1  ",
            "text/html": "<div>\n<style scoped>\n    .dataframe tbody tr th:only-of-type {\n        vertical-align: middle;\n    }\n\n    .dataframe tbody tr th {\n        vertical-align: top;\n    }\n\n    .dataframe thead th {\n        text-align: right;\n    }\n</style>\n<table border=\"1\" class=\"dataframe\">\n  <thead>\n    <tr style=\"text-align: right;\">\n      <th></th>\n      <th>MPG</th>\n      <th>Cylinders</th>\n      <th>Displacement</th>\n      <th>Horsepower</th>\n      <th>Weight</th>\n      <th>Acceleration</th>\n      <th>Model Year</th>\n      <th>Origin</th>\n    </tr>\n  </thead>\n  <tbody>\n    <tr>\n      <th>393</th>\n      <td>27.0</td>\n      <td>4</td>\n      <td>140.0</td>\n      <td>86.0</td>\n      <td>2790.0</td>\n      <td>15.6</td>\n      <td>82</td>\n      <td>1</td>\n    </tr>\n    <tr>\n      <th>394</th>\n      <td>44.0</td>\n      <td>4</td>\n      <td>97.0</td>\n      <td>52.0</td>\n      <td>2130.0</td>\n      <td>24.6</td>\n      <td>82</td>\n      <td>2</td>\n    </tr>\n    <tr>\n      <th>395</th>\n      <td>32.0</td>\n      <td>4</td>\n      <td>135.0</td>\n      <td>84.0</td>\n      <td>2295.0</td>\n      <td>11.6</td>\n      <td>82</td>\n      <td>1</td>\n    </tr>\n    <tr>\n      <th>396</th>\n      <td>28.0</td>\n      <td>4</td>\n      <td>120.0</td>\n      <td>79.0</td>\n      <td>2625.0</td>\n      <td>18.6</td>\n      <td>82</td>\n      <td>1</td>\n    </tr>\n    <tr>\n      <th>397</th>\n      <td>31.0</td>\n      <td>4</td>\n      <td>119.0</td>\n      <td>82.0</td>\n      <td>2720.0</td>\n      <td>19.4</td>\n      <td>82</td>\n      <td>1</td>\n    </tr>\n  </tbody>\n</table>\n</div>"
          },
          "metadata": {}
        }
      ],
      "outputs_reference": null,
      "execution_count": 5,
      "block_group": "c99ccb1895ed4c9e884a1323a92e4f41",
      "content_dependencies": null
    },
    {
      "cell_type": "markdown",
      "source": "# Prep Data",
      "metadata": {
        "formattedRanges": [],
        "cell_id": "4bd9d08cdd9f463093fa63c59b3b1297",
        "deepnote_cell_type": "text-cell-h1"
      },
      "block_group": "957b00df54d2421b862a87a352db9ef3"
    },
    {
      "cell_type": "code",
      "source": "dataset = dataset.dropna()\n# dataset['Origin'] = dataset['Origin'].map({1: 'USA', 2: 'Europe', 3: 'Japan'})\n# dataset = pd.get_dummies(dataset, columns=['Origin'], prefix='', prefix_sep='')\ndataset.tail()",
      "metadata": {
        "source_hash": "31065a8f",
        "execution_start": 1727571797770,
        "execution_millis": 1,
        "execution_context_id": "05c96779-690f-4f08-8deb-8c4846ebd6bb",
        "cell_id": "16add38a7b68463c97e92cdf62d0f9ca",
        "deepnote_cell_type": "code"
      },
      "outputs": [
        {
          "output_type": "execute_result",
          "execution_count": 6,
          "data": {
            "application/vnd.deepnote.dataframe.v3+json": {
              "column_count": 8,
              "row_count": 5,
              "columns": [
                {
                  "name": "MPG",
                  "dtype": "float64",
                  "stats": {
                    "unique_count": 5,
                    "nan_count": 0,
                    "min": "27.0",
                    "max": "44.0",
                    "histogram": [
                      {
                        "bin_start": 27,
                        "bin_end": 28.7,
                        "count": 2
                      },
                      {
                        "bin_start": 28.7,
                        "bin_end": 30.4,
                        "count": 0
                      },
                      {
                        "bin_start": 30.4,
                        "bin_end": 32.1,
                        "count": 2
                      },
                      {
                        "bin_start": 32.1,
                        "bin_end": 33.8,
                        "count": 0
                      },
                      {
                        "bin_start": 33.8,
                        "bin_end": 35.5,
                        "count": 0
                      },
                      {
                        "bin_start": 35.5,
                        "bin_end": 37.2,
                        "count": 0
                      },
                      {
                        "bin_start": 37.2,
                        "bin_end": 38.9,
                        "count": 0
                      },
                      {
                        "bin_start": 38.9,
                        "bin_end": 40.6,
                        "count": 0
                      },
                      {
                        "bin_start": 40.6,
                        "bin_end": 42.3,
                        "count": 0
                      },
                      {
                        "bin_start": 42.3,
                        "bin_end": 44,
                        "count": 1
                      }
                    ]
                  }
                },
                {
                  "name": "Cylinders",
                  "dtype": "int64",
                  "stats": {
                    "unique_count": 1,
                    "nan_count": 0,
                    "min": "4",
                    "max": "4",
                    "histogram": [
                      {
                        "bin_start": 3.5,
                        "bin_end": 3.6,
                        "count": 0
                      },
                      {
                        "bin_start": 3.6,
                        "bin_end": 3.7,
                        "count": 0
                      },
                      {
                        "bin_start": 3.7,
                        "bin_end": 3.8,
                        "count": 0
                      },
                      {
                        "bin_start": 3.8,
                        "bin_end": 3.9,
                        "count": 0
                      },
                      {
                        "bin_start": 3.9,
                        "bin_end": 4,
                        "count": 0
                      },
                      {
                        "bin_start": 4,
                        "bin_end": 4.1,
                        "count": 5
                      },
                      {
                        "bin_start": 4.1,
                        "bin_end": 4.2,
                        "count": 0
                      },
                      {
                        "bin_start": 4.2,
                        "bin_end": 4.3,
                        "count": 0
                      },
                      {
                        "bin_start": 4.3,
                        "bin_end": 4.4,
                        "count": 0
                      },
                      {
                        "bin_start": 4.4,
                        "bin_end": 4.5,
                        "count": 0
                      }
                    ]
                  }
                },
                {
                  "name": "Displacement",
                  "dtype": "float64",
                  "stats": {
                    "unique_count": 5,
                    "nan_count": 0,
                    "min": "97.0",
                    "max": "140.0",
                    "histogram": [
                      {
                        "bin_start": 97,
                        "bin_end": 101.3,
                        "count": 1
                      },
                      {
                        "bin_start": 101.3,
                        "bin_end": 105.6,
                        "count": 0
                      },
                      {
                        "bin_start": 105.6,
                        "bin_end": 109.9,
                        "count": 0
                      },
                      {
                        "bin_start": 109.9,
                        "bin_end": 114.2,
                        "count": 0
                      },
                      {
                        "bin_start": 114.2,
                        "bin_end": 118.5,
                        "count": 0
                      },
                      {
                        "bin_start": 118.5,
                        "bin_end": 122.8,
                        "count": 2
                      },
                      {
                        "bin_start": 122.8,
                        "bin_end": 127.1,
                        "count": 0
                      },
                      {
                        "bin_start": 127.1,
                        "bin_end": 131.4,
                        "count": 0
                      },
                      {
                        "bin_start": 131.4,
                        "bin_end": 135.7,
                        "count": 1
                      },
                      {
                        "bin_start": 135.7,
                        "bin_end": 140,
                        "count": 1
                      }
                    ]
                  }
                },
                {
                  "name": "Horsepower",
                  "dtype": "float64",
                  "stats": {
                    "unique_count": 5,
                    "nan_count": 0,
                    "min": "52.0",
                    "max": "86.0",
                    "histogram": [
                      {
                        "bin_start": 52,
                        "bin_end": 55.4,
                        "count": 1
                      },
                      {
                        "bin_start": 55.4,
                        "bin_end": 58.8,
                        "count": 0
                      },
                      {
                        "bin_start": 58.8,
                        "bin_end": 62.2,
                        "count": 0
                      },
                      {
                        "bin_start": 62.2,
                        "bin_end": 65.6,
                        "count": 0
                      },
                      {
                        "bin_start": 65.6,
                        "bin_end": 69,
                        "count": 0
                      },
                      {
                        "bin_start": 69,
                        "bin_end": 72.4,
                        "count": 0
                      },
                      {
                        "bin_start": 72.4,
                        "bin_end": 75.8,
                        "count": 0
                      },
                      {
                        "bin_start": 75.8,
                        "bin_end": 79.2,
                        "count": 1
                      },
                      {
                        "bin_start": 79.2,
                        "bin_end": 82.6,
                        "count": 1
                      },
                      {
                        "bin_start": 82.6,
                        "bin_end": 86,
                        "count": 2
                      }
                    ]
                  }
                },
                {
                  "name": "Weight",
                  "dtype": "float64",
                  "stats": {
                    "unique_count": 5,
                    "nan_count": 0,
                    "min": "2130.0",
                    "max": "2790.0",
                    "histogram": [
                      {
                        "bin_start": 2130,
                        "bin_end": 2196,
                        "count": 1
                      },
                      {
                        "bin_start": 2196,
                        "bin_end": 2262,
                        "count": 0
                      },
                      {
                        "bin_start": 2262,
                        "bin_end": 2328,
                        "count": 1
                      },
                      {
                        "bin_start": 2328,
                        "bin_end": 2394,
                        "count": 0
                      },
                      {
                        "bin_start": 2394,
                        "bin_end": 2460,
                        "count": 0
                      },
                      {
                        "bin_start": 2460,
                        "bin_end": 2526,
                        "count": 0
                      },
                      {
                        "bin_start": 2526,
                        "bin_end": 2592,
                        "count": 0
                      },
                      {
                        "bin_start": 2592,
                        "bin_end": 2658,
                        "count": 1
                      },
                      {
                        "bin_start": 2658,
                        "bin_end": 2724,
                        "count": 1
                      },
                      {
                        "bin_start": 2724,
                        "bin_end": 2790,
                        "count": 1
                      }
                    ]
                  }
                },
                {
                  "name": "Acceleration",
                  "dtype": "float64",
                  "stats": {
                    "unique_count": 5,
                    "nan_count": 0,
                    "min": "11.6",
                    "max": "24.6",
                    "histogram": [
                      {
                        "bin_start": 11.6,
                        "bin_end": 12.9,
                        "count": 1
                      },
                      {
                        "bin_start": 12.9,
                        "bin_end": 14.2,
                        "count": 0
                      },
                      {
                        "bin_start": 14.2,
                        "bin_end": 15.5,
                        "count": 0
                      },
                      {
                        "bin_start": 15.5,
                        "bin_end": 16.8,
                        "count": 1
                      },
                      {
                        "bin_start": 16.8,
                        "bin_end": 18.1,
                        "count": 0
                      },
                      {
                        "bin_start": 18.1,
                        "bin_end": 19.400000000000002,
                        "count": 2
                      },
                      {
                        "bin_start": 19.400000000000002,
                        "bin_end": 20.700000000000003,
                        "count": 0
                      },
                      {
                        "bin_start": 20.700000000000003,
                        "bin_end": 22,
                        "count": 0
                      },
                      {
                        "bin_start": 22,
                        "bin_end": 23.300000000000004,
                        "count": 0
                      },
                      {
                        "bin_start": 23.300000000000004,
                        "bin_end": 24.6,
                        "count": 1
                      }
                    ]
                  }
                },
                {
                  "name": "Model Year",
                  "dtype": "int64",
                  "stats": {
                    "unique_count": 1,
                    "nan_count": 0,
                    "min": "82",
                    "max": "82",
                    "histogram": [
                      {
                        "bin_start": 81.5,
                        "bin_end": 81.6,
                        "count": 0
                      },
                      {
                        "bin_start": 81.6,
                        "bin_end": 81.7,
                        "count": 0
                      },
                      {
                        "bin_start": 81.7,
                        "bin_end": 81.8,
                        "count": 0
                      },
                      {
                        "bin_start": 81.8,
                        "bin_end": 81.9,
                        "count": 0
                      },
                      {
                        "bin_start": 81.9,
                        "bin_end": 82,
                        "count": 0
                      },
                      {
                        "bin_start": 82,
                        "bin_end": 82.1,
                        "count": 5
                      },
                      {
                        "bin_start": 82.1,
                        "bin_end": 82.2,
                        "count": 0
                      },
                      {
                        "bin_start": 82.2,
                        "bin_end": 82.3,
                        "count": 0
                      },
                      {
                        "bin_start": 82.3,
                        "bin_end": 82.4,
                        "count": 0
                      },
                      {
                        "bin_start": 82.4,
                        "bin_end": 82.5,
                        "count": 0
                      }
                    ]
                  }
                },
                {
                  "name": "Origin",
                  "dtype": "int64",
                  "stats": {
                    "unique_count": 2,
                    "nan_count": 0,
                    "min": "1",
                    "max": "2",
                    "histogram": [
                      {
                        "bin_start": 1,
                        "bin_end": 1.1,
                        "count": 4
                      },
                      {
                        "bin_start": 1.1,
                        "bin_end": 1.2,
                        "count": 0
                      },
                      {
                        "bin_start": 1.2,
                        "bin_end": 1.3,
                        "count": 0
                      },
                      {
                        "bin_start": 1.3,
                        "bin_end": 1.4,
                        "count": 0
                      },
                      {
                        "bin_start": 1.4,
                        "bin_end": 1.5,
                        "count": 0
                      },
                      {
                        "bin_start": 1.5,
                        "bin_end": 1.6,
                        "count": 0
                      },
                      {
                        "bin_start": 1.6,
                        "bin_end": 1.7000000000000002,
                        "count": 0
                      },
                      {
                        "bin_start": 1.7000000000000002,
                        "bin_end": 1.8,
                        "count": 0
                      },
                      {
                        "bin_start": 1.8,
                        "bin_end": 1.9,
                        "count": 0
                      },
                      {
                        "bin_start": 1.9,
                        "bin_end": 2,
                        "count": 1
                      }
                    ]
                  }
                },
                {
                  "name": "_deepnote_index_column",
                  "dtype": "int64"
                }
              ],
              "rows": [
                {
                  "MPG": 27,
                  "Cylinders": 4,
                  "Displacement": 140,
                  "Horsepower": 86,
                  "Weight": 2790,
                  "Acceleration": 15.6,
                  "Model Year": 82,
                  "Origin": 1,
                  "_deepnote_index_column": 393
                },
                {
                  "MPG": 44,
                  "Cylinders": 4,
                  "Displacement": 97,
                  "Horsepower": 52,
                  "Weight": 2130,
                  "Acceleration": 24.6,
                  "Model Year": 82,
                  "Origin": 2,
                  "_deepnote_index_column": 394
                },
                {
                  "MPG": 32,
                  "Cylinders": 4,
                  "Displacement": 135,
                  "Horsepower": 84,
                  "Weight": 2295,
                  "Acceleration": 11.6,
                  "Model Year": 82,
                  "Origin": 1,
                  "_deepnote_index_column": 395
                },
                {
                  "MPG": 28,
                  "Cylinders": 4,
                  "Displacement": 120,
                  "Horsepower": 79,
                  "Weight": 2625,
                  "Acceleration": 18.6,
                  "Model Year": 82,
                  "Origin": 1,
                  "_deepnote_index_column": 396
                },
                {
                  "MPG": 31,
                  "Cylinders": 4,
                  "Displacement": 119,
                  "Horsepower": 82,
                  "Weight": 2720,
                  "Acceleration": 19.4,
                  "Model Year": 82,
                  "Origin": 1,
                  "_deepnote_index_column": 397
                }
              ]
            },
            "text/plain": "      MPG  Cylinders  Displacement  Horsepower  Weight  Acceleration  \\\n393  27.0          4         140.0        86.0  2790.0          15.6   \n394  44.0          4          97.0        52.0  2130.0          24.6   \n395  32.0          4         135.0        84.0  2295.0          11.6   \n396  28.0          4         120.0        79.0  2625.0          18.6   \n397  31.0          4         119.0        82.0  2720.0          19.4   \n\n     Model Year  Origin  \n393          82       1  \n394          82       2  \n395          82       1  \n396          82       1  \n397          82       1  ",
            "text/html": "<div>\n<style scoped>\n    .dataframe tbody tr th:only-of-type {\n        vertical-align: middle;\n    }\n\n    .dataframe tbody tr th {\n        vertical-align: top;\n    }\n\n    .dataframe thead th {\n        text-align: right;\n    }\n</style>\n<table border=\"1\" class=\"dataframe\">\n  <thead>\n    <tr style=\"text-align: right;\">\n      <th></th>\n      <th>MPG</th>\n      <th>Cylinders</th>\n      <th>Displacement</th>\n      <th>Horsepower</th>\n      <th>Weight</th>\n      <th>Acceleration</th>\n      <th>Model Year</th>\n      <th>Origin</th>\n    </tr>\n  </thead>\n  <tbody>\n    <tr>\n      <th>393</th>\n      <td>27.0</td>\n      <td>4</td>\n      <td>140.0</td>\n      <td>86.0</td>\n      <td>2790.0</td>\n      <td>15.6</td>\n      <td>82</td>\n      <td>1</td>\n    </tr>\n    <tr>\n      <th>394</th>\n      <td>44.0</td>\n      <td>4</td>\n      <td>97.0</td>\n      <td>52.0</td>\n      <td>2130.0</td>\n      <td>24.6</td>\n      <td>82</td>\n      <td>2</td>\n    </tr>\n    <tr>\n      <th>395</th>\n      <td>32.0</td>\n      <td>4</td>\n      <td>135.0</td>\n      <td>84.0</td>\n      <td>2295.0</td>\n      <td>11.6</td>\n      <td>82</td>\n      <td>1</td>\n    </tr>\n    <tr>\n      <th>396</th>\n      <td>28.0</td>\n      <td>4</td>\n      <td>120.0</td>\n      <td>79.0</td>\n      <td>2625.0</td>\n      <td>18.6</td>\n      <td>82</td>\n      <td>1</td>\n    </tr>\n    <tr>\n      <th>397</th>\n      <td>31.0</td>\n      <td>4</td>\n      <td>119.0</td>\n      <td>82.0</td>\n      <td>2720.0</td>\n      <td>19.4</td>\n      <td>82</td>\n      <td>1</td>\n    </tr>\n  </tbody>\n</table>\n</div>"
          },
          "metadata": {}
        }
      ],
      "outputs_reference": null,
      "execution_count": 6,
      "block_group": "b8a047139ca2447f9370161946215aa4",
      "content_dependencies": null
    },
    {
      "cell_type": "code",
      "source": "train_dataset = dataset.sample(frac = 0.8, random_state = 0)\ntest_dataset = dataset.drop(train_dataset.index)\nsns.pairplot(train_dataset[[\"MPG\", \"Cylinders\", \"Displacement\", \"Weight\"]], diag_kind=\"kde\");",
      "metadata": {
        "source_hash": "82fb79ba",
        "execution_start": 1727571797822,
        "execution_millis": 2633,
        "execution_context_id": "05c96779-690f-4f08-8deb-8c4846ebd6bb",
        "cell_id": "fae9b7287c6f4631bb9d2341c07ea7ea",
        "deepnote_cell_type": "code"
      },
      "outputs": [
        {
          "data": {
            "text/plain": "<Figure size 1000x1000 with 20 Axes>",
            "image/png": "[encoded data removed]"
          },
          "metadata": {
            "image/png": {
              "width": 985,
              "height": 986
            }
          },
          "output_type": "display_data"
        }
      ],
      "outputs_reference": null,
      "execution_count": 7,
      "block_group": "2da010f307d94f42bd67779aac0baf91",
      "content_dependencies": null
    },
    {
      "cell_type": "code",
      "source": "train_stats = train_dataset.describe()\ntrain_stats.pop(\"MPG\")\ntrain_stats = train_stats.transpose()",
      "metadata": {
        "source_hash": "154396b6",
        "execution_start": 1727571800510,
        "execution_millis": 0,
        "execution_context_id": "05c96779-690f-4f08-8deb-8c4846ebd6bb",
        "cell_id": "5951cf529a1b40cdb342fa300e2cb877",
        "deepnote_cell_type": "code"
      },
      "outputs": [],
      "outputs_reference": null,
      "execution_count": 8,
      "block_group": "096ec0d986014530bfc59c4c63c4ea56",
      "content_dependencies": null
    },
    {
      "cell_type": "code",
      "source": "train_labels = train_dataset.pop('MPG')\ntest_labels = test_dataset.pop('MPG')  ",
      "metadata": {
        "source_hash": "f2b5ba1f",
        "execution_start": 1727571800558,
        "execution_millis": 0,
        "execution_context_id": "05c96779-690f-4f08-8deb-8c4846ebd6bb",
        "cell_id": "6253d25a6659437996d1a7e01b9de27f",
        "deepnote_cell_type": "code"
      },
      "outputs": [],
      "outputs_reference": null,
      "execution_count": 9,
      "block_group": "afc6bb5032fd428a8938e3e0fe9966bc",
      "content_dependencies": null
    },
    {
      "cell_type": "markdown",
      "source": "# Review Statistics",
      "metadata": {
        "formattedRanges": [],
        "cell_id": "37a36141340646f0aa0d5390ec8b2948",
        "deepnote_cell_type": "text-cell-h1"
      },
      "block_group": "8659aedd108547ada84d9540fed9214d"
    },
    {
      "cell_type": "code",
      "source": "def norm(x):\n    return (x - train_stats['mean']) / train_stats['std']\nnormed_train_data = norm(train_dataset)\nnormed_test_data = norm(test_dataset)\ntrain_stats",
      "metadata": {
        "source_hash": "f9b0fd08",
        "execution_start": 1727571800630,
        "execution_millis": 1,
        "execution_context_id": "05c96779-690f-4f08-8deb-8c4846ebd6bb",
        "cell_id": "a296e1c8e52646128e62536fd4bc2a16",
        "deepnote_cell_type": "code"
      },
      "outputs": [
        {
          "output_type": "execute_result",
          "execution_count": 10,
          "data": {
            "application/vnd.deepnote.dataframe.v3+json": {
              "column_count": 8,
              "row_count": 7,
              "columns": [
                {
                  "name": "count",
                  "dtype": "float64",
                  "stats": {
                    "unique_count": 1,
                    "nan_count": 0,
                    "min": "314.0",
                    "max": "314.0",
                    "histogram": [
                      {
                        "bin_start": 313.5,
                        "bin_end": 313.6,
                        "count": 0
                      },
                      {
                        "bin_start": 313.6,
                        "bin_end": 313.7,
                        "count": 0
                      },
                      {
                        "bin_start": 313.7,
                        "bin_end": 313.8,
                        "count": 0
                      },
                      {
                        "bin_start": 313.8,
                        "bin_end": 313.9,
                        "count": 0
                      },
                      {
                        "bin_start": 313.9,
                        "bin_end": 314,
                        "count": 0
                      },
                      {
                        "bin_start": 314,
                        "bin_end": 314.1,
                        "count": 7
                      },
                      {
                        "bin_start": 314.1,
                        "bin_end": 314.2,
                        "count": 0
                      },
                      {
                        "bin_start": 314.2,
                        "bin_end": 314.3,
                        "count": 0
                      },
                      {
                        "bin_start": 314.3,
                        "bin_end": 314.4,
                        "count": 0
                      },
                      {
                        "bin_start": 314.4,
                        "bin_end": 314.5,
                        "count": 0
                      }
                    ]
                  }
                },
                {
                  "name": "mean",
                  "dtype": "float64",
                  "stats": {
                    "unique_count": 7,
                    "nan_count": 0,
                    "min": "1.5732484076433122",
                    "max": "2990.251592356688",
                    "histogram": [
                      {
                        "bin_start": 1.5732484076433122,
                        "bin_end": 300.4410828025477,
                        "count": 6
                      },
                      {
                        "bin_start": 300.4410828025477,
                        "bin_end": 599.3089171974522,
                        "count": 0
                      },
                      {
                        "bin_start": 599.3089171974522,
                        "bin_end": 898.1767515923566,
                        "count": 0
                      },
                      {
                        "bin_start": 898.1767515923566,
                        "bin_end": 1197.0445859872611,
                        "count": 0
                      },
                      {
                        "bin_start": 1197.0445859872611,
                        "bin_end": 1495.9124203821657,
                        "count": 0
                      },
                      {
                        "bin_start": 1495.9124203821657,
                        "bin_end": 1794.78025477707,
                        "count": 0
                      },
                      {
                        "bin_start": 1794.78025477707,
                        "bin_end": 2093.6480891719743,
                        "count": 0
                      },
                      {
                        "bin_start": 2093.6480891719743,
                        "bin_end": 2392.515923566879,
                        "count": 0
                      },
                      {
                        "bin_start": 2392.515923566879,
                        "bin_end": 2691.3837579617834,
                        "count": 0
                      },
                      {
                        "bin_start": 2691.3837579617834,
                        "bin_end": 2990.251592356688,
                        "count": 1
                      }
                    ]
                  }
                },
                {
                  "name": "std",
                  "dtype": "float64",
                  "stats": {
                    "unique_count": 7,
                    "nan_count": 0,
                    "min": "0.8009883803032619",
                    "max": "843.8985961905663",
                    "histogram": [
                      {
                        "bin_start": 0.8009883803032619,
                        "bin_end": 85.11074916132958,
                        "count": 5
                      },
                      {
                        "bin_start": 85.11074916132958,
                        "bin_end": 169.4205099423559,
                        "count": 1
                      },
                      {
                        "bin_start": 169.4205099423559,
                        "bin_end": 253.7302707233822,
                        "count": 0
                      },
                      {
                        "bin_start": 253.7302707233822,
                        "bin_end": 338.0400315044085,
                        "count": 0
                      },
                      {
                        "bin_start": 338.0400315044085,
                        "bin_end": 422.3497922854348,
                        "count": 0
                      },
                      {
                        "bin_start": 422.3497922854348,
                        "bin_end": 506.6595530664611,
                        "count": 0
                      },
                      {
                        "bin_start": 506.6595530664611,
                        "bin_end": 590.9693138474875,
                        "count": 0
                      },
                      {
                        "bin_start": 590.9693138474875,
                        "bin_end": 675.2790746285137,
                        "count": 0
                      },
                      {
                        "bin_start": 675.2790746285137,
                        "bin_end": 759.58883540954,
                        "count": 0
                      },
                      {
                        "bin_start": 759.58883540954,
                        "bin_end": 843.8985961905663,
                        "count": 1
                      }
                    ]
                  }
                },
                {
                  "name": "min",
                  "dtype": "float64",
                  "stats": {
                    "unique_count": 7,
                    "nan_count": 0,
                    "min": "1.0",
                    "max": "1649.0",
                    "histogram": [
                      {
                        "bin_start": 1,
                        "bin_end": 165.8,
                        "count": 6
                      },
                      {
                        "bin_start": 165.8,
                        "bin_end": 330.6,
                        "count": 0
                      },
                      {
                        "bin_start": 330.6,
                        "bin_end": 495.40000000000003,
                        "count": 0
                      },
                      {
                        "bin_start": 495.40000000000003,
                        "bin_end": 660.2,
                        "count": 0
                      },
                      {
                        "bin_start": 660.2,
                        "bin_end": 825,
                        "count": 0
                      },
                      {
                        "bin_start": 825,
                        "bin_end": 989.8000000000001,
                        "count": 0
                      },
                      {
                        "bin_start": 989.8000000000001,
                        "bin_end": 1154.6000000000001,
                        "count": 0
                      },
                      {
                        "bin_start": 1154.6000000000001,
                        "bin_end": 1319.4,
                        "count": 0
                      },
                      {
                        "bin_start": 1319.4,
                        "bin_end": 1484.2,
                        "count": 0
                      },
                      {
                        "bin_start": 1484.2,
                        "bin_end": 1649,
                        "count": 1
                      }
                    ]
                  }
                },
                {
                  "name": "25%",
                  "dtype": "float64",
                  "stats": {
                    "unique_count": 7,
                    "nan_count": 0,
                    "min": "1.0",
                    "max": "2256.5",
                    "histogram": [
                      {
                        "bin_start": 1,
                        "bin_end": 226.55,
                        "count": 6
                      },
                      {
                        "bin_start": 226.55,
                        "bin_end": 452.1,
                        "count": 0
                      },
                      {
                        "bin_start": 452.1,
                        "bin_end": 677.6500000000001,
                        "count": 0
                      },
                      {
                        "bin_start": 677.6500000000001,
                        "bin_end": 903.2,
                        "count": 0
                      },
                      {
                        "bin_start": 903.2,
                        "bin_end": 1128.75,
                        "count": 0
                      },
                      {
                        "bin_start": 1128.75,
                        "bin_end": 1354.3000000000002,
                        "count": 0
                      },
                      {
                        "bin_start": 1354.3000000000002,
                        "bin_end": 1579.8500000000001,
                        "count": 0
                      },
                      {
                        "bin_start": 1579.8500000000001,
                        "bin_end": 1805.4,
                        "count": 0
                      },
                      {
                        "bin_start": 1805.4,
                        "bin_end": 2030.95,
                        "count": 0
                      },
                      {
                        "bin_start": 2030.95,
                        "bin_end": 2256.5,
                        "count": 1
                      }
                    ]
                  }
                },
                {
                  "name": "50%",
                  "dtype": "float64",
                  "stats": {
                    "unique_count": 7,
                    "nan_count": 0,
                    "min": "1.0",
                    "max": "2822.5",
                    "histogram": [
                      {
                        "bin_start": 1,
                        "bin_end": 283.15,
                        "count": 6
                      },
                      {
                        "bin_start": 283.15,
                        "bin_end": 565.3,
                        "count": 0
                      },
                      {
                        "bin_start": 565.3,
                        "bin_end": 847.4499999999999,
                        "count": 0
                      },
                      {
                        "bin_start": 847.4499999999999,
                        "bin_end": 1129.6,
                        "count": 0
                      },
                      {
                        "bin_start": 1129.6,
                        "bin_end": 1411.75,
                        "count": 0
                      },
                      {
                        "bin_start": 1411.75,
                        "bin_end": 1693.8999999999999,
                        "count": 0
                      },
                      {
                        "bin_start": 1693.8999999999999,
                        "bin_end": 1976.0499999999997,
                        "count": 0
                      },
                      {
                        "bin_start": 1976.0499999999997,
                        "bin_end": 2258.2,
                        "count": 0
                      },
                      {
                        "bin_start": 2258.2,
                        "bin_end": 2540.35,
                        "count": 0
                      },
                      {
                        "bin_start": 2540.35,
                        "bin_end": 2822.5,
                        "count": 1
                      }
                    ]
                  }
                },
                {
                  "name": "75%",
                  "dtype": "float64",
                  "stats": {
                    "unique_count": 7,
                    "nan_count": 0,
                    "min": "2.0",
                    "max": "3608.0",
                    "histogram": [
                      {
                        "bin_start": 2,
                        "bin_end": 362.6,
                        "count": 6
                      },
                      {
                        "bin_start": 362.6,
                        "bin_end": 723.2,
                        "count": 0
                      },
                      {
                        "bin_start": 723.2,
                        "bin_end": 1083.8000000000002,
                        "count": 0
                      },
                      {
                        "bin_start": 1083.8000000000002,
                        "bin_end": 1444.4,
                        "count": 0
                      },
                      {
                        "bin_start": 1444.4,
                        "bin_end": 1805,
                        "count": 0
                      },
                      {
                        "bin_start": 1805,
                        "bin_end": 2165.6000000000004,
                        "count": 0
                      },
                      {
                        "bin_start": 2165.6000000000004,
                        "bin_end": 2526.2000000000003,
                        "count": 0
                      },
                      {
                        "bin_start": 2526.2000000000003,
                        "bin_end": 2886.8,
                        "count": 0
                      },
                      {
                        "bin_start": 2886.8,
                        "bin_end": 3247.4,
                        "count": 0
                      },
                      {
                        "bin_start": 3247.4,
                        "bin_end": 3608,
                        "count": 1
                      }
                    ]
                  }
                },
                {
                  "name": "max",
                  "dtype": "float64",
                  "stats": {
                    "unique_count": 7,
                    "nan_count": 0,
                    "min": "3.0",
                    "max": "5140.0",
                    "histogram": [
                      {
                        "bin_start": 3,
                        "bin_end": 516.7,
                        "count": 6
                      },
                      {
                        "bin_start": 516.7,
                        "bin_end": 1030.4,
                        "count": 0
                      },
                      {
                        "bin_start": 1030.4,
                        "bin_end": 1544.1000000000001,
                        "count": 0
                      },
                      {
                        "bin_start": 1544.1000000000001,
                        "bin_end": 2057.8,
                        "count": 0
                      },
                      {
                        "bin_start": 2057.8,
                        "bin_end": 2571.5,
                        "count": 0
                      },
                      {
                        "bin_start": 2571.5,
                        "bin_end": 3085.2000000000003,
                        "count": 0
                      },
                      {
                        "bin_start": 3085.2000000000003,
                        "bin_end": 3598.9000000000005,
                        "count": 0
                      },
                      {
                        "bin_start": 3598.9000000000005,
                        "bin_end": 4112.6,
                        "count": 0
                      },
                      {
                        "bin_start": 4112.6,
                        "bin_end": 4626.3,
                        "count": 0
                      },
                      {
                        "bin_start": 4626.3,
                        "bin_end": 5140,
                        "count": 1
                      }
                    ]
                  }
                },
                {
                  "name": "_deepnote_index_column",
                  "dtype": "object"
                }
              ],
              "rows": [
                {
                  "count": 314,
                  "mean": 5.477707006369426,
                  "std": 1.6997875727498173,
                  "min": 3,
                  "25%": 4,
                  "50%": 4,
                  "75%": 8,
                  "max": 8,
                  "_deepnote_index_column": "Cylinders"
                },
                {
                  "count": 314,
                  "mean": 195.3184713375796,
                  "std": 104.33158850796352,
                  "min": 68,
                  "25%": 105.5,
                  "50%": 151,
                  "75%": 265.75,
                  "max": 455,
                  "_deepnote_index_column": "Displacement"
                },
                {
                  "count": 314,
                  "mean": 104.86942675159236,
                  "std": 38.09621443533365,
                  "min": 46,
                  "25%": 76.25,
                  "50%": 94.5,
                  "75%": 128,
                  "max": 225,
                  "_deepnote_index_column": "Horsepower"
                },
                {
                  "count": 314,
                  "mean": 2990.251592356688,
                  "std": 843.8985961905663,
                  "min": 1649,
                  "25%": 2256.5,
                  "50%": 2822.5,
                  "75%": 3608,
                  "max": 5140,
                  "_deepnote_index_column": "Weight"
                },
                {
                  "count": 314,
                  "mean": 15.55923566878981,
                  "std": 2.789229751888417,
                  "min": 8,
                  "25%": 13.8,
                  "50%": 15.5,
                  "75%": 17.2,
                  "max": 24.8,
                  "_deepnote_index_column": "Acceleration"
                },
                {
                  "count": 314,
                  "mean": 75.89808917197452,
                  "std": 3.6756424982267464,
                  "min": 70,
                  "25%": 73,
                  "50%": 76,
                  "75%": 79,
                  "max": 82,
                  "_deepnote_index_column": "Model Year"
                },
                {
                  "count": 314,
                  "mean": 1.5732484076433122,
                  "std": 0.8009883803032619,
                  "min": 1,
                  "25%": 1,
                  "50%": 1,
                  "75%": 2,
                  "max": 3,
                  "_deepnote_index_column": "Origin"
                }
              ]
            },
            "text/plain": "              count         mean         std     min      25%     50%  \\\nCylinders     314.0     5.477707    1.699788     3.0     4.00     4.0   \nDisplacement  314.0   195.318471  104.331589    68.0   105.50   151.0   \nHorsepower    314.0   104.869427   38.096214    46.0    76.25    94.5   \nWeight        314.0  2990.251592  843.898596  1649.0  2256.50  2822.5   \nAcceleration  314.0    15.559236    2.789230     8.0    13.80    15.5   \nModel Year    314.0    75.898089    3.675642    70.0    73.00    76.0   \nOrigin        314.0     1.573248    0.800988     1.0     1.00     1.0   \n\n                  75%     max  \nCylinders        8.00     8.0  \nDisplacement   265.75   455.0  \nHorsepower     128.00   225.0  \nWeight        3608.00  5140.0  \nAcceleration    17.20    24.8  \nModel Year      79.00    82.0  \nOrigin           2.00     3.0  ",
            "text/html": "<div>\n<style scoped>\n    .dataframe tbody tr th:only-of-type {\n        vertical-align: middle;\n    }\n\n    .dataframe tbody tr th {\n        vertical-align: top;\n    }\n\n    .dataframe thead th {\n        text-align: right;\n    }\n</style>\n<table border=\"1\" class=\"dataframe\">\n  <thead>\n    <tr style=\"text-align: right;\">\n      <th></th>\n      <th>count</th>\n      <th>mean</th>\n      <th>std</th>\n      <th>min</th>\n      <th>25%</th>\n      <th>50%</th>\n      <th>75%</th>\n      <th>max</th>\n    </tr>\n  </thead>\n  <tbody>\n    <tr>\n      <th>Cylinders</th>\n      <td>314.0</td>\n      <td>5.477707</td>\n      <td>1.699788</td>\n      <td>3.0</td>\n      <td>4.00</td>\n      <td>4.0</td>\n      <td>8.00</td>\n      <td>8.0</td>\n    </tr>\n    <tr>\n      <th>Displacement</th>\n      <td>314.0</td>\n      <td>195.318471</td>\n      <td>104.331589</td>\n      <td>68.0</td>\n      <td>105.50</td>\n      <td>151.0</td>\n      <td>265.75</td>\n      <td>455.0</td>\n    </tr>\n    <tr>\n      <th>Horsepower</th>\n      <td>314.0</td>\n      <td>104.869427</td>\n      <td>38.096214</td>\n      <td>46.0</td>\n      <td>76.25</td>\n      <td>94.5</td>\n      <td>128.00</td>\n      <td>225.0</td>\n    </tr>\n    <tr>\n      <th>Weight</th>\n      <td>314.0</td>\n      <td>2990.251592</td>\n      <td>843.898596</td>\n      <td>1649.0</td>\n      <td>2256.50</td>\n      <td>2822.5</td>\n      <td>3608.00</td>\n      <td>5140.0</td>\n    </tr>\n    <tr>\n      <th>Acceleration</th>\n      <td>314.0</td>\n      <td>15.559236</td>\n      <td>2.789230</td>\n      <td>8.0</td>\n      <td>13.80</td>\n      <td>15.5</td>\n      <td>17.20</td>\n      <td>24.8</td>\n    </tr>\n    <tr>\n      <th>Model Year</th>\n      <td>314.0</td>\n      <td>75.898089</td>\n      <td>3.675642</td>\n      <td>70.0</td>\n      <td>73.00</td>\n      <td>76.0</td>\n      <td>79.00</td>\n      <td>82.0</td>\n    </tr>\n    <tr>\n      <th>Origin</th>\n      <td>314.0</td>\n      <td>1.573248</td>\n      <td>0.800988</td>\n      <td>1.0</td>\n      <td>1.00</td>\n      <td>1.0</td>\n      <td>2.00</td>\n      <td>3.0</td>\n    </tr>\n  </tbody>\n</table>\n</div>"
          },
          "metadata": {}
        }
      ],
      "outputs_reference": null,
      "execution_count": 10,
      "block_group": "78df82ff33ec43fa855c8046ff384eeb",
      "content_dependencies": null
    },
    {
      "cell_type": "code",
      "source": "train_stats.tail()",
      "metadata": {
        "source_hash": "94f0663",
        "execution_start": 1727571800698,
        "execution_millis": 0,
        "execution_context_id": "05c96779-690f-4f08-8deb-8c4846ebd6bb",
        "cell_id": "060cb446166047a891477b60a5beba42",
        "deepnote_cell_type": "code"
      },
      "outputs": [
        {
          "output_type": "execute_result",
          "execution_count": 11,
          "data": {
            "application/vnd.deepnote.dataframe.v3+json": {
              "column_count": 8,
              "row_count": 5,
              "columns": [
                {
                  "name": "count",
                  "dtype": "float64",
                  "stats": {
                    "unique_count": 1,
                    "nan_count": 0,
                    "min": "314.0",
                    "max": "314.0",
                    "histogram": [
                      {
                        "bin_start": 313.5,
                        "bin_end": 313.6,
                        "count": 0
                      },
                      {
                        "bin_start": 313.6,
                        "bin_end": 313.7,
                        "count": 0
                      },
                      {
                        "bin_start": 313.7,
                        "bin_end": 313.8,
                        "count": 0
                      },
                      {
                        "bin_start": 313.8,
                        "bin_end": 313.9,
                        "count": 0
                      },
                      {
                        "bin_start": 313.9,
                        "bin_end": 314,
                        "count": 0
                      },
                      {
                        "bin_start": 314,
                        "bin_end": 314.1,
                        "count": 5
                      },
                      {
                        "bin_start": 314.1,
                        "bin_end": 314.2,
                        "count": 0
                      },
                      {
                        "bin_start": 314.2,
                        "bin_end": 314.3,
                        "count": 0
                      },
                      {
                        "bin_start": 314.3,
                        "bin_end": 314.4,
                        "count": 0
                      },
                      {
                        "bin_start": 314.4,
                        "bin_end": 314.5,
                        "count": 0
                      }
                    ]
                  }
                },
                {
                  "name": "mean",
                  "dtype": "float64",
                  "stats": {
                    "unique_count": 5,
                    "nan_count": 0,
                    "min": "1.5732484076433122",
                    "max": "2990.251592356688",
                    "histogram": [
                      {
                        "bin_start": 1.5732484076433122,
                        "bin_end": 300.4410828025477,
                        "count": 4
                      },
                      {
                        "bin_start": 300.4410828025477,
                        "bin_end": 599.3089171974522,
                        "count": 0
                      },
                      {
                        "bin_start": 599.3089171974522,
                        "bin_end": 898.1767515923566,
                        "count": 0
                      },
                      {
                        "bin_start": 898.1767515923566,
                        "bin_end": 1197.0445859872611,
                        "count": 0
                      },
                      {
                        "bin_start": 1197.0445859872611,
                        "bin_end": 1495.9124203821657,
                        "count": 0
                      },
                      {
                        "bin_start": 1495.9124203821657,
                        "bin_end": 1794.78025477707,
                        "count": 0
                      },
                      {
                        "bin_start": 1794.78025477707,
                        "bin_end": 2093.6480891719743,
                        "count": 0
                      },
                      {
                        "bin_start": 2093.6480891719743,
                        "bin_end": 2392.515923566879,
                        "count": 0
                      },
                      {
                        "bin_start": 2392.515923566879,
                        "bin_end": 2691.3837579617834,
                        "count": 0
                      },
                      {
                        "bin_start": 2691.3837579617834,
                        "bin_end": 2990.251592356688,
                        "count": 1
                      }
                    ]
                  }
                },
                {
                  "name": "std",
                  "dtype": "float64",
                  "stats": {
                    "unique_count": 5,
                    "nan_count": 0,
                    "min": "0.8009883803032619",
                    "max": "843.8985961905663",
                    "histogram": [
                      {
                        "bin_start": 0.8009883803032619,
                        "bin_end": 85.11074916132958,
                        "count": 4
                      },
                      {
                        "bin_start": 85.11074916132958,
                        "bin_end": 169.4205099423559,
                        "count": 0
                      },
                      {
                        "bin_start": 169.4205099423559,
                        "bin_end": 253.7302707233822,
                        "count": 0
                      },
                      {
                        "bin_start": 253.7302707233822,
                        "bin_end": 338.0400315044085,
                        "count": 0
                      },
                      {
                        "bin_start": 338.0400315044085,
                        "bin_end": 422.3497922854348,
                        "count": 0
                      },
                      {
                        "bin_start": 422.3497922854348,
                        "bin_end": 506.6595530664611,
                        "count": 0
                      },
                      {
                        "bin_start": 506.6595530664611,
                        "bin_end": 590.9693138474875,
                        "count": 0
                      },
                      {
                        "bin_start": 590.9693138474875,
                        "bin_end": 675.2790746285137,
                        "count": 0
                      },
                      {
                        "bin_start": 675.2790746285137,
                        "bin_end": 759.58883540954,
                        "count": 0
                      },
                      {
                        "bin_start": 759.58883540954,
                        "bin_end": 843.8985961905663,
                        "count": 1
                      }
                    ]
                  }
                },
                {
                  "name": "min",
                  "dtype": "float64",
                  "stats": {
                    "unique_count": 5,
                    "nan_count": 0,
                    "min": "1.0",
                    "max": "1649.0",
                    "histogram": [
                      {
                        "bin_start": 1,
                        "bin_end": 165.8,
                        "count": 4
                      },
                      {
                        "bin_start": 165.8,
                        "bin_end": 330.6,
                        "count": 0
                      },
                      {
                        "bin_start": 330.6,
                        "bin_end": 495.40000000000003,
                        "count": 0
                      },
                      {
                        "bin_start": 495.40000000000003,
                        "bin_end": 660.2,
                        "count": 0
                      },
                      {
                        "bin_start": 660.2,
                        "bin_end": 825,
                        "count": 0
                      },
                      {
                        "bin_start": 825,
                        "bin_end": 989.8000000000001,
                        "count": 0
                      },
                      {
                        "bin_start": 989.8000000000001,
                        "bin_end": 1154.6000000000001,
                        "count": 0
                      },
                      {
                        "bin_start": 1154.6000000000001,
                        "bin_end": 1319.4,
                        "count": 0
                      },
                      {
                        "bin_start": 1319.4,
                        "bin_end": 1484.2,
                        "count": 0
                      },
                      {
                        "bin_start": 1484.2,
                        "bin_end": 1649,
                        "count": 1
                      }
                    ]
                  }
                },
                {
                  "name": "25%",
                  "dtype": "float64",
                  "stats": {
                    "unique_count": 5,
                    "nan_count": 0,
                    "min": "1.0",
                    "max": "2256.5",
                    "histogram": [
                      {
                        "bin_start": 1,
                        "bin_end": 226.55,
                        "count": 4
                      },
                      {
                        "bin_start": 226.55,
                        "bin_end": 452.1,
                        "count": 0
                      },
                      {
                        "bin_start": 452.1,
                        "bin_end": 677.6500000000001,
                        "count": 0
                      },
                      {
                        "bin_start": 677.6500000000001,
                        "bin_end": 903.2,
                        "count": 0
                      },
                      {
                        "bin_start": 903.2,
                        "bin_end": 1128.75,
                        "count": 0
                      },
                      {
                        "bin_start": 1128.75,
                        "bin_end": 1354.3000000000002,
                        "count": 0
                      },
                      {
                        "bin_start": 1354.3000000000002,
                        "bin_end": 1579.8500000000001,
                        "count": 0
                      },
                      {
                        "bin_start": 1579.8500000000001,
                        "bin_end": 1805.4,
                        "count": 0
                      },
                      {
                        "bin_start": 1805.4,
                        "bin_end": 2030.95,
                        "count": 0
                      },
                      {
                        "bin_start": 2030.95,
                        "bin_end": 2256.5,
                        "count": 1
                      }
                    ]
                  }
                },
                {
                  "name": "50%",
                  "dtype": "float64",
                  "stats": {
                    "unique_count": 5,
                    "nan_count": 0,
                    "min": "1.0",
                    "max": "2822.5",
                    "histogram": [
                      {
                        "bin_start": 1,
                        "bin_end": 283.15,
                        "count": 4
                      },
                      {
                        "bin_start": 283.15,
                        "bin_end": 565.3,
                        "count": 0
                      },
                      {
                        "bin_start": 565.3,
                        "bin_end": 847.4499999999999,
                        "count": 0
                      },
                      {
                        "bin_start": 847.4499999999999,
                        "bin_end": 1129.6,
                        "count": 0
                      },
                      {
                        "bin_start": 1129.6,
                        "bin_end": 1411.75,
                        "count": 0
                      },
                      {
                        "bin_start": 1411.75,
                        "bin_end": 1693.8999999999999,
                        "count": 0
                      },
                      {
                        "bin_start": 1693.8999999999999,
                        "bin_end": 1976.0499999999997,
                        "count": 0
                      },
                      {
                        "bin_start": 1976.0499999999997,
                        "bin_end": 2258.2,
                        "count": 0
                      },
                      {
                        "bin_start": 2258.2,
                        "bin_end": 2540.35,
                        "count": 0
                      },
                      {
                        "bin_start": 2540.35,
                        "bin_end": 2822.5,
                        "count": 1
                      }
                    ]
                  }
                },
                {
                  "name": "75%",
                  "dtype": "float64",
                  "stats": {
                    "unique_count": 5,
                    "nan_count": 0,
                    "min": "2.0",
                    "max": "3608.0",
                    "histogram": [
                      {
                        "bin_start": 2,
                        "bin_end": 362.6,
                        "count": 4
                      },
                      {
                        "bin_start": 362.6,
                        "bin_end": 723.2,
                        "count": 0
                      },
                      {
                        "bin_start": 723.2,
                        "bin_end": 1083.8000000000002,
                        "count": 0
                      },
                      {
                        "bin_start": 1083.8000000000002,
                        "bin_end": 1444.4,
                        "count": 0
                      },
                      {
                        "bin_start": 1444.4,
                        "bin_end": 1805,
                        "count": 0
                      },
                      {
                        "bin_start": 1805,
                        "bin_end": 2165.6000000000004,
                        "count": 0
                      },
                      {
                        "bin_start": 2165.6000000000004,
                        "bin_end": 2526.2000000000003,
                        "count": 0
                      },
                      {
                        "bin_start": 2526.2000000000003,
                        "bin_end": 2886.8,
                        "count": 0
                      },
                      {
                        "bin_start": 2886.8,
                        "bin_end": 3247.4,
                        "count": 0
                      },
                      {
                        "bin_start": 3247.4,
                        "bin_end": 3608,
                        "count": 1
                      }
                    ]
                  }
                },
                {
                  "name": "max",
                  "dtype": "float64",
                  "stats": {
                    "unique_count": 5,
                    "nan_count": 0,
                    "min": "3.0",
                    "max": "5140.0",
                    "histogram": [
                      {
                        "bin_start": 3,
                        "bin_end": 516.7,
                        "count": 4
                      },
                      {
                        "bin_start": 516.7,
                        "bin_end": 1030.4,
                        "count": 0
                      },
                      {
                        "bin_start": 1030.4,
                        "bin_end": 1544.1000000000001,
                        "count": 0
                      },
                      {
                        "bin_start": 1544.1000000000001,
                        "bin_end": 2057.8,
                        "count": 0
                      },
                      {
                        "bin_start": 2057.8,
                        "bin_end": 2571.5,
                        "count": 0
                      },
                      {
                        "bin_start": 2571.5,
                        "bin_end": 3085.2000000000003,
                        "count": 0
                      },
                      {
                        "bin_start": 3085.2000000000003,
                        "bin_end": 3598.9000000000005,
                        "count": 0
                      },
                      {
                        "bin_start": 3598.9000000000005,
                        "bin_end": 4112.6,
                        "count": 0
                      },
                      {
                        "bin_start": 4112.6,
                        "bin_end": 4626.3,
                        "count": 0
                      },
                      {
                        "bin_start": 4626.3,
                        "bin_end": 5140,
                        "count": 1
                      }
                    ]
                  }
                },
                {
                  "name": "_deepnote_index_column",
                  "dtype": "object"
                }
              ],
              "rows": [
                {
                  "count": 314,
                  "mean": 104.86942675159236,
                  "std": 38.09621443533365,
                  "min": 46,
                  "25%": 76.25,
                  "50%": 94.5,
                  "75%": 128,
                  "max": 225,
                  "_deepnote_index_column": "Horsepower"
                },
                {
                  "count": 314,
                  "mean": 2990.251592356688,
                  "std": 843.8985961905663,
                  "min": 1649,
                  "25%": 2256.5,
                  "50%": 2822.5,
                  "75%": 3608,
                  "max": 5140,
                  "_deepnote_index_column": "Weight"
                },
                {
                  "count": 314,
                  "mean": 15.55923566878981,
                  "std": 2.789229751888417,
                  "min": 8,
                  "25%": 13.8,
                  "50%": 15.5,
                  "75%": 17.2,
                  "max": 24.8,
                  "_deepnote_index_column": "Acceleration"
                },
                {
                  "count": 314,
                  "mean": 75.89808917197452,
                  "std": 3.6756424982267464,
                  "min": 70,
                  "25%": 73,
                  "50%": 76,
                  "75%": 79,
                  "max": 82,
                  "_deepnote_index_column": "Model Year"
                },
                {
                  "count": 314,
                  "mean": 1.5732484076433122,
                  "std": 0.8009883803032619,
                  "min": 1,
                  "25%": 1,
                  "50%": 1,
                  "75%": 2,
                  "max": 3,
                  "_deepnote_index_column": "Origin"
                }
              ]
            },
            "text/plain": "              count         mean         std     min      25%     50%     75%  \\\nHorsepower    314.0   104.869427   38.096214    46.0    76.25    94.5   128.0   \nWeight        314.0  2990.251592  843.898596  1649.0  2256.50  2822.5  3608.0   \nAcceleration  314.0    15.559236    2.789230     8.0    13.80    15.5    17.2   \nModel Year    314.0    75.898089    3.675642    70.0    73.00    76.0    79.0   \nOrigin        314.0     1.573248    0.800988     1.0     1.00     1.0     2.0   \n\n                 max  \nHorsepower     225.0  \nWeight        5140.0  \nAcceleration    24.8  \nModel Year      82.0  \nOrigin           3.0  ",
            "text/html": "<div>\n<style scoped>\n    .dataframe tbody tr th:only-of-type {\n        vertical-align: middle;\n    }\n\n    .dataframe tbody tr th {\n        vertical-align: top;\n    }\n\n    .dataframe thead th {\n        text-align: right;\n    }\n</style>\n<table border=\"1\" class=\"dataframe\">\n  <thead>\n    <tr style=\"text-align: right;\">\n      <th></th>\n      <th>count</th>\n      <th>mean</th>\n      <th>std</th>\n      <th>min</th>\n      <th>25%</th>\n      <th>50%</th>\n      <th>75%</th>\n      <th>max</th>\n    </tr>\n  </thead>\n  <tbody>\n    <tr>\n      <th>Horsepower</th>\n      <td>314.0</td>\n      <td>104.869427</td>\n      <td>38.096214</td>\n      <td>46.0</td>\n      <td>76.25</td>\n      <td>94.5</td>\n      <td>128.0</td>\n      <td>225.0</td>\n    </tr>\n    <tr>\n      <th>Weight</th>\n      <td>314.0</td>\n      <td>2990.251592</td>\n      <td>843.898596</td>\n      <td>1649.0</td>\n      <td>2256.50</td>\n      <td>2822.5</td>\n      <td>3608.0</td>\n      <td>5140.0</td>\n    </tr>\n    <tr>\n      <th>Acceleration</th>\n      <td>314.0</td>\n      <td>15.559236</td>\n      <td>2.789230</td>\n      <td>8.0</td>\n      <td>13.80</td>\n      <td>15.5</td>\n      <td>17.2</td>\n      <td>24.8</td>\n    </tr>\n    <tr>\n      <th>Model Year</th>\n      <td>314.0</td>\n      <td>75.898089</td>\n      <td>3.675642</td>\n      <td>70.0</td>\n      <td>73.00</td>\n      <td>76.0</td>\n      <td>79.0</td>\n      <td>82.0</td>\n    </tr>\n    <tr>\n      <th>Origin</th>\n      <td>314.0</td>\n      <td>1.573248</td>\n      <td>0.800988</td>\n      <td>1.0</td>\n      <td>1.00</td>\n      <td>1.0</td>\n      <td>2.0</td>\n      <td>3.0</td>\n    </tr>\n  </tbody>\n</table>\n</div>"
          },
          "metadata": {}
        }
      ],
      "outputs_reference": null,
      "execution_count": 11,
      "block_group": "c59a3042785b4ec7b0e99c8a868b5eb2",
      "content_dependencies": null
    },
    {
      "cell_type": "markdown",
      "source": "# Build Model",
      "metadata": {
        "formattedRanges": [],
        "cell_id": "007487d201e94f63b1430665f6a45978",
        "deepnote_cell_type": "text-cell-h1"
      },
      "block_group": "042dd9845f9e4db8b658bda677339dca"
    },
    {
      "cell_type": "code",
      "source": "def build_model():\n    model = keras.Sequential([layers.Dense(64, activation='relu', input_shape=[len(train_dataset.keys())]),\n    layers.Dense(64, activation='relu'), layers.Dense(1)])\n    optimizer = tf.keras.optimizers.RMSprop(0.001)\n    model.compile(loss='mse', optimizer=optimizer, metrics=['mae', 'mse'])\n    return model    ",
      "metadata": {
        "source_hash": "6bb7ecf4",
        "execution_start": 1727571800746,
        "execution_millis": 0,
        "execution_context_id": "05c96779-690f-4f08-8deb-8c4846ebd6bb",
        "cell_id": "b15b68ba7f864b738ea9cd8f40ae269e",
        "deepnote_cell_type": "code"
      },
      "outputs": [],
      "outputs_reference": null,
      "execution_count": 12,
      "block_group": "170aa8a1b03d4b84965d25b99c46d11d",
      "content_dependencies": null
    },
    {
      "cell_type": "code",
      "source": "model = build_model()",
      "metadata": {
        "source_hash": "3914e243",
        "execution_start": 1727571800815,
        "execution_millis": 60,
        "execution_context_id": "05c96779-690f-4f08-8deb-8c4846ebd6bb",
        "cell_id": "4373f8e8f4864e3c8979488940444a3d",
        "deepnote_cell_type": "code"
      },
      "outputs": [
        {
          "name": "stderr",
          "text": "2024-09-28 21:03:20.756762: W tensorflow/compiler/xla/stream_executor/platform/default/dso_loader.cc:64] Could not load dynamic library 'libcuda.so.1'; dlerror: libcuda.so.1: cannot open shared object file: No such file or directory; LD_LIBRARY_PATH: /usr/local/nvidia/lib:/usr/local/nvidia/lib64\n2024-09-28 21:03:20.756789: W tensorflow/compiler/xla/stream_executor/cuda/cuda_driver.cc:265] failed call to cuInit: UNKNOWN ERROR (303)\n2024-09-28 21:03:20.756806: I tensorflow/compiler/xla/stream_executor/cuda/cuda_diagnostics.cc:156] kernel driver does not appear to be running on this host (p-e4308444-ee4b-40c4-b1c5-a2dd284b3779): /proc/driver/nvidia/version does not exist\n2024-09-28 21:03:20.757022: I tensorflow/core/platform/cpu_feature_guard.cc:193] This TensorFlow binary is optimized with oneAPI Deep Neural Network Library (oneDNN) to use the following CPU instructions in performance-critical operations:  AVX2 FMA\nTo enable them in other operations, rebuild TensorFlow with the appropriate compiler flags.\n",
          "output_type": "stream"
        }
      ],
      "outputs_reference": null,
      "execution_count": 13,
      "block_group": "06ebf97c0e50467e9ec24aa8993bccbc",
      "content_dependencies": null
    },
    {
      "cell_type": "code",
      "source": "model.summary()",
      "metadata": {
        "source_hash": "4e6a3b95",
        "execution_start": 1727571800926,
        "execution_millis": 1,
        "execution_context_id": "05c96779-690f-4f08-8deb-8c4846ebd6bb",
        "cell_id": "92bb398803714802bb96e13a56111613",
        "deepnote_cell_type": "code"
      },
      "outputs": [
        {
          "name": "stdout",
          "text": "Model: \"sequential\"\n_________________________________________________________________\n Layer (type)                Output Shape              Param #   \n=================================================================\n dense (Dense)               (None, 64)                512       \n                                                                 \n dense_1 (Dense)             (None, 64)                4160      \n                                                                 \n dense_2 (Dense)             (None, 1)                 65        \n                                                                 \n=================================================================\nTotal params: 4,737\nTrainable params: 4,737\nNon-trainable params: 0\n_________________________________________________________________\n",
          "output_type": "stream"
        }
      ],
      "outputs_reference": null,
      "execution_count": 14,
      "block_group": "fca2b7008c6248df9295acc799e0b79f",
      "content_dependencies": null
    },
    {
      "cell_type": "code",
      "source": "untrained_sample = train_dataset.sample(10)",
      "metadata": {
        "source_hash": "69f0a67b",
        "execution_start": 1727571800974,
        "execution_millis": 0,
        "execution_context_id": "05c96779-690f-4f08-8deb-8c4846ebd6bb",
        "cell_id": "ed16ffeff2e344cd9eb328ead8cdb0d2",
        "deepnote_cell_type": "code"
      },
      "outputs": [],
      "outputs_reference": null,
      "execution_count": 15,
      "block_group": "87e08c10fb7443ea8c9b40451c509986",
      "content_dependencies": null
    },
    {
      "cell_type": "code",
      "source": "model.predict(untrained_sample)",
      "metadata": {
        "source_hash": "9249d44d",
        "execution_start": 1727571801022,
        "execution_millis": 87,
        "execution_context_id": "05c96779-690f-4f08-8deb-8c4846ebd6bb",
        "cell_id": "19a794563d1441d1bf99917ba9722136",
        "deepnote_cell_type": "code"
      },
      "outputs": [
        {
          "name": "stdout",
          "text": "1/1 [==============================] - 0s 83ms/step\n",
          "output_type": "stream"
        },
        {
          "output_type": "execute_result",
          "execution_count": 16,
          "data": {
            "text/plain": "array([[-298.22937],\n       [-336.43164],\n       [-336.9438 ],\n       [-373.2157 ],\n       [-332.04144],\n       [-402.9248 ],\n       [-429.82416],\n       [-527.9217 ],\n       [-461.13535],\n       [-542.9393 ]], dtype=float32)"
          },
          "metadata": {}
        }
      ],
      "outputs_reference": null,
      "execution_count": 16,
      "block_group": "5799917abaa2404c87617c4c11bcfc98",
      "content_dependencies": null
    },
    {
      "cell_type": "markdown",
      "source": "# Train Model",
      "metadata": {
        "formattedRanges": [],
        "cell_id": "cd5fe1b4dfc4479b9becb939302f0bed",
        "deepnote_cell_type": "text-cell-h1"
      },
      "block_group": "3542cb1a84c448d9a2425b79f9f68597"
    },
    {
      "cell_type": "code",
      "source": "EPOCHS = 1000\nhistory = model.fit(normed_train_data, train_labels, epochs = EPOCHS, validation_split = 0.2, verbose = 0, callbacks = [tfdocs.modeling.EpochDots()]) ",
      "metadata": {
        "source_hash": "bf0d0494",
        "execution_start": 1727571973678,
        "execution_millis": 35770,
        "execution_context_id": "05c96779-690f-4f08-8deb-8c4846ebd6bb",
        "cell_id": "160fdfa40e9445a08ae7887507366644",
        "deepnote_cell_type": "code"
      },
      "outputs": [
        {
          "name": "stdout",
          "text": "\nEpoch: 0, loss:589.1881,  mae:23.0451,  mse:589.1881,  val_loss:591.2402,  val_mae:23.0561,  val_mse:591.2402,  \n....................................................................................................\nEpoch: 100, loss:6.3208,  mae:1.7386,  mse:6.3208,  val_loss:9.1970,  val_mae:2.3352,  val_mse:9.1970,  \n....................................................................................................\nEpoch: 200, loss:5.2318,  mae:1.5579,  mse:5.2318,  val_loss:9.0061,  val_mae:2.2976,  val_mse:9.0061,  \n....................................................................................................\nEpoch: 300, loss:4.9936,  mae:1.5112,  mse:4.9936,  val_loss:8.9321,  val_mae:2.3170,  val_mse:8.9321,  \n....................................................................................................\nEpoch: 400, loss:4.3680,  mae:1.3869,  mse:4.3680,  val_loss:9.1083,  val_mae:2.2768,  val_mse:9.1083,  \n....................................................................................................\nEpoch: 500, loss:4.0553,  mae:1.3134,  mse:4.0553,  val_loss:9.1585,  val_mae:2.3941,  val_mse:9.1585,  \n....................................................................................................\nEpoch: 600, loss:4.0034,  mae:1.3220,  mse:4.0034,  val_loss:8.8375,  val_mae:2.2945,  val_mse:8.8375,  \n....................................................................................................\nEpoch: 700, loss:3.5943,  mae:1.2227,  mse:3.5943,  val_loss:8.9470,  val_mae:2.2962,  val_mse:8.9470,  \n....................................................................................................\nEpoch: 800, loss:3.3425,  mae:1.1584,  mse:3.3425,  val_loss:9.6414,  val_mae:2.3474,  val_mse:9.6414,  \n....................................................................................................\nEpoch: 900, loss:3.1697,  mae:1.1699,  mse:3.1697,  val_loss:9.2030,  val_mae:2.3369,  val_mse:9.2030,  \n....................................................................................................",
          "output_type": "stream"
        }
      ],
      "outputs_reference": null,
      "execution_count": 17,
      "block_group": "404cf243ef4c49f89f0cb12f982ded3e",
      "content_dependencies": null
    },
    {
      "cell_type": "markdown",
      "source": "# Examining Results",
      "metadata": {
        "formattedRanges": [],
        "cell_id": "b10d7a0b7d554024b601e636d4f787b5",
        "deepnote_cell_type": "text-cell-h1"
      },
      "block_group": "81f31f3aaa20412e82f3a70fb3b8e08e"
    },
    {
      "cell_type": "code",
      "source": "hist = pd.DataFrame(history.history)\nhist['epoch'] = history.epoch\nhist.tail()",
      "metadata": {
        "source_hash": "61f475c1",
        "execution_start": 1727572113690,
        "execution_millis": 1,
        "execution_context_id": "05c96779-690f-4f08-8deb-8c4846ebd6bb",
        "cell_id": "b61df788d86046fdbcdeca5c8b60a4bd",
        "deepnote_cell_type": "code"
      },
      "outputs": [
        {
          "output_type": "execute_result",
          "execution_count": 18,
          "data": {
            "application/vnd.deepnote.dataframe.v3+json": {
              "column_count": 7,
              "row_count": 5,
              "columns": [
                {
                  "name": "loss",
                  "dtype": "float64",
                  "stats": {
                    "unique_count": 5,
                    "nan_count": 0,
                    "min": "2.913670539855957",
                    "max": "3.1877810955047607",
                    "histogram": [
                      {
                        "bin_start": 2.913670539855957,
                        "bin_end": 2.9410815954208376,
                        "count": 1
                      },
                      {
                        "bin_start": 2.9410815954208376,
                        "bin_end": 2.9684926509857177,
                        "count": 0
                      },
                      {
                        "bin_start": 2.9684926509857177,
                        "bin_end": 2.9959037065505982,
                        "count": 0
                      },
                      {
                        "bin_start": 2.9959037065505982,
                        "bin_end": 3.0233147621154783,
                        "count": 0
                      },
                      {
                        "bin_start": 3.0233147621154783,
                        "bin_end": 3.050725817680359,
                        "count": 0
                      },
                      {
                        "bin_start": 3.050725817680359,
                        "bin_end": 3.0781368732452394,
                        "count": 0
                      },
                      {
                        "bin_start": 3.0781368732452394,
                        "bin_end": 3.1055479288101195,
                        "count": 2
                      },
                      {
                        "bin_start": 3.1055479288101195,
                        "bin_end": 3.132958984375,
                        "count": 1
                      },
                      {
                        "bin_start": 3.132958984375,
                        "bin_end": 3.16037003993988,
                        "count": 0
                      },
                      {
                        "bin_start": 3.16037003993988,
                        "bin_end": 3.1877810955047607,
                        "count": 1
                      }
                    ]
                  }
                },
                {
                  "name": "mae",
                  "dtype": "float64",
                  "stats": {
                    "unique_count": 5,
                    "nan_count": 0,
                    "min": "1.0695557594299316",
                    "max": "1.1461788415908813",
                    "histogram": [
                      {
                        "bin_start": 1.0695557594299316,
                        "bin_end": 1.0772180676460266,
                        "count": 1
                      },
                      {
                        "bin_start": 1.0772180676460266,
                        "bin_end": 1.0848803758621215,
                        "count": 0
                      },
                      {
                        "bin_start": 1.0848803758621215,
                        "bin_end": 1.0925426840782166,
                        "count": 0
                      },
                      {
                        "bin_start": 1.0925426840782166,
                        "bin_end": 1.1002049922943116,
                        "count": 1
                      },
                      {
                        "bin_start": 1.1002049922943116,
                        "bin_end": 1.1078673005104065,
                        "count": 1
                      },
                      {
                        "bin_start": 1.1078673005104065,
                        "bin_end": 1.1155296087265014,
                        "count": 0
                      },
                      {
                        "bin_start": 1.1155296087265014,
                        "bin_end": 1.1231919169425963,
                        "count": 1
                      },
                      {
                        "bin_start": 1.1231919169425963,
                        "bin_end": 1.1308542251586915,
                        "count": 0
                      },
                      {
                        "bin_start": 1.1308542251586915,
                        "bin_end": 1.1385165333747864,
                        "count": 0
                      },
                      {
                        "bin_start": 1.1385165333747864,
                        "bin_end": 1.1461788415908813,
                        "count": 1
                      }
                    ]
                  }
                },
                {
                  "name": "mse",
                  "dtype": "float64",
                  "stats": {
                    "unique_count": 5,
                    "nan_count": 0,
                    "min": "2.913670539855957",
                    "max": "3.1877810955047607",
                    "histogram": [
                      {
                        "bin_start": 2.913670539855957,
                        "bin_end": 2.9410815954208376,
                        "count": 1
                      },
                      {
                        "bin_start": 2.9410815954208376,
                        "bin_end": 2.9684926509857177,
                        "count": 0
                      },
                      {
                        "bin_start": 2.9684926509857177,
                        "bin_end": 2.9959037065505982,
                        "count": 0
                      },
                      {
                        "bin_start": 2.9959037065505982,
                        "bin_end": 3.0233147621154783,
                        "count": 0
                      },
                      {
                        "bin_start": 3.0233147621154783,
                        "bin_end": 3.050725817680359,
                        "count": 0
                      },
                      {
                        "bin_start": 3.050725817680359,
                        "bin_end": 3.0781368732452394,
                        "count": 0
                      },
                      {
                        "bin_start": 3.0781368732452394,
                        "bin_end": 3.1055479288101195,
                        "count": 2
                      },
                      {
                        "bin_start": 3.1055479288101195,
                        "bin_end": 3.132958984375,
                        "count": 1
                      },
                      {
                        "bin_start": 3.132958984375,
                        "bin_end": 3.16037003993988,
                        "count": 0
                      },
                      {
                        "bin_start": 3.16037003993988,
                        "bin_end": 3.1877810955047607,
                        "count": 1
                      }
                    ]
                  }
                },
                {
                  "name": "val_loss",
                  "dtype": "float64",
                  "stats": {
                    "unique_count": 5,
                    "nan_count": 0,
                    "min": "9.230010032653809",
                    "max": "9.641515731811523",
                    "histogram": [
                      {
                        "bin_start": 9.230010032653809,
                        "bin_end": 9.27116060256958,
                        "count": 2
                      },
                      {
                        "bin_start": 9.27116060256958,
                        "bin_end": 9.312311172485352,
                        "count": 1
                      },
                      {
                        "bin_start": 9.312311172485352,
                        "bin_end": 9.353461742401123,
                        "count": 1
                      },
                      {
                        "bin_start": 9.353461742401123,
                        "bin_end": 9.394612312316895,
                        "count": 0
                      },
                      {
                        "bin_start": 9.394612312316895,
                        "bin_end": 9.435762882232666,
                        "count": 0
                      },
                      {
                        "bin_start": 9.435762882232666,
                        "bin_end": 9.476913452148438,
                        "count": 0
                      },
                      {
                        "bin_start": 9.476913452148438,
                        "bin_end": 9.518064022064209,
                        "count": 0
                      },
                      {
                        "bin_start": 9.518064022064209,
                        "bin_end": 9.55921459197998,
                        "count": 0
                      },
                      {
                        "bin_start": 9.55921459197998,
                        "bin_end": 9.600365161895752,
                        "count": 0
                      },
                      {
                        "bin_start": 9.600365161895752,
                        "bin_end": 9.641515731811523,
                        "count": 1
                      }
                    ]
                  }
                },
                {
                  "name": "val_mae",
                  "dtype": "float64",
                  "stats": {
                    "unique_count": 5,
                    "nan_count": 0,
                    "min": "2.328603982925415",
                    "max": "2.4218475818634033",
                    "histogram": [
                      {
                        "bin_start": 2.328603982925415,
                        "bin_end": 2.3379283428192137,
                        "count": 1
                      },
                      {
                        "bin_start": 2.3379283428192137,
                        "bin_end": 2.347252702713013,
                        "count": 2
                      },
                      {
                        "bin_start": 2.347252702713013,
                        "bin_end": 2.3565770626068114,
                        "count": 0
                      },
                      {
                        "bin_start": 2.3565770626068114,
                        "bin_end": 2.3659014225006105,
                        "count": 1
                      },
                      {
                        "bin_start": 2.3659014225006105,
                        "bin_end": 2.375225782394409,
                        "count": 0
                      },
                      {
                        "bin_start": 2.375225782394409,
                        "bin_end": 2.384550142288208,
                        "count": 0
                      },
                      {
                        "bin_start": 2.384550142288208,
                        "bin_end": 2.393874502182007,
                        "count": 0
                      },
                      {
                        "bin_start": 2.393874502182007,
                        "bin_end": 2.4031988620758056,
                        "count": 0
                      },
                      {
                        "bin_start": 2.4031988620758056,
                        "bin_end": 2.4125232219696047,
                        "count": 0
                      },
                      {
                        "bin_start": 2.4125232219696047,
                        "bin_end": 2.4218475818634033,
                        "count": 1
                      }
                    ]
                  }
                },
                {
                  "name": "val_mse",
                  "dtype": "float64",
                  "stats": {
                    "unique_count": 5,
                    "nan_count": 0,
                    "min": "9.230010032653809",
                    "max": "9.641515731811523",
                    "histogram": [
                      {
                        "bin_start": 9.230010032653809,
                        "bin_end": 9.27116060256958,
                        "count": 2
                      },
                      {
                        "bin_start": 9.27116060256958,
                        "bin_end": 9.312311172485352,
                        "count": 1
                      },
                      {
                        "bin_start": 9.312311172485352,
                        "bin_end": 9.353461742401123,
                        "count": 1
                      },
                      {
                        "bin_start": 9.353461742401123,
                        "bin_end": 9.394612312316895,
                        "count": 0
                      },
                      {
                        "bin_start": 9.394612312316895,
                        "bin_end": 9.435762882232666,
                        "count": 0
                      },
                      {
                        "bin_start": 9.435762882232666,
                        "bin_end": 9.476913452148438,
                        "count": 0
                      },
                      {
                        "bin_start": 9.476913452148438,
                        "bin_end": 9.518064022064209,
                        "count": 0
                      },
                      {
                        "bin_start": 9.518064022064209,
                        "bin_end": 9.55921459197998,
                        "count": 0
                      },
                      {
                        "bin_start": 9.55921459197998,
                        "bin_end": 9.600365161895752,
                        "count": 0
                      },
                      {
                        "bin_start": 9.600365161895752,
                        "bin_end": 9.641515731811523,
                        "count": 1
                      }
                    ]
                  }
                },
                {
                  "name": "epoch",
                  "dtype": "int64",
                  "stats": {
                    "unique_count": 5,
                    "nan_count": 0,
                    "min": "995",
                    "max": "999",
                    "histogram": [
                      {
                        "bin_start": 995,
                        "bin_end": 995.4,
                        "count": 1
                      },
                      {
                        "bin_start": 995.4,
                        "bin_end": 995.8,
                        "count": 0
                      },
                      {
                        "bin_start": 995.8,
                        "bin_end": 996.2,
                        "count": 1
                      },
                      {
                        "bin_start": 996.2,
                        "bin_end": 996.6,
                        "count": 0
                      },
                      {
                        "bin_start": 996.6,
                        "bin_end": 997,
                        "count": 0
                      },
                      {
                        "bin_start": 997,
                        "bin_end": 997.4,
                        "count": 1
                      },
                      {
                        "bin_start": 997.4,
                        "bin_end": 997.8,
                        "count": 0
                      },
                      {
                        "bin_start": 997.8,
                        "bin_end": 998.2,
                        "count": 1
                      },
                      {
                        "bin_start": 998.2,
                        "bin_end": 998.6,
                        "count": 0
                      },
                      {
                        "bin_start": 998.6,
                        "bin_end": 999,
                        "count": 1
                      }
                    ]
                  }
                },
                {
                  "name": "_deepnote_index_column",
                  "dtype": "int64"
                }
              ],
              "rows": [
                {
                  "loss": 3.091303825378418,
                  "mae": 1.097343921661377,
                  "mse": 3.091303825378418,
                  "val_loss": 9.351798057556152,
                  "val_mae": 2.3435122966766357,
                  "val_mse": 9.351798057556152,
                  "epoch": 995,
                  "_deepnote_index_column": 995
                },
                {
                  "loss": 2.913670539855957,
                  "mae": 1.0695557594299316,
                  "mse": 2.913670539855957,
                  "val_loss": 9.641515731811523,
                  "val_mae": 2.4218475818634033,
                  "val_mse": 9.641515731811523,
                  "epoch": 996,
                  "_deepnote_index_column": 996
                },
                {
                  "loss": 3.1877810955047607,
                  "mae": 1.1461788415908813,
                  "mse": 3.1877810955047607,
                  "val_loss": 9.230010032653809,
                  "val_mae": 2.328603982925415,
                  "val_mse": 9.230010032653809,
                  "epoch": 997,
                  "_deepnote_index_column": 997
                },
                {
                  "loss": 3.0882668495178223,
                  "mae": 1.1019964218139648,
                  "mse": 3.0882668495178223,
                  "val_loss": 9.236021041870117,
                  "val_mae": 2.3388214111328125,
                  "val_mse": 9.236021041870117,
                  "epoch": 998,
                  "_deepnote_index_column": 998
                },
                {
                  "loss": 3.120802402496338,
                  "mae": 1.1175390481948853,
                  "mse": 3.120802402496338,
                  "val_loss": 9.307199478149414,
                  "val_mae": 2.3628618717193604,
                  "val_mse": 9.307199478149414,
                  "epoch": 999,
                  "_deepnote_index_column": 999
                }
              ]
            },
            "text/plain": "         loss       mae       mse  val_loss   val_mae   val_mse  epoch\n995  3.091304  1.097344  3.091304  9.351798  2.343512  9.351798    995\n996  2.913671  1.069556  2.913671  9.641516  2.421848  9.641516    996\n997  3.187781  1.146179  3.187781  9.230010  2.328604  9.230010    997\n998  3.088267  1.101996  3.088267  9.236021  2.338821  9.236021    998\n999  3.120802  1.117539  3.120802  9.307199  2.362862  9.307199    999",
            "text/html": "<div>\n<style scoped>\n    .dataframe tbody tr th:only-of-type {\n        vertical-align: middle;\n    }\n\n    .dataframe tbody tr th {\n        vertical-align: top;\n    }\n\n    .dataframe thead th {\n        text-align: right;\n    }\n</style>\n<table border=\"1\" class=\"dataframe\">\n  <thead>\n    <tr style=\"text-align: right;\">\n      <th></th>\n      <th>loss</th>\n      <th>mae</th>\n      <th>mse</th>\n      <th>val_loss</th>\n      <th>val_mae</th>\n      <th>val_mse</th>\n      <th>epoch</th>\n    </tr>\n  </thead>\n  <tbody>\n    <tr>\n      <th>995</th>\n      <td>3.091304</td>\n      <td>1.097344</td>\n      <td>3.091304</td>\n      <td>9.351798</td>\n      <td>2.343512</td>\n      <td>9.351798</td>\n      <td>995</td>\n    </tr>\n    <tr>\n      <th>996</th>\n      <td>2.913671</td>\n      <td>1.069556</td>\n      <td>2.913671</td>\n      <td>9.641516</td>\n      <td>2.421848</td>\n      <td>9.641516</td>\n      <td>996</td>\n    </tr>\n    <tr>\n      <th>997</th>\n      <td>3.187781</td>\n      <td>1.146179</td>\n      <td>3.187781</td>\n      <td>9.230010</td>\n      <td>2.328604</td>\n      <td>9.230010</td>\n      <td>997</td>\n    </tr>\n    <tr>\n      <th>998</th>\n      <td>3.088267</td>\n      <td>1.101996</td>\n      <td>3.088267</td>\n      <td>9.236021</td>\n      <td>2.338821</td>\n      <td>9.236021</td>\n      <td>998</td>\n    </tr>\n    <tr>\n      <th>999</th>\n      <td>3.120802</td>\n      <td>1.117539</td>\n      <td>3.120802</td>\n      <td>9.307199</td>\n      <td>2.362862</td>\n      <td>9.307199</td>\n      <td>999</td>\n    </tr>\n  </tbody>\n</table>\n</div>"
          },
          "metadata": {}
        }
      ],
      "outputs_reference": null,
      "execution_count": 18,
      "block_group": "1c21322a84894a65930f92a64ee36adf",
      "content_dependencies": null
    },
    {
      "cell_type": "code",
      "source": "plotter = tfdocs.plots.HistoryPlotter(smoothing_std = 2)\nplotter.plot({'Basic': history}, metric = \"mae\")\nplt.ylim([0, 10])\nplt.ylabel('MAE [MPG]')   ",
      "metadata": {
        "source_hash": "35d738bb",
        "execution_start": 1727572193598,
        "execution_context_id": "05c96779-690f-4f08-8deb-8c4846ebd6bb",
        "cell_id": "52202c648d2348f89809e89df3e78e76",
        "deepnote_cell_type": "code"
      },
      "outputs": [
        {
          "output_type": "execute_result",
          "execution_count": 19,
          "data": {
            "text/plain": "Text(0, 0.5, 'MAE [MPG]')"
          },
          "metadata": {}
        },
        {
          "data": {
            "text/plain": "<Figure size 640x480 with 1 Axes>",
            "image/png": "[encoded data removed]"
          },
          "metadata": {
            "image/png": {
              "width": 562,
              "height": 438
            }
          },
          "output_type": "display_data"
        }
      ],
      "outputs_reference": null,
      "execution_count": 19,
      "block_group": "6dafbdacc88a451399ab5bcc5283346a",
      "content_dependencies": null
    },
    {
      "cell_type": "code",
      "source": "plotter.plot({'Basic': history}, metric = \"mse\")\nplt.ylim([0, 20])\nplt.ylabel('MSE [MPG^2]')   ",
      "metadata": {
        "source_hash": "c731099f",
        "execution_start": 1727574002574,
        "execution_context_id": "05c96779-690f-4f08-8deb-8c4846ebd6bb",
        "cell_id": "9d83a2f3a0c44f75b1869a81d4bfdcd6",
        "deepnote_cell_type": "code"
      },
      "outputs": [
        {
          "output_type": "execute_result",
          "execution_count": 50,
          "data": {
            "text/plain": "Text(0, 0.5, 'MSE [MPG^2]')"
          },
          "metadata": {}
        },
        {
          "data": {
            "text/plain": "<Figure size 640x480 with 1 Axes>",
            "image/png": "[encoded data removed]"
          },
          "metadata": {
            "image/png": {
              "width": 576,
              "height": 438
            }
          },
          "output_type": "display_data"
        }
      ],
      "outputs_reference": null,
      "execution_count": 50,
      "block_group": "1560d60421d248228ff49909b2911b6c",
      "content_dependencies": null
    },
    {
      "cell_type": "code",
      "source": "fig, ax = plt.subplots()\nplt.grid(which = 'major', axis = 'both', linestyle = ':', color = '#e9e9e9')\nplt.plot(hist['epoch'], hist['mae'], color = '#D8973C', linestyle = (0, (5, 10)))\nplt.plot(hist['epoch'], hist['val_mae'], color = '#273E47')\nax.set_xlim([-3, 1000])\nax.set_ylim([0, 10])\nax.set_xlabel('Epoch', fontsize = 15, \n\t\t\t  loc = 'left').set_color('#707070')\nax.set_ylabel('MAE\\n(MPG)', fontsize = 15, rotation = 'horizontal',\n\t\t\t  loc = 'bottom', labelpad = 45).set_color('#707070')\nax.set_title('Validation MAE Leveled\\nAfter ~100 Epochs', fontsize = 23, pad = 15).set_color('#171819')\nfor pos in ['right', 'top']:\n\tplt.gca().spines[pos].set_visible(False)\nax.spines['bottom'].set_color('#A0A0A0')\nax.spines['left'].set_color('#A0A0A0')\nax.tick_params(axis='y', which='both', right=False,\n\t\t\t   left=False, colors = '#686868')\nax.tick_params(axis='x', which='both', top=False,\n\t\t\t   bottom=False, colors = '#686868')\n\nfor line, name in zip(ax.lines, ['Training', 'Validation']):\n    y = line.get_ydata()[-1]\n    ax.annotate(name, xy=(1,y), xytext=(6,0), color = line.get_color(), \n                xycoords = ax.get_yaxis_transform(), textcoords = \"offset points\",\n                size = 14, va = \"center\")\n\nplt.show();",
      "metadata": {
        "source_hash": "6d5dec6c",
        "execution_start": 1727573775910,
        "execution_millis": 634,
        "execution_context_id": "05c96779-690f-4f08-8deb-8c4846ebd6bb",
        "cell_id": "5181fa516d704720911b83dfc55470b1",
        "deepnote_cell_type": "code"
      },
      "outputs": [
        {
          "data": {
            "text/plain": "<Figure size 640x480 with 1 Axes>",
            "image/png": "[encoded data removed]"
          },
          "metadata": {
            "image/png": {
              "width": 710,
              "height": 519
            }
          },
          "output_type": "display_data"
        }
      ],
      "outputs_reference": null,
      "execution_count": 49,
      "block_group": "327c6568a0d1444ab17369829a1d5fd2",
      "content_dependencies": null
    },
    {
      "cell_type": "code",
      "source": "fig, ax = plt.subplots()\nplt.grid(which = 'major', axis = 'both', linestyle = ':', color = '#e9e9e9')\nplt.plot(hist['epoch'], hist['mse'], color = '#D8973C', linestyle = (0, (5, 10)))\nplt.plot(hist['epoch'], hist['val_mse'], color = '#273E47')\nax.set_xlim([-3, 1000])\nax.set_ylim([0, 20])\nax.set_xlabel('Epoch', fontsize = 15, \n\t\t\t  loc = 'left').set_color('#707070')\nax.set_ylabel('MAE\\n($MSE^2$)', fontsize = 15, rotation = 'horizontal',\n\t\t\t  loc = 'bottom', labelpad = 45).set_color('#707070')\nax.set_title('Validation MSE Leveled\\nAfter ~100 Epochs', fontsize = 23, pad = 15).set_color('#171819')\nfor pos in ['right', 'top']:\n\tplt.gca().spines[pos].set_visible(False)\nax.spines['bottom'].set_color('#A0A0A0')\nax.spines['left'].set_color('#A0A0A0')\nax.tick_params(axis='y', which='both', right=False,\n\t\t\t   left=False, colors = '#686868')\nax.tick_params(axis='x', which='both', top=False,\n\t\t\t   bottom=False, colors = '#686868')\n\nfor line, name in zip(ax.lines, ['Training', 'Validation']):\n    y = line.get_ydata()[-1]\n    ax.annotate(name, xy=(1,y), xytext=(6,0), color = line.get_color(), \n                xycoords = ax.get_yaxis_transform(), textcoords = \"offset points\",\n                size = 14, va = \"center\")\n\nplt.show();",
      "metadata": {
        "source_hash": "18495db2",
        "execution_start": 1727574110922,
        "execution_millis": 230,
        "execution_context_id": "05c96779-690f-4f08-8deb-8c4846ebd6bb",
        "cell_id": "2cb7bf34ad6d40d7a159713a2ccefa47",
        "deepnote_cell_type": "code"
      },
      "outputs": [
        {
          "data": {
            "text/plain": "<Figure size 640x480 with 1 Axes>",
            "image/png": "[encoded data removed]"
          },
          "metadata": {
            "image/png": {
              "width": 723,
              "height": 519
            }
          },
          "output_type": "display_data"
        }
      ],
      "outputs_reference": null,
      "execution_count": 52,
      "block_group": "91a58d019bb04f5089548a846c54f538",
      "content_dependencies": null
    },
    {
      "cell_type": "markdown",
      "source": "<a style='text-decoration:none;line-height:16px;display:flex;color:#5B5B62;padding:10px;justify-content:end;' href='https://deepnote.com?utm_source=created-in-deepnote-cell&projectId=e4308444-ee4b-40c4-b1c5-a2dd284b3779' target=\"_blank\">\n<img alt='Created in deepnote.com' style='display:inline;max-height:16px;margin:0px;margin-right:7.5px;' src='data:image/svg+xml;base64,PD94bWwgdmVyc2lvbj0iMS4wIiBlbmNvZGluZz0iVVRGLTgiPz4KPHN2ZyB3aWR0aD0iODBweCIgaGVpZ2h0PSI4MHB4IiB2aWV3Qm94PSIwIDAgODAgODAiIHZlcnNpb249IjEuMSIgeG1sbnM9Imh0dHA6Ly93d3cudzMub3JnLzIwMDAvc3ZnIiB4bWxuczp4bGluaz0iaHR0cDovL3d3dy53My5vcmcvMTk5OS94bGluayI+CiAgICA8IS0tIEdlbmVyYXRvcjogU2tldGNoIDU0LjEgKDc2NDkwKSAtIGh0dHBzOi8vc2tldGNoYXBwLmNvbSAtLT4KICAgIDx0aXRsZT5Hcm91cCAzPC90aXRsZT4KICAgIDxkZXNjPkNyZWF0ZWQgd2l0aCBTa2V0Y2guPC9kZXNjPgogICAgPGcgaWQ9IkxhbmRpbmciIHN0cm9rZT0ibm9uZSIgc3Ryb2tlLXdpZHRoPSIxIiBmaWxsPSJub25lIiBmaWxsLXJ1bGU9ImV2ZW5vZGQiPgogICAgICAgIDxnIGlkPSJBcnRib2FyZCIgdHJhbnNmb3JtPSJ0cmFuc2xhdGUoLTEyMzUuMDAwMDAwLCAtNzkuMDAwMDAwKSI+CiAgICAgICAgICAgIDxnIGlkPSJHcm91cC0zIiB0cmFuc2Zvcm09InRyYW5zbGF0ZSgxMjM1LjAwMDAwMCwgNzkuMDAwMDAwKSI+CiAgICAgICAgICAgICAgICA8cG9seWdvbiBpZD0iUGF0aC0yMCIgZmlsbD0iIzAyNjVCNCIgcG9pbnRzPSIyLjM3NjIzNzYyIDgwIDM4LjA0NzY2NjcgODAgNTcuODIxNzgyMiA3My44MDU3NTkyIDU3LjgyMTc4MjIgMzIuNzU5MjczOSAzOS4xNDAyMjc4IDMxLjY4MzE2ODMiPjwvcG9seWdvbj4KICAgICAgICAgICAgICAgIDxwYXRoIGQ9Ik0zNS4wMDc3MTgsODAgQzQyLjkwNjIwMDcsNzYuNDU0OTM1OCA0Ny41NjQ5MTY3LDcxLjU0MjI2NzEgNDguOTgzODY2LDY1LjI2MTk5MzkgQzUxLjExMjI4OTksNTUuODQxNTg0MiA0MS42NzcxNzk1LDQ5LjIxMjIyODQgMjUuNjIzOTg0Niw0OS4yMTIyMjg0IEMyNS40ODQ5Mjg5LDQ5LjEyNjg0NDggMjkuODI2MTI5Niw0My4yODM4MjQ4IDM4LjY0NzU4NjksMzEuNjgzMTY4MyBMNzIuODcxMjg3MSwzMi41NTQ0MjUgTDY1LjI4MDk3Myw2Ny42NzYzNDIxIEw1MS4xMTIyODk5LDc3LjM3NjE0NCBMMzUuMDA3NzE4LDgwIFoiIGlkPSJQYXRoLTIyIiBmaWxsPSIjMDAyODY4Ij48L3BhdGg+CiAgICAgICAgICAgICAgICA8cGF0aCBkPSJNMCwzNy43MzA0NDA1IEwyNy4xMTQ1MzcsMC4yNTcxMTE0MzYgQzYyLjM3MTUxMjMsLTEuOTkwNzE3MDEgODAsMTAuNTAwMzkyNyA4MCwzNy43MzA0NDA1IEM4MCw2NC45NjA0ODgyIDY0Ljc3NjUwMzgsNzkuMDUwMzQxNCAzNC4zMjk1MTEzLDgwIEM0Ny4wNTUzNDg5LDc3LjU2NzA4MDggNTMuNDE4MjY3Nyw3MC4zMTM2MTAzIDUzLjQxODI2NzcsNTguMjM5NTg4NSBDNTMuNDE4MjY3Nyw0MC4xMjg1NTU3IDM2LjMwMzk1NDQsMzcuNzMwNDQwNSAyNS4yMjc0MTcsMzcuNzMwNDQwNSBDMTcuODQzMDU4NiwzNy43MzA0NDA1IDkuNDMzOTE5NjYsMzcuNzMwNDQwNSAwLDM3LjczMDQ0MDUgWiIgaWQ9IlBhdGgtMTkiIGZpbGw9IiMzNzkzRUYiPjwvcGF0aD4KICAgICAgICAgICAgPC9nPgogICAgICAgIDwvZz4KICAgIDwvZz4KPC9zdmc+' > </img>\nCreated in <span style='font-weight:600;margin-left:4px;'>Deepnote</span></a>",
      "metadata": {
        "created_in_deepnote_cell": true,
        "deepnote_cell_type": "markdown"
      }
    }
  ],
  "nbformat": 4,
  "nbformat_minor": 0,
  "metadata": {
    "deepnote_full_width": true,
    "deepnote_notebook_id": "3ca9da95fb8d49cd94845c9540f5e3ac",
    "deepnote_execution_queue": []
  }
}