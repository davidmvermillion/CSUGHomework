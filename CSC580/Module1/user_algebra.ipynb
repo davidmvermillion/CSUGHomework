{
 "cells": [
  {
   "cell_type": "code",
   "execution_count": 3,
   "metadata": {},
   "outputs": [
    {
     "name": "stdout",
     "output_type": "stream",
     "text": [
      "List of students:  [5, 4, 23, 35]\n"
     ]
    }
   ],
   "source": [
    "x = list(map(int, input(\"Enter multiple values: \").split()))\n",
    "print(\"List of students: \", x)"
   ]
  },
  {
   "cell_type": "code",
   "execution_count": 42,
   "metadata": {},
   "outputs": [],
   "source": [
    "initial = [1, 2, 3, 4, 4, 5, 3, 10, 11, 11]\n",
    "coefficients = initial[slice(8)]"
   ]
  },
  {
   "cell_type": "code",
   "execution_count": 56,
   "metadata": {},
   "outputs": [],
   "source": [
    "coa = [coefficients]"
   ]
  },
  {
   "cell_type": "code",
   "execution_count": 54,
   "metadata": {},
   "outputs": [
    {
     "name": "stdout",
     "output_type": "stream",
     "text": [
      "Your model was trained with 8 coefficients.\n",
      "Enter 8\n"
     ]
    }
   ],
   "source": [
    "print(\"Your model was trained with {} coefficients.\\nEnter {}\".format(lenco, lenco))"
   ]
  },
  {
   "cell_type": "code",
   "execution_count": 55,
   "metadata": {},
   "outputs": [],
   "source": [
    "second = list(map(int, input(\"Your model was trained with {} coefficients.\\nEnter {} integers separated by spaces: \".format(len(coefficients), len(coefficients))).split()))"
   ]
  },
  {
   "cell_type": "code",
   "execution_count": 35,
   "metadata": {},
   "outputs": [],
   "source": [
    "if len(coefficients) == 8:\n",
    "    train_in, train_out = nf.eightNumbers(train_set_count, train_set_limit, coefficients)\n",
    "elif len(coefficients) == 7:\n",
    "    train_in, train_out = nf.sevenNumbers(train_set_count, train_set_limit, coefficients)\n",
    "elif len(coefficients) == 6:\n",
    "    train_in, train_out = nf.sixNumbers(train_set_count, train_set_limit, coefficients)\n",
    "elif len(coefficients) == 5:\n",
    "    train_in, train_out = nf.fiveNumbers(train_set_count, train_set_limit, coefficients)\n",
    "elif len(coefficients) == 4:\n",
    "    train_in, train_out = nf.fourNumbers(train_set_count, train_set_limit, coefficients)\n",
    "else:\n",
    "    print('That\\'s odd')"
   ]
  },
  {
   "cell_type": "code",
   "execution_count": 32,
   "metadata": {},
   "outputs": [],
   "source": [
    "from random import randint\n",
    "import pandas as pd\n",
    "import numberfunctions as nf"
   ]
  },
  {
   "cell_type": "code",
   "execution_count": 25,
   "metadata": {},
   "outputs": [
    {
     "name": "stdout",
     "output_type": "stream",
     "text": [
      "1\n",
      "2\n",
      "3\n",
      "4\n",
      "5\n",
      "6\n",
      "7\n",
      "8\n"
     ]
    }
   ],
   "source": [
    "initial = [1, 2, 3, 4, 4, 5, 3, 10]\n",
    "train_set_limit = 1000\n",
    "train_set_count = 100\n",
    "\n",
    "train_input = list()\n",
    "train_output = list()\n",
    "variables = list()\n",
    "\n",
    "for k in range(len(initial)):\n",
    "    print(k+1)\n",
    "    variables.append(randint(0, train_set_limit))\n",
    "    k += 1"
   ]
  },
  {
   "cell_type": "code",
   "execution_count": 29,
   "metadata": {},
   "outputs": [],
   "source": [
    "in_8, out_8 = nf.eightNumbers(train_set_count, train_set_limit, initial)"
   ]
  }
 ],
 "metadata": {
  "kernelspec": {
   "display_name": "csc580",
   "language": "python",
   "name": "python3"
  },
  "language_info": {
   "codemirror_mode": {
    "name": "ipython",
    "version": 3
   },
   "file_extension": ".py",
   "mimetype": "text/x-python",
   "name": "python",
   "nbconvert_exporter": "python",
   "pygments_lexer": "ipython3",
   "version": "3.12.2"
  }
 },
 "nbformat": 4,
 "nbformat_minor": 2
}
