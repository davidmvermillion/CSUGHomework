{
 "cells": [
  {
   "cell_type": "code",
   "execution_count": 3,
   "metadata": {},
   "outputs": [
    {
     "name": "stdout",
     "output_type": "stream",
     "text": [
      "List of students:  [5, 4, 23, 35]\n"
     ]
    }
   ],
   "source": [
    "x = list(map(int, input(\"Enter multiple values: \").split()))\n",
    "print(\"List of students: \", x)"
   ]
  },
  {
   "cell_type": "code",
   "execution_count": 14,
   "metadata": {},
   "outputs": [
    {
     "name": "stdout",
     "output_type": "stream",
     "text": [
      "Intel MKL WARNING: Support of Intel(R) Streaming SIMD Extensions 4.2 (Intel(R) SSE4.2) enabled only processors has been deprecated. Intel oneAPI Math Kernel Library 2025.0 will require Intel(R) Advanced Vector Extensions (Intel(R) AVX) instructions.\n",
      "Intel MKL WARNING: Support of Intel(R) Streaming SIMD Extensions 4.2 (Intel(R) SSE4.2) enabled only processors has been deprecated. Intel oneAPI Math Kernel Library 2025.0 will require Intel(R) Advanced Vector Extensions (Intel(R) AVX) instructions.\n"
     ]
    }
   ],
   "source": [
    "from random import randint\n",
    "import pandas as pd"
   ]
  },
  {
   "cell_type": "code",
   "execution_count": 25,
   "metadata": {},
   "outputs": [
    {
     "name": "stdout",
     "output_type": "stream",
     "text": [
      "1\n",
      "2\n",
      "3\n",
      "4\n",
      "5\n",
      "6\n",
      "7\n",
      "8\n"
     ]
    }
   ],
   "source": [
    "initial = [1, 2, 3, 4, 4, 5, 3, 10]\n",
    "train_set_limit = 1000\n",
    "train_set_count = 100\n",
    "\n",
    "train_input = list()\n",
    "train_output = list()\n",
    "variables = list()\n",
    "\n",
    "for k in range(len(initial)):\n",
    "    print(k+1)\n",
    "    variables.append(randint(0, train_set_limit))\n",
    "    k += 1"
   ]
  },
  {
   "cell_type": "code",
   "execution_count": 15,
   "metadata": {},
   "outputs": [],
   "source": [
    "variable_names_full = ['a', 'b', 'c', 'd', 'e', 'f', 'g', 'h']\n",
    "var_test = pd.DataFrame(columns = variable_names_full)"
   ]
  },
  {
   "cell_type": "code",
   "execution_count": 16,
   "metadata": {},
   "outputs": [
    {
     "data": {
      "text/plain": [
       "'b'"
      ]
     },
     "execution_count": 16,
     "metadata": {},
     "output_type": "execute_result"
    }
   ],
   "source": [
    "variable_names_full[1]"
   ]
  },
  {
   "cell_type": "code",
   "execution_count": 21,
   "metadata": {},
   "outputs": [
    {
     "data": {
      "text/plain": [
       "Series([], Name: b, dtype: object)"
      ]
     },
     "execution_count": 21,
     "metadata": {},
     "output_type": "execute_result"
    }
   ],
   "source": [
    "var_test.iloc[:, 1]"
   ]
  },
  {
   "cell_type": "code",
   "execution_count": 24,
   "metadata": {},
   "outputs": [],
   "source": [
    "def eightNumbers(train_count, train_limit, coefficients):\n",
    "    train_input = list()\n",
    "    train_output = list()\n",
    "    for i in range(train_count):\n",
    "        a = randint(0, train_limit)\n",
    "        b = randint(0, train_limit)\n",
    "        c = randint(0, train_limit)\n",
    "        d = randint(0, train_limit)\n",
    "        e = randint(0, train_limit)\n",
    "        f = randint(0, train_limit)\n",
    "        g = randint(0, train_limit)\n",
    "        h = randint(0, train_limit)\n",
    "        output = (coefficients[0]*a) + (coefficients[1]*b) + (coefficients[2]*c) + (coefficients[3]*d) + (coefficients[4]*e) + (coefficients[5]*f) + (coefficients[6]*g) + (coefficients[7]*h)\n",
    "        train_input.append([a, b, c, d, e, f, g, h])\n",
    "        train_output.append(output)\n",
    "\n",
    "    return train_input, train_output"
   ]
  },
  {
   "cell_type": "code",
   "execution_count": 26,
   "metadata": {},
   "outputs": [],
   "source": [
    "in_8, out_8 = eightNumbers(train_set_count, train_set_limit, initial)"
   ]
  }
 ],
 "metadata": {
  "kernelspec": {
   "display_name": "csc580",
   "language": "python",
   "name": "python3"
  },
  "language_info": {
   "codemirror_mode": {
    "name": "ipython",
    "version": 3
   },
   "file_extension": ".py",
   "mimetype": "text/x-python",
   "name": "python",
   "nbconvert_exporter": "python",
   "pygments_lexer": "ipython3",
   "version": "3.12.2"
  }
 },
 "nbformat": 4,
 "nbformat_minor": 2
}
