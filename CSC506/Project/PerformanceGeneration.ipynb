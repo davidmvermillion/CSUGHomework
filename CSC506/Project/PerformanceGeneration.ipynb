{
 "cells": [
  {
   "cell_type": "markdown",
   "metadata": {},
   "source": [
    "# Environment Initialization"
   ]
  },
  {
   "cell_type": "code",
   "execution_count": 3,
   "metadata": {},
   "outputs": [],
   "source": [
    "import pandas as pd\n",
    "import pickle\n",
    "from datetime import datetime\n",
    "\n",
    "data = pd.read_csv('data/Meteorite_Landings.csv')\n",
    "testcase = list(range(0,1000))\n",
    "performance = []"
   ]
  },
  {
   "cell_type": "markdown",
   "metadata": {},
   "source": [
    "# Separate Columns Independent from Full Entry"
   ]
  },
  {
   "cell_type": "code",
   "execution_count": 4,
   "metadata": {},
   "outputs": [],
   "source": [
    "name = data['name']\n",
    "id = data['id']\n",
    "mass = data['mass (g)']\n",
    "year = data['year']\n",
    "reclat = data['reclat']\n",
    "reclong = data['reclong']"
   ]
  },
  {
   "cell_type": "markdown",
   "metadata": {},
   "source": [
    "# Test Algorithms on *name* Column\n",
    "## Quick Sort"
   ]
  },
  {
   "cell_type": "code",
   "execution_count": 5,
   "metadata": {},
   "outputs": [],
   "source": [
    "for i in testcase:\n",
    "    start = datetime.now()\n",
    "    sort = np.sort(name, kind = 'quicksort')\n",
    "    end = datetime.now()\n",
    "    td = (end - start).total_seconds() * 10**3\n",
    "    performance.append(td)\n",
    "\n",
    "# https://stackoverflow.com/a/11218504/13801562\n",
    "# Save as pickle\n",
    "with open('data/quicksort_name.pickle', 'wb') as handle:\n",
    "    pickle.dump(performance, handle)\n",
    "\n",
    "# Reset counter\n",
    "performance = []"
   ]
  },
  {
   "cell_type": "markdown",
   "metadata": {},
   "source": [
    "## Merge Sort"
   ]
  },
  {
   "cell_type": "code",
   "execution_count": 4,
   "metadata": {},
   "outputs": [],
   "source": [
    "for i in testcase:\n",
    "    start = datetime.now()\n",
    "    sort = np.sort(name, kind = 'mergesort')\n",
    "    end = datetime.now()\n",
    "    td = (end - start).total_seconds() * 10**3\n",
    "    performance.append(td)\n",
    "\n",
    "# Save as pickle\n",
    "with open('data/mergesort_name.pickle', 'wb') as handle:\n",
    "    pickle.dump(performance, handle)\n",
    "\n",
    "# Reset counter\n",
    "performance = []"
   ]
  },
  {
   "cell_type": "markdown",
   "metadata": {},
   "source": [
    "## Heap Sort"
   ]
  },
  {
   "cell_type": "code",
   "execution_count": 5,
   "metadata": {},
   "outputs": [],
   "source": [
    "for i in testcase:\n",
    "    start = datetime.now()\n",
    "    sort = np.sort(name, kind = 'heapsort')\n",
    "    end = datetime.now()\n",
    "    td = (end - start).total_seconds() * 10**3\n",
    "    performance.append(td)\n",
    "\n",
    "# Save as pickle\n",
    "with open('data/heapsort_name.pickle', 'wb') as handle:\n",
    "    pickle.dump(performance, handle)\n",
    "\n",
    "# Reset counter\n",
    "performance = []"
   ]
  },
  {
   "cell_type": "markdown",
   "metadata": {},
   "source": [
    "## Stable Sort"
   ]
  },
  {
   "cell_type": "code",
   "execution_count": 6,
   "metadata": {},
   "outputs": [],
   "source": [
    "for i in testcase:\n",
    "    start = datetime.now()\n",
    "    sort = np.sort(name, kind = 'stable')\n",
    "    end = datetime.now()\n",
    "    td = (end - start).total_seconds() * 10**3\n",
    "    performance.append(td)\n",
    "\n",
    "# Save as pickle\n",
    "with open('data/stablesort_name.pickle', 'wb') as handle:\n",
    "    pickle.dump(performance, handle)\n",
    "\n",
    "# Reset counter\n",
    "performance = []"
   ]
  },
  {
   "cell_type": "markdown",
   "metadata": {},
   "source": [
    "# Test Algorithms on *id* Column\n",
    "## Quick Sort"
   ]
  },
  {
   "cell_type": "code",
   "execution_count": null,
   "metadata": {},
   "outputs": [],
   "source": [
    "for i in testcase:\n",
    "    start = datetime.now()\n",
    "    sort = np.sort(id, kind = 'quicksort')\n",
    "    end = datetime.now()\n",
    "    td = (end - start).total_seconds() * 10**3\n",
    "    performance.append(td)\n",
    "\n",
    "# https://stackoverflow.com/a/11218504/13801562\n",
    "# Save as pickle\n",
    "with open('data/quicksort_id.pickle', 'wb') as handle:\n",
    "    pickle.dump(performance, handle)\n",
    "\n",
    "# Reset counter\n",
    "performance = []"
   ]
  },
  {
   "cell_type": "markdown",
   "metadata": {},
   "source": [
    "## Merge Sort"
   ]
  },
  {
   "cell_type": "code",
   "execution_count": null,
   "metadata": {},
   "outputs": [],
   "source": [
    "for i in testcase:\n",
    "    start = datetime.now()\n",
    "    sort = np.sort(id, kind = 'mergesort')\n",
    "    end = datetime.now()\n",
    "    td = (end - start).total_seconds() * 10**3\n",
    "    performance.append(td)\n",
    "\n",
    "# https://stackoverflow.com/a/11218504/13801562\n",
    "# Save as pickle\n",
    "with open('data/mergesort_id.pickle', 'wb') as handle:\n",
    "    pickle.dump(performance, handle)\n",
    "\n",
    "# Reset counter\n",
    "performance = []"
   ]
  },
  {
   "cell_type": "markdown",
   "metadata": {},
   "source": [
    "## Heap Sort"
   ]
  },
  {
   "cell_type": "code",
   "execution_count": null,
   "metadata": {},
   "outputs": [],
   "source": [
    "for i in testcase:\n",
    "    start = datetime.now()\n",
    "    sort = np.sort(id, kind = 'heapsort')\n",
    "    end = datetime.now()\n",
    "    td = (end - start).total_seconds() * 10**3\n",
    "    performance.append(td)\n",
    "\n",
    "# https://stackoverflow.com/a/11218504/13801562\n",
    "# Save as pickle\n",
    "with open('data/heapsort_id.pickle', 'wb') as handle:\n",
    "    pickle.dump(performance, handle)\n",
    "\n",
    "# Reset counter\n",
    "performance = []"
   ]
  },
  {
   "cell_type": "markdown",
   "metadata": {},
   "source": [
    "## Stable Sort"
   ]
  },
  {
   "cell_type": "code",
   "execution_count": null,
   "metadata": {},
   "outputs": [],
   "source": [
    "for i in testcase:\n",
    "    start = datetime.now()\n",
    "    sort = np.sort(id, kind = 'stable')\n",
    "    end = datetime.now()\n",
    "    td = (end - start).total_seconds() * 10**3\n",
    "    performance.append(td)\n",
    "\n",
    "# https://stackoverflow.com/a/11218504/13801562\n",
    "# Save as pickle\n",
    "with open('data/stablesort_id.pickle', 'wb') as handle:\n",
    "    pickle.dump(performance, handle)\n",
    "\n",
    "# Reset counter\n",
    "performance = []"
   ]
  },
  {
   "cell_type": "markdown",
   "metadata": {},
   "source": [
    "# Test Algorithms on *mass* Column\n",
    "## Quick Sort"
   ]
  },
  {
   "cell_type": "code",
   "execution_count": null,
   "metadata": {},
   "outputs": [],
   "source": [
    "for i in testcase:\n",
    "    start = datetime.now()\n",
    "    sort = np.sort(mass, kind = 'quicksort')\n",
    "    end = datetime.now()\n",
    "    td = (end - start).total_seconds() * 10**3\n",
    "    performance.append(td)\n",
    "\n",
    "# https://stackoverflow.com/a/11218504/13801562\n",
    "# Save as pickle\n",
    "with open('data/quicksort_mass.pickle', 'wb') as handle:\n",
    "    pickle.dump(performance, handle)\n",
    "\n",
    "# Reset counter\n",
    "performance = []"
   ]
  },
  {
   "cell_type": "markdown",
   "metadata": {},
   "source": [
    "## Merge Sort"
   ]
  },
  {
   "cell_type": "code",
   "execution_count": null,
   "metadata": {},
   "outputs": [],
   "source": [
    "for i in testcase:\n",
    "    start = datetime.now()\n",
    "    sort = np.sort(mass, kind = 'mergesort')\n",
    "    end = datetime.now()\n",
    "    td = (end - start).total_seconds() * 10**3\n",
    "    performance.append(td)\n",
    "\n",
    "# https://stackoverflow.com/a/11218504/13801562\n",
    "# Save as pickle\n",
    "with open('data/mergesort_mass.pickle', 'wb') as handle:\n",
    "    pickle.dump(performance, handle)\n",
    "\n",
    "# Reset counter\n",
    "performance = []"
   ]
  },
  {
   "cell_type": "markdown",
   "metadata": {},
   "source": [
    "## Heap Sort"
   ]
  },
  {
   "cell_type": "code",
   "execution_count": null,
   "metadata": {},
   "outputs": [],
   "source": [
    "for i in testcase:\n",
    "    start = datetime.now()\n",
    "    sort = np.sort(mass, kind = 'heapsort')\n",
    "    end = datetime.now()\n",
    "    td = (end - start).total_seconds() * 10**3\n",
    "    performance.append(td)\n",
    "\n",
    "# https://stackoverflow.com/a/11218504/13801562\n",
    "# Save as pickle\n",
    "with open('data/heapsort_mass.pickle', 'wb') as handle:\n",
    "    pickle.dump(performance, handle)\n",
    "\n",
    "# Reset counter\n",
    "performance = []"
   ]
  },
  {
   "cell_type": "markdown",
   "metadata": {},
   "source": [
    "## Stable Sort"
   ]
  },
  {
   "cell_type": "code",
   "execution_count": null,
   "metadata": {},
   "outputs": [],
   "source": [
    "for i in testcase:\n",
    "    start = datetime.now()\n",
    "    sort = np.sort(mass, kind = 'stable')\n",
    "    end = datetime.now()\n",
    "    td = (end - start).total_seconds() * 10**3\n",
    "    performance.append(td)\n",
    "\n",
    "# https://stackoverflow.com/a/11218504/13801562\n",
    "# Save as pickle\n",
    "with open('data/stablesort_mass.pickle', 'wb') as handle:\n",
    "    pickle.dump(performance, handle)\n",
    "\n",
    "# Reset counter\n",
    "performance = []"
   ]
  },
  {
   "cell_type": "markdown",
   "metadata": {},
   "source": [
    "# Test Algorithms on *year* Column\n",
    "## Quick Sort"
   ]
  },
  {
   "cell_type": "code",
   "execution_count": null,
   "metadata": {},
   "outputs": [],
   "source": [
    "for i in testcase:\n",
    "    start = datetime.now()\n",
    "    sort = np.sort(year, kind = 'quicksort')\n",
    "    end = datetime.now()\n",
    "    td = (end - start).total_seconds() * 10**3\n",
    "    performance.append(td)\n",
    "\n",
    "# https://stackoverflow.com/a/11218504/13801562\n",
    "# Save as pickle\n",
    "with open('data/quicksort_year.pickle', 'wb') as handle:\n",
    "    pickle.dump(performance, handle)\n",
    "\n",
    "# Reset counter\n",
    "performance = []"
   ]
  },
  {
   "cell_type": "markdown",
   "metadata": {},
   "source": [
    "## Merge Sort"
   ]
  },
  {
   "cell_type": "code",
   "execution_count": null,
   "metadata": {},
   "outputs": [],
   "source": [
    "for i in testcase:\n",
    "    start = datetime.now()\n",
    "    sort = np.sort(year, kind = 'mergesort')\n",
    "    end = datetime.now()\n",
    "    td = (end - start).total_seconds() * 10**3\n",
    "    performance.append(td)\n",
    "\n",
    "# https://stackoverflow.com/a/11218504/13801562\n",
    "# Save as pickle\n",
    "with open('data/mergesort_year.pickle', 'wb') as handle:\n",
    "    pickle.dump(performance, handle)\n",
    "\n",
    "# Reset counter\n",
    "performance = []"
   ]
  },
  {
   "cell_type": "markdown",
   "metadata": {},
   "source": [
    "## Heap Sort"
   ]
  },
  {
   "cell_type": "code",
   "execution_count": null,
   "metadata": {},
   "outputs": [],
   "source": [
    "for i in testcase:\n",
    "    start = datetime.now()\n",
    "    sort = np.sort(year, kind = 'heapsort')\n",
    "    end = datetime.now()\n",
    "    td = (end - start).total_seconds() * 10**3\n",
    "    performance.append(td)\n",
    "\n",
    "# https://stackoverflow.com/a/11218504/13801562\n",
    "# Save as pickle\n",
    "with open('data/heapsort_year.pickle', 'wb') as handle:\n",
    "    pickle.dump(performance, handle)\n",
    "\n",
    "# Reset counter\n",
    "performance = []"
   ]
  },
  {
   "cell_type": "markdown",
   "metadata": {},
   "source": [
    "## Stable Sort"
   ]
  },
  {
   "cell_type": "code",
   "execution_count": null,
   "metadata": {},
   "outputs": [],
   "source": [
    "for i in testcase:\n",
    "    start = datetime.now()\n",
    "    sort = np.sort(year, kind = 'stablesort')\n",
    "    end = datetime.now()\n",
    "    td = (end - start).total_seconds() * 10**3\n",
    "    performance.append(td)\n",
    "\n",
    "# https://stackoverflow.com/a/11218504/13801562\n",
    "# Save as pickle\n",
    "with open('data/stablesort_year.pickle', 'wb') as handle:\n",
    "    pickle.dump(performance, handle)\n",
    "\n",
    "# Reset counter\n",
    "performance = []"
   ]
  },
  {
   "cell_type": "markdown",
   "metadata": {},
   "source": [
    "# Test Algorithms on *reclat* Column\n",
    "## Quick Sort"
   ]
  },
  {
   "cell_type": "code",
   "execution_count": null,
   "metadata": {},
   "outputs": [],
   "source": [
    "for i in testcase:\n",
    "    start = datetime.now()\n",
    "    sort = np.sort(reclat, kind = 'quicksort')\n",
    "    end = datetime.now()\n",
    "    td = (end - start).total_seconds() * 10**3\n",
    "    performance.append(td)\n",
    "\n",
    "# https://stackoverflow.com/a/11218504/13801562\n",
    "# Save as pickle\n",
    "with open('data/quicksort_reclat.pickle', 'wb') as handle:\n",
    "    pickle.dump(performance, handle)\n",
    "\n",
    "# Reset counter\n",
    "performance = []"
   ]
  },
  {
   "cell_type": "markdown",
   "metadata": {},
   "source": [
    "## Merge Sort"
   ]
  },
  {
   "cell_type": "code",
   "execution_count": null,
   "metadata": {},
   "outputs": [],
   "source": [
    "for i in testcase:\n",
    "    start = datetime.now()\n",
    "    sort = np.sort(reclat, kind = 'mergesort')\n",
    "    end = datetime.now()\n",
    "    td = (end - start).total_seconds() * 10**3\n",
    "    performance.append(td)\n",
    "\n",
    "# https://stackoverflow.com/a/11218504/13801562\n",
    "# Save as pickle\n",
    "with open('data/mergesort_reclat.pickle', 'wb') as handle:\n",
    "    pickle.dump(performance, handle)\n",
    "\n",
    "# Reset counter\n",
    "performance = []"
   ]
  },
  {
   "cell_type": "markdown",
   "metadata": {},
   "source": [
    "## Heap Sort"
   ]
  },
  {
   "cell_type": "code",
   "execution_count": null,
   "metadata": {},
   "outputs": [],
   "source": [
    "for i in testcase:\n",
    "    start = datetime.now()\n",
    "    sort = np.sort(reclat, kind = 'heapsort')\n",
    "    end = datetime.now()\n",
    "    td = (end - start).total_seconds() * 10**3\n",
    "    performance.append(td)\n",
    "\n",
    "# https://stackoverflow.com/a/11218504/13801562\n",
    "# Save as pickle\n",
    "with open('data/heapsort_reclat.pickle', 'wb') as handle:\n",
    "    pickle.dump(performance, handle)\n",
    "\n",
    "# Reset counter\n",
    "performance = []"
   ]
  },
  {
   "cell_type": "markdown",
   "metadata": {},
   "source": [
    "## Stable Sort"
   ]
  },
  {
   "cell_type": "code",
   "execution_count": null,
   "metadata": {},
   "outputs": [],
   "source": [
    "for i in testcase:\n",
    "    start = datetime.now()\n",
    "    sort = np.sort(reclat, kind = 'stable')\n",
    "    end = datetime.now()\n",
    "    td = (end - start).total_seconds() * 10**3\n",
    "    performance.append(td)\n",
    "\n",
    "# https://stackoverflow.com/a/11218504/13801562\n",
    "# Save as pickle\n",
    "with open('data/stablesort_reclat.pickle', 'wb') as handle:\n",
    "    pickle.dump(performance, handle)\n",
    "\n",
    "# Reset counter\n",
    "performance = []"
   ]
  },
  {
   "cell_type": "markdown",
   "metadata": {},
   "source": [
    "# Test Algorithms on *reclong* Column\n",
    "## Quick Sort"
   ]
  },
  {
   "cell_type": "code",
   "execution_count": null,
   "metadata": {},
   "outputs": [],
   "source": [
    "for i in testcase:\n",
    "    start = datetime.now()\n",
    "    sort = np.sort(reclong, kind = 'quicksort')\n",
    "    end = datetime.now()\n",
    "    td = (end - start).total_seconds() * 10**3\n",
    "    performance.append(td)\n",
    "\n",
    "# https://stackoverflow.com/a/11218504/13801562\n",
    "# Save as pickle\n",
    "with open('data/quicksort_reclong.pickle', 'wb') as handle:\n",
    "    pickle.dump(performance, handle)\n",
    "\n",
    "# Reset counter\n",
    "performance = []"
   ]
  },
  {
   "cell_type": "markdown",
   "metadata": {},
   "source": [
    "## Merge Sort"
   ]
  },
  {
   "cell_type": "code",
   "execution_count": null,
   "metadata": {},
   "outputs": [],
   "source": [
    "for i in testcase:\n",
    "    start = datetime.now()\n",
    "    sort = np.sort(reclong, kind = 'mergesort')\n",
    "    end = datetime.now()\n",
    "    td = (end - start).total_seconds() * 10**3\n",
    "    performance.append(td)\n",
    "\n",
    "# https://stackoverflow.com/a/11218504/13801562\n",
    "# Save as pickle\n",
    "with open('data/mergesort_reclong.pickle', 'wb') as handle:\n",
    "    pickle.dump(performance, handle)\n",
    "\n",
    "# Reset counter\n",
    "performance = []"
   ]
  },
  {
   "cell_type": "markdown",
   "metadata": {},
   "source": [
    "## Heap Sort"
   ]
  },
  {
   "cell_type": "code",
   "execution_count": null,
   "metadata": {},
   "outputs": [],
   "source": [
    "for i in testcase:\n",
    "    start = datetime.now()\n",
    "    sort = np.sort(reclong, kind = 'heapsort')\n",
    "    end = datetime.now()\n",
    "    td = (end - start).total_seconds() * 10**3\n",
    "    performance.append(td)\n",
    "\n",
    "# https://stackoverflow.com/a/11218504/13801562\n",
    "# Save as pickle\n",
    "with open('data/heapsort_reclong.pickle', 'wb') as handle:\n",
    "    pickle.dump(performance, handle)\n",
    "\n",
    "# Reset counter\n",
    "performance = []"
   ]
  },
  {
   "cell_type": "markdown",
   "metadata": {},
   "source": [
    "## Stable Sort"
   ]
  },
  {
   "cell_type": "code",
   "execution_count": null,
   "metadata": {},
   "outputs": [],
   "source": [
    "for i in testcase:\n",
    "    start = datetime.now()\n",
    "    sort = np.sort(reclong, kind = 'stable')\n",
    "    end = datetime.now()\n",
    "    td = (end - start).total_seconds() * 10**3\n",
    "    performance.append(td)\n",
    "\n",
    "# https://stackoverflow.com/a/11218504/13801562\n",
    "# Save as pickle\n",
    "with open('data/stablesort_reclong.pickle', 'wb') as handle:\n",
    "    pickle.dump(performance, handle)\n",
    "\n",
    "# Reset counter\n",
    "performance = []"
   ]
  }
 ],
 "metadata": {
  "kernelspec": {
   "display_name": "marscv",
   "language": "python",
   "name": "python3"
  },
  "language_info": {
   "codemirror_mode": {
    "name": "ipython",
    "version": 3
   },
   "file_extension": ".py",
   "mimetype": "text/x-python",
   "name": "python",
   "nbconvert_exporter": "python",
   "pygments_lexer": "ipython3",
   "version": "3.9.18"
  }
 },
 "nbformat": 4,
 "nbformat_minor": 2
}
