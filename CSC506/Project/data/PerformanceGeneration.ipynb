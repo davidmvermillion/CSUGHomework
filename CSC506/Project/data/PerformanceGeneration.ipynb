{
 "cells": [
  {
   "cell_type": "markdown",
   "metadata": {},
   "source": [
    "# Environment Initialization"
   ]
  },
  {
   "cell_type": "code",
   "execution_count": 1,
   "metadata": {},
   "outputs": [],
   "source": [
    "import numpy as np\n",
    "import pandas as pd\n",
    "import pickle\n",
    "from datetime import datetime\n",
    "\n",
    "data = pd.read_csv('Meteorite_Landings.csv')\n",
    "testcase = list(range(0,1000))\n",
    "performance = []"
   ]
  },
  {
   "cell_type": "markdown",
   "metadata": {},
   "source": [
    "# Separate Columns Independent from Full Entry"
   ]
  },
  {
   "cell_type": "code",
   "execution_count": 2,
   "metadata": {},
   "outputs": [],
   "source": [
    "name = data['name']\n",
    "id = data['id']\n",
    "mass = data['mass (g)']\n",
    "year = data['year']\n",
    "reclat = data['reclat']\n",
    "reclong = data['reclong']"
   ]
  },
  {
   "cell_type": "markdown",
   "metadata": {},
   "source": [
    "# Test Algorithms on *name* Column\n",
    "## Quick Sort"
   ]
  },
  {
   "cell_type": "code",
   "execution_count": 3,
   "metadata": {},
   "outputs": [],
   "source": [
    "for i in testcase:\n",
    "    start = datetime.now()\n",
    "    sort = np.sort(name, kind = 'quicksort')\n",
    "    end = datetime.now()\n",
    "    td = (end - start).total_seconds() * 10**3\n",
    "    performance.append(td)\n",
    "\n",
    "# https://stackoverflow.com/a/11218504/13801562\n",
    "# Save as pickle\n",
    "with open('quicksort_name.pickle', 'wb') as handle:\n",
    "    pickle.dump(performance, handle)\n",
    "\n",
    "# Reset counter\n",
    "performance = []"
   ]
  },
  {
   "cell_type": "markdown",
   "metadata": {},
   "source": [
    "## Merge Sort"
   ]
  },
  {
   "cell_type": "code",
   "execution_count": 4,
   "metadata": {},
   "outputs": [],
   "source": [
    "for i in testcase:\n",
    "    start = datetime.now()\n",
    "    sort = np.sort(name, kind = 'mergesort')\n",
    "    end = datetime.now()\n",
    "    td = (end - start).total_seconds() * 10**3\n",
    "    performance.append(td)\n",
    "\n",
    "# Save as pickle\n",
    "with open('mergesort_name.pickle', 'wb') as handle:\n",
    "    pickle.dump(performance, handle)\n",
    "\n",
    "# Reset counter\n",
    "performance = []"
   ]
  },
  {
   "cell_type": "markdown",
   "metadata": {},
   "source": [
    "## Heap Sort"
   ]
  },
  {
   "cell_type": "code",
   "execution_count": 5,
   "metadata": {},
   "outputs": [],
   "source": [
    "for i in testcase:\n",
    "    start = datetime.now()\n",
    "    sort = np.sort(name, kind = 'heapsort')\n",
    "    end = datetime.now()\n",
    "    td = (end - start).total_seconds() * 10**3\n",
    "    performance.append(td)\n",
    "\n",
    "# Save as pickle\n",
    "with open('heapsort_name.pickle', 'wb') as handle:\n",
    "    pickle.dump(performance, handle)\n",
    "\n",
    "# Reset counter\n",
    "performance = []"
   ]
  },
  {
   "cell_type": "markdown",
   "metadata": {},
   "source": [
    "## Stable Sort"
   ]
  },
  {
   "cell_type": "code",
   "execution_count": 6,
   "metadata": {},
   "outputs": [],
   "source": [
    "for i in testcase:\n",
    "    start = datetime.now()\n",
    "    sort = np.sort(name, kind = 'stable')\n",
    "    end = datetime.now()\n",
    "    td = (end - start).total_seconds() * 10**3\n",
    "    performance.append(td)\n",
    "\n",
    "# Save as pickle\n",
    "with open('stablesort_name.pickle', 'wb') as handle:\n",
    "    pickle.dump(performance, handle)\n",
    "\n",
    "# Reset counter\n",
    "performance = []"
   ]
  }
 ],
 "metadata": {
  "kernelspec": {
   "display_name": "marscv",
   "language": "python",
   "name": "python3"
  },
  "language_info": {
   "codemirror_mode": {
    "name": "ipython",
    "version": 3
   },
   "file_extension": ".py",
   "mimetype": "text/x-python",
   "name": "python",
   "nbconvert_exporter": "python",
   "pygments_lexer": "ipython3",
   "version": "3.9.18"
  }
 },
 "nbformat": 4,
 "nbformat_minor": 2
}
