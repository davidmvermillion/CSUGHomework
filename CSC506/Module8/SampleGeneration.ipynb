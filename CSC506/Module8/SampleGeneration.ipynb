{
 "cells": [
  {
   "cell_type": "markdown",
   "metadata": {},
   "source": [
    "# Environment Initialization"
   ]
  },
  {
   "cell_type": "code",
   "execution_count": 1,
   "metadata": {},
   "outputs": [],
   "source": [
    "import pandas as pd\n",
    "import numpy as np\n",
    "import pickle\n",
    "from datetime import datetime\n",
    "import bubblysort as bs\n",
    "import random\n",
    "\n",
    "random.seed(42)\n",
    "testrange = list(range(1,101))\n",
    "performance = []"
   ]
  },
  {
   "cell_type": "markdown",
   "metadata": {},
   "source": [
    "# Merge Sort"
   ]
  },
  {
   "cell_type": "code",
   "execution_count": 2,
   "metadata": {},
   "outputs": [],
   "source": [
    "for i in testrange:\n",
    "    start = datetime.now()\n",
    "    testcase = list(random.sample(range(1, 10000), i * 10))\n",
    "    sort = np.sort(testcase, kind = 'merge')\n",
    "    end = datetime.now()\n",
    "    td = (end - start).total_seconds() * 10**3\n",
    "    performance.append(td)\n",
    "\n",
    "# https://stackoverflow.com/a/11218504/13801562\n",
    "# Save as pickle\n",
    "with open('data/mergesort.pickle', 'wb') as handle:\n",
    "    pickle.dump(performance, handle)\n",
    "\n",
    "# Reset counter\n",
    "performance = []"
   ]
  },
  {
   "cell_type": "markdown",
   "metadata": {},
   "source": [
    "# Heap Sort"
   ]
  },
  {
   "cell_type": "code",
   "execution_count": 3,
   "metadata": {},
   "outputs": [],
   "source": [
    "for i in testrange:\n",
    "    start = datetime.now()\n",
    "    testcase = list(random.sample(range(1, 10000), i * 10))\n",
    "    sort = np.sort(testcase, kind = 'heap')\n",
    "    end = datetime.now()\n",
    "    td = (end - start).total_seconds() * 10**3\n",
    "    performance.append(td)\n",
    "\n",
    "# https://stackoverflow.com/a/11218504/13801562\n",
    "# Save as pickle\n",
    "with open('data/heapsort.pickle', 'wb') as handle:\n",
    "    pickle.dump(performance, handle)\n",
    "\n",
    "# Reset counter\n",
    "performance = []"
   ]
  },
  {
   "cell_type": "markdown",
   "metadata": {},
   "source": [
    "# Bidirectional Bubble Sort"
   ]
  },
  {
   "cell_type": "code",
   "execution_count": 4,
   "metadata": {},
   "outputs": [],
   "source": [
    "for i in testrange:\n",
    "    start = datetime.now()\n",
    "    testcase = list(random.sample(range(1, 10000), i * 10))\n",
    "    sort = bs.cocktailSort(testcase)\n",
    "    end = datetime.now()\n",
    "    td = (end - start).total_seconds() * 10**3\n",
    "    performance.append(td)\n",
    "\n",
    "# https://stackoverflow.com/a/11218504/13801562\n",
    "# Save as pickle\n",
    "with open('data/bidirectionalbubblesort.pickle', 'wb') as handle:\n",
    "    pickle.dump(performance, handle)\n",
    "\n",
    "# Reset counter\n",
    "performance = []"
   ]
  }
 ],
 "metadata": {
  "kernelspec": {
   "display_name": "marscv",
   "language": "python",
   "name": "python3"
  },
  "language_info": {
   "codemirror_mode": {
    "name": "ipython",
    "version": 3
   },
   "file_extension": ".py",
   "mimetype": "text/x-python",
   "name": "python",
   "nbconvert_exporter": "python",
   "pygments_lexer": "ipython3",
   "version": "3.9.18"
  }
 },
 "nbformat": 4,
 "nbformat_minor": 2
}
