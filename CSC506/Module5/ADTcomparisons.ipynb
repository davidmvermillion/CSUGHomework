{
 "cells": [
  {
   "cell_type": "markdown",
   "metadata": {},
   "source": [
    "# Starting Information"
   ]
  },
  {
   "cell_type": "code",
   "execution_count": 1,
   "metadata": {},
   "outputs": [],
   "source": [
    "# Key Values\n",
    "keys = [12345, 67890, 54321, 98765, 24680, \n",
    "        13579, 11223, 44556, 99999, 77777]\n",
    "\n",
    "# Name Values\n",
    "names = [\"John Smith\", \"Jane Doe\", \"Alice Johnson\", \"Bob Williams\", \"Eve Brown\", \n",
    "         \"Charlie Davis\", \"Grace Wilson\", \"David Lee\", \"Olivia Martinez\",\"Sophia Anderson\"]\n",
    "\n",
    "# Length of key list\n",
    "listrange = list(range(0, len(keys)))"
   ]
  },
  {
   "cell_type": "markdown",
   "metadata": {},
   "source": [
    "# Hash"
   ]
  },
  {
   "cell_type": "code",
   "execution_count": 2,
   "metadata": {},
   "outputs": [],
   "source": [
    "# https://www.geeksforgeeks.org/implementation-of-hash-table-in-python-using-separate-chaining/\n",
    "from hashchain import HashTable\n",
    "\n",
    "# Hash Table with length next largest prime after key length\n",
    "hash = HashTable(13)\n",
    "for i in listrange:\n",
    "    hash.insert(keys[i], names[i])"
   ]
  },
  {
   "cell_type": "markdown",
   "metadata": {},
   "source": [
    "# Dictionary"
   ]
  },
  {
   "cell_type": "code",
   "execution_count": 3,
   "metadata": {},
   "outputs": [],
   "source": [
    "# https://www.freecodecamp.org/news/add-to-dict-in-python/\n",
    "dictionary = {'Key': 'Name'}\n",
    "for i in listrange:\n",
    "    dictionary[keys[i]] = names[i]"
   ]
  },
  {
   "cell_type": "markdown",
   "metadata": {},
   "source": [
    "# Sort Comparisons"
   ]
  }
 ],
 "metadata": {
  "kernelspec": {
   "display_name": "marscv",
   "language": "python",
   "name": "python3"
  },
  "language_info": {
   "codemirror_mode": {
    "name": "ipython",
    "version": 3
   },
   "file_extension": ".py",
   "mimetype": "text/x-python",
   "name": "python",
   "nbconvert_exporter": "python",
   "pygments_lexer": "ipython3",
   "version": "3.9.18"
  }
 },
 "nbformat": 4,
 "nbformat_minor": 2
}
