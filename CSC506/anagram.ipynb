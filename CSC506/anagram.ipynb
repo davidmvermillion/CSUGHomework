{
 "cells": [
  {
   "cell_type": "code",
   "execution_count": 8,
   "metadata": {},
   "outputs": [
    {
     "name": "stdout",
     "output_type": "stream",
     "text": [
      "astronomer  is an anagram of  moonstarer\n"
     ]
    }
   ],
   "source": [
    "# https://www.independent.co.uk/voices/top-10-anagrams-words-trivia-a8285076.html\n",
    "a, b = \"astronomer\", \"moonstarer\"\n",
    "i = 0\n",
    "n = 0\n",
    "if len(a) == len(b):\n",
    "    # https://www.geeksforgeeks.org/python-string-split/\n",
    "    # https://www.geeksforgeeks.org/python-split-string-into-list-of-characters/\n",
    "    list_a, list_b = list(a), list(b)\n",
    "    list_c = []\n",
    "    # https://stackoverflow.com/questions/49677949/python-while-loop-range-function\n",
    "    while i in range(0,len(a)):\n",
    "        if list_a[i] != list_b[n]:\n",
    "            n += 1\n",
    "        else:   \n",
    "            # https://www.w3schools.com/python/python_lists_add.asp\n",
    "            list_c.append(list_b[n])\n",
    "            i += 1\n",
    "            n = 0\n",
    "    if list_a == list_c:\n",
    "        print(a, ' is an anagram of ', b)\n",
    "    else:\n",
    "        print(a, ' is not an anagram of ', b, ' because no combinations match between them.')\n",
    "else:\n",
    "    print(a, ' is not an anagram of ', b, ' because they do not have the same amount of characters.')"
   ]
  }
 ],
 "metadata": {
  "kernelspec": {
   "display_name": "marscv",
   "language": "python",
   "name": "python3"
  },
  "language_info": {
   "codemirror_mode": {
    "name": "ipython",
    "version": 3
   },
   "file_extension": ".py",
   "mimetype": "text/x-python",
   "name": "python",
   "nbconvert_exporter": "python",
   "pygments_lexer": "ipython3",
   "version": "3.9.18"
  }
 },
 "nbformat": 4,
 "nbformat_minor": 2
}
