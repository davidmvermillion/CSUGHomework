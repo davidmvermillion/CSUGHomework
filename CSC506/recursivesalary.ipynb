{
 "cells": [
  {
   "cell_type": "code",
   "execution_count": 43,
   "metadata": {},
   "outputs": [
    {
     "name": "stdout",
     "output_type": "stream",
     "text": [
      "Day 1 pays: $ 0.01\n",
      "Day 2 pays: $ 0.02\n",
      "Day 3 pays: $ 0.04\n",
      "Day 4 pays: $ 0.08\n",
      "Day 5 pays: $ 0.16\n",
      "Day 6 pays: $ 0.32\n",
      "Day 7 pays: $ 0.64\n",
      "Day 8 pays: $ 1.28\n",
      "Day 9 pays: $ 2.56\n",
      "Day 10 pays: $ 5.12\n",
      "Day 11 pays: $ 10.24\n",
      "Day 12 pays: $ 20.48\n",
      "Day 13 pays: $ 40.96\n",
      "Day 14 pays: $ 81.92\n",
      "Day 15 pays: $ 163.84\n",
      "Day 16 pays: $ 327.68\n",
      "Day 17 pays: $ 655.36\n",
      "Day 18 pays: $ 1310.72\n",
      "Day 19 pays: $ 2621.44\n",
      "Day 20 pays: $ 5242.88\n",
      "Day 21 pays: $ 10485.76\n",
      "Day 22 pays: $ 20971.52\n",
      "Day 23 pays: $ 41943.04\n",
      "Day 24 pays: $ 83886.08\n",
      "Day 25 pays: $ 167772.16\n",
      "Day 26 pays: $ 335544.32\n",
      "Day 27 pays: $ 671088.64\n",
      "Day 28 pays: $ 1342177.28\n",
      "Day 29 pays: $ 2684354.56\n",
      "Day 30 pays: $ 5368709.12\n"
     ]
    },
    {
     "data": {
      "text/plain": [
       "5368709.12"
      ]
     },
     "execution_count": 43,
     "metadata": {},
     "output_type": "execute_result"
    }
   ],
   "source": [
    "starting_pay = 0.01 # dollars\n",
    "day_pay = starting_pay\n",
    "increase_rate = 2\n",
    "pay_period = 30 # days\n",
    "i = 0\n",
    "\n",
    "# https://www.geeksforgeeks.org/tail-recursion/\n",
    "def RecursivePay(pay_period, day_pay):\n",
    "    # Day list hard-coded. Would require additional thought to work with original input\n",
    "    day = abs(31-pay_period)\n",
    "    print('Day', day, 'pays: $', day_pay)\n",
    "    if pay_period == 1:\n",
    "        return day_pay\n",
    "    else:\n",
    "        return RecursivePay(pay_period - 1, day_pay * 2)\n",
    "\n",
    "RecursivePay(pay_period, day_pay)"
   ]
  }
 ],
 "metadata": {
  "kernelspec": {
   "display_name": "marscv",
   "language": "python",
   "name": "python3"
  },
  "language_info": {
   "codemirror_mode": {
    "name": "ipython",
    "version": 3
   },
   "file_extension": ".py",
   "mimetype": "text/x-python",
   "name": "python",
   "nbconvert_exporter": "python",
   "pygments_lexer": "ipython3",
   "version": "3.9.18"
  }
 },
 "nbformat": 4,
 "nbformat_minor": 2
}
