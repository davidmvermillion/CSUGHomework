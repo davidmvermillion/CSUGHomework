{
 "cells": [
  {
   "cell_type": "code",
   "execution_count": 25,
   "metadata": {},
   "outputs": [],
   "source": [
    "# Initialize test case, range, and functions\n",
    "test_case = 2149876530\n",
    "test_value = test_case\n",
    "valid_min = 123456789\n",
    "valid_max = 9876543210\n",
    "least_movable = list(range(3,10))\n",
    "most_movable = list(range(0,10))\n",
    "# https://www.geeksforgeeks.org/python-program-to-swap-two-elements-in-a-list/\n",
    "def swapPositions(lis, pos1, pos2):\n",
    "    for i, x in enumerate(lis):\n",
    "        if i == pos1:\n",
    "            elem1 = x\n",
    "        if i == pos2:\n",
    "            elem2 = x\n",
    "    lis[pos1] = elem2\n",
    "    lis[pos2] = elem1\n",
    "    return lis"
   ]
  },
  {
   "cell_type": "code",
   "execution_count": 35,
   "metadata": {},
   "outputs": [
    {
     "ename": "KeyboardInterrupt",
     "evalue": "",
     "output_type": "error",
     "traceback": [
      "\u001b[0;31m---------------------------------------------------------------------------\u001b[0m",
      "\u001b[0;31mKeyboardInterrupt\u001b[0m                         Traceback (most recent call last)",
      "Cell \u001b[0;32mIn[35], line 11\u001b[0m\n\u001b[1;32m      8\u001b[0m \u001b[38;5;28;01melse\u001b[39;00m:\n\u001b[1;32m      9\u001b[0m     \u001b[38;5;28;01mwhile\u001b[39;00m test_value \u001b[38;5;241m<\u001b[39m\u001b[38;5;241m=\u001b[39m test_case:\n\u001b[1;32m     10\u001b[0m         \u001b[38;5;66;03m# https://stackoverflow.com/a/21270338\u001b[39;00m\n\u001b[0;32m---> 11\u001b[0m         test_list \u001b[38;5;241m=\u001b[39m [\u001b[38;5;28mint\u001b[39m(a) \u001b[38;5;28;01mfor\u001b[39;00m a \u001b[38;5;129;01min\u001b[39;00m \u001b[38;5;28mstr\u001b[39m(test_case)]\n\u001b[1;32m     12\u001b[0m         \u001b[38;5;28;01mif\u001b[39;00m test_list[\u001b[38;5;241m0\u001b[39m] \u001b[38;5;241m&\u001b[39m test_list[\u001b[38;5;241m1\u001b[39m] \u001b[38;5;241m>\u001b[39m \u001b[38;5;241m2\u001b[39m:\n\u001b[1;32m     13\u001b[0m             \u001b[38;5;28;01mfor\u001b[39;00m i, x \u001b[38;5;129;01min\u001b[39;00m \u001b[38;5;28menumerate\u001b[39m(test_list):\n",
      "Cell \u001b[0;32mIn[35], line 11\u001b[0m, in \u001b[0;36m<listcomp>\u001b[0;34m(.0)\u001b[0m\n\u001b[1;32m      8\u001b[0m \u001b[38;5;28;01melse\u001b[39;00m:\n\u001b[1;32m      9\u001b[0m     \u001b[38;5;28;01mwhile\u001b[39;00m test_value \u001b[38;5;241m<\u001b[39m\u001b[38;5;241m=\u001b[39m test_case:\n\u001b[1;32m     10\u001b[0m         \u001b[38;5;66;03m# https://stackoverflow.com/a/21270338\u001b[39;00m\n\u001b[0;32m---> 11\u001b[0m         test_list \u001b[38;5;241m=\u001b[39m [\u001b[38;5;28;43mint\u001b[39;49m\u001b[43m(\u001b[49m\u001b[43ma\u001b[49m\u001b[43m)\u001b[49m \u001b[38;5;28;01mfor\u001b[39;00m a \u001b[38;5;129;01min\u001b[39;00m \u001b[38;5;28mstr\u001b[39m(test_case)]\n\u001b[1;32m     12\u001b[0m         \u001b[38;5;28;01mif\u001b[39;00m test_list[\u001b[38;5;241m0\u001b[39m] \u001b[38;5;241m&\u001b[39m test_list[\u001b[38;5;241m1\u001b[39m] \u001b[38;5;241m>\u001b[39m \u001b[38;5;241m2\u001b[39m:\n\u001b[1;32m     13\u001b[0m             \u001b[38;5;28;01mfor\u001b[39;00m i, x \u001b[38;5;129;01min\u001b[39;00m \u001b[38;5;28menumerate\u001b[39m(test_list):\n",
      "\u001b[0;31mKeyboardInterrupt\u001b[0m: "
     ]
    }
   ],
   "source": [
    "# Calculation Loop\n",
    "if test_case < valid_min:\n",
    "    print(\"\\nTest case is below the 10 digit integer minimum\")\n",
    "elif test_case > valid_max:\n",
    "    print(\"\\nTest case is larger than the 10 digit integer maximum\")\n",
    "elif test_case == valid_max:\n",
    "    print(\"\\nTest case has the maximum possible value.\\nNo larger number exists within the given parameters\")\n",
    "else:\n",
    "    while test_value <= test_case:\n",
    "        # https://stackoverflow.com/a/21270338\n",
    "        test_list = [int(a) for a in str(test_case)]\n",
    "        if test_list[0] & test_list[1] > 2:\n",
    "            for i, x in enumerate(test_list):\n",
    "                while i in least_movable:\n",
    "                    if test_value <= test_case:\n",
    "                        for n in most_movable:\n",
    "                            swapPositions(test_list, i, n)\n",
    "                            # https://sparkbyexamples.com/python/python-list-to-integer/\n",
    "                            test_value = int(''.join(map(str, test_list)))\n",
    "print('\\n', test_value, ' is the next largest valid number after ', test_case)\n",
    "    \n"
   ]
  },
  {
   "cell_type": "code",
   "execution_count": 21,
   "metadata": {},
   "outputs": [
    {
     "data": {
      "text/plain": [
       "9"
      ]
     },
     "execution_count": 21,
     "metadata": {},
     "output_type": "execute_result"
    }
   ],
   "source": [
    "a = [int(a) for a in str(test_case)]\n",
    "# https://www.programiz.com/python-programming/methods/built-in/sorted\n",
    "b = sorted(a)\n",
    "# https://stackoverflow.com/questions/9542738/find-a-value-in-a-list\n",
    "a.index(0)"
   ]
  },
  {
   "cell_type": "code",
   "execution_count": 34,
   "metadata": {},
   "outputs": [
    {
     "data": {
      "text/plain": [
       "False"
      ]
     },
     "execution_count": 34,
     "metadata": {},
     "output_type": "execute_result"
    }
   ],
   "source": [
    "# https://sparkbyexamples.com/python/python-list-to-integer/\n",
    "number = int(''.join(map(str, a)))\n",
    "number != test_case"
   ]
  }
 ],
 "metadata": {
  "kernelspec": {
   "display_name": "marscv",
   "language": "python",
   "name": "python3"
  },
  "language_info": {
   "codemirror_mode": {
    "name": "ipython",
    "version": 3
   },
   "file_extension": ".py",
   "mimetype": "text/x-python",
   "name": "python",
   "nbconvert_exporter": "python",
   "pygments_lexer": "ipython3",
   "version": "3.9.18"
  }
 },
 "nbformat": 4,
 "nbformat_minor": 2
}
