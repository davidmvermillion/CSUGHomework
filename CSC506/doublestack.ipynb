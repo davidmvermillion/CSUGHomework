{
 "cells": [
  {
   "cell_type": "markdown",
   "metadata": {},
   "source": [
    "# Using a Double Stack to Emulate a Queue\n",
    "Code developed using Google Bard. Prompt: `double stack as queue algorithm in python`"
   ]
  },
  {
   "cell_type": "markdown",
   "metadata": {},
   "source": [
    "# Create Class DoubleStackQueue"
   ]
  },
  {
   "cell_type": "code",
   "execution_count": 23,
   "metadata": {},
   "outputs": [],
   "source": [
    "class DoubleStackQueue:\n",
    "  def __init__(self):\n",
    "    self.stack1 = []\n",
    "    self.stack2 = []\n",
    "\n",
    "  def enqueue(self, data):\n",
    "    # Push element onto stack1\n",
    "    self.stack1.append(data)\n",
    "\n",
    "  def dequeue(self):\n",
    "    # If stack2 is empty, move elements from stack1 to stack2\n",
    "    if not self.stack2:\n",
    "      while self.stack1:\n",
    "        self.stack2.append(self.stack1.pop())\n",
    "\n",
    "    # Pop element from stack2\n",
    "    return self.stack2.pop()\n",
    "\n",
    "  def peek(self):\n",
    "    # If stack2 is empty, move elements from stack1 to stack2\n",
    "    if not self.stack2:\n",
    "      while self.stack1:\n",
    "        self.stack2.append(self.stack1.pop())\n",
    "\n",
    "    # Return top element from stack2\n",
    "    return self.stack2[-1]\n",
    "\n",
    "  def is_empty(self):\n",
    "    return not self.stack1 and not self.stack2"
   ]
  },
  {
   "cell_type": "markdown",
   "metadata": {},
   "source": [
    "# Test Cases\n",
    "## Create and Initialize Queue"
   ]
  },
  {
   "cell_type": "code",
   "execution_count": 24,
   "metadata": {},
   "outputs": [],
   "source": [
    "firstqueue = DoubleStackQueue()\n",
    "firstqueue.enqueue('I')\n",
    "firstqueue.enqueue('love')\n",
    "firstqueue.enqueue('seeing')\n",
    "firstqueue.enqueue('weird')\n",
    "firstqueue.enqueue('code')\n",
    "\n",
    "secondqueue = DoubleStackQueue()\n",
    "secondqueue.enqueue('Not')\n",
    "secondqueue.enqueue('Actual')\n",
    "secondqueue.enqueue('Code')\n",
    "\n",
    "thirdqueue = DoubleStackQueue()"
   ]
  },
  {
   "cell_type": "markdown",
   "metadata": {},
   "source": [
    "## Dequeue to End of Queue\n",
    "Will receive error message if attempting to pop an empty queue"
   ]
  },
  {
   "cell_type": "code",
   "execution_count": 25,
   "metadata": {},
   "outputs": [
    {
     "name": "stdout",
     "output_type": "stream",
     "text": [
      "I\n",
      "love\n",
      "seeing\n",
      "weird\n",
      "code\n"
     ]
    }
   ],
   "source": [
    "print(firstqueue.dequeue())\n",
    "print(firstqueue.dequeue())\n",
    "print(firstqueue.dequeue())\n",
    "print(firstqueue.dequeue())\n",
    "print(firstqueue.dequeue())"
   ]
  },
  {
   "cell_type": "markdown",
   "metadata": {},
   "source": [
    "# Peek Queue"
   ]
  },
  {
   "cell_type": "code",
   "execution_count": 26,
   "metadata": {},
   "outputs": [
    {
     "name": "stdout",
     "output_type": "stream",
     "text": [
      "Not\n"
     ]
    }
   ],
   "source": [
    "print(secondqueue.peek())"
   ]
  },
  {
   "cell_type": "markdown",
   "metadata": {},
   "source": [
    "# Test Queue Emptiness"
   ]
  },
  {
   "cell_type": "code",
   "execution_count": 27,
   "metadata": {},
   "outputs": [
    {
     "name": "stdout",
     "output_type": "stream",
     "text": [
      "True\n",
      "False\n",
      "True\n"
     ]
    }
   ],
   "source": [
    "print(firstqueue.is_empty())\n",
    "print(secondqueue.is_empty())\n",
    "print(thirdqueue.is_empty())"
   ]
  }
 ],
 "metadata": {
  "kernelspec": {
   "display_name": "marscv",
   "language": "python",
   "name": "python3"
  },
  "language_info": {
   "codemirror_mode": {
    "name": "ipython",
    "version": 3
   },
   "file_extension": ".py",
   "mimetype": "text/x-python",
   "name": "python",
   "nbconvert_exporter": "python",
   "pygments_lexer": "ipython3",
   "version": "3.9.18"
  }
 },
 "nbformat": 4,
 "nbformat_minor": 2
}
