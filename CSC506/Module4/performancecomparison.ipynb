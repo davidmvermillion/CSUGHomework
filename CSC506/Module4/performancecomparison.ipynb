{
 "cells": [
  {
   "cell_type": "markdown",
   "metadata": {},
   "source": [
    "# Performance Comparisons\n",
    "Design and implement an experiment that will compare the performance of the Python list based stack and queue with the linked list implementation.\n",
    "## Initialize Environment"
   ]
  },
  {
   "cell_type": "code",
   "execution_count": 1,
   "metadata": {},
   "outputs": [],
   "source": [
    "# https://www.geeksforgeeks.org/stack-in-python/\n",
    "\n",
    "from queue import LifoQueue\n",
    "import linkedstack\n",
    "from datetime import datetime\n",
    "import numpy as np\n",
    "testcase = list(range(0,100000))\n",
    "qsperf = [] # Queue-based stack performance comparison\n",
    "lsperf = [] # List stack performance comparison\n",
    "llsperf = [] # Linked-list stack comparison"
   ]
  },
  {
   "cell_type": "markdown",
   "metadata": {},
   "source": [
    "## Queue-Based Stack"
   ]
  },
  {
   "cell_type": "code",
   "execution_count": 2,
   "metadata": {},
   "outputs": [
    {
     "name": "stdout",
     "output_type": "stream",
     "text": [
      "Queue-based stack insertion and popping of 100000 objects executed in an average of: 0.002ms\n"
     ]
    }
   ],
   "source": [
    "# Create queue-based stack\n",
    "staq = LifoQueue(maxsize = 100001)\n",
    "\n",
    "# Insert\n",
    "for i in testcase:\n",
    "    start = datetime.now()\n",
    "    staq.put(i)\n",
    "    end = datetime.now()\n",
    "    td = (end - start).total_seconds() * 10**3\n",
    "    qsperf.append(td)\n",
    "\n",
    "# Pop\n",
    "for i in testcase:\n",
    "    start = datetime.now()\n",
    "    staq.get()\n",
    "    end = datetime.now()\n",
    "    td = (end - start).total_seconds() * 10**3\n",
    "    qsperf.append(td)    \n",
    "\n",
    "qsav = np.average(qsperf) # Queue-based stack performance average\n",
    "qsmax = np.max(qsperf) # Maximum runtime in test\n",
    "print(f\"Queue-based stack insertion and popping of {len(testcase)} objects executed in an average of: {qsav:.03f}ms\")"
   ]
  },
  {
   "cell_type": "markdown",
   "metadata": {},
   "source": [
    "## List-Based Stack"
   ]
  },
  {
   "cell_type": "code",
   "execution_count": 3,
   "metadata": {},
   "outputs": [
    {
     "name": "stdout",
     "output_type": "stream",
     "text": [
      "List-based stack insertion and popping of 100000 objects executed in an average of: 0.001ms\n"
     ]
    }
   ],
   "source": [
    "# Create list-based stack\n",
    "stack = []\n",
    "\n",
    "# Insert\n",
    "for i in testcase:\n",
    "    start = datetime.now()\n",
    "    stack.append(i)\n",
    "    end = datetime.now()\n",
    "    td = (end - start).total_seconds() * 10**3\n",
    "    lsperf.append(td)\n",
    "\n",
    "# Pop\n",
    "for i in testcase:\n",
    "    start = datetime.now()\n",
    "    stack.pop()\n",
    "    end = datetime.now()\n",
    "    td = (end - start).total_seconds() * 10**3\n",
    "    lsperf.append(td)    \n",
    "\n",
    "lsav = np.average(lsperf) # Queue-based stack performance average\n",
    "lsmax = np.max(lsperf) # Maximum runtime in test\n",
    "print(f\"List-based stack insertion and popping of {len(testcase)} objects executed in an average of: {lsav:.03f}ms\")"
   ]
  },
  {
   "cell_type": "markdown",
   "metadata": {},
   "source": [
    "## Linked-List Stack"
   ]
  },
  {
   "cell_type": "code",
   "execution_count": 4,
   "metadata": {},
   "outputs": [
    {
     "name": "stdout",
     "output_type": "stream",
     "text": [
      "Linked-List based stack insertion and popping of 100000 objects executed in an average of: 0.001ms\n"
     ]
    }
   ],
   "source": [
    "# Create list-based stack\n",
    "stackll = linkedstack.Stack()\n",
    "\n",
    "# Insert\n",
    "for i in testcase:\n",
    "    start = datetime.now()\n",
    "    stackll.push(i)\n",
    "    end = datetime.now()\n",
    "    td = (end - start).total_seconds() * 10**3\n",
    "    llsperf.append(td)\n",
    "\n",
    "# Pop\n",
    "for i in testcase:\n",
    "    start = datetime.now()\n",
    "    stackll.pop()\n",
    "    end = datetime.now()\n",
    "    td = (end - start).total_seconds() * 10**3\n",
    "    llsperf.append(td)    \n",
    "\n",
    "llsav = np.average(llsperf) # Queue-based stack performance average\n",
    "llsmax = np.max(llsperf) # Maximum runtime in test\n",
    "print(f\"Linked-List based stack insertion and popping of {len(testcase)} objects executed in an average of: {llsav:.03f}ms\")"
   ]
  },
  {
   "cell_type": "markdown",
   "metadata": {},
   "source": [
    "## Comparing Execution Time for All Methods"
   ]
  },
  {
   "cell_type": "code",
   "execution_count": 5,
   "metadata": {},
   "outputs": [
    {
     "name": "stdout",
     "output_type": "stream",
     "text": [
      "\n",
      "Linked-List based stack insertion and popping of 100k objects executed in an average of 0.001ms and no more than 32.485ms per operation\n",
      "\n",
      "List based stack insertion and popping of 100k objects executed in an average of 0.001ms and no more than 0.538ms per operation\n",
      "\n",
      "Queue based stack insertion and popping of 100k objects executed in an average of 0.002ms and no more than 0.298ms per operation\n"
     ]
    }
   ],
   "source": [
    "print(f\"\\nLinked-List based stack insertion and popping of 100k objects executed in an average of {llsav:.03f}ms and no more than {llsmax:.03f}ms per operation\")\n",
    "print(f\"\\nList based stack insertion and popping of 100k objects executed in an average of {lsav:.03f}ms and no more than {lsmax:.03f}ms per operation\")\n",
    "print(f\"\\nQueue based stack insertion and popping of 100k objects executed in an average of {qsav:.03f}ms and no more than {qsmax:.03f}ms per operation\")"
   ]
  }
 ],
 "metadata": {
  "kernelspec": {
   "display_name": "marscv",
   "language": "python",
   "name": "python3"
  },
  "language_info": {
   "codemirror_mode": {
    "name": "ipython",
    "version": 3
   },
   "file_extension": ".py",
   "mimetype": "text/x-python",
   "name": "python",
   "nbconvert_exporter": "python",
   "pygments_lexer": "ipython3",
   "version": "3.9.18"
  }
 },
 "nbformat": 4,
 "nbformat_minor": 2
}
