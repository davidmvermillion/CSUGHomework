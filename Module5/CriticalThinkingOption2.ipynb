{
  "cells": [
    {
      "cell_type": "markdown",
      "source": "# Building a Random Forest Classifier",
      "metadata": {
        "formattedRanges": [],
        "cell_id": "93ef576467e34c07b049558627b7f2c0",
        "deepnote_cell_type": "text-cell-h1"
      },
      "block_group": "5757c05385fa4f9292ecfef2a05362a9"
    },
    {
      "cell_type": "markdown",
      "source": "# Load Data and Initialize Environment",
      "metadata": {
        "formattedRanges": [],
        "cell_id": "f8afbf15e3f149d0b1d3ffe412f3c2aa",
        "deepnote_cell_type": "text-cell-h1"
      },
      "block_group": "1dcde8623b6746cdabdc53ef75fabc16"
    },
    {
      "cell_type": "code",
      "source": "# Load the library with the iris dataset\nfrom sklearn.datasets import load_iris\n \n# Load scikit's random forest classifier library\nfrom sklearn.ensemble import RandomForestClassifier\n \n# Load pandas\nimport pandas as pd\n \n# Load numpy\nimport numpy as np\n \n# Set random seed\nnp.random.seed(0)\n\n# Create an object called iris with the iris data\niris = load_iris()\n \n# Create a dataframe with the four feature variables\ndf = pd.DataFrame(iris.data, columns = iris.feature_names)\n\n# Add a new column with the species names; this is what we are going to try to predict\ndf['species'] = pd.Categorical.from_codes(iris.target, iris.target_names)\n \n# View the top 5 rows\ndf.head()",
      "metadata": {
        "cell_id": "e6f0762b50b9414f8c97ccffc65db8a3",
        "deepnote_cell_type": "code"
      },
      "outputs": [],
      "outputs_reference": null,
      "execution_count": null,
      "block_group": "e6f0762b50b9414f8c97ccffc65db8a3",
      "content_dependencies": null
    },
    {
      "cell_type": "markdown",
      "source": "# Create Training and Test Data",
      "metadata": {
        "formattedRanges": [],
        "cell_id": "2e37d6ba5e1d47098107bc39ab144787",
        "deepnote_cell_type": "text-cell-h1"
      },
      "block_group": "1375a275b38d4900b964673a5b885ad5"
    },
    {
      "cell_type": "code",
      "source": "# Create a new column that, for each row, generates a random number between 0 and 1, and\n# if that value is less than or equal to .75, then sets the value of that cell as True\n# and false otherwise. This is a quick and dirty way of randomly assigning some rows to\n# be used as the training data and some as the test data.\ndf['is_train'] = np.random.uniform(0, 1, len(df)) = .75\n \n# View the top 5 rows\ndf.head()\n# Create two new dataframes, one with the training rows and one with the test rows\ntrain, test = df[df['is_train'] == True], df[df['is_train'] == False]\n# Show the number of observations for the test and training dataframes\nprint('Number of observations in the training data:', len(train))\nprint('Number of observations in the test data:', len(test))",
      "metadata": {
        "cell_id": "bfdf92f8a9e4430faf47313200e22873",
        "deepnote_cell_type": "code"
      },
      "outputs": [],
      "outputs_reference": null,
      "execution_count": null,
      "block_group": "48ad27e9a87a41c79e19346c2d52175f",
      "content_dependencies": null
    },
    {
      "cell_type": "markdown",
      "source": "# Pre-Process Data",
      "metadata": {
        "formattedRanges": [],
        "cell_id": "6b7ef0e657e1443e8ed332879a77e57d",
        "deepnote_cell_type": "text-cell-h1"
      },
      "block_group": "6ba79be78aa74efa8400e4095a7af4b2"
    },
    {
      "cell_type": "code",
      "source": "# Create a list of the feature column's names\nfeatures = df.columns[:4]\n \n# View features\nfeatures\n# train['species'] contains the actual species names. Before we can use it,\n# we need to convert each species name into a digit. So, in this case, there\n# are three species, which have been coded as 0, 1, or 2.\ny = pd.factorize(train['species'])[0]",
      "metadata": {
        "cell_id": "d0b24fd855744bf2b3c893c1a480b8a1",
        "deepnote_cell_type": "code"
      },
      "outputs": [],
      "outputs_reference": null,
      "execution_count": null,
      "block_group": "798aa3a4e0a941bbbb6c78d26419a5b3",
      "content_dependencies": null
    },
    {
      "cell_type": "code",
      "source": "# View target\ny",
      "metadata": {
        "cell_id": "9d93222dd91f42588baf768cacc57f2b",
        "deepnote_cell_type": "code"
      },
      "outputs": [],
      "outputs_reference": null,
      "execution_count": null,
      "block_group": "93e4e00f776b4eda8afe590492b154e5",
      "content_dependencies": null
    },
    {
      "cell_type": "markdown",
      "source": "<a style='text-decoration:none;line-height:16px;display:flex;color:#5B5B62;padding:10px;justify-content:end;' href='https://deepnote.com?utm_source=created-in-deepnote-cell&projectId=51eeb538-78d0-4759-ab21-b1b8c45886c3' target=\"_blank\">\n<img alt='Created in deepnote.com' style='display:inline;max-height:16px;margin:0px;margin-right:7.5px;' src='data:image/svg+xml;base64,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' > </img>\nCreated in <span style='font-weight:600;margin-left:4px;'>Deepnote</span></a>",
      "metadata": {
        "created_in_deepnote_cell": true,
        "deepnote_cell_type": "markdown"
      }
    }
  ],
  "nbformat": 4,
  "nbformat_minor": 0,
  "metadata": {
    "deepnote_notebook_id": "60afb747dfb64303b7d4aabb63ec7670",
    "deepnote_execution_queue": []
  }
}