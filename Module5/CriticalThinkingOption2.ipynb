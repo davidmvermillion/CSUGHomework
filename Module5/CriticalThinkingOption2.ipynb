{
  "cells": [
    {
      "cell_type": "markdown",
      "source": "# Building a Random Forest Classifier",
      "metadata": {
        "formattedRanges": [],
        "cell_id": "93ef576467e34c07b049558627b7f2c0",
        "deepnote_cell_type": "text-cell-h1"
      },
      "block_group": "5757c05385fa4f9292ecfef2a05362a9"
    },
    {
      "cell_type": "markdown",
      "source": "# Load Data and Initialize Environment",
      "metadata": {
        "formattedRanges": [],
        "cell_id": "f8afbf15e3f149d0b1d3ffe412f3c2aa",
        "deepnote_cell_type": "text-cell-h1"
      },
      "block_group": "1dcde8623b6746cdabdc53ef75fabc16"
    },
    {
      "cell_type": "code",
      "source": "# Load the library with the iris dataset\nfrom sklearn.datasets import load_iris\n \n# Load scikit's random forest classifier library\nfrom sklearn.ensemble import RandomForestClassifier\n\n# Load Train Test Split\nfrom sklearn.model_selection import train_test_split\n \n# Load pandas\nimport pandas as pd\n \n# Load numpy\nimport numpy as np\n \n# Set random seed\nnp.random.seed(0)\n\n# Create an object called iris with the iris data\niris = load_iris()\n \n# Create a dataframe with the four feature variables\ndf = pd.DataFrame(iris.data, columns = iris.feature_names)\n\n# Add a new column with the species names; this is what we are going to try to predict\ndf['species'] = pd.Categorical.from_codes(iris.target, iris.target_names)\n \n# View the top 5 rows\ndf.head()",
      "metadata": {
        "source_hash": "229935b9",
        "execution_start": 1728673415761,
        "execution_millis": 1,
        "execution_context_id": "856053a4-20c8-4f1e-96aa-6c169ff10b11",
        "cell_id": "e6f0762b50b9414f8c97ccffc65db8a3",
        "deepnote_cell_type": "code"
      },
      "outputs": [
        {
          "output_type": "execute_result",
          "execution_count": 9,
          "data": {
            "application/vnd.deepnote.dataframe.v3+json": {
              "column_count": 5,
              "row_count": 5,
              "columns": [
                {
                  "name": "sepal length (cm)",
                  "dtype": "float64",
                  "stats": {
                    "unique_count": 5,
                    "nan_count": 0,
                    "min": "4.6",
                    "max": "5.1",
                    "histogram": [
                      {
                        "bin_start": 4.6,
                        "bin_end": 4.6499999999999995,
                        "count": 1
                      },
                      {
                        "bin_start": 4.6499999999999995,
                        "bin_end": 4.699999999999999,
                        "count": 0
                      },
                      {
                        "bin_start": 4.699999999999999,
                        "bin_end": 4.75,
                        "count": 1
                      },
                      {
                        "bin_start": 4.75,
                        "bin_end": 4.8,
                        "count": 0
                      },
                      {
                        "bin_start": 4.8,
                        "bin_end": 4.85,
                        "count": 0
                      },
                      {
                        "bin_start": 4.85,
                        "bin_end": 4.8999999999999995,
                        "count": 0
                      },
                      {
                        "bin_start": 4.8999999999999995,
                        "bin_end": 4.949999999999999,
                        "count": 1
                      },
                      {
                        "bin_start": 4.949999999999999,
                        "bin_end": 5,
                        "count": 0
                      },
                      {
                        "bin_start": 5,
                        "bin_end": 5.05,
                        "count": 1
                      },
                      {
                        "bin_start": 5.05,
                        "bin_end": 5.1,
                        "count": 1
                      }
                    ]
                  }
                },
                {
                  "name": "sepal width (cm)",
                  "dtype": "float64",
                  "stats": {
                    "unique_count": 5,
                    "nan_count": 0,
                    "min": "3.0",
                    "max": "3.6",
                    "histogram": [
                      {
                        "bin_start": 3,
                        "bin_end": 3.06,
                        "count": 1
                      },
                      {
                        "bin_start": 3.06,
                        "bin_end": 3.12,
                        "count": 1
                      },
                      {
                        "bin_start": 3.12,
                        "bin_end": 3.18,
                        "count": 0
                      },
                      {
                        "bin_start": 3.18,
                        "bin_end": 3.24,
                        "count": 1
                      },
                      {
                        "bin_start": 3.24,
                        "bin_end": 3.3,
                        "count": 0
                      },
                      {
                        "bin_start": 3.3,
                        "bin_end": 3.3600000000000003,
                        "count": 0
                      },
                      {
                        "bin_start": 3.3600000000000003,
                        "bin_end": 3.42,
                        "count": 0
                      },
                      {
                        "bin_start": 3.42,
                        "bin_end": 3.48,
                        "count": 0
                      },
                      {
                        "bin_start": 3.48,
                        "bin_end": 3.54,
                        "count": 1
                      },
                      {
                        "bin_start": 3.54,
                        "bin_end": 3.6,
                        "count": 1
                      }
                    ]
                  }
                },
                {
                  "name": "petal length (cm)",
                  "dtype": "float64",
                  "stats": {
                    "unique_count": 3,
                    "nan_count": 0,
                    "min": "1.3",
                    "max": "1.5",
                    "histogram": [
                      {
                        "bin_start": 1.3,
                        "bin_end": 1.32,
                        "count": 1
                      },
                      {
                        "bin_start": 1.32,
                        "bin_end": 1.34,
                        "count": 0
                      },
                      {
                        "bin_start": 1.34,
                        "bin_end": 1.36,
                        "count": 0
                      },
                      {
                        "bin_start": 1.36,
                        "bin_end": 1.3800000000000001,
                        "count": 0
                      },
                      {
                        "bin_start": 1.3800000000000001,
                        "bin_end": 1.4,
                        "count": 0
                      },
                      {
                        "bin_start": 1.4,
                        "bin_end": 1.42,
                        "count": 3
                      },
                      {
                        "bin_start": 1.42,
                        "bin_end": 1.44,
                        "count": 0
                      },
                      {
                        "bin_start": 1.44,
                        "bin_end": 1.46,
                        "count": 0
                      },
                      {
                        "bin_start": 1.46,
                        "bin_end": 1.48,
                        "count": 0
                      },
                      {
                        "bin_start": 1.48,
                        "bin_end": 1.5,
                        "count": 1
                      }
                    ]
                  }
                },
                {
                  "name": "petal width (cm)",
                  "dtype": "float64",
                  "stats": {
                    "unique_count": 1,
                    "nan_count": 0,
                    "min": "0.2",
                    "max": "0.2",
                    "histogram": [
                      {
                        "bin_start": -0.3,
                        "bin_end": -0.19999999999999998,
                        "count": 0
                      },
                      {
                        "bin_start": -0.19999999999999998,
                        "bin_end": -0.09999999999999998,
                        "count": 0
                      },
                      {
                        "bin_start": -0.09999999999999998,
                        "bin_end": 5.551115123125783e-17,
                        "count": 0
                      },
                      {
                        "bin_start": 5.551115123125783e-17,
                        "bin_end": 0.10000000000000003,
                        "count": 0
                      },
                      {
                        "bin_start": 0.10000000000000003,
                        "bin_end": 0.2,
                        "count": 0
                      },
                      {
                        "bin_start": 0.2,
                        "bin_end": 0.3000000000000001,
                        "count": 5
                      },
                      {
                        "bin_start": 0.3000000000000001,
                        "bin_end": 0.4000000000000001,
                        "count": 0
                      },
                      {
                        "bin_start": 0.4000000000000001,
                        "bin_end": 0.5,
                        "count": 0
                      },
                      {
                        "bin_start": 0.5,
                        "bin_end": 0.6000000000000001,
                        "count": 0
                      },
                      {
                        "bin_start": 0.6000000000000001,
                        "bin_end": 0.7,
                        "count": 0
                      }
                    ]
                  }
                },
                {
                  "name": "species",
                  "dtype": "category",
                  "stats": {
                    "unique_count": 1,
                    "nan_count": 0,
                    "categories": [
                      {
                        "name": "setosa",
                        "count": 5
                      }
                    ]
                  }
                },
                {
                  "name": "_deepnote_index_column",
                  "dtype": "int64"
                }
              ],
              "rows": [
                {
                  "sepal length (cm)": 5.1,
                  "sepal width (cm)": 3.5,
                  "petal length (cm)": 1.4,
                  "petal width (cm)": 0.2,
                  "species": "setosa",
                  "_deepnote_index_column": 0
                },
                {
                  "sepal length (cm)": 4.9,
                  "sepal width (cm)": 3,
                  "petal length (cm)": 1.4,
                  "petal width (cm)": 0.2,
                  "species": "setosa",
                  "_deepnote_index_column": 1
                },
                {
                  "sepal length (cm)": 4.7,
                  "sepal width (cm)": 3.2,
                  "petal length (cm)": 1.3,
                  "petal width (cm)": 0.2,
                  "species": "setosa",
                  "_deepnote_index_column": 2
                },
                {
                  "sepal length (cm)": 4.6,
                  "sepal width (cm)": 3.1,
                  "petal length (cm)": 1.5,
                  "petal width (cm)": 0.2,
                  "species": "setosa",
                  "_deepnote_index_column": 3
                },
                {
                  "sepal length (cm)": 5,
                  "sepal width (cm)": 3.6,
                  "petal length (cm)": 1.4,
                  "petal width (cm)": 0.2,
                  "species": "setosa",
                  "_deepnote_index_column": 4
                }
              ]
            },
            "text/plain": "   sepal length (cm)  sepal width (cm)  petal length (cm)  petal width (cm)  \\\n0                5.1               3.5                1.4               0.2   \n1                4.9               3.0                1.4               0.2   \n2                4.7               3.2                1.3               0.2   \n3                4.6               3.1                1.5               0.2   \n4                5.0               3.6                1.4               0.2   \n\n  species  \n0  setosa  \n1  setosa  \n2  setosa  \n3  setosa  \n4  setosa  ",
            "text/html": "<div>\n<style scoped>\n    .dataframe tbody tr th:only-of-type {\n        vertical-align: middle;\n    }\n\n    .dataframe tbody tr th {\n        vertical-align: top;\n    }\n\n    .dataframe thead th {\n        text-align: right;\n    }\n</style>\n<table border=\"1\" class=\"dataframe\">\n  <thead>\n    <tr style=\"text-align: right;\">\n      <th></th>\n      <th>sepal length (cm)</th>\n      <th>sepal width (cm)</th>\n      <th>petal length (cm)</th>\n      <th>petal width (cm)</th>\n      <th>species</th>\n    </tr>\n  </thead>\n  <tbody>\n    <tr>\n      <th>0</th>\n      <td>5.1</td>\n      <td>3.5</td>\n      <td>1.4</td>\n      <td>0.2</td>\n      <td>setosa</td>\n    </tr>\n    <tr>\n      <th>1</th>\n      <td>4.9</td>\n      <td>3.0</td>\n      <td>1.4</td>\n      <td>0.2</td>\n      <td>setosa</td>\n    </tr>\n    <tr>\n      <th>2</th>\n      <td>4.7</td>\n      <td>3.2</td>\n      <td>1.3</td>\n      <td>0.2</td>\n      <td>setosa</td>\n    </tr>\n    <tr>\n      <th>3</th>\n      <td>4.6</td>\n      <td>3.1</td>\n      <td>1.5</td>\n      <td>0.2</td>\n      <td>setosa</td>\n    </tr>\n    <tr>\n      <th>4</th>\n      <td>5.0</td>\n      <td>3.6</td>\n      <td>1.4</td>\n      <td>0.2</td>\n      <td>setosa</td>\n    </tr>\n  </tbody>\n</table>\n</div>"
          },
          "metadata": {}
        }
      ],
      "outputs_reference": null,
      "execution_count": 9,
      "block_group": "e6f0762b50b9414f8c97ccffc65db8a3",
      "content_dependencies": null
    },
    {
      "cell_type": "code",
      "source": "df",
      "metadata": {
        "source_hash": "f804c160",
        "execution_start": 1728674222669,
        "execution_millis": 1,
        "deepnote_table_state": {
          "sortBy": [],
          "filters": [],
          "pageSize": 100,
          "pageIndex": 1,
          "conditionalFilters": [],
          "wrappedTextColumnIds": []
        },
        "execution_context_id": "856053a4-20c8-4f1e-96aa-6c169ff10b11",
        "deepnote_table_loading": false,
        "cell_id": "2416ad7a511d49c68d78a8c91accb5c5",
        "deepnote_cell_type": "code"
      },
      "outputs": [
        {
          "output_type": "execute_result",
          "execution_count": 24,
          "data": {
            "application/vnd.deepnote.dataframe.v3+json": {
              "column_count": 5,
              "row_count": 150,
              "columns": [
                {
                  "name": "sepal length (cm)",
                  "dtype": "float64",
                  "stats": {
                    "unique_count": 35,
                    "nan_count": 0,
                    "min": "4.3",
                    "max": "7.9",
                    "histogram": [
                      {
                        "bin_start": 4.3,
                        "bin_end": 4.66,
                        "count": 9
                      },
                      {
                        "bin_start": 4.66,
                        "bin_end": 5.02,
                        "count": 23
                      },
                      {
                        "bin_start": 5.02,
                        "bin_end": 5.38,
                        "count": 14
                      },
                      {
                        "bin_start": 5.38,
                        "bin_end": 5.74,
                        "count": 27
                      },
                      {
                        "bin_start": 5.74,
                        "bin_end": 6.1,
                        "count": 16
                      },
                      {
                        "bin_start": 6.1,
                        "bin_end": 6.46,
                        "count": 26
                      },
                      {
                        "bin_start": 6.46,
                        "bin_end": 6.82,
                        "count": 18
                      },
                      {
                        "bin_start": 6.82,
                        "bin_end": 7.18,
                        "count": 6
                      },
                      {
                        "bin_start": 7.18,
                        "bin_end": 7.54,
                        "count": 5
                      },
                      {
                        "bin_start": 7.54,
                        "bin_end": 7.9,
                        "count": 6
                      }
                    ]
                  }
                },
                {
                  "name": "sepal width (cm)",
                  "dtype": "float64",
                  "stats": {
                    "unique_count": 23,
                    "nan_count": 0,
                    "min": "2.0",
                    "max": "4.4",
                    "histogram": [
                      {
                        "bin_start": 2,
                        "bin_end": 2.24,
                        "count": 4
                      },
                      {
                        "bin_start": 2.24,
                        "bin_end": 2.48,
                        "count": 7
                      },
                      {
                        "bin_start": 2.48,
                        "bin_end": 2.72,
                        "count": 22
                      },
                      {
                        "bin_start": 2.72,
                        "bin_end": 2.96,
                        "count": 24
                      },
                      {
                        "bin_start": 2.96,
                        "bin_end": 3.2,
                        "count": 37
                      },
                      {
                        "bin_start": 3.2,
                        "bin_end": 3.4400000000000004,
                        "count": 31
                      },
                      {
                        "bin_start": 3.4400000000000004,
                        "bin_end": 3.6800000000000006,
                        "count": 10
                      },
                      {
                        "bin_start": 3.6800000000000006,
                        "bin_end": 3.9200000000000004,
                        "count": 11
                      },
                      {
                        "bin_start": 3.9200000000000004,
                        "bin_end": 4.16,
                        "count": 2
                      },
                      {
                        "bin_start": 4.16,
                        "bin_end": 4.4,
                        "count": 2
                      }
                    ]
                  }
                },
                {
                  "name": "petal length (cm)",
                  "dtype": "float64",
                  "stats": {
                    "unique_count": 43,
                    "nan_count": 0,
                    "min": "1.0",
                    "max": "6.9",
                    "histogram": [
                      {
                        "bin_start": 1,
                        "bin_end": 1.59,
                        "count": 37
                      },
                      {
                        "bin_start": 1.59,
                        "bin_end": 2.18,
                        "count": 13
                      },
                      {
                        "bin_start": 2.18,
                        "bin_end": 2.7700000000000005,
                        "count": 0
                      },
                      {
                        "bin_start": 2.7700000000000005,
                        "bin_end": 3.3600000000000003,
                        "count": 3
                      },
                      {
                        "bin_start": 3.3600000000000003,
                        "bin_end": 3.95,
                        "count": 8
                      },
                      {
                        "bin_start": 3.95,
                        "bin_end": 4.540000000000001,
                        "count": 26
                      },
                      {
                        "bin_start": 4.540000000000001,
                        "bin_end": 5.130000000000001,
                        "count": 29
                      },
                      {
                        "bin_start": 5.130000000000001,
                        "bin_end": 5.720000000000001,
                        "count": 18
                      },
                      {
                        "bin_start": 5.720000000000001,
                        "bin_end": 6.3100000000000005,
                        "count": 11
                      },
                      {
                        "bin_start": 6.3100000000000005,
                        "bin_end": 6.9,
                        "count": 5
                      }
                    ]
                  }
                },
                {
                  "name": "petal width (cm)",
                  "dtype": "float64",
                  "stats": {
                    "unique_count": 22,
                    "nan_count": 0,
                    "min": "0.1",
                    "max": "2.5",
                    "histogram": [
                      {
                        "bin_start": 0.1,
                        "bin_end": 0.33999999999999997,
                        "count": 41
                      },
                      {
                        "bin_start": 0.33999999999999997,
                        "bin_end": 0.58,
                        "count": 8
                      },
                      {
                        "bin_start": 0.58,
                        "bin_end": 0.82,
                        "count": 1
                      },
                      {
                        "bin_start": 0.82,
                        "bin_end": 1.06,
                        "count": 7
                      },
                      {
                        "bin_start": 1.06,
                        "bin_end": 1.3,
                        "count": 8
                      },
                      {
                        "bin_start": 1.3,
                        "bin_end": 1.54,
                        "count": 33
                      },
                      {
                        "bin_start": 1.54,
                        "bin_end": 1.78,
                        "count": 6
                      },
                      {
                        "bin_start": 1.78,
                        "bin_end": 2.02,
                        "count": 23
                      },
                      {
                        "bin_start": 2.02,
                        "bin_end": 2.2600000000000002,
                        "count": 9
                      },
                      {
                        "bin_start": 2.2600000000000002,
                        "bin_end": 2.5,
                        "count": 14
                      }
                    ]
                  }
                },
                {
                  "name": "species",
                  "dtype": "category",
                  "stats": {
                    "unique_count": 3,
                    "nan_count": 0,
                    "categories": [
                      {
                        "name": "setosa",
                        "count": 50
                      },
                      {
                        "name": "versicolor",
                        "count": 50
                      },
                      {
                        "name": "virginica",
                        "count": 50
                      }
                    ]
                  }
                },
                {
                  "name": "_deepnote_index_column",
                  "dtype": "int64"
                }
              ],
              "rows": [
                {
                  "sepal length (cm)": 6.3,
                  "sepal width (cm)": 3.3,
                  "petal length (cm)": 6,
                  "petal width (cm)": 2.5,
                  "species": "virginica",
                  "_deepnote_index_column": 100
                },
                {
                  "sepal length (cm)": 5.8,
                  "sepal width (cm)": 2.7,
                  "petal length (cm)": 5.1,
                  "petal width (cm)": 1.9,
                  "species": "virginica",
                  "_deepnote_index_column": 101
                },
                {
                  "sepal length (cm)": 7.1,
                  "sepal width (cm)": 3,
                  "petal length (cm)": 5.9,
                  "petal width (cm)": 2.1,
                  "species": "virginica",
                  "_deepnote_index_column": 102
                },
                {
                  "sepal length (cm)": 6.3,
                  "sepal width (cm)": 2.9,
                  "petal length (cm)": 5.6,
                  "petal width (cm)": 1.8,
                  "species": "virginica",
                  "_deepnote_index_column": 103
                },
                {
                  "sepal length (cm)": 6.5,
                  "sepal width (cm)": 3,
                  "petal length (cm)": 5.8,
                  "petal width (cm)": 2.2,
                  "species": "virginica",
                  "_deepnote_index_column": 104
                },
                {
                  "sepal length (cm)": 7.6,
                  "sepal width (cm)": 3,
                  "petal length (cm)": 6.6,
                  "petal width (cm)": 2.1,
                  "species": "virginica",
                  "_deepnote_index_column": 105
                },
                {
                  "sepal length (cm)": 4.9,
                  "sepal width (cm)": 2.5,
                  "petal length (cm)": 4.5,
                  "petal width (cm)": 1.7,
                  "species": "virginica",
                  "_deepnote_index_column": 106
                },
                {
                  "sepal length (cm)": 7.3,
                  "sepal width (cm)": 2.9,
                  "petal length (cm)": 6.3,
                  "petal width (cm)": 1.8,
                  "species": "virginica",
                  "_deepnote_index_column": 107
                },
                {
                  "sepal length (cm)": 6.7,
                  "sepal width (cm)": 2.5,
                  "petal length (cm)": 5.8,
                  "petal width (cm)": 1.8,
                  "species": "virginica",
                  "_deepnote_index_column": 108
                },
                {
                  "sepal length (cm)": 7.2,
                  "sepal width (cm)": 3.6,
                  "petal length (cm)": 6.1,
                  "petal width (cm)": 2.5,
                  "species": "virginica",
                  "_deepnote_index_column": 109
                },
                {
                  "sepal length (cm)": 6.5,
                  "sepal width (cm)": 3.2,
                  "petal length (cm)": 5.1,
                  "petal width (cm)": 2,
                  "species": "virginica",
                  "_deepnote_index_column": 110
                },
                {
                  "sepal length (cm)": 6.4,
                  "sepal width (cm)": 2.7,
                  "petal length (cm)": 5.3,
                  "petal width (cm)": 1.9,
                  "species": "virginica",
                  "_deepnote_index_column": 111
                },
                {
                  "sepal length (cm)": 6.8,
                  "sepal width (cm)": 3,
                  "petal length (cm)": 5.5,
                  "petal width (cm)": 2.1,
                  "species": "virginica",
                  "_deepnote_index_column": 112
                },
                {
                  "sepal length (cm)": 5.7,
                  "sepal width (cm)": 2.5,
                  "petal length (cm)": 5,
                  "petal width (cm)": 2,
                  "species": "virginica",
                  "_deepnote_index_column": 113
                },
                {
                  "sepal length (cm)": 5.8,
                  "sepal width (cm)": 2.8,
                  "petal length (cm)": 5.1,
                  "petal width (cm)": 2.4,
                  "species": "virginica",
                  "_deepnote_index_column": 114
                },
                {
                  "sepal length (cm)": 6.4,
                  "sepal width (cm)": 3.2,
                  "petal length (cm)": 5.3,
                  "petal width (cm)": 2.3,
                  "species": "virginica",
                  "_deepnote_index_column": 115
                },
                {
                  "sepal length (cm)": 6.5,
                  "sepal width (cm)": 3,
                  "petal length (cm)": 5.5,
                  "petal width (cm)": 1.8,
                  "species": "virginica",
                  "_deepnote_index_column": 116
                },
                {
                  "sepal length (cm)": 7.7,
                  "sepal width (cm)": 3.8,
                  "petal length (cm)": 6.7,
                  "petal width (cm)": 2.2,
                  "species": "virginica",
                  "_deepnote_index_column": 117
                },
                {
                  "sepal length (cm)": 7.7,
                  "sepal width (cm)": 2.6,
                  "petal length (cm)": 6.9,
                  "petal width (cm)": 2.3,
                  "species": "virginica",
                  "_deepnote_index_column": 118
                },
                {
                  "sepal length (cm)": 6,
                  "sepal width (cm)": 2.2,
                  "petal length (cm)": 5,
                  "petal width (cm)": 1.5,
                  "species": "virginica",
                  "_deepnote_index_column": 119
                },
                {
                  "sepal length (cm)": 6.9,
                  "sepal width (cm)": 3.2,
                  "petal length (cm)": 5.7,
                  "petal width (cm)": 2.3,
                  "species": "virginica",
                  "_deepnote_index_column": 120
                },
                {
                  "sepal length (cm)": 5.6,
                  "sepal width (cm)": 2.8,
                  "petal length (cm)": 4.9,
                  "petal width (cm)": 2,
                  "species": "virginica",
                  "_deepnote_index_column": 121
                },
                {
                  "sepal length (cm)": 7.7,
                  "sepal width (cm)": 2.8,
                  "petal length (cm)": 6.7,
                  "petal width (cm)": 2,
                  "species": "virginica",
                  "_deepnote_index_column": 122
                },
                {
                  "sepal length (cm)": 6.3,
                  "sepal width (cm)": 2.7,
                  "petal length (cm)": 4.9,
                  "petal width (cm)": 1.8,
                  "species": "virginica",
                  "_deepnote_index_column": 123
                },
                {
                  "sepal length (cm)": 6.7,
                  "sepal width (cm)": 3.3,
                  "petal length (cm)": 5.7,
                  "petal width (cm)": 2.1,
                  "species": "virginica",
                  "_deepnote_index_column": 124
                },
                {
                  "sepal length (cm)": 7.2,
                  "sepal width (cm)": 3.2,
                  "petal length (cm)": 6,
                  "petal width (cm)": 1.8,
                  "species": "virginica",
                  "_deepnote_index_column": 125
                },
                {
                  "sepal length (cm)": 6.2,
                  "sepal width (cm)": 2.8,
                  "petal length (cm)": 4.8,
                  "petal width (cm)": 1.8,
                  "species": "virginica",
                  "_deepnote_index_column": 126
                },
                {
                  "sepal length (cm)": 6.1,
                  "sepal width (cm)": 3,
                  "petal length (cm)": 4.9,
                  "petal width (cm)": 1.8,
                  "species": "virginica",
                  "_deepnote_index_column": 127
                },
                {
                  "sepal length (cm)": 6.4,
                  "sepal width (cm)": 2.8,
                  "petal length (cm)": 5.6,
                  "petal width (cm)": 2.1,
                  "species": "virginica",
                  "_deepnote_index_column": 128
                },
                {
                  "sepal length (cm)": 7.2,
                  "sepal width (cm)": 3,
                  "petal length (cm)": 5.8,
                  "petal width (cm)": 1.6,
                  "species": "virginica",
                  "_deepnote_index_column": 129
                },
                {
                  "sepal length (cm)": 7.4,
                  "sepal width (cm)": 2.8,
                  "petal length (cm)": 6.1,
                  "petal width (cm)": 1.9,
                  "species": "virginica",
                  "_deepnote_index_column": 130
                },
                {
                  "sepal length (cm)": 7.9,
                  "sepal width (cm)": 3.8,
                  "petal length (cm)": 6.4,
                  "petal width (cm)": 2,
                  "species": "virginica",
                  "_deepnote_index_column": 131
                },
                {
                  "sepal length (cm)": 6.4,
                  "sepal width (cm)": 2.8,
                  "petal length (cm)": 5.6,
                  "petal width (cm)": 2.2,
                  "species": "virginica",
                  "_deepnote_index_column": 132
                },
                {
                  "sepal length (cm)": 6.3,
                  "sepal width (cm)": 2.8,
                  "petal length (cm)": 5.1,
                  "petal width (cm)": 1.5,
                  "species": "virginica",
                  "_deepnote_index_column": 133
                },
                {
                  "sepal length (cm)": 6.1,
                  "sepal width (cm)": 2.6,
                  "petal length (cm)": 5.6,
                  "petal width (cm)": 1.4,
                  "species": "virginica",
                  "_deepnote_index_column": 134
                },
                {
                  "sepal length (cm)": 7.7,
                  "sepal width (cm)": 3,
                  "petal length (cm)": 6.1,
                  "petal width (cm)": 2.3,
                  "species": "virginica",
                  "_deepnote_index_column": 135
                },
                {
                  "sepal length (cm)": 6.3,
                  "sepal width (cm)": 3.4,
                  "petal length (cm)": 5.6,
                  "petal width (cm)": 2.4,
                  "species": "virginica",
                  "_deepnote_index_column": 136
                },
                {
                  "sepal length (cm)": 6.4,
                  "sepal width (cm)": 3.1,
                  "petal length (cm)": 5.5,
                  "petal width (cm)": 1.8,
                  "species": "virginica",
                  "_deepnote_index_column": 137
                },
                {
                  "sepal length (cm)": 6,
                  "sepal width (cm)": 3,
                  "petal length (cm)": 4.8,
                  "petal width (cm)": 1.8,
                  "species": "virginica",
                  "_deepnote_index_column": 138
                },
                {
                  "sepal length (cm)": 6.9,
                  "sepal width (cm)": 3.1,
                  "petal length (cm)": 5.4,
                  "petal width (cm)": 2.1,
                  "species": "virginica",
                  "_deepnote_index_column": 139
                },
                {
                  "sepal length (cm)": 6.7,
                  "sepal width (cm)": 3.1,
                  "petal length (cm)": 5.6,
                  "petal width (cm)": 2.4,
                  "species": "virginica",
                  "_deepnote_index_column": 140
                },
                {
                  "sepal length (cm)": 6.9,
                  "sepal width (cm)": 3.1,
                  "petal length (cm)": 5.1,
                  "petal width (cm)": 2.3,
                  "species": "virginica",
                  "_deepnote_index_column": 141
                },
                {
                  "sepal length (cm)": 5.8,
                  "sepal width (cm)": 2.7,
                  "petal length (cm)": 5.1,
                  "petal width (cm)": 1.9,
                  "species": "virginica",
                  "_deepnote_index_column": 142
                },
                {
                  "sepal length (cm)": 6.8,
                  "sepal width (cm)": 3.2,
                  "petal length (cm)": 5.9,
                  "petal width (cm)": 2.3,
                  "species": "virginica",
                  "_deepnote_index_column": 143
                },
                {
                  "sepal length (cm)": 6.7,
                  "sepal width (cm)": 3.3,
                  "petal length (cm)": 5.7,
                  "petal width (cm)": 2.5,
                  "species": "virginica",
                  "_deepnote_index_column": 144
                },
                {
                  "sepal length (cm)": 6.7,
                  "sepal width (cm)": 3,
                  "petal length (cm)": 5.2,
                  "petal width (cm)": 2.3,
                  "species": "virginica",
                  "_deepnote_index_column": 145
                },
                {
                  "sepal length (cm)": 6.3,
                  "sepal width (cm)": 2.5,
                  "petal length (cm)": 5,
                  "petal width (cm)": 1.9,
                  "species": "virginica",
                  "_deepnote_index_column": 146
                },
                {
                  "sepal length (cm)": 6.5,
                  "sepal width (cm)": 3,
                  "petal length (cm)": 5.2,
                  "petal width (cm)": 2,
                  "species": "virginica",
                  "_deepnote_index_column": 147
                },
                {
                  "sepal length (cm)": 6.2,
                  "sepal width (cm)": 3.4,
                  "petal length (cm)": 5.4,
                  "petal width (cm)": 2.3,
                  "species": "virginica",
                  "_deepnote_index_column": 148
                },
                {
                  "sepal length (cm)": 5.9,
                  "sepal width (cm)": 3,
                  "petal length (cm)": 5.1,
                  "petal width (cm)": 1.8,
                  "species": "virginica",
                  "_deepnote_index_column": 149
                }
              ]
            },
            "text/plain": "     sepal length (cm)  sepal width (cm)  petal length (cm)  petal width (cm)  \\\n0                  5.1               3.5                1.4               0.2   \n1                  4.9               3.0                1.4               0.2   \n2                  4.7               3.2                1.3               0.2   \n3                  4.6               3.1                1.5               0.2   \n4                  5.0               3.6                1.4               0.2   \n..                 ...               ...                ...               ...   \n145                6.7               3.0                5.2               2.3   \n146                6.3               2.5                5.0               1.9   \n147                6.5               3.0                5.2               2.0   \n148                6.2               3.4                5.4               2.3   \n149                5.9               3.0                5.1               1.8   \n\n       species  \n0       setosa  \n1       setosa  \n2       setosa  \n3       setosa  \n4       setosa  \n..         ...  \n145  virginica  \n146  virginica  \n147  virginica  \n148  virginica  \n149  virginica  \n\n[150 rows x 5 columns]",
            "text/html": "<div>\n<style scoped>\n    .dataframe tbody tr th:only-of-type {\n        vertical-align: middle;\n    }\n\n    .dataframe tbody tr th {\n        vertical-align: top;\n    }\n\n    .dataframe thead th {\n        text-align: right;\n    }\n</style>\n<table border=\"1\" class=\"dataframe\">\n  <thead>\n    <tr style=\"text-align: right;\">\n      <th></th>\n      <th>sepal length (cm)</th>\n      <th>sepal width (cm)</th>\n      <th>petal length (cm)</th>\n      <th>petal width (cm)</th>\n      <th>species</th>\n    </tr>\n  </thead>\n  <tbody>\n    <tr>\n      <th>0</th>\n      <td>5.1</td>\n      <td>3.5</td>\n      <td>1.4</td>\n      <td>0.2</td>\n      <td>setosa</td>\n    </tr>\n    <tr>\n      <th>1</th>\n      <td>4.9</td>\n      <td>3.0</td>\n      <td>1.4</td>\n      <td>0.2</td>\n      <td>setosa</td>\n    </tr>\n    <tr>\n      <th>2</th>\n      <td>4.7</td>\n      <td>3.2</td>\n      <td>1.3</td>\n      <td>0.2</td>\n      <td>setosa</td>\n    </tr>\n    <tr>\n      <th>3</th>\n      <td>4.6</td>\n      <td>3.1</td>\n      <td>1.5</td>\n      <td>0.2</td>\n      <td>setosa</td>\n    </tr>\n    <tr>\n      <th>4</th>\n      <td>5.0</td>\n      <td>3.6</td>\n      <td>1.4</td>\n      <td>0.2</td>\n      <td>setosa</td>\n    </tr>\n    <tr>\n      <th>...</th>\n      <td>...</td>\n      <td>...</td>\n      <td>...</td>\n      <td>...</td>\n      <td>...</td>\n    </tr>\n    <tr>\n      <th>145</th>\n      <td>6.7</td>\n      <td>3.0</td>\n      <td>5.2</td>\n      <td>2.3</td>\n      <td>virginica</td>\n    </tr>\n    <tr>\n      <th>146</th>\n      <td>6.3</td>\n      <td>2.5</td>\n      <td>5.0</td>\n      <td>1.9</td>\n      <td>virginica</td>\n    </tr>\n    <tr>\n      <th>147</th>\n      <td>6.5</td>\n      <td>3.0</td>\n      <td>5.2</td>\n      <td>2.0</td>\n      <td>virginica</td>\n    </tr>\n    <tr>\n      <th>148</th>\n      <td>6.2</td>\n      <td>3.4</td>\n      <td>5.4</td>\n      <td>2.3</td>\n      <td>virginica</td>\n    </tr>\n    <tr>\n      <th>149</th>\n      <td>5.9</td>\n      <td>3.0</td>\n      <td>5.1</td>\n      <td>1.8</td>\n      <td>virginica</td>\n    </tr>\n  </tbody>\n</table>\n<p>150 rows × 5 columns</p>\n</div>"
          },
          "metadata": {}
        }
      ],
      "outputs_reference": null,
      "execution_count": 23,
      "block_group": "ed1fc03986a94945bafe92fba9272162",
      "content_dependencies": null
    },
    {
      "cell_type": "markdown",
      "source": "# Pre-Process Data",
      "metadata": {
        "formattedRanges": [],
        "cell_id": "6b7ef0e657e1443e8ed332879a77e57d",
        "deepnote_cell_type": "text-cell-h1"
      },
      "block_group": "4d6c862ceb3a4af29b57161c08432bee"
    },
    {
      "cell_type": "code",
      "source": "# Create a list of the feature column's names\nfeatures = df.columns[:4]\n \n# View features\nfeatures",
      "metadata": {
        "source_hash": "ea573a6f",
        "execution_start": 1728673773724,
        "execution_millis": 0,
        "execution_context_id": "856053a4-20c8-4f1e-96aa-6c169ff10b11",
        "cell_id": "d0b24fd855744bf2b3c893c1a480b8a1",
        "deepnote_cell_type": "code"
      },
      "outputs": [
        {
          "output_type": "execute_result",
          "execution_count": 15,
          "data": {
            "text/plain": "Index(['sepal length (cm)', 'sepal width (cm)', 'petal length (cm)',\n       'petal width (cm)'],\n      dtype='object')"
          },
          "metadata": {}
        }
      ],
      "outputs_reference": null,
      "execution_count": 15,
      "block_group": "9cbf81d9768a45e08cee1ea53b7aa2c3",
      "content_dependencies": null
    },
    {
      "cell_type": "code",
      "source": "# train['species'] contains the actual species names. Before we can use it,\n# we need to convert each species name into a digit. So, in this case, there\n# are three species, which have been coded as 0, 1, or 2.\ny = pd.factorize(df['species'])[0]\n\n# View target\ny",
      "metadata": {
        "source_hash": "a76323d9",
        "execution_start": 1728673792681,
        "execution_millis": 0,
        "execution_context_id": "856053a4-20c8-4f1e-96aa-6c169ff10b11",
        "cell_id": "d724f596689d44dda9401d28fdca8d1c",
        "deepnote_cell_type": "code"
      },
      "outputs": [
        {
          "output_type": "execute_result",
          "execution_count": 16,
          "data": {
            "text/plain": "array([0, 0, 0, 0, 0, 0, 0, 0, 0, 0, 0, 0, 0, 0, 0, 0, 0, 0, 0, 0, 0, 0,\n       0, 0, 0, 0, 0, 0, 0, 0, 0, 0, 0, 0, 0, 0, 0, 0, 0, 0, 0, 0, 0, 0,\n       0, 0, 0, 0, 0, 0, 1, 1, 1, 1, 1, 1, 1, 1, 1, 1, 1, 1, 1, 1, 1, 1,\n       1, 1, 1, 1, 1, 1, 1, 1, 1, 1, 1, 1, 1, 1, 1, 1, 1, 1, 1, 1, 1, 1,\n       1, 1, 1, 1, 1, 1, 1, 1, 1, 1, 1, 1, 2, 2, 2, 2, 2, 2, 2, 2, 2, 2,\n       2, 2, 2, 2, 2, 2, 2, 2, 2, 2, 2, 2, 2, 2, 2, 2, 2, 2, 2, 2, 2, 2,\n       2, 2, 2, 2, 2, 2, 2, 2, 2, 2, 2, 2, 2, 2, 2, 2, 2, 2])"
          },
          "metadata": {}
        }
      ],
      "outputs_reference": null,
      "execution_count": 16,
      "block_group": "a0d824f91875440e951a38c54f01516c",
      "content_dependencies": null
    },
    {
      "cell_type": "markdown",
      "source": "# Create Training and Test Data",
      "metadata": {
        "formattedRanges": [],
        "cell_id": "2e37d6ba5e1d47098107bc39ab144787",
        "deepnote_cell_type": "text-cell-h1"
      },
      "block_group": "1375a275b38d4900b964673a5b885ad5"
    },
    {
      "cell_type": "markdown",
      "source": "The original split was unnecessarily manual, yet with randomness. Using an inbuilt method instead.",
      "metadata": {
        "formattedRanges": [],
        "cell_id": "6bae757ea702484fafe28dc6997c0144",
        "deepnote_cell_type": "text-cell-p"
      },
      "block_group": "71aebedf812245a69a8201fd446743bd"
    },
    {
      "cell_type": "code",
      "source": "X = df.loc[:, df.columns != 'species']",
      "metadata": {
        "source_hash": "1b20d883",
        "execution_start": 1728674068705,
        "execution_millis": 2,
        "execution_context_id": "856053a4-20c8-4f1e-96aa-6c169ff10b11",
        "cell_id": "fdb38dbad55e4a5d9c52168ca8db7d41",
        "deepnote_cell_type": "code"
      },
      "outputs": [],
      "outputs_reference": null,
      "execution_count": 19,
      "block_group": "723c082981a94b93a761a97a1c359a2b",
      "content_dependencies": null
    },
    {
      "cell_type": "code",
      "source": "splitsize = np.random.uniform(0, 1)\nX_train, X_test, y_train, y_test = train_test_split(X, y, train_size = splitsize, random_state = 580)\n\n# Show the number of observations for the test and training dataframes\nprint('Number of observations in the training data:', len(X_train))\nprint('Number of observations in the test data:', len(X_test))",
      "metadata": {
        "source_hash": "395026d8",
        "execution_start": 1728674664540,
        "execution_millis": 3,
        "execution_context_id": "856053a4-20c8-4f1e-96aa-6c169ff10b11",
        "cell_id": "bfdf92f8a9e4430faf47313200e22873",
        "deepnote_cell_type": "code"
      },
      "outputs": [
        {
          "name": "stdout",
          "text": "Number of observations in the training data: 49\nNumber of observations in the test data: 101\n",
          "output_type": "stream"
        }
      ],
      "outputs_reference": null,
      "execution_count": 25,
      "block_group": "48ad27e9a87a41c79e19346c2d52175f",
      "content_dependencies": null
    },
    {
      "cell_type": "markdown",
      "source": "# Train Random Forest Classifier",
      "metadata": {
        "formattedRanges": [],
        "cell_id": "2aac364834e34493adcc5fb3320be1e0",
        "deepnote_cell_type": "text-cell-h1"
      },
      "block_group": "d5cfd1c6a9ac496cac97ad3d81260a10"
    },
    {
      "cell_type": "code",
      "source": "# Create a random forest Classifier. By convention, clf means 'Classifier'\nclf = RandomForestClassifier(n_jobs = 2, random_state = 0)\n \n# Train the Classifier to take the training features and learn how they relate\n# to the training y (the species)\nclf.fit(X_train, y_train)\nRandomForestClassifier(\n    bootstrap = True, \n    class_weight = None, \n    criterion = 'gini',\n    max_depth = None, \n    max_features = 'auto', \n    max_leaf_nodes = None,\n    min_impurity_decrease = 1e-07,\n    min_samples_leaf = 1,\n    min_samples_split = 2,\n    min_weight_fraction_leaf = 0.0,\n    n_estimators = 10, \n    n_jobs = 2, \n    oob_score = False, \n    random_state = 0,\n    verbose = 0, \n    warm_start = False\n    )",
      "metadata": {
        "source_hash": "9a0082dc",
        "execution_start": 1728675178881,
        "execution_millis": 157,
        "execution_context_id": "856053a4-20c8-4f1e-96aa-6c169ff10b11",
        "cell_id": "c23192c5a6d64354bfda6e5d1cdde23e",
        "deepnote_cell_type": "code"
      },
      "outputs": [
        {
          "output_type": "execute_result",
          "execution_count": 29,
          "data": {
            "text/plain": "RandomForestClassifier(max_features='auto', min_impurity_decrease=1e-07,\n                       n_estimators=10, n_jobs=2, random_state=0)",
            "text/html": "<style>#sk-container-id-2 {color: black;background-color: white;}#sk-container-id-2 pre{padding: 0;}#sk-container-id-2 div.sk-toggleable {background-color: white;}#sk-container-id-2 label.sk-toggleable__label {cursor: pointer;display: block;width: 100%;margin-bottom: 0;padding: 0.3em;box-sizing: border-box;text-align: center;}#sk-container-id-2 label.sk-toggleable__label-arrow:before {content: \"▸\";float: left;margin-right: 0.25em;color: #696969;}#sk-container-id-2 label.sk-toggleable__label-arrow:hover:before {color: black;}#sk-container-id-2 div.sk-estimator:hover label.sk-toggleable__label-arrow:before {color: black;}#sk-container-id-2 div.sk-toggleable__content {max-height: 0;max-width: 0;overflow: hidden;text-align: left;background-color: #f0f8ff;}#sk-container-id-2 div.sk-toggleable__content pre {margin: 0.2em;color: black;border-radius: 0.25em;background-color: #f0f8ff;}#sk-container-id-2 input.sk-toggleable__control:checked~div.sk-toggleable__content {max-height: 200px;max-width: 100%;overflow: auto;}#sk-container-id-2 input.sk-toggleable__control:checked~label.sk-toggleable__label-arrow:before {content: \"▾\";}#sk-container-id-2 div.sk-estimator input.sk-toggleable__control:checked~label.sk-toggleable__label {background-color: #d4ebff;}#sk-container-id-2 div.sk-label input.sk-toggleable__control:checked~label.sk-toggleable__label {background-color: #d4ebff;}#sk-container-id-2 input.sk-hidden--visually {border: 0;clip: rect(1px 1px 1px 1px);clip: rect(1px, 1px, 1px, 1px);height: 1px;margin: -1px;overflow: hidden;padding: 0;position: absolute;width: 1px;}#sk-container-id-2 div.sk-estimator {font-family: monospace;background-color: #f0f8ff;border: 1px dotted black;border-radius: 0.25em;box-sizing: border-box;margin-bottom: 0.5em;}#sk-container-id-2 div.sk-estimator:hover {background-color: #d4ebff;}#sk-container-id-2 div.sk-parallel-item::after {content: \"\";width: 100%;border-bottom: 1px solid gray;flex-grow: 1;}#sk-container-id-2 div.sk-label:hover label.sk-toggleable__label {background-color: #d4ebff;}#sk-container-id-2 div.sk-serial::before {content: \"\";position: absolute;border-left: 1px solid gray;box-sizing: border-box;top: 0;bottom: 0;left: 50%;z-index: 0;}#sk-container-id-2 div.sk-serial {display: flex;flex-direction: column;align-items: center;background-color: white;padding-right: 0.2em;padding-left: 0.2em;position: relative;}#sk-container-id-2 div.sk-item {position: relative;z-index: 1;}#sk-container-id-2 div.sk-parallel {display: flex;align-items: stretch;justify-content: center;background-color: white;position: relative;}#sk-container-id-2 div.sk-item::before, #sk-container-id-2 div.sk-parallel-item::before {content: \"\";position: absolute;border-left: 1px solid gray;box-sizing: border-box;top: 0;bottom: 0;left: 50%;z-index: -1;}#sk-container-id-2 div.sk-parallel-item {display: flex;flex-direction: column;z-index: 1;position: relative;background-color: white;}#sk-container-id-2 div.sk-parallel-item:first-child::after {align-self: flex-end;width: 50%;}#sk-container-id-2 div.sk-parallel-item:last-child::after {align-self: flex-start;width: 50%;}#sk-container-id-2 div.sk-parallel-item:only-child::after {width: 0;}#sk-container-id-2 div.sk-dashed-wrapped {border: 1px dashed gray;margin: 0 0.4em 0.5em 0.4em;box-sizing: border-box;padding-bottom: 0.4em;background-color: white;}#sk-container-id-2 div.sk-label label {font-family: monospace;font-weight: bold;display: inline-block;line-height: 1.2em;}#sk-container-id-2 div.sk-label-container {text-align: center;}#sk-container-id-2 div.sk-container {/* jupyter's `normalize.less` sets `[hidden] { display: none; }` but bootstrap.min.css set `[hidden] { display: none !important; }` so we also need the `!important` here to be able to override the default hidden behavior on the sphinx rendered scikit-learn.org. See: https://github.com/scikit-learn/scikit-learn/issues/21755 */display: inline-block !important;position: relative;}#sk-container-id-2 div.sk-text-repr-fallback {display: none;}</style><div id=\"sk-container-id-2\" class=\"sk-top-container\"><div class=\"sk-text-repr-fallback\"><pre>RandomForestClassifier(max_features=&#x27;auto&#x27;, min_impurity_decrease=1e-07,\n                       n_estimators=10, n_jobs=2, random_state=0)</pre><b>In a Jupyter environment, please rerun this cell to show the HTML representation or trust the notebook. <br />On GitHub, the HTML representation is unable to render, please try loading this page with nbviewer.org.</b></div><div class=\"sk-container\" hidden><div class=\"sk-item\"><div class=\"sk-estimator sk-toggleable\"><input class=\"sk-toggleable__control sk-hidden--visually\" id=\"sk-estimator-id-2\" type=\"checkbox\" checked><label for=\"sk-estimator-id-2\" class=\"sk-toggleable__label sk-toggleable__label-arrow\">RandomForestClassifier</label><div class=\"sk-toggleable__content\"><pre>RandomForestClassifier(max_features=&#x27;auto&#x27;, min_impurity_decrease=1e-07,\n                       n_estimators=10, n_jobs=2, random_state=0)</pre></div></div></div></div></div>"
          },
          "metadata": {}
        }
      ],
      "outputs_reference": null,
      "execution_count": 29,
      "block_group": "e2972faa2b024ab8a7552d0def04744f",
      "content_dependencies": null
    },
    {
      "cell_type": "code",
      "source": "# Apply the Classifier we trained to the test data (which, remember, it has never seen before)\npreds = clf.predict(X_test)",
      "metadata": {
        "source_hash": "b2dba684",
        "execution_start": 1728675347717,
        "execution_millis": 0,
        "execution_context_id": "856053a4-20c8-4f1e-96aa-6c169ff10b11",
        "cell_id": "ff370420a8174f5eb869b119a7f5aef7",
        "deepnote_cell_type": "code"
      },
      "outputs": [],
      "outputs_reference": null,
      "execution_count": 32,
      "block_group": "251cb7772a734e53b2c985eccd03a302",
      "content_dependencies": null
    },
    {
      "cell_type": "markdown",
      "source": "# Confusion Matrix",
      "metadata": {
        "formattedRanges": [],
        "cell_id": "eae1c53789224a439bc61ca88bd3ee9e",
        "deepnote_cell_type": "text-cell-h1"
      },
      "block_group": "2a41333dabb34bc881375cf0dd4f96d2"
    },
    {
      "cell_type": "code",
      "source": "# Create confusion matrix\npd.crosstab(\n    y_test, \n    preds, \n    rownames = ['Actual Species'], \n    colnames = ['Predicted Species']\n    )",
      "metadata": {
        "source_hash": "28e418a4",
        "execution_start": 1728675350244,
        "execution_millis": 18,
        "execution_context_id": "856053a4-20c8-4f1e-96aa-6c169ff10b11",
        "cell_id": "1f4adf85f1f7468eab350d43ad1954b2",
        "deepnote_cell_type": "code"
      },
      "outputs": [
        {
          "output_type": "execute_result",
          "execution_count": 33,
          "data": {
            "application/vnd.deepnote.dataframe.v3+json": {
              "column_count": 3,
              "row_count": 3,
              "columns": [
                {
                  "name": "0",
                  "dtype": "int64",
                  "stats": {
                    "unique_count": 2,
                    "nan_count": 0,
                    "min": "0",
                    "max": "35",
                    "histogram": [
                      {
                        "bin_start": 0,
                        "bin_end": 3.5,
                        "count": 2
                      },
                      {
                        "bin_start": 3.5,
                        "bin_end": 7,
                        "count": 0
                      },
                      {
                        "bin_start": 7,
                        "bin_end": 10.5,
                        "count": 0
                      },
                      {
                        "bin_start": 10.5,
                        "bin_end": 14,
                        "count": 0
                      },
                      {
                        "bin_start": 14,
                        "bin_end": 17.5,
                        "count": 0
                      },
                      {
                        "bin_start": 17.5,
                        "bin_end": 21,
                        "count": 0
                      },
                      {
                        "bin_start": 21,
                        "bin_end": 24.5,
                        "count": 0
                      },
                      {
                        "bin_start": 24.5,
                        "bin_end": 28,
                        "count": 0
                      },
                      {
                        "bin_start": 28,
                        "bin_end": 31.5,
                        "count": 0
                      },
                      {
                        "bin_start": 31.5,
                        "bin_end": 35,
                        "count": 1
                      }
                    ]
                  }
                },
                {
                  "name": "1",
                  "dtype": "int64",
                  "stats": {
                    "unique_count": 3,
                    "nan_count": 0,
                    "min": "0",
                    "max": "30",
                    "histogram": [
                      {
                        "bin_start": 0,
                        "bin_end": 3,
                        "count": 1
                      },
                      {
                        "bin_start": 3,
                        "bin_end": 6,
                        "count": 1
                      },
                      {
                        "bin_start": 6,
                        "bin_end": 9,
                        "count": 0
                      },
                      {
                        "bin_start": 9,
                        "bin_end": 12,
                        "count": 0
                      },
                      {
                        "bin_start": 12,
                        "bin_end": 15,
                        "count": 0
                      },
                      {
                        "bin_start": 15,
                        "bin_end": 18,
                        "count": 0
                      },
                      {
                        "bin_start": 18,
                        "bin_end": 21,
                        "count": 0
                      },
                      {
                        "bin_start": 21,
                        "bin_end": 24,
                        "count": 0
                      },
                      {
                        "bin_start": 24,
                        "bin_end": 27,
                        "count": 0
                      },
                      {
                        "bin_start": 27,
                        "bin_end": 30,
                        "count": 1
                      }
                    ]
                  }
                },
                {
                  "name": "2",
                  "dtype": "int64",
                  "stats": {
                    "unique_count": 3,
                    "nan_count": 0,
                    "min": "0",
                    "max": "30",
                    "histogram": [
                      {
                        "bin_start": 0,
                        "bin_end": 3,
                        "count": 2
                      },
                      {
                        "bin_start": 3,
                        "bin_end": 6,
                        "count": 0
                      },
                      {
                        "bin_start": 6,
                        "bin_end": 9,
                        "count": 0
                      },
                      {
                        "bin_start": 9,
                        "bin_end": 12,
                        "count": 0
                      },
                      {
                        "bin_start": 12,
                        "bin_end": 15,
                        "count": 0
                      },
                      {
                        "bin_start": 15,
                        "bin_end": 18,
                        "count": 0
                      },
                      {
                        "bin_start": 18,
                        "bin_end": 21,
                        "count": 0
                      },
                      {
                        "bin_start": 21,
                        "bin_end": 24,
                        "count": 0
                      },
                      {
                        "bin_start": 24,
                        "bin_end": 27,
                        "count": 0
                      },
                      {
                        "bin_start": 27,
                        "bin_end": 30,
                        "count": 1
                      }
                    ]
                  }
                },
                {
                  "name": "_deepnote_index_column",
                  "dtype": "int64"
                }
              ],
              "rows": [
                {
                  "0": 35,
                  "1": 0,
                  "2": 0,
                  "_deepnote_index_column": 0
                },
                {
                  "0": 0,
                  "1": 30,
                  "2": 1,
                  "_deepnote_index_column": 1
                },
                {
                  "0": 0,
                  "1": 5,
                  "2": 30,
                  "_deepnote_index_column": 2
                }
              ]
            },
            "text/plain": "Predicted Species   0   1   2\nActual Species               \n0                  35   0   0\n1                   0  30   1\n2                   0   5  30",
            "text/html": "<div>\n<style scoped>\n    .dataframe tbody tr th:only-of-type {\n        vertical-align: middle;\n    }\n\n    .dataframe tbody tr th {\n        vertical-align: top;\n    }\n\n    .dataframe thead th {\n        text-align: right;\n    }\n</style>\n<table border=\"1\" class=\"dataframe\">\n  <thead>\n    <tr style=\"text-align: right;\">\n      <th>Predicted Species</th>\n      <th>0</th>\n      <th>1</th>\n      <th>2</th>\n    </tr>\n    <tr>\n      <th>Actual Species</th>\n      <th></th>\n      <th></th>\n      <th></th>\n    </tr>\n  </thead>\n  <tbody>\n    <tr>\n      <th>0</th>\n      <td>35</td>\n      <td>0</td>\n      <td>0</td>\n    </tr>\n    <tr>\n      <th>1</th>\n      <td>0</td>\n      <td>30</td>\n      <td>1</td>\n    </tr>\n    <tr>\n      <th>2</th>\n      <td>0</td>\n      <td>5</td>\n      <td>30</td>\n    </tr>\n  </tbody>\n</table>\n</div>"
          },
          "metadata": {}
        }
      ],
      "outputs_reference": null,
      "execution_count": 33,
      "block_group": "023cf0dd7b664f43af4310f274dbd924",
      "content_dependencies": null
    },
    {
      "cell_type": "markdown",
      "source": "# Features and Importance Scores",
      "metadata": {
        "formattedRanges": [],
        "cell_id": "721755b6a1174c5ca1ad38014e128b01",
        "deepnote_cell_type": "text-cell-h1"
      },
      "block_group": "0d4428831a4542e0a2293928361c9e4b"
    },
    {
      "cell_type": "code",
      "source": "# View a list of the features and their importance scores\nlist(zip(\n    X_train, \n    clf.feature_importances_\n    ))",
      "metadata": {
        "source_hash": "c8feed3b",
        "execution_start": 1728675375485,
        "execution_millis": 0,
        "execution_context_id": "856053a4-20c8-4f1e-96aa-6c169ff10b11",
        "cell_id": "e17a36b286eb47b5ab34417028e73bc3",
        "deepnote_cell_type": "code"
      },
      "outputs": [
        {
          "output_type": "execute_result",
          "execution_count": 34,
          "data": {
            "text/plain": "[('sepal length (cm)', 0.08012751417376454),\n ('sepal width (cm)', 0.027200526890271814),\n ('petal length (cm)', 0.4008852856374727),\n ('petal width (cm)', 0.49178667329849096)]"
          },
          "metadata": {}
        }
      ],
      "outputs_reference": null,
      "execution_count": 34,
      "block_group": "bf021aae638047ed91366f5ecdd8f3ff",
      "content_dependencies": null
    },
    {
      "cell_type": "markdown",
      "source": "<a style='text-decoration:none;line-height:16px;display:flex;color:#5B5B62;padding:10px;justify-content:end;' href='https://deepnote.com?utm_source=created-in-deepnote-cell&projectId=51eeb538-78d0-4759-ab21-b1b8c45886c3' target=\"_blank\">\n<img alt='Created in deepnote.com' style='display:inline;max-height:16px;margin:0px;margin-right:7.5px;' src='data:image/svg+xml;base64,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' > </img>\nCreated in <span style='font-weight:600;margin-left:4px;'>Deepnote</span></a>",
      "metadata": {
        "created_in_deepnote_cell": true,
        "deepnote_cell_type": "markdown"
      }
    }
  ],
  "nbformat": 4,
  "nbformat_minor": 0,
  "metadata": {
    "deepnote_persisted_session": {
      "createdAt": "2024-10-11T19:38:07.868Z"
    },
    "deepnote_notebook_id": "60afb747dfb64303b7d4aabb63ec7670",
    "deepnote_execution_queue": []
  }
}