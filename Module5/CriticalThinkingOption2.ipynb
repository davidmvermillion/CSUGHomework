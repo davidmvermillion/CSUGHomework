{
  "cells": [
    {
      "cell_type": "markdown",
      "source": "# Building a Random Forest Classifier",
      "metadata": {
        "formattedRanges": [],
        "cell_id": "93ef576467e34c07b049558627b7f2c0",
        "deepnote_cell_type": "text-cell-h1"
      },
      "block_group": "5757c05385fa4f9292ecfef2a05362a9"
    },
    {
      "cell_type": "markdown",
      "source": "# Load Data and Initialize Environment",
      "metadata": {
        "formattedRanges": [],
        "cell_id": "f8afbf15e3f149d0b1d3ffe412f3c2aa",
        "deepnote_cell_type": "text-cell-h1"
      },
      "block_group": "1dcde8623b6746cdabdc53ef75fabc16"
    },
    {
      "cell_type": "code",
      "source": "# Load the library with the iris dataset\nfrom sklearn.datasets import load_iris\n \n# Load scikit's random forest classifier library\nfrom sklearn.ensemble import RandomForestClassifier\n\n# Load Train Test Split\nfrom sklearn.model_selection import train_test_split\n \n# Load pandas\nimport pandas as pd\n \n# Load numpy\nimport numpy as np\n \n# Set random seed\nnp.random.seed(0)\n\n# Create an object called iris with the iris data\niris = load_iris()\n \n# Create a dataframe with the four feature variables\ndf = pd.DataFrame(iris.data, columns = iris.feature_names)\n\n# Add a new column with the species names; this is what we are going to try to predict\ndf['species'] = pd.Categorical.from_codes(iris.target, iris.target_names)\n \n# View the top 5 rows\ndf.head()",
      "metadata": {
        "source_hash": "229935b9",
        "execution_start": 1728673415761,
        "execution_millis": 1,
        "execution_context_id": "856053a4-20c8-4f1e-96aa-6c169ff10b11",
        "cell_id": "e6f0762b50b9414f8c97ccffc65db8a3",
        "deepnote_cell_type": "code"
      },
      "outputs": [
        {
          "output_type": "execute_result",
          "execution_count": 9,
          "data": {
            "application/vnd.deepnote.dataframe.v3+json": {
              "column_count": 5,
              "row_count": 5,
              "columns": [
                {
                  "name": "sepal length (cm)",
                  "dtype": "float64",
                  "stats": {
                    "unique_count": 5,
                    "nan_count": 0,
                    "min": "4.6",
                    "max": "5.1",
                    "histogram": [
                      {
                        "bin_start": 4.6,
                        "bin_end": 4.6499999999999995,
                        "count": 1
                      },
                      {
                        "bin_start": 4.6499999999999995,
                        "bin_end": 4.699999999999999,
                        "count": 0
                      },
                      {
                        "bin_start": 4.699999999999999,
                        "bin_end": 4.75,
                        "count": 1
                      },
                      {
                        "bin_start": 4.75,
                        "bin_end": 4.8,
                        "count": 0
                      },
                      {
                        "bin_start": 4.8,
                        "bin_end": 4.85,
                        "count": 0
                      },
                      {
                        "bin_start": 4.85,
                        "bin_end": 4.8999999999999995,
                        "count": 0
                      },
                      {
                        "bin_start": 4.8999999999999995,
                        "bin_end": 4.949999999999999,
                        "count": 1
                      },
                      {
                        "bin_start": 4.949999999999999,
                        "bin_end": 5,
                        "count": 0
                      },
                      {
                        "bin_start": 5,
                        "bin_end": 5.05,
                        "count": 1
                      },
                      {
                        "bin_start": 5.05,
                        "bin_end": 5.1,
                        "count": 1
                      }
                    ]
                  }
                },
                {
                  "name": "sepal width (cm)",
                  "dtype": "float64",
                  "stats": {
                    "unique_count": 5,
                    "nan_count": 0,
                    "min": "3.0",
                    "max": "3.6",
                    "histogram": [
                      {
                        "bin_start": 3,
                        "bin_end": 3.06,
                        "count": 1
                      },
                      {
                        "bin_start": 3.06,
                        "bin_end": 3.12,
                        "count": 1
                      },
                      {
                        "bin_start": 3.12,
                        "bin_end": 3.18,
                        "count": 0
                      },
                      {
                        "bin_start": 3.18,
                        "bin_end": 3.24,
                        "count": 1
                      },
                      {
                        "bin_start": 3.24,
                        "bin_end": 3.3,
                        "count": 0
                      },
                      {
                        "bin_start": 3.3,
                        "bin_end": 3.3600000000000003,
                        "count": 0
                      },
                      {
                        "bin_start": 3.3600000000000003,
                        "bin_end": 3.42,
                        "count": 0
                      },
                      {
                        "bin_start": 3.42,
                        "bin_end": 3.48,
                        "count": 0
                      },
                      {
                        "bin_start": 3.48,
                        "bin_end": 3.54,
                        "count": 1
                      },
                      {
                        "bin_start": 3.54,
                        "bin_end": 3.6,
                        "count": 1
                      }
                    ]
                  }
                },
                {
                  "name": "petal length (cm)",
                  "dtype": "float64",
                  "stats": {
                    "unique_count": 3,
                    "nan_count": 0,
                    "min": "1.3",
                    "max": "1.5",
                    "histogram": [
                      {
                        "bin_start": 1.3,
                        "bin_end": 1.32,
                        "count": 1
                      },
                      {
                        "bin_start": 1.32,
                        "bin_end": 1.34,
                        "count": 0
                      },
                      {
                        "bin_start": 1.34,
                        "bin_end": 1.36,
                        "count": 0
                      },
                      {
                        "bin_start": 1.36,
                        "bin_end": 1.3800000000000001,
                        "count": 0
                      },
                      {
                        "bin_start": 1.3800000000000001,
                        "bin_end": 1.4,
                        "count": 0
                      },
                      {
                        "bin_start": 1.4,
                        "bin_end": 1.42,
                        "count": 3
                      },
                      {
                        "bin_start": 1.42,
                        "bin_end": 1.44,
                        "count": 0
                      },
                      {
                        "bin_start": 1.44,
                        "bin_end": 1.46,
                        "count": 0
                      },
                      {
                        "bin_start": 1.46,
                        "bin_end": 1.48,
                        "count": 0
                      },
                      {
                        "bin_start": 1.48,
                        "bin_end": 1.5,
                        "count": 1
                      }
                    ]
                  }
                },
                {
                  "name": "petal width (cm)",
                  "dtype": "float64",
                  "stats": {
                    "unique_count": 1,
                    "nan_count": 0,
                    "min": "0.2",
                    "max": "0.2",
                    "histogram": [
                      {
                        "bin_start": -0.3,
                        "bin_end": -0.19999999999999998,
                        "count": 0
                      },
                      {
                        "bin_start": -0.19999999999999998,
                        "bin_end": -0.09999999999999998,
                        "count": 0
                      },
                      {
                        "bin_start": -0.09999999999999998,
                        "bin_end": 5.551115123125783e-17,
                        "count": 0
                      },
                      {
                        "bin_start": 5.551115123125783e-17,
                        "bin_end": 0.10000000000000003,
                        "count": 0
                      },
                      {
                        "bin_start": 0.10000000000000003,
                        "bin_end": 0.2,
                        "count": 0
                      },
                      {
                        "bin_start": 0.2,
                        "bin_end": 0.3000000000000001,
                        "count": 5
                      },
                      {
                        "bin_start": 0.3000000000000001,
                        "bin_end": 0.4000000000000001,
                        "count": 0
                      },
                      {
                        "bin_start": 0.4000000000000001,
                        "bin_end": 0.5,
                        "count": 0
                      },
                      {
                        "bin_start": 0.5,
                        "bin_end": 0.6000000000000001,
                        "count": 0
                      },
                      {
                        "bin_start": 0.6000000000000001,
                        "bin_end": 0.7,
                        "count": 0
                      }
                    ]
                  }
                },
                {
                  "name": "species",
                  "dtype": "category",
                  "stats": {
                    "unique_count": 1,
                    "nan_count": 0,
                    "categories": [
                      {
                        "name": "setosa",
                        "count": 5
                      }
                    ]
                  }
                },
                {
                  "name": "_deepnote_index_column",
                  "dtype": "int64"
                }
              ],
              "rows": [
                {
                  "sepal length (cm)": 5.1,
                  "sepal width (cm)": 3.5,
                  "petal length (cm)": 1.4,
                  "petal width (cm)": 0.2,
                  "species": "setosa",
                  "_deepnote_index_column": 0
                },
                {
                  "sepal length (cm)": 4.9,
                  "sepal width (cm)": 3,
                  "petal length (cm)": 1.4,
                  "petal width (cm)": 0.2,
                  "species": "setosa",
                  "_deepnote_index_column": 1
                },
                {
                  "sepal length (cm)": 4.7,
                  "sepal width (cm)": 3.2,
                  "petal length (cm)": 1.3,
                  "petal width (cm)": 0.2,
                  "species": "setosa",
                  "_deepnote_index_column": 2
                },
                {
                  "sepal length (cm)": 4.6,
                  "sepal width (cm)": 3.1,
                  "petal length (cm)": 1.5,
                  "petal width (cm)": 0.2,
                  "species": "setosa",
                  "_deepnote_index_column": 3
                },
                {
                  "sepal length (cm)": 5,
                  "sepal width (cm)": 3.6,
                  "petal length (cm)": 1.4,
                  "petal width (cm)": 0.2,
                  "species": "setosa",
                  "_deepnote_index_column": 4
                }
              ]
            },
            "text/plain": "   sepal length (cm)  sepal width (cm)  petal length (cm)  petal width (cm)  \\\n0                5.1               3.5                1.4               0.2   \n1                4.9               3.0                1.4               0.2   \n2                4.7               3.2                1.3               0.2   \n3                4.6               3.1                1.5               0.2   \n4                5.0               3.6                1.4               0.2   \n\n  species  \n0  setosa  \n1  setosa  \n2  setosa  \n3  setosa  \n4  setosa  ",
            "text/html": "<div>\n<style scoped>\n    .dataframe tbody tr th:only-of-type {\n        vertical-align: middle;\n    }\n\n    .dataframe tbody tr th {\n        vertical-align: top;\n    }\n\n    .dataframe thead th {\n        text-align: right;\n    }\n</style>\n<table border=\"1\" class=\"dataframe\">\n  <thead>\n    <tr style=\"text-align: right;\">\n      <th></th>\n      <th>sepal length (cm)</th>\n      <th>sepal width (cm)</th>\n      <th>petal length (cm)</th>\n      <th>petal width (cm)</th>\n      <th>species</th>\n    </tr>\n  </thead>\n  <tbody>\n    <tr>\n      <th>0</th>\n      <td>5.1</td>\n      <td>3.5</td>\n      <td>1.4</td>\n      <td>0.2</td>\n      <td>setosa</td>\n    </tr>\n    <tr>\n      <th>1</th>\n      <td>4.9</td>\n      <td>3.0</td>\n      <td>1.4</td>\n      <td>0.2</td>\n      <td>setosa</td>\n    </tr>\n    <tr>\n      <th>2</th>\n      <td>4.7</td>\n      <td>3.2</td>\n      <td>1.3</td>\n      <td>0.2</td>\n      <td>setosa</td>\n    </tr>\n    <tr>\n      <th>3</th>\n      <td>4.6</td>\n      <td>3.1</td>\n      <td>1.5</td>\n      <td>0.2</td>\n      <td>setosa</td>\n    </tr>\n    <tr>\n      <th>4</th>\n      <td>5.0</td>\n      <td>3.6</td>\n      <td>1.4</td>\n      <td>0.2</td>\n      <td>setosa</td>\n    </tr>\n  </tbody>\n</table>\n</div>"
          },
          "metadata": {}
        }
      ],
      "outputs_reference": null,
      "execution_count": 9,
      "block_group": "e6f0762b50b9414f8c97ccffc65db8a3",
      "content_dependencies": null
    },
    {
      "cell_type": "code",
      "source": "np.shape(df)",
      "metadata": {
        "source_hash": "3aebd757",
        "execution_start": 1728673472801,
        "execution_millis": 0,
        "execution_context_id": "856053a4-20c8-4f1e-96aa-6c169ff10b11",
        "cell_id": "2416ad7a511d49c68d78a8c91accb5c5",
        "deepnote_cell_type": "code"
      },
      "outputs": [
        {
          "output_type": "execute_result",
          "execution_count": 13,
          "data": {
            "text/plain": "(150, 5)"
          },
          "metadata": {}
        }
      ],
      "outputs_reference": null,
      "execution_count": 13,
      "block_group": "ed1fc03986a94945bafe92fba9272162",
      "content_dependencies": null
    },
    {
      "cell_type": "markdown",
      "source": "# Pre-Process Data",
      "metadata": {
        "formattedRanges": [],
        "cell_id": "6b7ef0e657e1443e8ed332879a77e57d",
        "deepnote_cell_type": "text-cell-h1"
      },
      "block_group": "4d6c862ceb3a4af29b57161c08432bee"
    },
    {
      "cell_type": "code",
      "source": "# Create a list of the feature column's names\nfeatures = df.columns[:4]\n \n# View features\nfeatures\n# train['species'] contains the actual species names. Before we can use it,\n# we need to convert each species name into a digit. So, in this case, there\n# are three species, which have been coded as 0, 1, or 2.\ny = pd.factorize(train['species'])[0]",
      "metadata": {
        "cell_id": "d0b24fd855744bf2b3c893c1a480b8a1",
        "deepnote_cell_type": "code"
      },
      "outputs": [],
      "outputs_reference": null,
      "execution_count": null,
      "block_group": "9cbf81d9768a45e08cee1ea53b7aa2c3",
      "content_dependencies": null
    },
    {
      "cell_type": "code",
      "source": "# View target\ny",
      "metadata": {
        "cell_id": "9d93222dd91f42588baf768cacc57f2b",
        "deepnote_cell_type": "code"
      },
      "outputs": [],
      "outputs_reference": null,
      "execution_count": null,
      "block_group": "8c274858cf1c48e9aea0b9071617deb6",
      "content_dependencies": null
    },
    {
      "cell_type": "markdown",
      "source": "# Create Training and Test Data",
      "metadata": {
        "formattedRanges": [],
        "cell_id": "2e37d6ba5e1d47098107bc39ab144787",
        "deepnote_cell_type": "text-cell-h1"
      },
      "block_group": "1375a275b38d4900b964673a5b885ad5"
    },
    {
      "cell_type": "markdown",
      "source": "The original split was unnecessarily manual, yet with randomness. Using an inbuilt method instead.",
      "metadata": {
        "formattedRanges": [],
        "cell_id": "6bae757ea702484fafe28dc6997c0144",
        "deepnote_cell_type": "text-cell-p"
      },
      "block_group": "71aebedf812245a69a8201fd446743bd"
    },
    {
      "cell_type": "code",
      "source": "splitsize = np.random.uniform(0, 1, len(df))\ntrain, test = train_test_split(df, train_size = splitsize, random_state = 580)\n\n# Show the number of observations for the test and training dataframes\nprint('Number of observations in the training data:', len(train))\nprint('Number of observations in the test data:', len(test))",
      "metadata": {
        "source_hash": "cd1e62e2",
        "execution_start": 1728673430485,
        "execution_millis": 181,
        "execution_context_id": "856053a4-20c8-4f1e-96aa-6c169ff10b11",
        "cell_id": "bfdf92f8a9e4430faf47313200e22873",
        "deepnote_cell_type": "code"
      },
      "outputs": [
        {
          "output_type": "error",
          "ename": "ValueError",
          "evalue": "The truth value of an array with more than one element is ambiguous. Use a.any() or a.all()",
          "traceback": [
            "\u001b[0;31m---------------------------------------------------------------------------\u001b[0m",
            "\u001b[0;31mValueError\u001b[0m                                Traceback (most recent call last)",
            "Cell \u001b[0;32mIn [10], line 2\u001b[0m\n\u001b[1;32m      1\u001b[0m splitsize \u001b[38;5;241m=\u001b[39m np\u001b[38;5;241m.\u001b[39mrandom\u001b[38;5;241m.\u001b[39muniform(\u001b[38;5;241m0\u001b[39m, \u001b[38;5;241m1\u001b[39m, \u001b[38;5;28mlen\u001b[39m(df))\n\u001b[0;32m----> 2\u001b[0m train, test \u001b[38;5;241m=\u001b[39m \u001b[43mtrain_test_split\u001b[49m\u001b[43m(\u001b[49m\u001b[43mdf\u001b[49m\u001b[43m,\u001b[49m\u001b[43m \u001b[49m\u001b[43mtrain_size\u001b[49m\u001b[43m \u001b[49m\u001b[38;5;241;43m=\u001b[39;49m\u001b[43m \u001b[49m\u001b[43msplitsize\u001b[49m\u001b[43m,\u001b[49m\u001b[43m \u001b[49m\u001b[43mrandom_state\u001b[49m\u001b[43m \u001b[49m\u001b[38;5;241;43m=\u001b[39;49m\u001b[43m \u001b[49m\u001b[38;5;241;43m580\u001b[39;49m\u001b[43m)\u001b[49m\n\u001b[1;32m      4\u001b[0m \u001b[38;5;66;03m# Show the number of observations for the test and training dataframes\u001b[39;00m\n\u001b[1;32m      5\u001b[0m \u001b[38;5;28mprint\u001b[39m(\u001b[38;5;124m'\u001b[39m\u001b[38;5;124mNumber of observations in the training data:\u001b[39m\u001b[38;5;124m'\u001b[39m, \u001b[38;5;28mlen\u001b[39m(train))\n",
            "File \u001b[0;32m/shared-libs/python3.10/py/lib/python3.10/site-packages/sklearn/model_selection/_split.py:2448\u001b[0m, in \u001b[0;36mtrain_test_split\u001b[0;34m(test_size, train_size, random_state, shuffle, stratify, *arrays)\u001b[0m\n\u001b[1;32m   2445\u001b[0m arrays \u001b[38;5;241m=\u001b[39m indexable(\u001b[38;5;241m*\u001b[39marrays)\n\u001b[1;32m   2447\u001b[0m n_samples \u001b[38;5;241m=\u001b[39m _num_samples(arrays[\u001b[38;5;241m0\u001b[39m])\n\u001b[0;32m-> 2448\u001b[0m n_train, n_test \u001b[38;5;241m=\u001b[39m \u001b[43m_validate_shuffle_split\u001b[49m\u001b[43m(\u001b[49m\n\u001b[1;32m   2449\u001b[0m \u001b[43m    \u001b[49m\u001b[43mn_samples\u001b[49m\u001b[43m,\u001b[49m\u001b[43m \u001b[49m\u001b[43mtest_size\u001b[49m\u001b[43m,\u001b[49m\u001b[43m \u001b[49m\u001b[43mtrain_size\u001b[49m\u001b[43m,\u001b[49m\u001b[43m \u001b[49m\u001b[43mdefault_test_size\u001b[49m\u001b[38;5;241;43m=\u001b[39;49m\u001b[38;5;241;43m0.25\u001b[39;49m\n\u001b[1;32m   2450\u001b[0m \u001b[43m\u001b[49m\u001b[43m)\u001b[49m\n\u001b[1;32m   2452\u001b[0m \u001b[38;5;28;01mif\u001b[39;00m shuffle \u001b[38;5;129;01mis\u001b[39;00m \u001b[38;5;28;01mFalse\u001b[39;00m:\n\u001b[1;32m   2453\u001b[0m     \u001b[38;5;28;01mif\u001b[39;00m stratify \u001b[38;5;129;01mis\u001b[39;00m \u001b[38;5;129;01mnot\u001b[39;00m \u001b[38;5;28;01mNone\u001b[39;00m:\n",
            "File \u001b[0;32m/shared-libs/python3.10/py/lib/python3.10/site-packages/sklearn/model_selection/_split.py:2081\u001b[0m, in \u001b[0;36m_validate_shuffle_split\u001b[0;34m(n_samples, test_size, train_size, default_test_size)\u001b[0m\n\u001b[1;32m   2065\u001b[0m \u001b[38;5;28;01mif\u001b[39;00m (\n\u001b[1;32m   2066\u001b[0m     test_size_type \u001b[38;5;241m==\u001b[39m \u001b[38;5;124m\"\u001b[39m\u001b[38;5;124mi\u001b[39m\u001b[38;5;124m\"\u001b[39m\n\u001b[1;32m   2067\u001b[0m     \u001b[38;5;129;01mand\u001b[39;00m (test_size \u001b[38;5;241m>\u001b[39m\u001b[38;5;241m=\u001b[39m n_samples \u001b[38;5;129;01mor\u001b[39;00m test_size \u001b[38;5;241m<\u001b[39m\u001b[38;5;241m=\u001b[39m \u001b[38;5;241m0\u001b[39m)\n\u001b[1;32m   2068\u001b[0m     \u001b[38;5;129;01mor\u001b[39;00m test_size_type \u001b[38;5;241m==\u001b[39m \u001b[38;5;124m\"\u001b[39m\u001b[38;5;124mf\u001b[39m\u001b[38;5;124m\"\u001b[39m\n\u001b[1;32m   2069\u001b[0m     \u001b[38;5;129;01mand\u001b[39;00m (test_size \u001b[38;5;241m<\u001b[39m\u001b[38;5;241m=\u001b[39m \u001b[38;5;241m0\u001b[39m \u001b[38;5;129;01mor\u001b[39;00m test_size \u001b[38;5;241m>\u001b[39m\u001b[38;5;241m=\u001b[39m \u001b[38;5;241m1\u001b[39m)\n\u001b[1;32m   2070\u001b[0m ):\n\u001b[1;32m   2071\u001b[0m     \u001b[38;5;28;01mraise\u001b[39;00m \u001b[38;5;167;01mValueError\u001b[39;00m(\n\u001b[1;32m   2072\u001b[0m         \u001b[38;5;124m\"\u001b[39m\u001b[38;5;124mtest_size=\u001b[39m\u001b[38;5;132;01m{0}\u001b[39;00m\u001b[38;5;124m should be either positive and smaller\u001b[39m\u001b[38;5;124m\"\u001b[39m\n\u001b[1;32m   2073\u001b[0m         \u001b[38;5;124m\"\u001b[39m\u001b[38;5;124m than the number of samples \u001b[39m\u001b[38;5;132;01m{1}\u001b[39;00m\u001b[38;5;124m or a float in the \u001b[39m\u001b[38;5;124m\"\u001b[39m\n\u001b[1;32m   2074\u001b[0m         \u001b[38;5;124m\"\u001b[39m\u001b[38;5;124m(0, 1) range\u001b[39m\u001b[38;5;124m\"\u001b[39m\u001b[38;5;241m.\u001b[39mformat(test_size, n_samples)\n\u001b[1;32m   2075\u001b[0m     )\n\u001b[1;32m   2077\u001b[0m \u001b[38;5;28;01mif\u001b[39;00m (\n\u001b[1;32m   2078\u001b[0m     train_size_type \u001b[38;5;241m==\u001b[39m \u001b[38;5;124m\"\u001b[39m\u001b[38;5;124mi\u001b[39m\u001b[38;5;124m\"\u001b[39m\n\u001b[1;32m   2079\u001b[0m     \u001b[38;5;129;01mand\u001b[39;00m (train_size \u001b[38;5;241m>\u001b[39m\u001b[38;5;241m=\u001b[39m n_samples \u001b[38;5;129;01mor\u001b[39;00m train_size \u001b[38;5;241m<\u001b[39m\u001b[38;5;241m=\u001b[39m \u001b[38;5;241m0\u001b[39m)\n\u001b[1;32m   2080\u001b[0m     \u001b[38;5;129;01mor\u001b[39;00m train_size_type \u001b[38;5;241m==\u001b[39m \u001b[38;5;124m\"\u001b[39m\u001b[38;5;124mf\u001b[39m\u001b[38;5;124m\"\u001b[39m\n\u001b[0;32m-> 2081\u001b[0m     \u001b[38;5;129;01mand\u001b[39;00m (train_size \u001b[38;5;241m<\u001b[39m\u001b[38;5;241m=\u001b[39m \u001b[38;5;241m0\u001b[39m \u001b[38;5;129;01mor\u001b[39;00m train_size \u001b[38;5;241m>\u001b[39m\u001b[38;5;241m=\u001b[39m \u001b[38;5;241m1\u001b[39m)\n\u001b[1;32m   2082\u001b[0m ):\n\u001b[1;32m   2083\u001b[0m     \u001b[38;5;28;01mraise\u001b[39;00m \u001b[38;5;167;01mValueError\u001b[39;00m(\n\u001b[1;32m   2084\u001b[0m         \u001b[38;5;124m\"\u001b[39m\u001b[38;5;124mtrain_size=\u001b[39m\u001b[38;5;132;01m{0}\u001b[39;00m\u001b[38;5;124m should be either positive and smaller\u001b[39m\u001b[38;5;124m\"\u001b[39m\n\u001b[1;32m   2085\u001b[0m         \u001b[38;5;124m\"\u001b[39m\u001b[38;5;124m than the number of samples \u001b[39m\u001b[38;5;132;01m{1}\u001b[39;00m\u001b[38;5;124m or a float in the \u001b[39m\u001b[38;5;124m\"\u001b[39m\n\u001b[1;32m   2086\u001b[0m         \u001b[38;5;124m\"\u001b[39m\u001b[38;5;124m(0, 1) range\u001b[39m\u001b[38;5;124m\"\u001b[39m\u001b[38;5;241m.\u001b[39mformat(train_size, n_samples)\n\u001b[1;32m   2087\u001b[0m     )\n\u001b[1;32m   2089\u001b[0m \u001b[38;5;28;01mif\u001b[39;00m train_size \u001b[38;5;129;01mis\u001b[39;00m \u001b[38;5;129;01mnot\u001b[39;00m \u001b[38;5;28;01mNone\u001b[39;00m \u001b[38;5;129;01mand\u001b[39;00m train_size_type \u001b[38;5;129;01mnot\u001b[39;00m \u001b[38;5;129;01min\u001b[39;00m (\u001b[38;5;124m\"\u001b[39m\u001b[38;5;124mi\u001b[39m\u001b[38;5;124m\"\u001b[39m, \u001b[38;5;124m\"\u001b[39m\u001b[38;5;124mf\u001b[39m\u001b[38;5;124m\"\u001b[39m):\n",
            "\u001b[0;31mValueError\u001b[0m: The truth value of an array with more than one element is ambiguous. Use a.any() or a.all()"
          ]
        }
      ],
      "outputs_reference": null,
      "execution_count": 10,
      "block_group": "48ad27e9a87a41c79e19346c2d52175f",
      "content_dependencies": null
    },
    {
      "cell_type": "markdown",
      "source": "# Train Random Forest Classifier",
      "metadata": {
        "formattedRanges": [],
        "cell_id": "2aac364834e34493adcc5fb3320be1e0",
        "deepnote_cell_type": "text-cell-h1"
      },
      "block_group": "d5cfd1c6a9ac496cac97ad3d81260a10"
    },
    {
      "cell_type": "code",
      "source": "# Create a random forest Classifier. By convention, clf means 'Classifier'\nclf = RandomForestClassifier(n_jobs = 2, random_state = 0)\n \n# Train the Classifier to take the training features and learn how they relate\n# to the training y (the species)\nclf.fit(train[features], y)\nRandomForestClassifier(\n    bootstrap = True, \n    class_weight = None, \n    criterion = 'gini',\n    max_depth = None, \n    max_features = 'auto', \n    max_leaf_nodes = None,\n    min_impurity_split = 1e-07,\n    min_samples_leaf = 1,\n    min_samples_split = 2,\n    min_weight_fraction_leaf = 0.0,\n    n_estimators = 10, \n    n_jobs = 2, \n    oob_score = False, \n    random_state = 0,\n    verbose = 0, \n    warm_start = False\n    )",
      "metadata": {
        "cell_id": "c23192c5a6d64354bfda6e5d1cdde23e",
        "deepnote_cell_type": "code"
      },
      "outputs": [],
      "outputs_reference": null,
      "execution_count": null,
      "block_group": "e2972faa2b024ab8a7552d0def04744f",
      "content_dependencies": null
    },
    {
      "cell_type": "code",
      "source": "# Apply the Classifier we trained to the test data (which, remember, it has never seen before)\nclf.predict(test[features])",
      "metadata": {
        "cell_id": "ff370420a8174f5eb869b119a7f5aef7",
        "deepnote_cell_type": "code"
      },
      "outputs": [],
      "outputs_reference": null,
      "execution_count": null,
      "block_group": "251cb7772a734e53b2c985eccd03a302",
      "content_dependencies": null
    },
    {
      "cell_type": "markdown",
      "source": "# Confusion Matrix",
      "metadata": {
        "formattedRanges": [],
        "cell_id": "eae1c53789224a439bc61ca88bd3ee9e",
        "deepnote_cell_type": "text-cell-h1"
      },
      "block_group": "2a41333dabb34bc881375cf0dd4f96d2"
    },
    {
      "cell_type": "code",
      "source": "# Create confusion matrix\npd.crosstab(\n    test['species'], \n    preds, \n    rownames = ['Actual Species'], \n    colnames = ['Predicted Species']\n    )",
      "metadata": {
        "cell_id": "1f4adf85f1f7468eab350d43ad1954b2",
        "deepnote_cell_type": "code"
      },
      "outputs": [],
      "outputs_reference": null,
      "execution_count": null,
      "block_group": "023cf0dd7b664f43af4310f274dbd924",
      "content_dependencies": null
    },
    {
      "cell_type": "markdown",
      "source": "# Features and Importance Scores",
      "metadata": {
        "formattedRanges": [],
        "cell_id": "721755b6a1174c5ca1ad38014e128b01",
        "deepnote_cell_type": "text-cell-h1"
      },
      "block_group": "0d4428831a4542e0a2293928361c9e4b"
    },
    {
      "cell_type": "code",
      "source": "# View a list of the features and their importance scores\nlist(zip(\n    train[features], \n    clf.feature_importances_\n    ))",
      "metadata": {
        "cell_id": "e17a36b286eb47b5ab34417028e73bc3",
        "deepnote_cell_type": "code"
      },
      "outputs": [],
      "outputs_reference": null,
      "execution_count": null,
      "block_group": "bf021aae638047ed91366f5ecdd8f3ff",
      "content_dependencies": null
    },
    {
      "cell_type": "markdown",
      "source": "<a style='text-decoration:none;line-height:16px;display:flex;color:#5B5B62;padding:10px;justify-content:end;' href='https://deepnote.com?utm_source=created-in-deepnote-cell&projectId=51eeb538-78d0-4759-ab21-b1b8c45886c3' target=\"_blank\">\n<img alt='Created in deepnote.com' style='display:inline;max-height:16px;margin:0px;margin-right:7.5px;' src='data:image/svg+xml;base64,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' > </img>\nCreated in <span style='font-weight:600;margin-left:4px;'>Deepnote</span></a>",
      "metadata": {
        "created_in_deepnote_cell": true,
        "deepnote_cell_type": "markdown"
      }
    }
  ],
  "nbformat": 4,
  "nbformat_minor": 0,
  "metadata": {
    "deepnote_notebook_id": "60afb747dfb64303b7d4aabb63ec7670",
    "deepnote_execution_queue": []
  }
}