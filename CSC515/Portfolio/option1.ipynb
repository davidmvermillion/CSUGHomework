{
 "cells": [
  {
   "cell_type": "markdown",
   "metadata": {},
   "source": [
    "# Setup\n"
   ]
  },
  {
   "cell_type": "code",
   "execution_count": 11,
   "metadata": {},
   "outputs": [],
   "source": [
    "# Import packages\n",
    "import cv2\n",
    "import matplotlib.pyplot as plt\n",
    "import numpy as np\n",
    "import easyocr as eor\n",
    "import pandas as pd"
   ]
  },
  {
   "cell_type": "code",
   "execution_count": 2,
   "metadata": {},
   "outputs": [],
   "source": [
    "# Read images\n",
    "image1 = cv2.imread('Images/Image6.jpg') # Russian Taxi at Angle and Some Distance\n",
    "image2 = cv2.imread('Images/Image7.jpg') # Two Russian Plates with Telephoto Lens\n",
    "image3 = cv2.imread('Images/Image4.jpg') # Ontario Plate\n",
    "source = list([image1, image2, image3])\n",
    "# https://www.geeksforgeeks.org/how-to-fix-valueerror-setting-an-array-element-with-a-sequence/\n",
    "source = np.array(source, dtype = list)\n",
    "\n",
    "# Define placeholders\n",
    "gray = np.array([0, 1, 2], dtype = list)\n",
    "plates = np.array(list(range(3)), dtype = list)\n",
    "plateszoom = np.array(list(range(3)), dtype = list)\n",
    "\n",
    "# Convert to Grayscale\n",
    "for i in range(len(source)):\n",
    "    gray[i] = cv2.cvtColor(source[i], cv2.COLOR_BGR2GRAY)\n",
    "\n",
    "# # Load Classifier\n",
    "rusPlateReader = cv2.CascadeClassifier(cv2.data.haarcascades + 'haarcascade_license_plate_rus_16stages.xml')\n",
    "rusPlateFinder = cv2.CascadeClassifier(cv2.data.haarcascades + 'haarcascade_russian_plate_number.xml')"
   ]
  },
  {
   "cell_type": "markdown",
   "metadata": {},
   "source": [
    "# Detect Plates"
   ]
  },
  {
   "cell_type": "code",
   "execution_count": 3,
   "metadata": {},
   "outputs": [],
   "source": [
    "# Detect Plates\n",
    "# https://github.com/kennethleungty/Car-Plate-Detection-OpenCV-TesseractOCR/blob/main/Car%20Plate%20Detection%20with%20OpenCV%20and%20TesseractOCR.ipynb\n",
    "def CarplateDetect(image):\n",
    "    # Color rectangle overlay on grayscale image plate detection area\n",
    "    carplate_overlay = cv2.cvtColor(image.copy(), cv2.COLOR_GRAY2BGR)\n",
    "    carplate_rects = rusPlateFinder.detectMultiScale(carplate_overlay,\n",
    "                                                     scaleFactor = 1.1,\n",
    "                                                     minNeighbors = 5) \n",
    "    # carplate_img = 0\n",
    "\n",
    "    for x, y, w, h in carplate_rects:\n",
    "        cv2.rectangle(carplate_overlay,\n",
    "                      (x, y),\n",
    "                      (x + w, y + h),\n",
    "                      (255, 0, 0),\n",
    "                      25) \n",
    "        \n",
    "    # for x, y, w, h in carplate_rects:\n",
    "    #     carplate_img = carplate_overlay[y + 15: y + h - 10,\n",
    "    #                          x + 15: x + w - 20] \n",
    "\n",
    "\n",
    "    return carplate_overlay"
   ]
  },
  {
   "cell_type": "code",
   "execution_count": 4,
   "metadata": {},
   "outputs": [],
   "source": [
    "carplate_overlay = image2.copy()\n",
    "carplate_rects = rusPlateFinder.detectMultiScale(carplate_overlay,\n",
    "                                                    scaleFactor = 1.1,\n",
    "                                                    minNeighbors = 5) \n",
    "\n",
    "for x, y, w, h in carplate_rects:\n",
    "    cv2.rectangle(carplate_overlay,\n",
    "                    (x, y),\n",
    "                    (x + w, y + h),\n",
    "                    (255, 0, 0),\n",
    "                    25)"
   ]
  },
  {
   "cell_type": "markdown",
   "metadata": {},
   "source": [
    "# Zoom on Plates"
   ]
  },
  {
   "cell_type": "markdown",
   "metadata": {},
   "source": [
    "## Works"
   ]
  },
  {
   "cell_type": "code",
   "execution_count": 5,
   "metadata": {},
   "outputs": [],
   "source": [
    "def PlateZoom(image):\n",
    "    carplate_overlay = cv2.cvtColor(image.copy(), cv2.COLOR_GRAY2BGR)\n",
    "    carplate_rects = rusPlateFinder.detectMultiScale(carplate_overlay,\n",
    "                                                     scaleFactor = 1.1,\n",
    "                                                     minNeighbors = 5)\n",
    "    for x, y, w, h in carplate_rects:\n",
    "        carplate_img = carplate_overlay[y + 15: y + h - 10,\n",
    "                             x + 15: x + w - 20]\n",
    "    return carplate_img"
   ]
  },
  {
   "cell_type": "code",
   "execution_count": 6,
   "metadata": {},
   "outputs": [],
   "source": [
    "def carplate_extract(image):\n",
    "    \n",
    "    carplate_rects = rusPlateFinder.detectMultiScale(image,scaleFactor=1.1, minNeighbors=5) \n",
    "\n",
    "    plates_x = min(carplate_rects[:, 0])\n",
    "    plates_y = min(carplate_rects[:, 1])\n",
    "    plates_h = max(carplate_rects[:, 3])\n",
    "    plates_w = max(carplate_rects[:, 2])\n",
    "    carplate_img = image[plates_y : plates_y + plates_h, plates_x : plates_x + plates_w]\n",
    "\n",
    "    return carplate_img"
   ]
  },
  {
   "cell_type": "code",
   "execution_count": 6,
   "metadata": {},
   "outputs": [],
   "source": [
    "def SemiZoom(image, overlay):\n",
    "    image = overlay[image[1]:image[1]+image[3],\n",
    "                    image[0]:image[0]+image[2]]\n",
    "    return image"
   ]
  },
  {
   "cell_type": "markdown",
   "metadata": {},
   "source": [
    "### Extraction"
   ]
  },
  {
   "cell_type": "code",
   "execution_count": 7,
   "metadata": {},
   "outputs": [],
   "source": [
    "# First Image Extracted\n",
    "plates_0 = CarplateDetect(gray[0])\n",
    "plateszoom_0 = PlateZoom(gray[0])\n",
    "\n",
    "# Second Image Extracted\n",
    "# Lots of room to improve code here\n",
    "carplate_rects = rusPlateFinder.detectMultiScale(gray[1],\n",
    "                                                     scaleFactor = 1.1,\n",
    "                                                     minNeighbors = 5)\n",
    "carplate_overlay = cv2.cvtColor(gray[1].copy(), cv2.COLOR_GRAY2BGR)\n",
    "carplate_rects_0 = carplate_rects[0]\n",
    "carplate_rects_1 = carplate_rects[1]\n",
    "plates_1 = CarplateDetect(gray[1])\n",
    "plateszoom_1 = SemiZoom(carplate_rects_0, carplate_overlay)\n",
    "plateszoom_2 = SemiZoom(carplate_rects_1, carplate_overlay)\n",
    "\n",
    "# Third Image\n",
    "# Non-Russian plate not identified and therefore not extracted\n",
    "plates_2 = CarplateDetect(gray[2])"
   ]
  },
  {
   "cell_type": "code",
   "execution_count": 8,
   "metadata": {},
   "outputs": [],
   "source": [
    "def calculate_slope(point1, point2):\n",
    "    # Calculate the slope between two points\n",
    "    delta_y = point2[1] - point1[1]\n",
    "    delta_x = point2[0] - point1[0]\n",
    "    \n",
    "    # Avoid division by zero\n",
    "    if delta_x != 0:\n",
    "        slope = delta_y / delta_x\n",
    "    else:\n",
    "        slope = np.inf\n",
    "    \n",
    "    return slope\n",
    "\n",
    "def calculate_rotation_angle(point1, point2):\n",
    "    # Calculate the angle between the line connecting the two points and the horizontal axis\n",
    "    delta_y = point2[1] - point1[1]\n",
    "    delta_x = point2[0] - point1[0]\n",
    "    \n",
    "    # Calculate the angle using arctan\n",
    "    angle = np.arctan(delta_y, delta_x)\n",
    "    \n",
    "    return angle\n",
    "\n",
    "def rotate_image(image, angle, center):\n",
    "    # Get the rotation matrix\n",
    "    rotation_matrix = cv2.getRotationMatrix2D(center, angle, 1.0)\n",
    "    \n",
    "    # Perform the rotation\n",
    "    rotated_image = cv2.warpAffine(image, rotation_matrix, (image.shape[1], image.shape[0]))\n",
    "    \n",
    "    return rotated_image\n",
    "\n",
    "def RotationProcess(image, point1, point2):\n",
    "    slope = calculate_slope(point1, point2)\n",
    "    angle = np.arctan(slope)\n",
    "    angle = np.degrees(angle)\n",
    "    center = (image.shape[1] // 2, image.shape[0] // 2)\n",
    "    rotated_image = rotate_image(image, angle, center)\n",
    "    return rotated_image"
   ]
  },
  {
   "cell_type": "code",
   "execution_count": 9,
   "metadata": {},
   "outputs": [],
   "source": [
    "rotated_plate_0 = RotationProcess(plateszoom_0, (30, 156), (441, 195))\n",
    "rotated_plate_1 = RotationProcess(plateszoom_1, (10.2, 74.3), (234.7, 71.2))\n",
    "rotated_plate_2 = RotationProcess(plateszoom_2, (10, 75), (234, 72))"
   ]
  },
  {
   "cell_type": "markdown",
   "metadata": {},
   "source": [
    "## Experimenting"
   ]
  },
  {
   "cell_type": "markdown",
   "metadata": {},
   "source": [
    "## Text Reading"
   ]
  },
  {
   "cell_type": "code",
   "execution_count": 10,
   "metadata": {},
   "outputs": [
    {
     "name": "stderr",
     "output_type": "stream",
     "text": [
      "Downloading detection model, please wait. This may take several minutes depending upon your network connection.\n"
     ]
    },
    {
     "name": "stdout",
     "output_type": "stream",
     "text": [
      "Progress: |██████████████████████████████████████████████████| 100.0% Complete"
     ]
    },
    {
     "name": "stderr",
     "output_type": "stream",
     "text": [
      "Downloading recognition model, please wait. This may take several minutes depending upon your network connection.\n"
     ]
    },
    {
     "name": "stdout",
     "output_type": "stream",
     "text": [
      "Progress: |██████████████████████████████████████████████████| 100.1% Complete"
     ]
    }
   ],
   "source": [
    "reader = eor.Reader(['ru'])\n",
    "result = reader.readtext(rotated_plate_0, paragraph = 'False')"
   ]
  },
  {
   "cell_type": "code",
   "execution_count": 12,
   "metadata": {},
   "outputs": [],
   "source": [
    "result_frame = pd.DataFrame(result)"
   ]
  },
  {
   "cell_type": "code",
   "execution_count": 13,
   "metadata": {},
   "outputs": [
    {
     "data": {
      "text/plain": [
       "0    Т43с4/7 (.$\n",
       "Name: 1, dtype: object"
      ]
     },
     "execution_count": 13,
     "metadata": {},
     "output_type": "execute_result"
    }
   ],
   "source": [
    "result_frame[1]"
   ]
  },
  {
   "cell_type": "code",
   "execution_count": 15,
   "metadata": {},
   "outputs": [
    {
     "data": {
      "text/plain": [
       "0    Е521кх/99\n",
       "Name: 1, dtype: object"
      ]
     },
     "execution_count": 15,
     "metadata": {},
     "output_type": "execute_result"
    }
   ],
   "source": [
    "result_1 = reader.readtext(rotated_plate_1, paragraph = 'False')\n",
    "result_frame_1 = pd.DataFrame(result_1)\n",
    "result_frame_1[1]"
   ]
  },
  {
   "cell_type": "code",
   "execution_count": 16,
   "metadata": {},
   "outputs": [
    {
     "data": {
      "text/plain": [
       "0    В 'БдА\n",
       "Name: 1, dtype: object"
      ]
     },
     "execution_count": 16,
     "metadata": {},
     "output_type": "execute_result"
    }
   ],
   "source": [
    "result_2 = reader.readtext(rotated_plate_2, paragraph = 'False')\n",
    "result_frame_2 = pd.DataFrame(result_2)\n",
    "result_frame_2[1]"
   ]
  },
  {
   "cell_type": "code",
   "execution_count": 82,
   "metadata": {},
   "outputs": [],
   "source": [
    "def PlateZoom(image):\n",
    "    carplate_overlay = cv2.cvtColor(image.copy(), cv2.COLOR_GRAY2BGR)\n",
    "    carplate_rects = rusPlateFinder.detectMultiScale(carplate_overlay,\n",
    "                                                     scaleFactor = 1.1,\n",
    "                                                     minNeighbors = 5)\n",
    "    if len(carplate_rects) < 2:\n",
    "        for x, y, w, h in carplate_rects:\n",
    "            carplate_img = carplate_overlay[y + 15: y + h - 10,\n",
    "                                x + 15: x + w - 20]\n",
    "    else:\n",
    "        for i in range(0, len(carplate_rects)):\n",
    "            carplate_rects_stage = carplate_rects[i]\n",
    "            SemiZoom(carplate_rects_stage, carplate_overlay)\n",
    "        exit\n",
    "    return carplate_img"
   ]
  },
  {
   "cell_type": "code",
   "execution_count": 91,
   "metadata": {},
   "outputs": [],
   "source": [
    "plateszoom = PlateZoom(gray[0])"
   ]
  },
  {
   "cell_type": "code",
   "execution_count": 83,
   "metadata": {},
   "outputs": [
    {
     "ename": "UnboundLocalError",
     "evalue": "cannot access local variable 'carplate_img' where it is not associated with a value",
     "output_type": "error",
     "traceback": [
      "\u001b[0;31m---------------------------------------------------------------------------\u001b[0m",
      "\u001b[0;31mUnboundLocalError\u001b[0m                         Traceback (most recent call last)",
      "Cell \u001b[0;32mIn[83], line 1\u001b[0m\n\u001b[0;32m----> 1\u001b[0m plateszoom \u001b[38;5;241m=\u001b[39m \u001b[43mPlateZoom\u001b[49m\u001b[43m(\u001b[49m\u001b[43mgray\u001b[49m\u001b[43m[\u001b[49m\u001b[38;5;241;43m1\u001b[39;49m\u001b[43m]\u001b[49m\u001b[43m)\u001b[49m\n",
      "Cell \u001b[0;32mIn[82], line 15\u001b[0m, in \u001b[0;36mPlateZoom\u001b[0;34m(image)\u001b[0m\n\u001b[1;32m     13\u001b[0m         SemiZoom(carplate_rects_stage, carplate_overlay)\n\u001b[1;32m     14\u001b[0m     exit\n\u001b[0;32m---> 15\u001b[0m \u001b[38;5;28;01mreturn\u001b[39;00m \u001b[43mcarplate_img\u001b[49m\n",
      "\u001b[0;31mUnboundLocalError\u001b[0m: cannot access local variable 'carplate_img' where it is not associated with a value"
     ]
    }
   ],
   "source": [
    "plateszoom = PlateZoom(gray[1])"
   ]
  },
  {
   "cell_type": "code",
   "execution_count": 122,
   "metadata": {},
   "outputs": [],
   "source": [
    "cv2.imshow(\"test\", test_rot)\n",
    "cv2.waitKey(0)\n",
    "cv2.destroyAllWindows()"
   ]
  },
  {
   "cell_type": "markdown",
   "metadata": {},
   "source": [
    "# Plot Results"
   ]
  },
  {
   "cell_type": "code",
   "execution_count": 7,
   "metadata": {},
   "outputs": [],
   "source": [
    "plates = CarplateDetect(gray[0])\n",
    "plateszoom = carplate_extract(gray[0])"
   ]
  },
  {
   "cell_type": "code",
   "execution_count": 25,
   "metadata": {},
   "outputs": [],
   "source": [
    "carplate_rects = rusPlateFinder.detectMultiScale(gray[1],scaleFactor=1.1, minNeighbors=5) "
   ]
  },
  {
   "cell_type": "code",
   "execution_count": 13,
   "metadata": {},
   "outputs": [],
   "source": [
    "# cv2.imshow(\"test\", plates)\n",
    "cv2.imshow(\"test\", plateszoom)\n",
    "cv2.waitKey(0)\n",
    "cv2.destroyAllWindows()"
   ]
  },
  {
   "cell_type": "code",
   "execution_count": 5,
   "metadata": {},
   "outputs": [],
   "source": [
    "for i in range(len(source)):\n",
    "    plates[i] = CarplateDetect(gray[i])\n",
    "    # plateszoom[i] = carplate_extract(gray[i])\n",
    "\n",
    "images = [plates[0], plates[1], plates[2],\n",
    "          plateszoom[0], plateszoom[1], plateszoom[2]]"
   ]
  },
  {
   "cell_type": "code",
   "execution_count": null,
   "metadata": {},
   "outputs": [],
   "source": [
    "for i in range(3):\n",
    "    plt.subplot(3, 2, i + 1), plt.imshow(plates[i], 'gray')\n",
    "    plt.xticks([]), plt.yticks([])\n",
    "    # plt.title(titles[i])\n",
    "    plt.tight_layout()\n",
    "# plt.suptitle('Edge Detection Results', fontsize = 25).set_color('#171819')\n",
    "plt.tight_layout()\n",
    "plt.show()"
   ]
  }
 ],
 "metadata": {
  "kernelspec": {
   "display_name": "csc515",
   "language": "python",
   "name": "python3"
  },
  "language_info": {
   "codemirror_mode": {
    "name": "ipython",
    "version": 3
   },
   "file_extension": ".py",
   "mimetype": "text/x-python",
   "name": "python",
   "nbconvert_exporter": "python",
   "pygments_lexer": "ipython3",
   "version": "3.12.2"
  }
 },
 "nbformat": 4,
 "nbformat_minor": 2
}
