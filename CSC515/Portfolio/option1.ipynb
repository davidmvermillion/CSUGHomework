{
 "cells": [
  {
   "cell_type": "markdown",
   "metadata": {},
   "source": [
    "# Setup\n"
   ]
  },
  {
   "cell_type": "code",
   "execution_count": 1,
   "metadata": {},
   "outputs": [
    {
     "name": "stdout",
     "output_type": "stream",
     "text": [
      "Intel MKL WARNING: Support of Intel(R) Streaming SIMD Extensions 4.2 (Intel(R) SSE4.2) enabled only processors has been deprecated. Intel oneAPI Math Kernel Library 2025.0 will require Intel(R) Advanced Vector Extensions (Intel(R) AVX) instructions.\n",
      "Intel MKL WARNING: Support of Intel(R) Streaming SIMD Extensions 4.2 (Intel(R) SSE4.2) enabled only processors has been deprecated. Intel oneAPI Math Kernel Library 2025.0 will require Intel(R) Advanced Vector Extensions (Intel(R) AVX) instructions.\n"
     ]
    }
   ],
   "source": [
    "# Import packages\n",
    "import cv2\n",
    "import matplotlib.pyplot as plt\n",
    "import numpy as np"
   ]
  },
  {
   "cell_type": "code",
   "execution_count": 2,
   "metadata": {},
   "outputs": [],
   "source": [
    "# Read images\n",
    "image1 = cv2.imread('Images/Image6.jpg') # Russian Taxi at Angle and Some Distance\n",
    "image2 = cv2.imread('Images/Image7.jpg') # Two Russian Plates with Telephoto Lens\n",
    "image3 = cv2.imread('Images/Image4.jpg') # Ontario Plate\n",
    "source = list([image1, image2, image3])\n",
    "# https://www.geeksforgeeks.org/how-to-fix-valueerror-setting-an-array-element-with-a-sequence/\n",
    "source = np.array(source, dtype = list)\n",
    "\n",
    "# Define placeholders\n",
    "gray = np.array([0, 1, 2], dtype = list)\n",
    "plates = np.array(list(range(3)), dtype = list)\n",
    "plateszoom = np.array(list(range(3)), dtype = list)\n",
    "\n",
    "# Convert to Grayscale\n",
    "for i in range(len(source)):\n",
    "    gray[i] = cv2.cvtColor(source[i], cv2.COLOR_BGR2GRAY)\n",
    "\n",
    "# # Load Classifier\n",
    "rusPlateReader = cv2.CascadeClassifier(cv2.data.haarcascades + 'haarcascade_license_plate_rus_16stages.xml')\n",
    "rusPlateFinder = cv2.CascadeClassifier(cv2.data.haarcascades + 'haarcascade_russian_plate_number.xml')"
   ]
  },
  {
   "cell_type": "markdown",
   "metadata": {},
   "source": [
    "# Detect Plates"
   ]
  },
  {
   "cell_type": "code",
   "execution_count": 4,
   "metadata": {},
   "outputs": [],
   "source": [
    "# Detect Plates\n",
    "# https://github.com/kennethleungty/Car-Plate-Detection-OpenCV-TesseractOCR/blob/main/Car%20Plate%20Detection%20with%20OpenCV%20and%20TesseractOCR.ipynb\n",
    "def CarplateDetect(image):\n",
    "    # Color rectangle overlay on grayscale image plate detection area\n",
    "    carplate_overlay = cv2.cvtColor(image.copy(), cv2.COLOR_GRAY2BGR)\n",
    "    carplate_rects = rusPlateFinder.detectMultiScale(carplate_overlay,\n",
    "                                                     scaleFactor = 1.1,\n",
    "                                                     minNeighbors = 5) \n",
    "    # carplate_img = 0\n",
    "\n",
    "    for x, y, w, h in carplate_rects:\n",
    "        cv2.rectangle(carplate_overlay,\n",
    "                      (x, y),\n",
    "                      (x + w, y + h),\n",
    "                      (255, 0, 0),\n",
    "                      25) \n",
    "        \n",
    "    # for x, y, w, h in carplate_rects:\n",
    "    #     carplate_img = carplate_overlay[y + 15: y + h - 10,\n",
    "    #                          x + 15: x + w - 20] \n",
    "\n",
    "\n",
    "    return carplate_overlay"
   ]
  },
  {
   "cell_type": "code",
   "execution_count": 26,
   "metadata": {},
   "outputs": [],
   "source": [
    "carplate_overlay = image2.copy()\n",
    "carplate_rects = rusPlateFinder.detectMultiScale(carplate_overlay,\n",
    "                                                    scaleFactor = 1.1,\n",
    "                                                    minNeighbors = 5) \n",
    "\n",
    "for x, y, w, h in carplate_rects:\n",
    "    cv2.rectangle(carplate_overlay,\n",
    "                    (x, y),\n",
    "                    (x + w, y + h),\n",
    "                    (255, 0, 0),\n",
    "                    25)"
   ]
  },
  {
   "cell_type": "markdown",
   "metadata": {},
   "source": [
    "# Zoom on Plates"
   ]
  },
  {
   "cell_type": "markdown",
   "metadata": {},
   "source": [
    "## Works"
   ]
  },
  {
   "cell_type": "code",
   "execution_count": 9,
   "metadata": {},
   "outputs": [],
   "source": [
    "def PlateZoom(image):\n",
    "    carplate_overlay = cv2.cvtColor(image.copy(), cv2.COLOR_GRAY2BGR)\n",
    "    carplate_rects = rusPlateFinder.detectMultiScale(carplate_overlay,\n",
    "                                                     scaleFactor = 1.1,\n",
    "                                                     minNeighbors = 5)\n",
    "    for x, y, w, h in carplate_rects:\n",
    "        carplate_img = carplate_overlay[y + 15: y + h - 10,\n",
    "                             x + 15: x + w - 20]\n",
    "    return carplate_img"
   ]
  },
  {
   "cell_type": "code",
   "execution_count": 6,
   "metadata": {},
   "outputs": [],
   "source": [
    "def carplate_extract(image):\n",
    "    \n",
    "    carplate_rects = rusPlateFinder.detectMultiScale(image,scaleFactor=1.1, minNeighbors=5) \n",
    "\n",
    "    plates_x = min(carplate_rects[:, 0])\n",
    "    plates_y = min(carplate_rects[:, 1])\n",
    "    plates_h = max(carplate_rects[:, 3])\n",
    "    plates_w = max(carplate_rects[:, 2])\n",
    "    carplate_img = image[plates_y : plates_y + plates_h, plates_x : plates_x + plates_w]\n",
    "\n",
    "    return carplate_img"
   ]
  },
  {
   "cell_type": "markdown",
   "metadata": {},
   "source": [
    "## Experimenting"
   ]
  },
  {
   "cell_type": "code",
   "execution_count": 40,
   "metadata": {},
   "outputs": [],
   "source": [
    "carplate_rects = rusPlateFinder.detectMultiScale(gray[1],\n",
    "                                                     scaleFactor = 1.1,\n",
    "                                                     minNeighbors = 5)"
   ]
  },
  {
   "cell_type": "code",
   "execution_count": 42,
   "metadata": {},
   "outputs": [
    {
     "data": {
      "text/plain": [
       "array([[881, 577, 265,  89],\n",
       "       [218, 531, 190,  63]], dtype=int32)"
      ]
     },
     "execution_count": 42,
     "metadata": {},
     "output_type": "execute_result"
    }
   ],
   "source": [
    "carplate_rects"
   ]
  },
  {
   "cell_type": "code",
   "execution_count": 53,
   "metadata": {},
   "outputs": [
    {
     "name": "stdout",
     "output_type": "stream",
     "text": [
      "0\n",
      "1\n"
     ]
    }
   ],
   "source": [
    "for i in range(0, len(carplate_rects)):\n",
    "    print(i)"
   ]
  },
  {
   "cell_type": "code",
   "execution_count": 47,
   "metadata": {},
   "outputs": [
    {
     "data": {
      "text/plain": [
       "range(0, 2)"
      ]
     },
     "execution_count": 47,
     "metadata": {},
     "output_type": "execute_result"
    }
   ],
   "source": [
    "range(0, len(carplate_rects))"
   ]
  },
  {
   "cell_type": "code",
   "execution_count": 46,
   "metadata": {},
   "outputs": [],
   "source": [
    "carplate_rects_stage = carplate_rects[0]"
   ]
  },
  {
   "cell_type": "code",
   "execution_count": 54,
   "metadata": {},
   "outputs": [
    {
     "ename": "TypeError",
     "evalue": "cannot unpack non-iterable numpy.int32 object",
     "output_type": "error",
     "traceback": [
      "\u001b[0;31m---------------------------------------------------------------------------\u001b[0m",
      "\u001b[0;31mTypeError\u001b[0m                                 Traceback (most recent call last)",
      "Cell \u001b[0;32mIn[54], line 1\u001b[0m\n\u001b[0;32m----> 1\u001b[0m \u001b[38;5;28;01mfor\u001b[39;00m x, y, w, h \u001b[38;5;129;01min\u001b[39;00m carplate_rects_stage:\n\u001b[1;32m      2\u001b[0m     \u001b[38;5;28mprint\u001b[39m(x, y, w, h)\n",
      "\u001b[0;31mTypeError\u001b[0m: cannot unpack non-iterable numpy.int32 object"
     ]
    }
   ],
   "source": [
    "for x, y, w, h in carplate_rects_stage:\n",
    "    print(x, y, w, h)"
   ]
  },
  {
   "cell_type": "code",
   "execution_count": 60,
   "metadata": {},
   "outputs": [
    {
     "data": {
      "text/plain": [
       "numpy.int32"
      ]
     },
     "execution_count": 60,
     "metadata": {},
     "output_type": "execute_result"
    }
   ],
   "source": [
    "type(carplate_rects_stage[0])\n"
   ]
  },
  {
   "cell_type": "code",
   "execution_count": 66,
   "metadata": {},
   "outputs": [],
   "source": [
    "def PlateZoom(image):\n",
    "    carplate_overlay = cv2.cvtColor(image.copy(), cv2.COLOR_GRAY2BGR)\n",
    "    carplate_rects = rusPlateFinder.detectMultiScale(carplate_overlay,\n",
    "                                                     scaleFactor = 1.1,\n",
    "                                                     minNeighbors = 5)\n",
    "    if len(carplate_rects) < 2:\n",
    "        for x, y, w, h in carplate_rects:\n",
    "            carplate_img = carplate_overlay[y + 15: y + h - 10,\n",
    "                                x + 15: x + w - 20]\n",
    "    else:\n",
    "        for i in range(0, len(carplate_rects)):\n",
    "            carplate_rects_stage = carplate_rects[i]\n",
    "            carplate_img[i] = carplate_overlay[int(carplate_rects_stage[0]) + 15: int(carplate_rects_stage[1]) + int(carplate_rects_stage[3]) - 10,\n",
    "                                int(carplate_rects_stage[0]) + 15: int(carplate_rects_stage[0]) + int(carplate_rects_stage[2]) - 20]\n",
    "        exit\n",
    "    return carplate_img"
   ]
  },
  {
   "cell_type": "code",
   "execution_count": 67,
   "metadata": {},
   "outputs": [],
   "source": [
    "plateszoom = PlateZoom(gray[0])"
   ]
  },
  {
   "cell_type": "code",
   "execution_count": 32,
   "metadata": {},
   "outputs": [
    {
     "data": {
      "text/plain": [
       "array([[881, 577, 265,  89],\n",
       "       [218, 531, 190,  63]], dtype=int32)"
      ]
     },
     "execution_count": 32,
     "metadata": {},
     "output_type": "execute_result"
    }
   ],
   "source": [
    "carplate_rects"
   ]
  },
  {
   "cell_type": "code",
   "execution_count": 12,
   "metadata": {},
   "outputs": [
    {
     "ename": "",
     "evalue": "",
     "output_type": "error",
     "traceback": [
      "\u001b[1;31mThe Kernel crashed while executing code in the current cell or a previous cell. \n",
      "\u001b[1;31mPlease review the code in the cell(s) to identify a possible cause of the failure. \n",
      "\u001b[1;31mClick <a href='https://aka.ms/vscodeJupyterKernelCrash'>here</a> for more info. \n",
      "\u001b[1;31mView Jupyter <a href='command:jupyter.viewOutput'>log</a> for further details."
     ]
    }
   ],
   "source": [
    "cv2.imshow(\"test\", carplate_img)\n",
    "cv2.waitKey(0)\n",
    "cv2.destroyAllWindows()"
   ]
  },
  {
   "cell_type": "markdown",
   "metadata": {},
   "source": [
    "# Plot Results"
   ]
  },
  {
   "cell_type": "code",
   "execution_count": 7,
   "metadata": {},
   "outputs": [],
   "source": [
    "plates = CarplateDetect(gray[0])\n",
    "plateszoom = carplate_extract(gray[0])"
   ]
  },
  {
   "cell_type": "code",
   "execution_count": 25,
   "metadata": {},
   "outputs": [],
   "source": [
    "carplate_rects = rusPlateFinder.detectMultiScale(gray[1],scaleFactor=1.1, minNeighbors=5) "
   ]
  },
  {
   "cell_type": "code",
   "execution_count": 13,
   "metadata": {},
   "outputs": [],
   "source": [
    "# cv2.imshow(\"test\", plates)\n",
    "cv2.imshow(\"test\", plateszoom)\n",
    "cv2.waitKey(0)\n",
    "cv2.destroyAllWindows()"
   ]
  },
  {
   "cell_type": "code",
   "execution_count": 58,
   "metadata": {},
   "outputs": [
    {
     "ename": "TypeError",
     "evalue": "tuple indices must be integers or slices, not tuple",
     "output_type": "error",
     "traceback": [
      "\u001b[0;31m---------------------------------------------------------------------------\u001b[0m",
      "\u001b[0;31mTypeError\u001b[0m                                 Traceback (most recent call last)",
      "Cell \u001b[0;32mIn[58], line 3\u001b[0m\n\u001b[1;32m      1\u001b[0m \u001b[38;5;28;01mfor\u001b[39;00m i \u001b[38;5;129;01min\u001b[39;00m \u001b[38;5;28mrange\u001b[39m(\u001b[38;5;28mlen\u001b[39m(source)):\n\u001b[1;32m      2\u001b[0m     plates[i] \u001b[38;5;241m=\u001b[39m CarplateDetect(gray[i])\n\u001b[0;32m----> 3\u001b[0m     plateszoom[i] \u001b[38;5;241m=\u001b[39m \u001b[43mcarplate_extract\u001b[49m\u001b[43m(\u001b[49m\u001b[43mgray\u001b[49m\u001b[43m[\u001b[49m\u001b[43mi\u001b[49m\u001b[43m]\u001b[49m\u001b[43m)\u001b[49m\n",
      "Cell \u001b[0;32mIn[27], line 5\u001b[0m, in \u001b[0;36mcarplate_extract\u001b[0;34m(image)\u001b[0m\n\u001b[1;32m      1\u001b[0m \u001b[38;5;28;01mdef\u001b[39;00m \u001b[38;5;21mcarplate_extract\u001b[39m(image):\n\u001b[1;32m      3\u001b[0m     carplate_rects \u001b[38;5;241m=\u001b[39m rusPlateFinder\u001b[38;5;241m.\u001b[39mdetectMultiScale(image,scaleFactor\u001b[38;5;241m=\u001b[39m\u001b[38;5;241m1.1\u001b[39m, minNeighbors\u001b[38;5;241m=\u001b[39m\u001b[38;5;241m5\u001b[39m) \n\u001b[0;32m----> 5\u001b[0m     plates_x \u001b[38;5;241m=\u001b[39m \u001b[38;5;28mmin\u001b[39m(\u001b[43mcarplate_rects\u001b[49m\u001b[43m[\u001b[49m\u001b[43m:\u001b[49m\u001b[43m,\u001b[49m\u001b[43m \u001b[49m\u001b[38;5;241;43m0\u001b[39;49m\u001b[43m]\u001b[49m)\n\u001b[1;32m      6\u001b[0m     plates_y \u001b[38;5;241m=\u001b[39m \u001b[38;5;28mmin\u001b[39m(carplate_rects[:, \u001b[38;5;241m1\u001b[39m])\n\u001b[1;32m      7\u001b[0m     plates_h \u001b[38;5;241m=\u001b[39m \u001b[38;5;28mmax\u001b[39m(carplate_rects[:, \u001b[38;5;241m3\u001b[39m])\n",
      "\u001b[0;31mTypeError\u001b[0m: tuple indices must be integers or slices, not tuple"
     ]
    }
   ],
   "source": [
    "for i in range(len(source)):\n",
    "    plates[i] = CarplateDetect(gray[i])\n",
    "    plateszoom[i] = carplate_extract(gray[i])"
   ]
  },
  {
   "cell_type": "code",
   "execution_count": 5,
   "metadata": {},
   "outputs": [],
   "source": [
    "for i in range(len(source)):\n",
    "    plates[i] = CarplateDetect(gray[i])\n",
    "    # plateszoom[i] = carplate_extract(gray[i])\n",
    "\n",
    "images = [plates[0], plates[1], plates[2],\n",
    "          plateszoom[0], plateszoom[1], plateszoom[2]]"
   ]
  },
  {
   "cell_type": "code",
   "execution_count": null,
   "metadata": {},
   "outputs": [],
   "source": [
    "for i in range(3):\n",
    "    plt.subplot(3, 2, i + 1), plt.imshow(plates[i], 'gray')\n",
    "    plt.xticks([]), plt.yticks([])\n",
    "    # plt.title(titles[i])\n",
    "    plt.tight_layout()\n",
    "# plt.suptitle('Edge Detection Results', fontsize = 25).set_color('#171819')\n",
    "plt.tight_layout()\n",
    "plt.show()"
   ]
  }
 ],
 "metadata": {
  "kernelspec": {
   "display_name": "csc515",
   "language": "python",
   "name": "python3"
  },
  "language_info": {
   "codemirror_mode": {
    "name": "ipython",
    "version": 3
   },
   "file_extension": ".py",
   "mimetype": "text/x-python",
   "name": "python",
   "nbconvert_exporter": "python",
   "pygments_lexer": "ipython3",
   "version": "3.12.0"
  }
 },
 "nbformat": 4,
 "nbformat_minor": 2
}
