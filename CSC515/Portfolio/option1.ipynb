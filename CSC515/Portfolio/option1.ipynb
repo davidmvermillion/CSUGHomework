{
 "cells": [
  {
   "cell_type": "markdown",
   "metadata": {},
   "source": [
    "# Setup\n"
   ]
  },
  {
   "cell_type": "code",
   "execution_count": 2,
   "metadata": {},
   "outputs": [],
   "source": [
    "# Import packages\n",
    "import cv2\n",
    "import matplotlib.pyplot as plt\n",
    "import numpy as np"
   ]
  },
  {
   "cell_type": "code",
   "execution_count": 3,
   "metadata": {},
   "outputs": [],
   "source": [
    "# Read images\n",
    "image1 = cv2.imread('Images/Image6.jpg') # Russian Taxi at Angle and Some Distance\n",
    "image2 = cv2.imread('Images/Image7.jpg') # Two Russian Plates with Telephoto Lens\n",
    "image3 = cv2.imread('Images/Image4.jpg') # Ontario Plate\n",
    "source = list([image1, image2, image3])\n",
    "# https://www.geeksforgeeks.org/how-to-fix-valueerror-setting-an-array-element-with-a-sequence/\n",
    "source = np.array(source, dtype = list)\n",
    "\n",
    "# Define placeholders\n",
    "gray = np.array([0, 1, 2], dtype = list)\n",
    "plates = np.array(list(range(3)), dtype = list)\n",
    "plateszoom = np.array(list(range(3)), dtype = list)\n",
    "\n",
    "# Convert to Grayscale\n",
    "for i in range(len(source)):\n",
    "    gray[i] = cv2.cvtColor(source[i], cv2.COLOR_BGR2GRAY)\n",
    "\n",
    "# # Load Classifier\n",
    "rusPlateReader = cv2.CascadeClassifier(cv2.data.haarcascades + 'haarcascade_license_plate_rus_16stages.xml')\n",
    "rusPlateFinder = cv2.CascadeClassifier(cv2.data.haarcascades + 'haarcascade_russian_plate_number.xml')"
   ]
  },
  {
   "cell_type": "markdown",
   "metadata": {},
   "source": [
    "# Detect Plates"
   ]
  },
  {
   "cell_type": "code",
   "execution_count": 4,
   "metadata": {},
   "outputs": [],
   "source": [
    "# Detect Plates\n",
    "# https://github.com/kennethleungty/Car-Plate-Detection-OpenCV-TesseractOCR/blob/main/Car%20Plate%20Detection%20with%20OpenCV%20and%20TesseractOCR.ipynb\n",
    "def CarplateDetect(image):\n",
    "    # Color rectangle overlay on grayscale image plate detection area\n",
    "    carplate_overlay = cv2.cvtColor(image.copy(), cv2.COLOR_GRAY2BGR)\n",
    "    carplate_rects = rusPlateFinder.detectMultiScale(carplate_overlay,\n",
    "                                                     scaleFactor = 1.1,\n",
    "                                                     minNeighbors = 5) \n",
    "    # carplate_img = 0\n",
    "\n",
    "    for x, y, w, h in carplate_rects:\n",
    "        cv2.rectangle(carplate_overlay,\n",
    "                      (x, y),\n",
    "                      (x + w, y + h),\n",
    "                      (255, 0, 0),\n",
    "                      25) \n",
    "        \n",
    "    # for x, y, w, h in carplate_rects:\n",
    "    #     carplate_img = carplate_overlay[y + 15: y + h - 10,\n",
    "    #                          x + 15: x + w - 20] \n",
    "\n",
    "\n",
    "    return carplate_overlay"
   ]
  },
  {
   "cell_type": "code",
   "execution_count": 8,
   "metadata": {},
   "outputs": [],
   "source": [
    "carplate_overlay = image1.copy()\n",
    "carplate_rects = rusPlateFinder.detectMultiScale(carplate_overlay,\n",
    "                                                    scaleFactor = 1.1,\n",
    "                                                    minNeighbors = 5) \n",
    "\n",
    "for x, y, w, h in carplate_rects:\n",
    "    cv2.rectangle(carplate_overlay,\n",
    "                    (x, y),\n",
    "                    (x + w, y + h),\n",
    "                    (255, 0, 0),\n",
    "                    25)"
   ]
  },
  {
   "cell_type": "markdown",
   "metadata": {},
   "source": [
    "# Zoom on Plates"
   ]
  },
  {
   "cell_type": "code",
   "execution_count": null,
   "metadata": {},
   "outputs": [],
   "source": [
    "def PlateZoom(image):\n",
    "    carplate_overlay = cv2.cvtColor(image.copy(), cv2.COLOR_GRAY2BGR)\n",
    "    carplate_rects = rusPlateFinder.detectMultiScale(carplate_overlay,\n",
    "                                                     scaleFactor = 1.1,\n",
    "                                                     minNeighbors = 5)\n",
    "    for x, y, w, h in carplate_rects:\n",
    "        carplate_img = carplate_overlay[y + 15: y + h - 10,\n",
    "                             x + 15: x + w - 20]\n",
    "    return carplate_img"
   ]
  },
  {
   "cell_type": "code",
   "execution_count": null,
   "metadata": {},
   "outputs": [],
   "source": [
    "def carplate_extract(image):\n",
    "    \n",
    "    carplate_rects = rusPlateFinder.detectMultiScale(image,scaleFactor=1.1, minNeighbors=5) \n",
    "\n",
    "    plates_x = min(carplate_rects[:, 0])\n",
    "    plates_y = min(carplate_rects[:, 1])\n",
    "    plates_h = max(carplate_rects[:, 3])\n",
    "    plates_w = max(carplate_rects[:, 0]) + max(carplate_rects[:, 2]) - min(carplate_rects[:, 0])\n",
    "    carplate_img = image[plates_y : plates_y + plates_h, plates_x : plates_x + plates_w]\n",
    "\n",
    "    # for x,y,w,h in carplate_rects: \n",
    "\n",
    "        \n",
    "    #     carplate_img = image[y+15:y+h-10,x+15:x+w-20] \n",
    "        \n",
    "    #     return carplate_img\n",
    "    return carplate_img"
   ]
  },
  {
   "cell_type": "code",
   "execution_count": 11,
   "metadata": {},
   "outputs": [],
   "source": [
    "plates_x = min(carplate_rects[:, 0])\n",
    "plates_y = min(carplate_rects[:, 1])\n",
    "plates_h = max(carplate_rects[:, 3])\n",
    "plates_w = max(carplate_rects[:, 0]) + max(carplate_rects[:, 2]) - min(carplate_rects[:, 0])\n",
    "carplate_img = carplate_overlay[plates_y : plates_y + plates_h, plates_x : plates_x + plates_w]"
   ]
  },
  {
   "cell_type": "code",
   "execution_count": 12,
   "metadata": {},
   "outputs": [
    {
     "ename": "",
     "evalue": "",
     "output_type": "error",
     "traceback": [
      "\u001b[1;31mThe Kernel crashed while executing code in the current cell or a previous cell. \n",
      "\u001b[1;31mPlease review the code in the cell(s) to identify a possible cause of the failure. \n",
      "\u001b[1;31mClick <a href='https://aka.ms/vscodeJupyterKernelCrash'>here</a> for more info. \n",
      "\u001b[1;31mView Jupyter <a href='command:jupyter.viewOutput'>log</a> for further details."
     ]
    }
   ],
   "source": [
    "cv2.imshow(\"test\", carplate_img)\n",
    "cv2.waitKey(0)\n",
    "cv2.destroyAllWindows()"
   ]
  },
  {
   "cell_type": "markdown",
   "metadata": {},
   "source": [
    "# Plot Results"
   ]
  },
  {
   "cell_type": "code",
   "execution_count": 5,
   "metadata": {},
   "outputs": [],
   "source": [
    "for i in range(len(source)):\n",
    "    plates[i] = CarplateDetect(gray[i])\n",
    "    # plateszoom[i] = carplate_extract(gray[i])\n",
    "\n",
    "images = [plates[0], plates[1], plates[2],\n",
    "          plateszoom[0], plateszoom[1], plateszoom[2]]"
   ]
  },
  {
   "cell_type": "code",
   "execution_count": null,
   "metadata": {},
   "outputs": [],
   "source": [
    "for i in range(3):\n",
    "    plt.subplot(3, 2, i + 1), plt.imshow(plates[i], 'gray')\n",
    "    plt.xticks([]), plt.yticks([])\n",
    "    # plt.title(titles[i])\n",
    "    plt.tight_layout()\n",
    "# plt.suptitle('Edge Detection Results', fontsize = 25).set_color('#171819')\n",
    "plt.tight_layout()\n",
    "plt.show()"
   ]
  }
 ],
 "metadata": {
  "kernelspec": {
   "display_name": "csc515",
   "language": "python",
   "name": "python3"
  },
  "language_info": {
   "codemirror_mode": {
    "name": "ipython",
    "version": 3
   },
   "file_extension": ".py",
   "mimetype": "text/x-python",
   "name": "python",
   "nbconvert_exporter": "python",
   "pygments_lexer": "ipython3",
   "version": "3.12.0"
  }
 },
 "nbformat": 4,
 "nbformat_minor": 2
}
