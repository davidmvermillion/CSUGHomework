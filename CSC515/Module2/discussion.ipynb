{
 "cells": [
  {
   "cell_type": "code",
   "execution_count": 7,
   "metadata": {},
   "outputs": [],
   "source": [
    "import cv2"
   ]
  },
  {
   "cell_type": "code",
   "execution_count": 14,
   "metadata": {},
   "outputs": [
    {
     "data": {
      "text/plain": [
       "True"
      ]
     },
     "execution_count": 14,
     "metadata": {},
     "output_type": "execute_result"
    }
   ],
   "source": [
    "image = cv2.imread('shutterstock227361781--125.jpg')\n",
    "image = cv2.resize(image, (375, 249), interpolation = cv2.INTER_NEAREST)\n",
    "\n",
    "b = image[:, :, 0]\n",
    "g = image[:, :, 1]\n",
    "r = image[:, :, 2]\n",
    "\n",
    "blue = cv2.merge((b, g, r, b))\n",
    "green = cv2.merge((b, g, r, g))\n",
    "red = cv2.merge((b, g, r, r))\n",
    "\n",
    "gray = cv2.cvtColor(image, cv2.COLOR_BGR2GRAY)\n",
    "\n",
    "cv2.imwrite('blue.png', blue)\n",
    "cv2.imwrite('green.png', green)\n",
    "cv2.imwrite('red.png', red)\n",
    "cv2.imwrite('gray.png', gray)"
   ]
  },
  {
   "cell_type": "code",
   "execution_count": null,
   "metadata": {},
   "outputs": [
    {
     "name": "stdout",
     "output_type": "stream",
     "text": [
      "Shape of the image: (83, 125, 3)\n"
     ]
    }
   ],
   "source": [
    "# https://csuglobal.instructure.com/courses/96788/pages/2-dot-3-opencv-for-multi-scale-representation-of-images?module_item_id=4939354\n",
    "print('Shape of the image: {}'.format(image.shape))"
   ]
  },
  {
   "cell_type": "code",
   "execution_count": null,
   "metadata": {},
   "outputs": [],
   "source": []
  }
 ],
 "metadata": {
  "kernelspec": {
   "display_name": "csc515",
   "language": "python",
   "name": "python3"
  },
  "language_info": {
   "codemirror_mode": {
    "name": "ipython",
    "version": 3
   },
   "file_extension": ".py",
   "mimetype": "text/x-python",
   "name": "python",
   "nbconvert_exporter": "python",
   "pygments_lexer": "ipython3",
   "version": "3.12.0"
  }
 },
 "nbformat": 4,
 "nbformat_minor": 2
}
