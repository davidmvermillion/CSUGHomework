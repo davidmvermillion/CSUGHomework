{
 "cells": [
  {
   "cell_type": "markdown",
   "metadata": {},
   "source": [
    "# Setup"
   ]
  },
  {
   "cell_type": "code",
   "execution_count": 1,
   "metadata": {},
   "outputs": [
    {
     "name": "stderr",
     "output_type": "stream",
     "text": [
      "2024-06-23 19:40:03.619023: I tensorflow/core/platform/cpu_feature_guard.cc:193] This TensorFlow binary is optimized with oneAPI Deep Neural Network Library (oneDNN) to use the following CPU instructions in performance-critical operations:  SSE4.1 SSE4.2\n",
      "To enable them in other operations, rebuild TensorFlow with the appropriate compiler flags.\n"
     ]
    }
   ],
   "source": [
    "from __future__ import print_function\n",
    "import numpy as np\n",
    "import keras\n",
    "import keras.datasets.cifar10\n",
    "from tqdm import trange\n",
    "import matplotlib.pyplot as plt\n",
    "np.random.seed(20191220)"
   ]
  },
  {
   "cell_type": "markdown",
   "metadata": {},
   "source": [
    "# Classes and Functions"
   ]
  },
  {
   "cell_type": "code",
   "execution_count": 2,
   "metadata": {},
   "outputs": [],
   "source": [
    "class Layer:\n",
    "    def __init__(self):\n",
    "        self.weights = np.zeros(shape=(input.shape[1], 10))\n",
    "        bias = np.zeros(shape=(10,))\n",
    "        pass\n",
    "    \n",
    "    def forward(self, input):\n",
    "        output = np.matmul(input, self.weights) + bias\n",
    "        return output\n",
    "\n",
    "class Dense(Layer):\n",
    "    def __init__(self, input_units, output_units, learning_rate = 0.1):\n",
    "        self.learning_rate = learning_rate\n",
    "        self.weights = np.random.randn(input_units, output_units) * 0.01\n",
    "        self.biases = np.zeros(output_units)\n",
    "        \n",
    "    def forward(self,input):\n",
    "        return np.matmul(input, self.weights) + self.biases\n",
    "      \n",
    "    def backward(self, input, gradient_output):\n",
    "        gradient_input = np.dot(gradient_output, np.transpose(self.weights))\n",
    "        gradient_weights = np.transpose(np.dot(np.transpose(gradient_output), input))\n",
    "        gradient_biases = np.sum(gradient_output, axis = 0)\n",
    "        self.weights = self.weights - self.learning_rate * gradient_weights\n",
    "        self.biases = self.biases - self.learning_rate * gradient_biases\n",
    "        return gradient_input\n",
    "\n",
    "class ReLU(Layer):\n",
    "    def __init__(self):\n",
    "        pass\n",
    "    \n",
    "    def forward(self, input):\n",
    "        return np.maximum(0, input)\n",
    "\n",
    "    def backward(self, input, gradient_output):\n",
    "        relu_gradient = input > 0\n",
    "        return gradient_output * relu_gradient \n",
    "\n",
    "def softmafeatures_crossentropvalues_with_logits(logits, reference_answers):\n",
    "    logits_for_answers = logits[np.arange(len(logits)), reference_answers]\n",
    "    featuresentropy = - logits_for_answers + np.log(np.sum(np.exp(logits), axis = -1))\n",
    "    return featuresentropy\n",
    "\n",
    "def gradient_softmafeatures_crossentropvalues_with_logits(logits, reference_answers):\n",
    "    ones_for_answers = np.zeros_like(logits)\n",
    "    ones_for_answers[np.arange(len(logits)),reference_answers] = 1\n",
    "    softmafeatures = np.exp(logits) / np.exp(logits).sum(axis = -1, keepdims = True)\n",
    "    return (- ones_for_answers + softmafeatures) / logits.shape[0]\n",
    "\n",
    "def forward(artificial_neural_network, features):\n",
    "    activations = []\n",
    "    input = features\n",
    "    for i in range(len(artificial_neural_network)):\n",
    "        activations.append(artificial_neural_network[i].forward(features))\n",
    "        features = artificial_neural_network[i].forward(features)\n",
    "        \n",
    "    assert len(activations) == len(artificial_neural_network)\n",
    "    return activations\n",
    "\n",
    "def predict(artificial_neural_network, features):\n",
    "    logits = forward(artificial_neural_network, features)[-1]\n",
    "    return logits.argmax(axis = -1)\n",
    "\n",
    "def train(artificial_neural_network, features, values):\n",
    "    # Layer activations\n",
    "    layer_activations = forward(artificial_neural_network, features)\n",
    "    logits = layer_activations[-1]\n",
    "    \n",
    "    # Computing loss and corresponding gradient\n",
    "    loss = softmafeatures_crossentropvalues_with_logits(logits, values)\n",
    "    loss_gradient = gradient_softmafeatures_crossentropvalues_with_logits(logits, values)\n",
    "    \n",
    "    for i in range(1, len(artificial_neural_network)):\n",
    "        loss_gradient = artificial_neural_network[len(artificial_neural_network) - i].backward(layer_activations[len(artificial_neural_network) - i - 1], loss_gradient)\n",
    "    \n",
    "    return np.mean(loss)\n",
    "\n",
    "def iterate_minibatches(inputs, targets, batchsize, shuffle = False):\n",
    "    assert len(inputs) == len(targets)\n",
    "    if shuffle:\n",
    "        indices = np.random.permutation(len(inputs))\n",
    "    for start_idfeatures in trange(0, len(inputs) - batchsize + 1, batchsize):\n",
    "        if shuffle:\n",
    "            efeaturescerpt = indices[start_idfeatures:start_idfeatures + batchsize]\n",
    "        else:\n",
    "            efeaturescerpt = slice(start_idfeatures, start_idfeatures + batchsize)\n",
    "        yield inputs[efeaturescerpt], targets[efeaturescerpt]\n",
    "\n",
    "def load_dataset(flatten = False):\n",
    "    (features_train, values_train), (features_test, values_test) = keras.datasets.cifar10.load_data()\n",
    "\n",
    "    # normalize features\n",
    "    features_train = features_train.astype(float) / 255\n",
    "    features_test = features_test.astype(float) / 255\n",
    "    # features_train = features_train.astype(np.float128) / 255.\n",
    "    # features_test = features_test.astype(np.float128) / 255.\n",
    "\n",
    "    # Reserve the last 10000 training samples for validation\n",
    "    features_train, features_validate = features_train[:-10000], features_train[-10000:]\n",
    "    values_train, values_validate = values_train[:-10000], values_train[-10000:]\n",
    "\n",
    "    if flatten:\n",
    "        features_train = features_train.reshape([features_train.shape[0], -1])\n",
    "        features_validate = features_validate.reshape([features_validate.shape[0], -1])\n",
    "        features_test = features_test.reshape([features_test.shape[0], -1])\n",
    "\n",
    "    return features_train, values_train, features_validate, values_validate, features_test, values_test"
   ]
  },
  {
   "cell_type": "markdown",
   "metadata": {},
   "source": [
    "# Data Prep"
   ]
  },
  {
   "cell_type": "code",
   "execution_count": 3,
   "metadata": {},
   "outputs": [],
   "source": [
    "features_train, values_train, features_validate, values_validate, features_test, values_test = load_dataset(flatten = True)"
   ]
  },
  {
   "cell_type": "markdown",
   "metadata": {},
   "source": [
    "# Artificial Neural Network"
   ]
  },
  {
   "cell_type": "code",
   "execution_count": 4,
   "metadata": {},
   "outputs": [],
   "source": [
    "artificial_neural_network = []\n",
    "artificial_neural_network.append(Dense(features_train.shape[1], 100))\n",
    "artificial_neural_network.append(ReLU())\n",
    "artificial_neural_network.append(Dense(100,50))\n",
    "artificial_neural_network.append(ReLU())\n",
    "artificial_neural_network.append(Dense(50,10))"
   ]
  },
  {
   "cell_type": "markdown",
   "metadata": {},
   "source": [
    "# Results\n",
    "Calculation error messages arise when batch sizes are too small relative to float64. Same issue with float128"
   ]
  },
  {
   "cell_type": "code",
   "execution_count": 8,
   "metadata": {},
   "outputs": [
    {
     "name": "stderr",
     "output_type": "stream",
     "text": [
      "100%|██████████| 20/20 [00:01<00:00, 11.93it/s]\n"
     ]
    },
    {
     "name": "stdout",
     "output_type": "stream",
     "text": [
      "Epoch: 0, Train accuracy: 0.09965, Validation accuracy:\n"
     ]
    },
    {
     "name": "stderr",
     "output_type": "stream",
     "text": [
      "100%|██████████| 20/20 [00:01<00:00, 13.17it/s]\n"
     ]
    },
    {
     "name": "stdout",
     "output_type": "stream",
     "text": [
      "Epoch: 1, Train accuracy: 0.09965, Validation accuracy:\n"
     ]
    },
    {
     "name": "stderr",
     "output_type": "stream",
     "text": [
      "100%|██████████| 20/20 [00:01<00:00, 10.72it/s]\n"
     ]
    },
    {
     "name": "stdout",
     "output_type": "stream",
     "text": [
      "Epoch: 2, Train accuracy: 0.09965, Validation accuracy:\n"
     ]
    },
    {
     "name": "stderr",
     "output_type": "stream",
     "text": [
      "100%|██████████| 20/20 [00:01<00:00, 15.63it/s]\n"
     ]
    },
    {
     "name": "stdout",
     "output_type": "stream",
     "text": [
      "Epoch: 3, Train accuracy: 0.09965, Validation accuracy:\n"
     ]
    },
    {
     "name": "stderr",
     "output_type": "stream",
     "text": [
      "100%|██████████| 20/20 [00:01<00:00, 15.28it/s]\n"
     ]
    },
    {
     "name": "stdout",
     "output_type": "stream",
     "text": [
      "Epoch: 4, Train accuracy: 0.09965, Validation accuracy:\n"
     ]
    },
    {
     "name": "stderr",
     "output_type": "stream",
     "text": [
      "100%|██████████| 20/20 [00:01<00:00, 15.48it/s]\n"
     ]
    },
    {
     "name": "stdout",
     "output_type": "stream",
     "text": [
      "Epoch: 5, Train accuracy: 0.09965, Validation accuracy:\n"
     ]
    },
    {
     "name": "stderr",
     "output_type": "stream",
     "text": [
      "100%|██████████| 20/20 [00:01<00:00, 15.34it/s]\n"
     ]
    },
    {
     "name": "stdout",
     "output_type": "stream",
     "text": [
      "Epoch: 6, Train accuracy: 0.09965, Validation accuracy:\n"
     ]
    },
    {
     "name": "stderr",
     "output_type": "stream",
     "text": [
      "100%|██████████| 20/20 [00:01<00:00, 14.99it/s]\n"
     ]
    },
    {
     "name": "stdout",
     "output_type": "stream",
     "text": [
      "Epoch: 7, Train accuracy: 0.09965, Validation accuracy:\n"
     ]
    },
    {
     "name": "stderr",
     "output_type": "stream",
     "text": [
      "100%|██████████| 20/20 [00:01<00:00, 15.85it/s]\n"
     ]
    },
    {
     "name": "stdout",
     "output_type": "stream",
     "text": [
      "Epoch: 8, Train accuracy: 0.09965, Validation accuracy:\n"
     ]
    },
    {
     "name": "stderr",
     "output_type": "stream",
     "text": [
      "100%|██████████| 20/20 [00:01<00:00, 15.80it/s]\n"
     ]
    },
    {
     "name": "stdout",
     "output_type": "stream",
     "text": [
      "Epoch: 9, Train accuracy: 0.09965, Validation accuracy:\n"
     ]
    }
   ],
   "source": [
    "train_log = []\n",
    "validate_log = []\n",
    "for epoch in range(10):\n",
    "    for features_batch, values_batch in iterate_minibatches(features_train, values_train, batchsize = 2000, shuffle = True):\n",
    "        train(artificial_neural_network, features_batch, values_batch)\n",
    "    \n",
    "    train_log.append(np.mean(predict(artificial_neural_network, features_train) == values_train))\n",
    "    validate_log.append(np.mean(predict(artificial_neural_network, features_validate) == values_validate))\n",
    "    \n",
    "    print(\"Epoch: {}, Train accuracy: {}, Validation accuracy:\".format(epoch, train_log[-1], validate_log[-1]))"
   ]
  },
  {
   "cell_type": "code",
   "execution_count": 6,
   "metadata": {},
   "outputs": [
    {
     "data": {
      "image/png": "[encoded data removed]",
      "text/plain": [
       "<Figure size 640x480 with 1 Axes>"
      ]
     },
     "metadata": {},
     "output_type": "display_data"
    }
   ],
   "source": [
    "plt.plot(train_log,label = 'train accuracy')\n",
    "plt.plot(validate_log,label = 'val accuracy')\n",
    "plt.legend(loc = 'best')\n",
    "plt.show()"
   ]
  }
 ],
 "metadata": {
  "kernelspec": {
   "display_name": "csc510redo",
   "language": "python",
   "name": "python3"
  },
  "language_info": {
   "codemirror_mode": {
    "name": "ipython",
    "version": 3
   },
   "file_extension": ".py",
   "mimetype": "text/x-python",
   "name": "python",
   "nbconvert_exporter": "python",
   "pygments_lexer": "ipython3",
   "version": "3.10.8"
  }
 },
 "nbformat": 4,
 "nbformat_minor": 2
}
