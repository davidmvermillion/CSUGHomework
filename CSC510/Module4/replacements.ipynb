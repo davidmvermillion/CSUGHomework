{
 "cells": [
  {
   "cell_type": "code",
   "execution_count": null,
   "metadata": {},
   "outputs": [],
   "source": [
    "def isValidPos(i, j, row, column):\n",
    " \n",
    "    if (i < 0 or j < 0 or i > row - 1 or j > column - 1):\n",
    "        return 0\n",
    "    return 1\n",
    " \n",
    " \n",
    "# Function that returns all adjacent elements\n",
    "def getAdjacent(array, i, j):\n",
    " \n",
    "    # Size of given 2d array\n",
    "    row = len(array)\n",
    "    column = len(array[0])\n",
    "    row, column = len(array), len(array[0])\n",
    " \n",
    "    # Initialising a vector array\n",
    "    # where adjacent element will be stored\n",
    "    adjacentvalues = []\n",
    " \n",
    "    if (isValidPos(i - 1, j - 1, row, column)):\n",
    "        adjacentvalues.append(array[i - 1][j - 1])\n",
    "    if (isValidPos(i - 1, j, row, column)):\n",
    "        adjacentvalues.append(array[i - 1][j])\n",
    "    if (isValidPos(i - 1, j + 1, row, column)):\n",
    "        adjacentvalues.append(array[i - 1][j + 1])\n",
    "    if (isValidPos(i, j - 1, row, column)):\n",
    "        adjacentvalues.append(array[i][j - 1])\n",
    "    if (isValidPos(i, j + 1, row, column)):\n",
    "        adjacentvalues.append(array[i][j + 1])\n",
    "    if (isValidPos(i + 1, j - 1, row, column)):\n",
    "        adjacentvalues.append(array[i + 1][j - 1])\n",
    "    if (isValidPos(i + 1, j, row, column)):\n",
    "        adjacentvalues.append(array[i + 1][j])\n",
    "    if (isValidPos(i + 1, j + 1, row, column)):\n",
    "        adjacentvalues.append(array[i + 1][j + 1])\n",
    " \n",
    "    return adjacentvalues"
   ]
  }
 ],
 "metadata": {
  "language_info": {
   "name": "python"
  }
 },
 "nbformat": 4,
 "nbformat_minor": 2
}
