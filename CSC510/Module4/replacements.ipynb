{
 "cells": [
  {
   "cell_type": "code",
   "execution_count": null,
   "metadata": {},
   "outputs": [],
   "source": [
    "def isValidPos(i, j, row, column):\n",
    "    if (i < 0 or j < 0 or i > row - 1 or j > column - 1):\n",
    "        return 0\n",
    "    return 1\n",
    " \n",
    "def getAdjacent(arr, i, j):\n",
    "    row, column = list(range(0,3)), list(range(0,3))\n",
    "    adjacentvalues = []\n",
    " \n",
    "    # Find all possible adjacent positions\n",
    "    if (isValidPos(i - 1, j - 1, row, column)):\n",
    "        adjacentvalues.append(arr[i - 1][j - 1])\n",
    "    if (isValidPos(i - 1, j, row, column)):\n",
    "        adjacentvalues.append(arr[i - 1][j])\n",
    "    if (isValidPos(i - 1, j + 1, row, column)):\n",
    "        adjacentvalues.append(arr[i - 1][j + 1])\n",
    "    if (isValidPos(i, j - 1, row, column)):\n",
    "        adjacentvalues.append(arr[i][j - 1])\n",
    "    if (isValidPos(i, j + 1, row, column)):\n",
    "        adjacentvalues.append(arr[i][j + 1])\n",
    "    if (isValidPos(i + 1, j - 1, row, column)):\n",
    "        adjacentvalues.append(arr[i + 1][j - 1])\n",
    "    if (isValidPos(i + 1, j, row, column)):\n",
    "        adjacentvalues.append(arr[i + 1][j])\n",
    "    if (isValidPos(i + 1, j + 1, row, column)):\n",
    "        adjacentvalues.append(arr[i + 1][j + 1])\n",
    " \n",
    "    # Returning the vector\n",
    "    return adjacentvalues"
   ]
  }
 ],
 "metadata": {
  "language_info": {
   "name": "python"
  }
 },
 "nbformat": 4,
 "nbformat_minor": 2
}
