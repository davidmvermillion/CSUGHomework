{
 "cells": [
  {
   "cell_type": "code",
   "execution_count": 84,
   "metadata": {},
   "outputs": [],
   "source": [
    "# Inspiration from https://github.com/simpleai-team/simpleai/blob/master/samples/search/eight_puzzle.py\n",
    "\n",
    "from simpleai.search import astar, SearchProblem\n",
    "from simpleai.search.viewers import WebViewer\n",
    "import numpy as np\n",
    "import math\n",
    "\n",
    "# Intial and Goal states\n",
    "\n",
    "initial_state = [['7', '6', '5'],\n",
    "                 ['4', '3', '2'],\n",
    "                 ['1', '8', 'empty']]\n",
    "\n",
    "goal_state = [['1', '2', '3'],\n",
    "              ['4', '5', '6'],\n",
    "              ['7', '8', 'empty']]\n",
    "\n",
    "initial_state_np = np.array([[7, 6, 5],\n",
    "                             [4, 3, 2],\n",
    "                             [1, 8, 0]])\n",
    "goal_state_np = np.array([[1, 2, 3],\n",
    "                          [4, 5, 6],\n",
    "                          [7, 8, 0]])"
   ]
  },
  {
   "cell_type": "code",
   "execution_count": 87,
   "metadata": {},
   "outputs": [],
   "source": [
    "# Functions\n",
    "'''\n",
    "Using this source to find pieces around the empty space that could move.\n",
    "https://www.geeksforgeeks.org/find-all-adjacent-elements-of-given-element-in-a-2d-array-or-matrix/\n",
    "'''\n",
    "def isValidPos(i, j, row, column):\n",
    "    if (i < 0 or j < 0 or i > row - 1 or j > column - 1):\n",
    "        return 0\n",
    "    return 1\n",
    " \n",
    "def getAdjacent(arr, i, j):\n",
    "    row, column = list(range(0,3)), list(range(0,3))\n",
    "    adjacentvalues = []\n",
    " \n",
    "    # Find all possible adjacent positions\n",
    "    if (isValidPos(i - 1, j - 1, row, column)):\n",
    "        adjacentvalues.append(arr[i - 1][j - 1])\n",
    "    if (isValidPos(i - 1, j, row, column)):\n",
    "        adjacentvalues.append(arr[i - 1][j])\n",
    "    if (isValidPos(i - 1, j + 1, row, column)):\n",
    "        adjacentvalues.append(arr[i - 1][j + 1])\n",
    "    if (isValidPos(i, j - 1, row, column)):\n",
    "        adjacentvalues.append(arr[i][j - 1])\n",
    "    if (isValidPos(i, j + 1, row, column)):\n",
    "        adjacentvalues.append(arr[i][j + 1])\n",
    "    if (isValidPos(i + 1, j - 1, row, column)):\n",
    "        adjacentvalues.append(arr[i + 1][j - 1])\n",
    "    if (isValidPos(i + 1, j, row, column)):\n",
    "        adjacentvalues.append(arr[i + 1][j])\n",
    "    if (isValidPos(i + 1, j + 1, row, column)):\n",
    "        adjacentvalues.append(arr[i + 1][j + 1])\n",
    "\n",
    "    return adjacentvalues\n",
    "\n",
    "\n",
    "'''\n",
    "Source: https://www.geeksforgeeks.org/how-to-find-the-index-of-value-in-numpy-array/\n",
    "numpy.where() kept giving invalid entries, and this is one of the shortest methods of getting something usable\n",
    "'''\n",
    "def ind(array, item):\n",
    "    for idx, val in np.ndenumerate(array):\n",
    "        if val == item:\n",
    "            return idx\n",
    "\n",
    "\n",
    "# https://www.geeksforgeeks.org/calculate-the-manhattan-distance-between-two-cells-of-given-2d-array/\n",
    "def manhattanDistance(M, N):\n",
    "    dist = math.fabs(M[0] - N[0]) + math.fabs(M[1] - N[1])\n",
    "    return (int)(dist)\n",
    "\n",
    "\n",
    "def manhattanAstar(initial, goal):\n",
    "    for x, y in list(range(0,3)):\n",
    "        if initial[x][y] == goal[x][y]:\n",
    "            print('\\nInitial state is goal state. No moves required.\\n')\n",
    "        else:\n",
    "            difference_matrix = np.array()\n",
    "            adjacents = getAdjacent(initial, ind(initial, 0)[0], ind(initial, 0)[1])\n",
    "            \n",
    "            difference_matrix[0][0] = 0\n",
    "\n",
    "\n"
   ]
  },
  {
   "cell_type": "code",
   "execution_count": 75,
   "metadata": {},
   "outputs": [
    {
     "data": {
      "text/plain": [
       "(1, 2)"
      ]
     },
     "execution_count": 75,
     "metadata": {},
     "output_type": "execute_result"
    }
   ],
   "source": [
    "ind(initial_state_np, 2)"
   ]
  },
  {
   "cell_type": "code",
   "execution_count": 77,
   "metadata": {},
   "outputs": [
    {
     "data": {
      "text/plain": [
       "(0, 1)"
      ]
     },
     "execution_count": 77,
     "metadata": {},
     "output_type": "execute_result"
    }
   ],
   "source": [
    "ind(goal_state_np, 2)"
   ]
  },
  {
   "cell_type": "code",
   "execution_count": 88,
   "metadata": {},
   "outputs": [
    {
     "data": {
      "text/plain": [
       "2"
      ]
     },
     "execution_count": 88,
     "metadata": {},
     "output_type": "execute_result"
    }
   ],
   "source": [
    "manhattanDistance(list(ind(initial_state_np, 2)), list(ind(goal_state_np, 2)))"
   ]
  },
  {
   "cell_type": "code",
   "execution_count": 83,
   "metadata": {},
   "outputs": [
    {
     "data": {
      "text/plain": [
       "2"
      ]
     },
     "execution_count": 83,
     "metadata": {},
     "output_type": "execute_result"
    }
   ],
   "source": [
    "list(ind(initial_state_np, 2))[1]"
   ]
  }
 ],
 "metadata": {
  "kernelspec": {
   "display_name": "csc510",
   "language": "python",
   "name": "python3"
  },
  "language_info": {
   "codemirror_mode": {
    "name": "ipython",
    "version": 3
   },
   "file_extension": ".py",
   "mimetype": "text/x-python",
   "name": "python",
   "nbconvert_exporter": "python",
   "pygments_lexer": "ipython3",
   "version": "3.12.3"
  }
 },
 "nbformat": 4,
 "nbformat_minor": 2
}
