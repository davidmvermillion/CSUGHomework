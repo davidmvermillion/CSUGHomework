{
 "cells": [
  {
   "cell_type": "code",
   "execution_count": 84,
   "metadata": {},
   "outputs": [],
   "source": [
    "# Inspiration from https://github.com/simpleai-team/simpleai/blob/master/samples/search/eight_puzzle.py\n",
    "\n",
    "from simpleai.search import astar, SearchProblem\n",
    "from simpleai.search.viewers import WebViewer\n",
    "import numpy as np\n",
    "import math\n",
    "\n",
    "# Intial and Goal states\n",
    "\n",
    "initial_state = [['7', '6', '5'],\n",
    "                 ['4', '3', '2'],\n",
    "                 ['1', '8', 'empty']]\n",
    "\n",
    "goal_state = [['1', '2', '3'],\n",
    "              ['4', '5', '6'],\n",
    "              ['7', '8', 'empty']]\n",
    "\n",
    "initial_state_np = np.array([[7, 6, 5],\n",
    "                             [4, 3, 2],\n",
    "                             [1, 8, 0]])\n",
    "goal_state_np = np.array([[1, 2, 3],\n",
    "                          [4, 5, 6],\n",
    "                          [7, 8, 0]])"
   ]
  },
  {
   "cell_type": "code",
   "execution_count": null,
   "metadata": {},
   "outputs": [],
   "source": [
    "def isValidPos(i, j, row, column):\n",
    "    if (i < 0 or j < 0 or i > row - 1 or j > column - 1):\n",
    "        return 0\n",
    "    return 1\n",
    " \n",
    "def getAdjacent(arr, i, j):\n",
    "    row, column = list(range(0,3)), list(range(0,3))\n",
    "    adjacentvalues = []\n",
    " \n",
    "    # Find all possible adjacent positions\n",
    "    if (isValidPos(i - 1, j - 1, row, column)):\n",
    "        adjacentvalues.append(arr[i - 1][j - 1])\n",
    "    if (isValidPos(i - 1, j, row, column)):\n",
    "        adjacentvalues.append(arr[i - 1][j])\n",
    "    if (isValidPos(i - 1, j + 1, row, column)):\n",
    "        adjacentvalues.append(arr[i - 1][j + 1])\n",
    "    if (isValidPos(i, j - 1, row, column)):\n",
    "        adjacentvalues.append(arr[i][j - 1])\n",
    "    if (isValidPos(i, j + 1, row, column)):\n",
    "        adjacentvalues.append(arr[i][j + 1])\n",
    "    if (isValidPos(i + 1, j - 1, row, column)):\n",
    "        adjacentvalues.append(arr[i + 1][j - 1])\n",
    "    if (isValidPos(i + 1, j, row, column)):\n",
    "        adjacentvalues.append(arr[i + 1][j])\n",
    "    if (isValidPos(i + 1, j + 1, row, column)):\n",
    "        adjacentvalues.append(arr[i + 1][j + 1])\n",
    " \n",
    "    # Returning the vector\n",
    "    return adjacentvalues"
   ]
  },
  {
   "cell_type": "code",
   "execution_count": 109,
   "metadata": {},
   "outputs": [],
   "source": [
    "# Functions\n",
    "'''\n",
    "Using this source to find pieces around the empty space that could move.\n",
    "https://www.geeksforgeeks.org/find-all-adjacent-elements-of-given-element-in-a-2d-array-or-matrix/\n",
    "'''\n",
    "def isValidPos(i, j, row, column):\n",
    "    if (i < 0 or j < 0 or i > row - 1 or j > column - 1):\n",
    "        return 0\n",
    "    return 1\n",
    " \n",
    " \n",
    "# Function that returns all adjacent elements, including diagonal matches\n",
    "def getAdjacent(array, i, j):\n",
    "    row, column = len(array), len(array[0])\n",
    "    adjacentvalues = []\n",
    " \n",
    "    if (isValidPos(i - 1, j - 1, row, column)):\n",
    "        adjacentvalues.append(array[i - 1][j - 1])\n",
    "    if (isValidPos(i - 1, j, row, column)):\n",
    "        adjacentvalues.append(array[i - 1][j])\n",
    "    if (isValidPos(i - 1, j + 1, row, column)):\n",
    "        adjacentvalues.append(array[i - 1][j + 1])\n",
    "    if (isValidPos(i, j - 1, row, column)):\n",
    "        adjacentvalues.append(array[i][j - 1])\n",
    "    if (isValidPos(i, j + 1, row, column)):\n",
    "        adjacentvalues.append(array[i][j + 1])\n",
    "    if (isValidPos(i + 1, j - 1, row, column)):\n",
    "        adjacentvalues.append(array[i + 1][j - 1])\n",
    "    if (isValidPos(i + 1, j, row, column)):\n",
    "        adjacentvalues.append(array[i + 1][j])\n",
    "    if (isValidPos(i + 1, j + 1, row, column)):\n",
    "        adjacentvalues.append(array[i + 1][j + 1])\n",
    " \n",
    "    return adjacentvalues\n",
    "\n",
    "\n",
    "'''\n",
    "Source: https://www.geeksforgeeks.org/how-to-find-the-index-of-value-in-numpy-array/\n",
    "numpy.where() kept giving invalid entries, and this is one of the shortest methods of getting something usable\n",
    "'''\n",
    "def ind(array, item):\n",
    "    for index, value in np.ndenumerate(array):\n",
    "        if value == item:\n",
    "            return index\n",
    "\n",
    "\n",
    "# https://www.geeksforgeeks.org/calculate-the-manhattan-distance-between-two-cells-of-given-2d-array/\n",
    "def manhattanDistance(firstvector, secondvector):\n",
    "    dist = math.fabs(secondvector[0] - firstvector[0]) + math.fabs(secondvector[1] - firstvector[1])\n",
    "    return (int)(dist)\n",
    "\n",
    "\n",
    "def manhattanAStar(initial, goal):\n",
    "    for x, y in list(range(0,3)):\n",
    "        if initial[x][y] == goal[x][y]:\n",
    "            print('\\nInitial state is goal state. No moves required.\\n')\n",
    "        else:\n",
    "            difference_matrix = np.array()\n",
    "            adjacents = getAdjacent(initial, ind(initial, 0)[0], ind(initial, 0)[1])\n",
    "            for values in adjacents:\n",
    "                difference_matrix[values] = manhattanDistance()\n",
    "            difference_matrix[0][0] = 0\n",
    "\n",
    "\n"
   ]
  },
  {
   "cell_type": "code",
   "execution_count": 110,
   "metadata": {},
   "outputs": [],
   "source": [
    "adjacents = getAdjacent(initial_state_np, 2, 2)"
   ]
  },
  {
   "cell_type": "code",
   "execution_count": 94,
   "metadata": {},
   "outputs": [
    {
     "data": {
      "text/plain": [
       "2"
      ]
     },
     "execution_count": 94,
     "metadata": {},
     "output_type": "execute_result"
    }
   ],
   "source": [
    "ind(initial_state_np, 0)[0]"
   ]
  },
  {
   "cell_type": "code",
   "execution_count": 88,
   "metadata": {},
   "outputs": [
    {
     "data": {
      "text/plain": [
       "2"
      ]
     },
     "execution_count": 88,
     "metadata": {},
     "output_type": "execute_result"
    }
   ],
   "source": [
    "manhattanDistance(list(ind(initial_state_np, 2)), list(ind(goal_state_np, 2)))"
   ]
  },
  {
   "cell_type": "code",
   "execution_count": 83,
   "metadata": {},
   "outputs": [
    {
     "data": {
      "text/plain": [
       "2"
      ]
     },
     "execution_count": 83,
     "metadata": {},
     "output_type": "execute_result"
    }
   ],
   "source": [
    "list(ind(initial_state_np, 2))[1]"
   ]
  }
 ],
 "metadata": {
  "kernelspec": {
   "display_name": "csc510",
   "language": "python",
   "name": "python3"
  },
  "language_info": {
   "codemirror_mode": {
    "name": "ipython",
    "version": 3
   },
   "file_extension": ".py",
   "mimetype": "text/x-python",
   "name": "python",
   "nbconvert_exporter": "python",
   "pygments_lexer": "ipython3",
   "version": "3.12.3"
  }
 },
 "nbformat": 4,
 "nbformat_minor": 2
}
