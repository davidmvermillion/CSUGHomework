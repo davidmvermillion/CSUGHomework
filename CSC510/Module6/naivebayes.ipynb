{
 "cells": [
  {
   "cell_type": "markdown",
   "metadata": {},
   "source": [
    "# Goal\n",
    "Using scikit-learn, write a Naive Bayes classifier in Python. It can be single or multiple features. Submit the classifier in the form of an executable Python script alongside basic instructions for testing.\n",
    "\n",
    "This Naive Bayes classification script should allow you to do the following:\n",
    "\n",
    "- Calculate the posterior probability by converting the dataset into a frequency table.\n",
    "- Create a \"Likelihood\" table by finding relevant probabilities.\n",
    "- Calculate the posterior probability for each class.\n",
    "- Correct Zero Probability errors using Laplacian correction.\n",
    "\n",
    "This classifier may use a Gaussian, Multinomial, or Bernoulli model, depending on chosen function. The classifier must properly display its probability prediction based on its input data.\n",
    "\n",
    "Scikit Learn's [Naive Bayes](https://scikit-learn.org/stable/modules/naive_bayes.html) \\\n",
    "[Iris dataset](https://scikit-learn.org/stable/modules/generated/sklearn.datasets.load_iris.html#sklearn.datasets.load_iris)"
   ]
  },
  {
   "cell_type": "code",
   "execution_count": null,
   "metadata": {},
   "outputs": [],
   "source": []
  }
 ],
 "metadata": {
  "kernelspec": {
   "display_name": "csc510redo",
   "language": "python",
   "name": "python3"
  },
  "language_info": {
   "name": "python",
   "version": "3.12.2"
  }
 },
 "nbformat": 4,
 "nbformat_minor": 2
}
