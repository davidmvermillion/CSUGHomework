{
 "cells": [
  {
   "cell_type": "markdown",
   "metadata": {},
   "source": [
    "# Goal\n",
    "Using scikit-learn, write a Naive Bayes classifier in Python. It can be single or multiple features. Submit the classifier in the form of an executable Python script alongside basic instructions for testing.\n",
    "\n",
    "This Naive Bayes classification script should allow you to do the following:\n",
    "\n",
    "- Calculate the posterior probability by converting the dataset into a frequency table.\n",
    "- Create a \"Likelihood\" table by finding relevant probabilities.\n",
    "- Calculate the posterior probability for each class.\n",
    "- Correct Zero Probability errors using Laplacian correction.\n",
    "\n",
    "This classifier may use a Gaussian, Multinomial, or Bernoulli model, depending on chosen function. The classifier must properly display its probability prediction based on its input data.\n",
    "\n",
    "Scikit Learn's [Naive Bayes](https://scikit-learn.org/stable/modules/naive_bayes.html) \\\n",
    "[Iris dataset in SkLearn](https://scikit-learn.org/stable/modules/generated/sklearn.datasets.load_iris.html#sklearn.datasets.load_iris) \\\n",
    "[Iris dataset in Kaggle](https://www.kaggle.com/datasets/uciml/iris?resource=download)"
   ]
  },
  {
   "cell_type": "markdown",
   "metadata": {},
   "source": [
    "# Workspace Setup"
   ]
  },
  {
   "cell_type": "code",
   "execution_count": 1,
   "metadata": {},
   "outputs": [],
   "source": [
    "from sklearn import naive_bayes\n",
    "from sklearn.model_selection import train_test_split\n",
    "import matplotlib.pyplot as plt\n",
    "import numpy as np\n",
    "import pandas as pd"
   ]
  },
  {
   "cell_type": "markdown",
   "metadata": {},
   "source": [
    "## Import and Split Data\n"
   ]
  },
  {
   "cell_type": "code",
   "execution_count": 20,
   "metadata": {},
   "outputs": [],
   "source": [
    "iris = pd.read_csv('iris.csv')\n",
    "train, test = train_test_split(iris, test_size = 0.2, train_size = 0.8, random_state = 20191220, shuffle = True)\n",
    "# https://www.geeksforgeeks.org/how-to-exclude-columns-in-pandas/\n",
    "train_features = train.loc[:, train.columns != 'Species']\n",
    "train_values = train['Species']\n",
    "test_features = test.loc[:, test.columns != 'Species']\n",
    "test_values = test['Species']"
   ]
  },
  {
   "cell_type": "markdown",
   "metadata": {},
   "source": [
    "## Build Gaussian Naives-Bayes Classification Model\n",
    "[Hint](https://scikit-learn.org/stable/modules/naive_bayes.html#gaussian-naive-bayes)"
   ]
  },
  {
   "cell_type": "code",
   "execution_count": 21,
   "metadata": {},
   "outputs": [],
   "source": [
    "classifier = naive_bayes.GaussianNB()\n",
    "prediction = classifier.fit(train_features, train_values).predict(test_features)"
   ]
  },
  {
   "cell_type": "code",
   "execution_count": 23,
   "metadata": {},
   "outputs": [
    {
     "name": "stdout",
     "output_type": "stream",
     "text": [
      "Out of 30 total points, 0 were mislabled\n"
     ]
    }
   ],
   "source": [
    "print(\"Out of %d total points, %d were mislabled\"\n",
    "      % (test_features.shape[0], (test_values != prediction).sum()))"
   ]
  }
 ],
 "metadata": {
  "kernelspec": {
   "display_name": "csc510redo",
   "language": "python",
   "name": "python3"
  },
  "language_info": {
   "codemirror_mode": {
    "name": "ipython",
    "version": 3
   },
   "file_extension": ".py",
   "mimetype": "text/x-python",
   "name": "python",
   "nbconvert_exporter": "python",
   "pygments_lexer": "ipython3",
   "version": "3.12.2"
  }
 },
 "nbformat": 4,
 "nbformat_minor": 2
}
