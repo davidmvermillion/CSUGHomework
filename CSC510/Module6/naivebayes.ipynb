{
 "cells": [
  {
   "cell_type": "markdown",
   "metadata": {},
   "source": [
    "# Goal\n",
    "Using scikit-learn, write a Naive Bayes classifier in Python. It can be single or multiple features. Submit the classifier in the form of an executable Python script alongside basic instructions for testing.\n",
    "\n",
    "This Naive Bayes classification script should allow you to do the following:\n",
    "\n",
    "- Calculate the posterior probability by converting the dataset into a frequency table.\n",
    "- Create a \"Likelihood\" table by finding relevant probabilities.\n",
    "- Calculate the posterior probability for each class.\n",
    "- Correct Zero Probability errors using Laplacian correction.\n",
    "\n",
    "This classifier may use a Gaussian, Multinomial, or Bernoulli model, depending on chosen function. The classifier must properly display its probability prediction based on its input data.\n",
    "\n",
    "Scikit Learn's [Naive Bayes](https://scikit-learn.org/stable/modules/naive_bayes.html) \\\n",
    "[Iris dataset in SkLearn](https://scikit-learn.org/stable/modules/generated/sklearn.datasets.load_iris.html#sklearn.datasets.load_iris) \\\n",
    "[Iris dataset in Kaggle](https://www.kaggle.com/datasets/uciml/iris?resource=download)"
   ]
  },
  {
   "cell_type": "code",
   "execution_count": 2,
   "metadata": {},
   "outputs": [],
   "source": [
    "# import sklearn.datasets as skd\n",
    "import sklearn.naive_bayes as sknb\n",
    "import matplotlib.pyplot as plt\n",
    "import numpy as np\n",
    "import pandas as pd"
   ]
  },
  {
   "cell_type": "code",
   "execution_count": 48,
   "metadata": {},
   "outputs": [],
   "source": [
    "iris = pd.read_csv('iris.csv')"
   ]
  }
 ],
 "metadata": {
  "kernelspec": {
   "display_name": "csc510redo",
   "language": "python",
   "name": "python3"
  },
  "language_info": {
   "codemirror_mode": {
    "name": "ipython",
    "version": 3
   },
   "file_extension": ".py",
   "mimetype": "text/x-python",
   "name": "python",
   "nbconvert_exporter": "python",
   "pygments_lexer": "ipython3",
   "version": "3.12.2"
  }
 },
 "nbformat": 4,
 "nbformat_minor": 2
}
