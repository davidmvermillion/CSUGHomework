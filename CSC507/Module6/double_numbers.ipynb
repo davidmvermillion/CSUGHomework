{
 "cells": [
  {
   "cell_type": "markdown",
   "metadata": {},
   "source": [
    "# Import Packages"
   ]
  },
  {
   "cell_type": "code",
   "execution_count": 10,
   "metadata": {},
   "outputs": [],
   "source": [
    "from datetime import datetime\n",
    "import numpy as np"
   ]
  },
  {
   "cell_type": "markdown",
   "metadata": {},
   "source": [
    "# Line-By-Line, All at Once"
   ]
  },
  {
   "cell_type": "code",
   "execution_count": 9,
   "metadata": {},
   "outputs": [
    {
     "name": "stdout",
     "output_type": "stream",
     "text": [
      "3.119928\n"
     ]
    }
   ],
   "source": [
    "start = datetime.now()\n",
    "\n",
    "file3 = open('file3.txt', 'r')\n",
    "newfile3 = open('newfile3.txt', 'w')\n",
    "\n",
    "# https://www.geeksforgeeks.org/read-a-file-line-by-line-in-python/\n",
    "for i in range(10000000):\n",
    "    # file3line = file3.readline()\n",
    "    newfile3.write('\\n')\n",
    "    newfile3.write(str(int(file3.readline())*2))\n",
    "\n",
    "file3.close()\n",
    "newfile3.close()\n",
    "\n",
    "# Final runtime\n",
    "end = datetime.now()\n",
    "print((end - start).total_seconds())"
   ]
  },
  {
   "cell_type": "markdown",
   "metadata": {},
   "source": [
    "# Split the File in Ten"
   ]
  },
  {
   "cell_type": "code",
   "execution_count": 30,
   "metadata": {},
   "outputs": [
    {
     "name": "stdout",
     "output_type": "stream",
     "text": [
      "4.268279\n"
     ]
    }
   ],
   "source": [
    "start = datetime.now()\n",
    "\n",
    "# Splits\n",
    "n = 10\n",
    "file = np.loadtxt('file3.txt', dtype = int)\n",
    "lbl = np.split(file, n)\n",
    "# lbl1 = list(lbl[0])\n",
    "# lbl2 = list(lbl[1])\n",
    "newfile2 = open('newfile2.txt', 'w')\n",
    "\n",
    "def lblCalc(lbl):\n",
    "    for i in range(len(lbl)):\n",
    "        newfile2.write('\\n')\n",
    "        newfile2.write(str(lbl[i]*2))\n",
    "for x in range(len(lbl)):\n",
    "    lblCalc(lbl[x])\n",
    "\n",
    "newfile2.close()\n",
    "\n",
    "# Final runtime\n",
    "end = datetime.now()\n",
    "print((end - start).total_seconds())"
   ]
  },
  {
   "cell_type": "code",
   "execution_count": 25,
   "metadata": {},
   "outputs": [
    {
     "ename": "KeyboardInterrupt",
     "evalue": "",
     "output_type": "error",
     "traceback": [
      "\u001b[0;31m---------------------------------------------------------------------------\u001b[0m",
      "\u001b[0;31mKeyboardInterrupt\u001b[0m                         Traceback (most recent call last)",
      "Input \u001b[0;32mIn [25]\u001b[0m, in \u001b[0;36m<cell line: 8>\u001b[0;34m()\u001b[0m\n\u001b[1;32m      9\u001b[0m split10 \u001b[38;5;241m=\u001b[39m \u001b[38;5;28mopen\u001b[39m(\u001b[38;5;124m\"\u001b[39m\u001b[38;5;124mnewfile10\u001b[39m\u001b[38;5;124m\"\u001b[39m \u001b[38;5;241m+\u001b[39m \u001b[38;5;28mstr\u001b[39m(x) \u001b[38;5;241m+\u001b[39m \u001b[38;5;124m\"\u001b[39m\u001b[38;5;124m.txt\u001b[39m\u001b[38;5;124m\"\u001b[39m, \u001b[38;5;124m'\u001b[39m\u001b[38;5;124mw\u001b[39m\u001b[38;5;124m'\u001b[39m)\n\u001b[1;32m     10\u001b[0m \u001b[38;5;28;01mfor\u001b[39;00m i \u001b[38;5;129;01min\u001b[39;00m \u001b[38;5;28mrange\u001b[39m(\u001b[38;5;28mlen\u001b[39m(\u001b[38;5;28mlist\u001b[39m(lbl[x]))):\n\u001b[0;32m---> 11\u001b[0m     split10\u001b[38;5;241m.\u001b[39mwrite(\u001b[38;5;28mstr\u001b[39m(\u001b[38;5;28;43mlist\u001b[39;49m\u001b[43m(\u001b[49m\u001b[43mlbl\u001b[49m\u001b[43m[\u001b[49m\u001b[43mx\u001b[49m\u001b[43m]\u001b[49m\u001b[43m)\u001b[49m[i]\u001b[38;5;241m*\u001b[39m\u001b[38;5;241m2\u001b[39m) \u001b[38;5;241m+\u001b[39m \u001b[38;5;124m'\u001b[39m\u001b[38;5;130;01m\\n\u001b[39;00m\u001b[38;5;124m'\u001b[39m)\n\u001b[1;32m     12\u001b[0m split10\u001b[38;5;241m.\u001b[39mclose()\n",
      "\u001b[0;31mKeyboardInterrupt\u001b[0m: "
     ]
    }
   ],
   "source": [
    "start = datetime.now()\n",
    "\n",
    "# Splits\n",
    "n = 10\n",
    "file = np.loadtxt('file3.txt', dtype = int)\n",
    "lbl = np.split(file, n)\n",
    "# https://stackoverflow.com/a/26790664/13801562\n",
    "for x in range(0, n):\n",
    "    split10 = open(\"newfile10\" + str(x) + \".txt\", 'w')\n",
    "    for i in range(len(list(lbl[x]))):\n",
    "        split10.write(str(list(lbl[x])[i]*2) + '\\n')\n",
    "    split10.close()\n"
   ]
  },
  {
   "cell_type": "markdown",
   "metadata": {},
   "source": [
    "The 10 files approach was abandoned because of significant inefficiencies where after 1.5 minutes, only 1,842 lines had been calculated."
   ]
  },
  {
   "cell_type": "code",
   "execution_count": 48,
   "metadata": {},
   "outputs": [
    {
     "name": "stdout",
     "output_type": "stream",
     "text": [
      "4.761845\n"
     ]
    }
   ],
   "source": [
    "start = datetime.now()\n",
    "\n",
    "# Splits\n",
    "n = 10\n",
    "file = np.loadtxt('file3.txt', dtype = int)\n",
    "lbl = np.split(file, n)\n",
    "# https://stackoverflow.com/a/26790664/13801562\n",
    "for x in range(0, n):\n",
    "    split10 = open(\"newfile5\" + str(x) + \".txt\", 'w')\n",
    "    for i in range(len(lbl[x])):\n",
    "        split10.write(str((lbl[x][i])*2) + '\\n')\n",
    "    split10.close()\n",
    "\n",
    "# Final runtime\n",
    "end = datetime.now()\n",
    "print((end - start).total_seconds())"
   ]
  },
  {
   "cell_type": "markdown",
   "metadata": {},
   "source": [
    "# Split the File in Two"
   ]
  },
  {
   "cell_type": "code",
   "execution_count": 11,
   "metadata": {},
   "outputs": [
    {
     "name": "stdout",
     "output_type": "stream",
     "text": [
      "4.146879\n"
     ]
    }
   ],
   "source": [
    "start = datetime.now()\n",
    "\n",
    "# Splits\n",
    "n = 2\n",
    "file = np.loadtxt('file3.txt', dtype = int)\n",
    "lbl = np.split(file, n)\n",
    "lbl1 = list(lbl[0])\n",
    "lbl2 = list(lbl[1])\n",
    "newfile2 = open('newfile2.txt', 'w')\n",
    "\n",
    "def lblCalc(lbl):\n",
    "    for i in range(len(lbl)):\n",
    "        newfile2.write('\\n')\n",
    "        newfile2.write(str(lbl[i]*2))\n",
    "lblCalc(lbl1)\n",
    "lblCalc(lbl2)\n",
    "\n",
    "newfile2.close()\n",
    "\n",
    "# Final runtime\n",
    "end = datetime.now()\n",
    "print((end - start).total_seconds())"
   ]
  },
  {
   "cell_type": "markdown",
   "metadata": {},
   "source": [
    "# Split the File in Five"
   ]
  },
  {
   "cell_type": "code",
   "execution_count": 47,
   "metadata": {},
   "outputs": [
    {
     "name": "stdout",
     "output_type": "stream",
     "text": [
      "4.690642\n"
     ]
    }
   ],
   "source": [
    "start = datetime.now()\n",
    "\n",
    "# Splits\n",
    "n = 5\n",
    "file = np.loadtxt('file3.txt', dtype = int)\n",
    "lbl = np.split(file, n)\n",
    "# https://stackoverflow.com/a/26790664/13801562\n",
    "for x in range(0, n):\n",
    "    split5 = open(\"newfile5\" + str(x) + \".txt\", 'w')\n",
    "    for i in range(len(lbl[x])):\n",
    "        split5.write(str((lbl[x][i])*2) + '\\n')\n",
    "    split5.close()\n",
    "\n",
    "# Final runtime\n",
    "end = datetime.now()\n",
    "print((end - start).total_seconds())"
   ]
  },
  {
   "cell_type": "code",
   "execution_count": 46,
   "metadata": {},
   "outputs": [
    {
     "name": "stdout",
     "output_type": "stream",
     "text": [
      "8.626258\n"
     ]
    }
   ],
   "source": [
    "start = datetime.now()\n",
    "\n",
    "# Splits\n",
    "n = 5\n",
    "file = np.loadtxt('file3.txt', dtype = int)\n",
    "lbl = np.split(file, n)\n",
    "# https://stackoverflow.com/a/26790664/13801562\n",
    "for x in range(0, n):\n",
    "    split5 = open(\"newfile5\" + str(x) + \".txt\", 'w')\n",
    "    for i in range(len(lbl[x])):\n",
    "        split5.write(str((lbl[x][i])) + '\\n')\n",
    "    split5.close()\n",
    "\n",
    "# Calculations\n",
    "for x in range(0, n):\n",
    "    split5 = open(\"newfile5\" + str(x) + \".txt\", 'w')\n",
    "    for i in range(len(lbl[x])):\n",
    "        split5.write(str((lbl[x][i]))*2 + '\\n')\n",
    "    split5.close()\n",
    "\n",
    "# Final runtime\n",
    "end = datetime.now()\n",
    "print((end - start).total_seconds())"
   ]
  }
 ],
 "metadata": {
  "kernelspec": {
   "display_name": "Python 3",
   "language": "python",
   "name": "python3"
  },
  "language_info": {
   "codemirror_mode": {
    "name": "ipython",
    "version": 3
   },
   "file_extension": ".py",
   "mimetype": "text/x-python",
   "name": "python",
   "nbconvert_exporter": "python",
   "pygments_lexer": "ipython3",
   "version": "3.10.8"
  }
 },
 "nbformat": 4,
 "nbformat_minor": 2
}
