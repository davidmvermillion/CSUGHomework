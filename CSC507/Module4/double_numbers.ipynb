{
 "cells": [
  {
   "cell_type": "markdown",
   "metadata": {},
   "source": [
    "# Import Packages"
   ]
  },
  {
   "cell_type": "code",
   "execution_count": 1,
   "metadata": {},
   "outputs": [],
   "source": [
    "from datetime import datetime\n",
    "import numpy as np"
   ]
  },
  {
   "cell_type": "markdown",
   "metadata": {},
   "source": [
    "# All Lines in Memory"
   ]
  },
  {
   "cell_type": "code",
   "execution_count": 2,
   "metadata": {},
   "outputs": [
    {
     "name": "stdout",
     "output_type": "stream",
     "text": [
      "0.523896\n"
     ]
    }
   ],
   "source": [
    "start = datetime.now()\n",
    "\n",
    "newfile2 = open('newfile2.txt', 'w')\n",
    "alin = np.loadtxt('file2.txt', dtype = int)\n",
    "\n",
    "for i in range(len(alin)):\n",
    "    newfile2.write('\\n')\n",
    "    newfile2.write(str(alin[i]*2))\n",
    "\n",
    "newfile2.close()\n",
    "\n",
    "# Final runtime\n",
    "end = datetime.now()\n",
    "print((end - start).total_seconds())"
   ]
  },
  {
   "cell_type": "markdown",
   "metadata": {},
   "source": [
    "# Line-By-Line"
   ]
  },
  {
   "cell_type": "code",
   "execution_count": 5,
   "metadata": {},
   "outputs": [
    {
     "name": "stdout",
     "output_type": "stream",
     "text": [
      "0.277822\n"
     ]
    }
   ],
   "source": [
    "start = datetime.now()\n",
    "\n",
    "file2 = open('file2.txt', 'r')\n",
    "newfile2 = open('newfile2.txt', 'w')\n",
    "\n",
    "# https://www.geeksforgeeks.org/read-a-file-line-by-line-in-python/\n",
    "for i in range(1000000):\n",
    "    file2line = file2.readline()\n",
    "    newfile2.write('\\n')\n",
    "    newfile2.write(str(file2line*2))\n",
    "\n",
    "file2.close()\n",
    "newfile2.close()\n",
    "\n",
    "# Final runtime\n",
    "end = datetime.now()\n",
    "print((end - start).total_seconds())"
   ]
  },
  {
   "cell_type": "markdown",
   "metadata": {},
   "source": [
    "# Split the File in Two"
   ]
  },
  {
   "cell_type": "code",
   "execution_count": 4,
   "metadata": {},
   "outputs": [
    {
     "name": "stdout",
     "output_type": "stream",
     "text": [
      "0.429242\n"
     ]
    }
   ],
   "source": [
    "start = datetime.now()\n",
    "\n",
    "file2 = np.loadtxt('file2.txt', dtype = int)\n",
    "lbl = np.split(file2, 2)\n",
    "lbl1 = list(lbl[0])\n",
    "lbl2 = list(lbl[1])\n",
    "newfile2 = open('newfile2.txt', 'w')\n",
    "\n",
    "def lblCalc(lbl):\n",
    "    for i in range(len(lbl)):\n",
    "        newfile2.write('\\n')\n",
    "        newfile2.write(str(lbl[i]*2))\n",
    "lblCalc(lbl1)\n",
    "lblCalc(lbl2)\n",
    "\n",
    "newfile2.close()\n",
    "\n",
    "# Final runtime\n",
    "end = datetime.now()\n",
    "print((end - start).total_seconds())"
   ]
  }
 ],
 "metadata": {
  "kernelspec": {
   "display_name": "Python 3",
   "language": "python",
   "name": "python3"
  },
  "language_info": {
   "codemirror_mode": {
    "name": "ipython",
    "version": 3
   },
   "file_extension": ".py",
   "mimetype": "text/x-python",
   "name": "python",
   "nbconvert_exporter": "python",
   "pygments_lexer": "ipython3",
   "version": "3.10.8"
  }
 },
 "nbformat": 4,
 "nbformat_minor": 2
}
